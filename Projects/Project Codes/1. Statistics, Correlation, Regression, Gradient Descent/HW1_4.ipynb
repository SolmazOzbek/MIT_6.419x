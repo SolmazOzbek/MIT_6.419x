{
 "cells": [
  {
   "cell_type": "code",
   "execution_count": 8,
   "metadata": {
    "id": "pQfcfzJakM5S"
   },
   "outputs": [],
   "source": [
    "import zipfile\n",
    "import numpy as np\n",
    "import numpy.lib.recfunctions\n",
    "import matplotlib.pyplot as plt\n",
    "\n",
    "# Load data\n",
    "with zipfile.ZipFile(\"hw0_data_and_materials.zip\") as zip_file:\n",
    "  golub_data, golub_classnames = ( np.genfromtxt(zip_file.open('data_and_materials/golub_data/{}'.format(fname)), delimiter=',', names=True, converters={0: lambda s: int(s.strip(b'\"'))}) for fname in ['golub.csv', 'golub_cl.csv'] )\n",
    "\n",
    "  ALL_names, AML_names = ( [ 'V{}'.format(int(v)) for v in golub_classnames[golub_classnames['x'] == c][golub_classnames.dtype.names[0]] ] for c in [0, 1] )\n",
    "  ALL_genes, AML_genes, ALLAML_genes = ( numpy.lib.recfunctions.repack_fields(golub_data[names]).view((golub_data[names].dtype[0], len(names))) for names in [ALL_names, AML_names, ALL_names + AML_names] )\n",
    "  ALL_N, AML_N, ALLAML_N = ( a.shape[1] for a in [ALL_genes, AML_genes, ALLAML_genes] )\n",
    "  N_genes = ALLAML_genes.shape[0]"
   ]
  },
  {
   "cell_type": "markdown",
   "metadata": {
    "id": "eQeAlgZKM1iy"
   },
   "source": [
    "Uncorrected p-values"
   ]
  },
  {
   "cell_type": "code",
   "execution_count": 9,
   "metadata": {
    "colab": {
     "base_uri": "https://localhost:8080/"
    },
    "id": "C5H-Zy9pPvGQ",
    "outputId": "f7fefa79-1189-4799-97ab-b3bfc1ba503a"
   },
   "outputs": [
    {
     "data": {
      "text/plain": [
       "1078"
      ]
     },
     "execution_count": 9,
     "metadata": {
      "tags": []
     },
     "output_type": "execute_result"
    }
   ],
   "source": [
    "import scipy.stats\n",
    "# Calculate the Welch's t-test statistic\n",
    "test_statistic = (ALL_genes.mean(axis=1) - AML_genes.mean(axis=1))/np.sqrt(ALL_genes.var(axis=1, ddof=1)/ALL_N + AML_genes.var(axis=1, ddof=1)/AML_N)\n",
    "# Find the number of degrees of freedom of the statistic according to the approximation formula\n",
    "test_dof = (ALL_genes.var(axis=1, ddof=1)/ALL_N + AML_genes.var(axis=1, ddof=1)/AML_N)**2 / ( (ALL_genes.var(axis=1, ddof=1)/ALL_N)**2/(ALL_N-1) + (AML_genes.var(axis=1, ddof=1)/AML_N)**2/(AML_N-1))\n",
    "# Find the 2-sided p-values\n",
    "p_values = scipy.stats.t.sf(np.abs(test_statistic), test_dof)*2\n",
    "# Count how many of these p-values are below the significance threshold\n",
    "(p_values < 0.05).sum()"
   ]
  },
  {
   "cell_type": "markdown",
   "metadata": {
    "id": "c0TpFYqhM5ik"
   },
   "source": [
    "Holm Bonferroni correction"
   ]
  },
  {
   "cell_type": "code",
   "execution_count": 10,
   "metadata": {
    "colab": {
     "base_uri": "https://localhost:8080/"
    },
    "id": "sin6H1svb0oL",
    "outputId": "7fd22cf8-ed92-4ba2-ab1f-ade0697bcd95"
   },
   "outputs": [
    {
     "name": "stdout",
     "output_type": "stream",
     "text": [
      "[103]\n"
     ]
    }
   ],
   "source": [
    "# Sort the p-values in ascending order\n",
    "p_values_sorted = np.sort(p_values)\n",
    "# These are the adjusted significance thresholds as an array.\n",
    "# Each element is the threshold for the corresponding p-value in p_values_sorted\n",
    "# Note that (np.arange(N_genes)+1)[::-1] gives an array with [N_genes, N_genes-1, N_genes-2, ..., 1]\n",
    "# The [::-1] reverses the array.\n",
    "holm_bonferroni_thresholds = 0.05/(np.arange(N_genes)+1)[::-1]\n",
    "# First we compare the p-values to the associated thresholds. We then get an array\n",
    "# where the p-values that exceed the threhold have a value of False.\n",
    "holm_bonferroni_significant = p_values_sorted < holm_bonferroni_thresholds\n",
    "# We want to find the first value of False in this array (first p-value that exceeds the threshold)\n",
    "# so we invert it using logical_not.\n",
    "holm_bonferroni_not_significant = np.logical_not(holm_bonferroni_significant)\n",
    "# argwhere will return an array of indices for values of True in the supplied array.\n",
    "# Taking the first element of this array gives the first value of True in holm_bonferroni_not_significant\n",
    "# which is the same as the first value of False in holm_bonferroni_significant\n",
    "holm_bonferroni_first_not_significant = np.argwhere(holm_bonferroni_not_significant)[0]\n",
    "# We reject all hypothesis before the first p-value that exceeds the significance threshold.\n",
    "# The number of these rejections is exactly equal to the index of the first value that\n",
    "# exceeds the threshold.\n",
    "num_holm_bonferroni_rejections = holm_bonferroni_first_not_significant\n",
    "print(num_holm_bonferroni_rejections)"
   ]
  },
  {
   "cell_type": "markdown",
   "metadata": {
    "id": "qXZParlHM8p2"
   },
   "source": [
    "Benjamini Hochberg"
   ]
  },
  {
   "cell_type": "code",
   "execution_count": 11,
   "metadata": {
    "colab": {
     "base_uri": "https://localhost:8080/"
    },
    "id": "7pm7uBjYv40m",
    "outputId": "7e312669-cfdf-44bf-ad81-b4f727eb691e"
   },
   "outputs": [
    {
     "name": "stdout",
     "output_type": "stream",
     "text": [
      "[695]\n"
     ]
    }
   ],
   "source": [
    "# These are the adjusted significance thresholds as an array.\n",
    "benjamini_hochberg_thresholds = 0.05*(np.arange(N_genes)+1)/N_genes\n",
    "# First we compare the p-values to the associated thresholds.\n",
    "benjamini_hochberg_significant = p_values_sorted < benjamini_hochberg_thresholds\n",
    "# We are intested in the last p-value which is significant.\n",
    "# Remeber that argwhere returns an array of indicies for the True values, so\n",
    "# we take the last element in order to get the index of the last p-value which\n",
    "# is significant.\n",
    "benjamini_hochberg_last_significant = np.argwhere(p_values_sorted < benjamini_hochberg_thresholds)[-1]\n",
    "# We reject all hypotheses before the last significant p-value, AND we reject\n",
    "# the hypothesis for the last significant p-value as well. So the number of rejected\n",
    "# hypotheses is equal to the index of the last significant p-value PLUS one.\n",
    "num_benjamini_hochberg_rejections = benjamini_hochberg_last_significant + 1\n",
    "print(num_benjamini_hochberg_rejections)"
   ]
  },
  {
   "cell_type": "code",
   "execution_count": null,
   "metadata": {
    "id": "VS58hEPmQxfr"
   },
   "outputs": [],
   "source": []
  }
 ],
 "metadata": {
  "colab": {
   "collapsed_sections": [],
   "name": "HW1_Problem4.ipynb",
   "provenance": []
  },
  "kernelspec": {
   "display_name": "Python 3",
   "language": "python",
   "name": "python3"
  },
  "language_info": {
   "codemirror_mode": {
    "name": "ipython",
    "version": 3
   },
   "file_extension": ".py",
   "mimetype": "text/x-python",
   "name": "python",
   "nbconvert_exporter": "python",
   "pygments_lexer": "ipython3",
   "version": "3.7.2"
  }
 },
 "nbformat": 4,
 "nbformat_minor": 1
}
