{
  "nbformat": 4,
  "nbformat_minor": 0,
  "metadata": {
    "colab": {
      "name": "Gaussian Processes Homework Autograded Solutions.ipynb",
      "provenance": [],
      "collapsed_sections": [],
      "toc_visible": true
    },
    "kernelspec": {
      "display_name": "Python 3",
      "name": "python3"
    },
    "language_info": {
      "name": "python"
    }
  },
  "cells": [
    {
      "cell_type": "code",
      "metadata": {
        "id": "ko-v8KLcmy5F"
      },
      "source": [
        "import numpy as np\n",
        "import pandas as pd\n",
        "import zipfile\n",
        "\n",
        "arys = []\n",
        "with zipfile.ZipFile(\"GP_homework_data.zip\") as zipf:\n",
        "  for i in range(1, 101):\n",
        "    h = pd.read_csv(zipf.open(\"OceanFlow/{}u.csv\".format(i)), header=None).to_numpy().T\n",
        "    v = pd.read_csv(zipf.open(\"OceanFlow/{}v.csv\".format(i)), header=None).to_numpy().T\n",
        "    arys.append(np.transpose(np.array([h, v], dtype=np.float32), [1, 2, 0]))\n",
        "  mask = pd.read_csv(zipf.open(\"OceanFlow/mask.csv\".format(i)), header=None).to_numpy().T[:,::-1]\n",
        "data = np.array(arys)"
      ],
      "execution_count": 2,
      "outputs": []
    },
    {
      "cell_type": "markdown",
      "metadata": {
        "id": "tzl8dcvGuo8l"
      },
      "source": [
        "### Problem 1 (a)"
      ]
    },
    {
      "cell_type": "code",
      "metadata": {
        "colab": {
          "base_uri": "https://localhost:8080/"
        },
        "id": "t_dFITfWn24y",
        "outputId": "f220eee0-fb37-4104-b29f-a97321c28bcc"
      },
      "source": [
        "def argmin_nd(a):\n",
        "  return np.unravel_index(np.argmin(a, axis=None), a.shape)\n",
        "\n",
        "def argmax_nd(a):\n",
        "  return np.unravel_index(np.argmax(a, axis=None), a.shape)\n",
        "\n",
        "mag_variance = np.sqrt(np.square(data).sum(axis=3)).var(axis=0, ddof=0)\n",
        "mag_variance[mag_variance == 0] = np.inf\n",
        "p1_min_var_idxs = np.array(argmin_nd(mag_variance))\n",
        "print(\"Location of minimum variance: {}\".format(p1_min_var_idxs*3)) # Multiply by 3 to convert to kms"
      ],
      "execution_count": 3,
      "outputs": [
        {
          "output_type": "stream",
          "text": [
            "Location of minimum variance: [510 363]\n"
          ],
          "name": "stdout"
        }
      ]
    },
    {
      "cell_type": "markdown",
      "metadata": {
        "id": "XVjq1nChuuig"
      },
      "source": [
        "### Problem 1 (b)"
      ]
    },
    {
      "cell_type": "code",
      "metadata": {
        "colab": {
          "base_uri": "https://localhost:8080/"
        },
        "id": "4KYSIDZL3UTP",
        "outputId": "7f8c20f9-4b44-4892-cec0-f4e81c551e45"
      },
      "source": [
        "p1_max_xvelocity_idxs = np.array(argmax_nd(data[:,:,:,0]))\n",
        "print(\"Location of maximum x-velocity: {}\".format(p1_max_xvelocity_idxs*3)) # Multiply by 3 to convert to hrs and kms"
      ],
      "execution_count": 4,
      "outputs": [
        {
          "output_type": "stream",
          "text": [
            "Location of maximum x-velocity: [  84 1041  543]\n"
          ],
          "name": "stdout"
        }
      ]
    },
    {
      "cell_type": "markdown",
      "metadata": {
        "id": "YjcLzPmu15Qj"
      },
      "source": [
        "### Problem 1 (c)"
      ]
    },
    {
      "cell_type": "code",
      "metadata": {
        "colab": {
          "base_uri": "https://localhost:8080/"
        },
        "id": "H6Qu_gLW16zf",
        "outputId": "b1dd569c-ee8f-4255-e2b7-53ea708d07a0"
      },
      "source": [
        "p1_whole_data_mean = data.mean(axis=(0, 1, 2))\n",
        "print(\"Mean velocity over entire dataset: {}\".format(p1_whole_data_mean))"
      ],
      "execution_count": 5,
      "outputs": [
        {
          "output_type": "stream",
          "text": [
            "Mean velocity over entire dataset: [-0.09359308 -0.03547521]\n"
          ],
          "name": "stdout"
        }
      ]
    }
  ]
}