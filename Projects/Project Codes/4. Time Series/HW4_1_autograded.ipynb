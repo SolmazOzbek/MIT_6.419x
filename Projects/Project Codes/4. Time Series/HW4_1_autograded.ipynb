{
 "cells": [
  {
   "cell_type": "markdown",
   "metadata": {},
   "source": [
    "# Time Series Homework"
   ]
  },
  {
   "cell_type": "markdown",
   "metadata": {},
   "source": [
    " ## Problem 1"
   ]
  },
  {
   "cell_type": "code",
   "execution_count": 1,
   "metadata": {},
   "outputs": [
    {
     "data": {
      "text/html": [
       "\n",
       "    <div class=\"bk-root\">\n",
       "        <a href=\"https://bokeh.org\" target=\"_blank\" class=\"bk-logo bk-logo-small bk-logo-notebook\"></a>\n",
       "        <span id=\"1002\">Loading BokehJS ...</span>\n",
       "    </div>"
      ]
     },
     "metadata": {},
     "output_type": "display_data"
    },
    {
     "data": {
      "application/javascript": [
       "\n",
       "(function(root) {\n",
       "  function now() {\n",
       "    return new Date();\n",
       "  }\n",
       "\n",
       "  var force = true;\n",
       "\n",
       "  if (typeof root._bokeh_onload_callbacks === \"undefined\" || force === true) {\n",
       "    root._bokeh_onload_callbacks = [];\n",
       "    root._bokeh_is_loading = undefined;\n",
       "  }\n",
       "\n",
       "  var JS_MIME_TYPE = 'application/javascript';\n",
       "  var HTML_MIME_TYPE = 'text/html';\n",
       "  var EXEC_MIME_TYPE = 'application/vnd.bokehjs_exec.v0+json';\n",
       "  var CLASS_NAME = 'output_bokeh rendered_html';\n",
       "\n",
       "  /**\n",
       "   * Render data to the DOM node\n",
       "   */\n",
       "  function render(props, node) {\n",
       "    var script = document.createElement(\"script\");\n",
       "    node.appendChild(script);\n",
       "  }\n",
       "\n",
       "  /**\n",
       "   * Handle when an output is cleared or removed\n",
       "   */\n",
       "  function handleClearOutput(event, handle) {\n",
       "    var cell = handle.cell;\n",
       "\n",
       "    var id = cell.output_area._bokeh_element_id;\n",
       "    var server_id = cell.output_area._bokeh_server_id;\n",
       "    // Clean up Bokeh references\n",
       "    if (id != null && id in Bokeh.index) {\n",
       "      Bokeh.index[id].model.document.clear();\n",
       "      delete Bokeh.index[id];\n",
       "    }\n",
       "\n",
       "    if (server_id !== undefined) {\n",
       "      // Clean up Bokeh references\n",
       "      var cmd = \"from bokeh.io.state import curstate; print(curstate().uuid_to_server['\" + server_id + \"'].get_sessions()[0].document.roots[0]._id)\";\n",
       "      cell.notebook.kernel.execute(cmd, {\n",
       "        iopub: {\n",
       "          output: function(msg) {\n",
       "            var id = msg.content.text.trim();\n",
       "            if (id in Bokeh.index) {\n",
       "              Bokeh.index[id].model.document.clear();\n",
       "              delete Bokeh.index[id];\n",
       "            }\n",
       "          }\n",
       "        }\n",
       "      });\n",
       "      // Destroy server and session\n",
       "      var cmd = \"import bokeh.io.notebook as ion; ion.destroy_server('\" + server_id + \"')\";\n",
       "      cell.notebook.kernel.execute(cmd);\n",
       "    }\n",
       "  }\n",
       "\n",
       "  /**\n",
       "   * Handle when a new output is added\n",
       "   */\n",
       "  function handleAddOutput(event, handle) {\n",
       "    var output_area = handle.output_area;\n",
       "    var output = handle.output;\n",
       "\n",
       "    // limit handleAddOutput to display_data with EXEC_MIME_TYPE content only\n",
       "    if ((output.output_type != \"display_data\") || (!Object.prototype.hasOwnProperty.call(output.data, EXEC_MIME_TYPE))) {\n",
       "      return\n",
       "    }\n",
       "\n",
       "    var toinsert = output_area.element.find(\".\" + CLASS_NAME.split(' ')[0]);\n",
       "\n",
       "    if (output.metadata[EXEC_MIME_TYPE][\"id\"] !== undefined) {\n",
       "      toinsert[toinsert.length - 1].firstChild.textContent = output.data[JS_MIME_TYPE];\n",
       "      // store reference to embed id on output_area\n",
       "      output_area._bokeh_element_id = output.metadata[EXEC_MIME_TYPE][\"id\"];\n",
       "    }\n",
       "    if (output.metadata[EXEC_MIME_TYPE][\"server_id\"] !== undefined) {\n",
       "      var bk_div = document.createElement(\"div\");\n",
       "      bk_div.innerHTML = output.data[HTML_MIME_TYPE];\n",
       "      var script_attrs = bk_div.children[0].attributes;\n",
       "      for (var i = 0; i < script_attrs.length; i++) {\n",
       "        toinsert[toinsert.length - 1].firstChild.setAttribute(script_attrs[i].name, script_attrs[i].value);\n",
       "        toinsert[toinsert.length - 1].firstChild.textContent = bk_div.children[0].textContent\n",
       "      }\n",
       "      // store reference to server id on output_area\n",
       "      output_area._bokeh_server_id = output.metadata[EXEC_MIME_TYPE][\"server_id\"];\n",
       "    }\n",
       "  }\n",
       "\n",
       "  function register_renderer(events, OutputArea) {\n",
       "\n",
       "    function append_mime(data, metadata, element) {\n",
       "      // create a DOM node to render to\n",
       "      var toinsert = this.create_output_subarea(\n",
       "        metadata,\n",
       "        CLASS_NAME,\n",
       "        EXEC_MIME_TYPE\n",
       "      );\n",
       "      this.keyboard_manager.register_events(toinsert);\n",
       "      // Render to node\n",
       "      var props = {data: data, metadata: metadata[EXEC_MIME_TYPE]};\n",
       "      render(props, toinsert[toinsert.length - 1]);\n",
       "      element.append(toinsert);\n",
       "      return toinsert\n",
       "    }\n",
       "\n",
       "    /* Handle when an output is cleared or removed */\n",
       "    events.on('clear_output.CodeCell', handleClearOutput);\n",
       "    events.on('delete.Cell', handleClearOutput);\n",
       "\n",
       "    /* Handle when a new output is added */\n",
       "    events.on('output_added.OutputArea', handleAddOutput);\n",
       "\n",
       "    /**\n",
       "     * Register the mime type and append_mime function with output_area\n",
       "     */\n",
       "    OutputArea.prototype.register_mime_type(EXEC_MIME_TYPE, append_mime, {\n",
       "      /* Is output safe? */\n",
       "      safe: true,\n",
       "      /* Index of renderer in `output_area.display_order` */\n",
       "      index: 0\n",
       "    });\n",
       "  }\n",
       "\n",
       "  // register the mime type if in Jupyter Notebook environment and previously unregistered\n",
       "  if (root.Jupyter !== undefined) {\n",
       "    var events = require('base/js/events');\n",
       "    var OutputArea = require('notebook/js/outputarea').OutputArea;\n",
       "\n",
       "    if (OutputArea.prototype.mime_types().indexOf(EXEC_MIME_TYPE) == -1) {\n",
       "      register_renderer(events, OutputArea);\n",
       "    }\n",
       "  }\n",
       "\n",
       "  \n",
       "  if (typeof (root._bokeh_timeout) === \"undefined\" || force === true) {\n",
       "    root._bokeh_timeout = Date.now() + 5000;\n",
       "    root._bokeh_failed_load = false;\n",
       "  }\n",
       "\n",
       "  var NB_LOAD_WARNING = {'data': {'text/html':\n",
       "     \"<div style='background-color: #fdd'>\\n\"+\n",
       "     \"<p>\\n\"+\n",
       "     \"BokehJS does not appear to have successfully loaded. If loading BokehJS from CDN, this \\n\"+\n",
       "     \"may be due to a slow or bad network connection. Possible fixes:\\n\"+\n",
       "     \"</p>\\n\"+\n",
       "     \"<ul>\\n\"+\n",
       "     \"<li>re-rerun `output_notebook()` to attempt to load from CDN again, or</li>\\n\"+\n",
       "     \"<li>use INLINE resources instead, as so:</li>\\n\"+\n",
       "     \"</ul>\\n\"+\n",
       "     \"<code>\\n\"+\n",
       "     \"from bokeh.resources import INLINE\\n\"+\n",
       "     \"output_notebook(resources=INLINE)\\n\"+\n",
       "     \"</code>\\n\"+\n",
       "     \"</div>\"}};\n",
       "\n",
       "  function display_loaded() {\n",
       "    var el = document.getElementById(\"1002\");\n",
       "    if (el != null) {\n",
       "      el.textContent = \"BokehJS is loading...\";\n",
       "    }\n",
       "    if (root.Bokeh !== undefined) {\n",
       "      if (el != null) {\n",
       "        el.textContent = \"BokehJS \" + root.Bokeh.version + \" successfully loaded.\";\n",
       "      }\n",
       "    } else if (Date.now() < root._bokeh_timeout) {\n",
       "      setTimeout(display_loaded, 100)\n",
       "    }\n",
       "  }\n",
       "\n",
       "\n",
       "  function run_callbacks() {\n",
       "    try {\n",
       "      root._bokeh_onload_callbacks.forEach(function(callback) {\n",
       "        if (callback != null)\n",
       "          callback();\n",
       "      });\n",
       "    } finally {\n",
       "      delete root._bokeh_onload_callbacks\n",
       "    }\n",
       "    console.debug(\"Bokeh: all callbacks have finished\");\n",
       "  }\n",
       "\n",
       "  function load_libs(css_urls, js_urls, callback) {\n",
       "    if (css_urls == null) css_urls = [];\n",
       "    if (js_urls == null) js_urls = [];\n",
       "\n",
       "    root._bokeh_onload_callbacks.push(callback);\n",
       "    if (root._bokeh_is_loading > 0) {\n",
       "      console.debug(\"Bokeh: BokehJS is being loaded, scheduling callback at\", now());\n",
       "      return null;\n",
       "    }\n",
       "    if (js_urls == null || js_urls.length === 0) {\n",
       "      run_callbacks();\n",
       "      return null;\n",
       "    }\n",
       "    console.debug(\"Bokeh: BokehJS not loaded, scheduling load and callback at\", now());\n",
       "    root._bokeh_is_loading = css_urls.length + js_urls.length;\n",
       "\n",
       "    function on_load() {\n",
       "      root._bokeh_is_loading--;\n",
       "      if (root._bokeh_is_loading === 0) {\n",
       "        console.debug(\"Bokeh: all BokehJS libraries/stylesheets loaded\");\n",
       "        run_callbacks()\n",
       "      }\n",
       "    }\n",
       "\n",
       "    function on_error(url) {\n",
       "      console.error(\"failed to load \" + url);\n",
       "    }\n",
       "\n",
       "    for (let i = 0; i < css_urls.length; i++) {\n",
       "      const url = css_urls[i];\n",
       "      const element = document.createElement(\"link\");\n",
       "      element.onload = on_load;\n",
       "      element.onerror = on_error.bind(null, url);\n",
       "      element.rel = \"stylesheet\";\n",
       "      element.type = \"text/css\";\n",
       "      element.href = url;\n",
       "      console.debug(\"Bokeh: injecting link tag for BokehJS stylesheet: \", url);\n",
       "      document.body.appendChild(element);\n",
       "    }\n",
       "\n",
       "    const hashes = {\"https://cdn.bokeh.org/bokeh/release/bokeh-2.3.1.min.js\": \"YF85VygJKMVnHE+lLv2AM93Vbstr0yo2TbIu5v8se5Rq3UQAUmcuh4aaJwNlpKwa\", \"https://cdn.bokeh.org/bokeh/release/bokeh-widgets-2.3.1.min.js\": \"KKuas3gevv3PvrlkyCMzffFeaMq5we/a2QsP5AUoS3mJ0jmaCL7jirFJN3GoE/lM\", \"https://cdn.bokeh.org/bokeh/release/bokeh-tables-2.3.1.min.js\": \"MK/uFc3YT18pkvvXRl66tTHjP0/dxoSH2e/eiNMFIguKlun2+WVqaPTWmUy/zvh4\"};\n",
       "\n",
       "    for (let i = 0; i < js_urls.length; i++) {\n",
       "      const url = js_urls[i];\n",
       "      const element = document.createElement('script');\n",
       "      element.onload = on_load;\n",
       "      element.onerror = on_error.bind(null, url);\n",
       "      element.async = false;\n",
       "      element.src = url;\n",
       "      if (url in hashes) {\n",
       "        element.crossOrigin = \"anonymous\";\n",
       "        element.integrity = \"sha384-\" + hashes[url];\n",
       "      }\n",
       "      console.debug(\"Bokeh: injecting script tag for BokehJS library: \", url);\n",
       "      document.head.appendChild(element);\n",
       "    }\n",
       "  };\n",
       "\n",
       "  function inject_raw_css(css) {\n",
       "    const element = document.createElement(\"style\");\n",
       "    element.appendChild(document.createTextNode(css));\n",
       "    document.body.appendChild(element);\n",
       "  }\n",
       "\n",
       "  \n",
       "  var js_urls = [\"https://cdn.bokeh.org/bokeh/release/bokeh-2.3.1.min.js\", \"https://cdn.bokeh.org/bokeh/release/bokeh-widgets-2.3.1.min.js\", \"https://cdn.bokeh.org/bokeh/release/bokeh-tables-2.3.1.min.js\"];\n",
       "  var css_urls = [];\n",
       "  \n",
       "\n",
       "  var inline_js = [\n",
       "    function(Bokeh) {\n",
       "      Bokeh.set_log_level(\"info\");\n",
       "    },\n",
       "    function(Bokeh) {\n",
       "    \n",
       "    \n",
       "    }\n",
       "  ];\n",
       "\n",
       "  function run_inline_js() {\n",
       "    \n",
       "    if (root.Bokeh !== undefined || force === true) {\n",
       "      \n",
       "    for (var i = 0; i < inline_js.length; i++) {\n",
       "      inline_js[i].call(root, root.Bokeh);\n",
       "    }\n",
       "    if (force === true) {\n",
       "        display_loaded();\n",
       "      }} else if (Date.now() < root._bokeh_timeout) {\n",
       "      setTimeout(run_inline_js, 100);\n",
       "    } else if (!root._bokeh_failed_load) {\n",
       "      console.log(\"Bokeh: BokehJS failed to load within specified timeout.\");\n",
       "      root._bokeh_failed_load = true;\n",
       "    } else if (force !== true) {\n",
       "      var cell = $(document.getElementById(\"1002\")).parents('.cell').data().cell;\n",
       "      cell.output_area.append_execute_result(NB_LOAD_WARNING)\n",
       "    }\n",
       "\n",
       "  }\n",
       "\n",
       "  if (root._bokeh_is_loading === 0) {\n",
       "    console.debug(\"Bokeh: BokehJS loaded, going straight to plotting\");\n",
       "    run_inline_js();\n",
       "  } else {\n",
       "    load_libs(css_urls, js_urls, function() {\n",
       "      console.debug(\"Bokeh: BokehJS plotting callback run at\", now());\n",
       "      run_inline_js();\n",
       "    });\n",
       "  }\n",
       "}(window));"
      ],
      "application/vnd.bokehjs_load.v0+json": "\n(function(root) {\n  function now() {\n    return new Date();\n  }\n\n  var force = true;\n\n  if (typeof root._bokeh_onload_callbacks === \"undefined\" || force === true) {\n    root._bokeh_onload_callbacks = [];\n    root._bokeh_is_loading = undefined;\n  }\n\n  \n\n  \n  if (typeof (root._bokeh_timeout) === \"undefined\" || force === true) {\n    root._bokeh_timeout = Date.now() + 5000;\n    root._bokeh_failed_load = false;\n  }\n\n  var NB_LOAD_WARNING = {'data': {'text/html':\n     \"<div style='background-color: #fdd'>\\n\"+\n     \"<p>\\n\"+\n     \"BokehJS does not appear to have successfully loaded. If loading BokehJS from CDN, this \\n\"+\n     \"may be due to a slow or bad network connection. Possible fixes:\\n\"+\n     \"</p>\\n\"+\n     \"<ul>\\n\"+\n     \"<li>re-rerun `output_notebook()` to attempt to load from CDN again, or</li>\\n\"+\n     \"<li>use INLINE resources instead, as so:</li>\\n\"+\n     \"</ul>\\n\"+\n     \"<code>\\n\"+\n     \"from bokeh.resources import INLINE\\n\"+\n     \"output_notebook(resources=INLINE)\\n\"+\n     \"</code>\\n\"+\n     \"</div>\"}};\n\n  function display_loaded() {\n    var el = document.getElementById(\"1002\");\n    if (el != null) {\n      el.textContent = \"BokehJS is loading...\";\n    }\n    if (root.Bokeh !== undefined) {\n      if (el != null) {\n        el.textContent = \"BokehJS \" + root.Bokeh.version + \" successfully loaded.\";\n      }\n    } else if (Date.now() < root._bokeh_timeout) {\n      setTimeout(display_loaded, 100)\n    }\n  }\n\n\n  function run_callbacks() {\n    try {\n      root._bokeh_onload_callbacks.forEach(function(callback) {\n        if (callback != null)\n          callback();\n      });\n    } finally {\n      delete root._bokeh_onload_callbacks\n    }\n    console.debug(\"Bokeh: all callbacks have finished\");\n  }\n\n  function load_libs(css_urls, js_urls, callback) {\n    if (css_urls == null) css_urls = [];\n    if (js_urls == null) js_urls = [];\n\n    root._bokeh_onload_callbacks.push(callback);\n    if (root._bokeh_is_loading > 0) {\n      console.debug(\"Bokeh: BokehJS is being loaded, scheduling callback at\", now());\n      return null;\n    }\n    if (js_urls == null || js_urls.length === 0) {\n      run_callbacks();\n      return null;\n    }\n    console.debug(\"Bokeh: BokehJS not loaded, scheduling load and callback at\", now());\n    root._bokeh_is_loading = css_urls.length + js_urls.length;\n\n    function on_load() {\n      root._bokeh_is_loading--;\n      if (root._bokeh_is_loading === 0) {\n        console.debug(\"Bokeh: all BokehJS libraries/stylesheets loaded\");\n        run_callbacks()\n      }\n    }\n\n    function on_error(url) {\n      console.error(\"failed to load \" + url);\n    }\n\n    for (let i = 0; i < css_urls.length; i++) {\n      const url = css_urls[i];\n      const element = document.createElement(\"link\");\n      element.onload = on_load;\n      element.onerror = on_error.bind(null, url);\n      element.rel = \"stylesheet\";\n      element.type = \"text/css\";\n      element.href = url;\n      console.debug(\"Bokeh: injecting link tag for BokehJS stylesheet: \", url);\n      document.body.appendChild(element);\n    }\n\n    const hashes = {\"https://cdn.bokeh.org/bokeh/release/bokeh-2.3.1.min.js\": \"YF85VygJKMVnHE+lLv2AM93Vbstr0yo2TbIu5v8se5Rq3UQAUmcuh4aaJwNlpKwa\", \"https://cdn.bokeh.org/bokeh/release/bokeh-widgets-2.3.1.min.js\": \"KKuas3gevv3PvrlkyCMzffFeaMq5we/a2QsP5AUoS3mJ0jmaCL7jirFJN3GoE/lM\", \"https://cdn.bokeh.org/bokeh/release/bokeh-tables-2.3.1.min.js\": \"MK/uFc3YT18pkvvXRl66tTHjP0/dxoSH2e/eiNMFIguKlun2+WVqaPTWmUy/zvh4\"};\n\n    for (let i = 0; i < js_urls.length; i++) {\n      const url = js_urls[i];\n      const element = document.createElement('script');\n      element.onload = on_load;\n      element.onerror = on_error.bind(null, url);\n      element.async = false;\n      element.src = url;\n      if (url in hashes) {\n        element.crossOrigin = \"anonymous\";\n        element.integrity = \"sha384-\" + hashes[url];\n      }\n      console.debug(\"Bokeh: injecting script tag for BokehJS library: \", url);\n      document.head.appendChild(element);\n    }\n  };\n\n  function inject_raw_css(css) {\n    const element = document.createElement(\"style\");\n    element.appendChild(document.createTextNode(css));\n    document.body.appendChild(element);\n  }\n\n  \n  var js_urls = [\"https://cdn.bokeh.org/bokeh/release/bokeh-2.3.1.min.js\", \"https://cdn.bokeh.org/bokeh/release/bokeh-widgets-2.3.1.min.js\", \"https://cdn.bokeh.org/bokeh/release/bokeh-tables-2.3.1.min.js\"];\n  var css_urls = [];\n  \n\n  var inline_js = [\n    function(Bokeh) {\n      Bokeh.set_log_level(\"info\");\n    },\n    function(Bokeh) {\n    \n    \n    }\n  ];\n\n  function run_inline_js() {\n    \n    if (root.Bokeh !== undefined || force === true) {\n      \n    for (var i = 0; i < inline_js.length; i++) {\n      inline_js[i].call(root, root.Bokeh);\n    }\n    if (force === true) {\n        display_loaded();\n      }} else if (Date.now() < root._bokeh_timeout) {\n      setTimeout(run_inline_js, 100);\n    } else if (!root._bokeh_failed_load) {\n      console.log(\"Bokeh: BokehJS failed to load within specified timeout.\");\n      root._bokeh_failed_load = true;\n    } else if (force !== true) {\n      var cell = $(document.getElementById(\"1002\")).parents('.cell').data().cell;\n      cell.output_area.append_execute_result(NB_LOAD_WARNING)\n    }\n\n  }\n\n  if (root._bokeh_is_loading === 0) {\n    console.debug(\"Bokeh: BokehJS loaded, going straight to plotting\");\n    run_inline_js();\n  } else {\n    load_libs(css_urls, js_urls, function() {\n      console.debug(\"Bokeh: BokehJS plotting callback run at\", now());\n      run_inline_js();\n    });\n  }\n}(window));"
     },
     "metadata": {},
     "output_type": "display_data"
    }
   ],
   "source": [
    "from sklearn.preprocessing import PolynomialFeatures\n",
    "from sklearn.pipeline import make_pipeline\n",
    "from sklearn.linear_model import LinearRegression\n",
    "from scipy.interpolate import interp1d\n",
    "import pandas as pd\n",
    "import numpy as np\n",
    "import matplotlib.pyplot as plt\n",
    "from bokeh.io import output_notebook, show, export_png\n",
    "# from bokeh.io import output_file\n",
    "from bokeh.plotting import figure\n",
    "from itertools import chain \n",
    "from sklearn.metrics import mean_squared_error\n",
    "import datetime as dt\n",
    "import statsmodels.api as sm\n",
    "from statsmodels.graphics.tsaplots import plot_acf,plot_pacf\n",
    "from statsmodels.tsa.ar_model import AutoReg\n",
    "import pmdarima as pm\n",
    "\n",
    "import math\n",
    "import pmdarima as pm\n",
    "import statsmodels.api as sm\n",
    "def mean_absolute_percentage_error(y_true, y_pred): \n",
    "     return np.mean(np.abs((y_true - y_pred) / y_true)) *100\n",
    "output_notebook()"
   ]
  },
  {
   "cell_type": "markdown",
   "metadata": {},
   "source": [
    "The data file below contains 10 columns.\n",
    "* Columns 1-4 give the dates in several redundant formats.\n",
    "* Column 5 below gives monthly Mauna Loa CO2 concentrations in micro-mol CO2 per mole (ppm), reported on the 2008A SIO manometric mole fraction scale.  This is the standard version of the data most often sought.  The monthly values have been adjusted to 24:00 hours on the 15th of each month.\n",
    "* Column 6 gives the same data after a seasonal adjustment to remove the quasi-regular seasonal cycle.  The adjustment involves subtracting from the data a 4-harmonic fit with a linear gain factor.\n",
    "* Column 7 is a smoothed version of the data generated from a stiff cubic spline function plus 4-harmonic functions with linear gain.\n",
    "* Column 8 is the same smoothed version with the seasonal cycle removed.\n",
    "* Column 9 is identical to Column 5 except that the missing values from Column 5 have been filled with values from Column 7.\n",
    "* Column 10 is identical to Column 6 except missing values have been filled with values from Column 8.\n",
    "\n",
    "Missing values are denoted by -99.99."
   ]
  },
  {
   "cell_type": "markdown",
   "metadata": {},
   "source": [
    "> $t_i$ is time at the middle of the $i$th month, measured in fractions of years after Jan 1, 1958. We convert from $i$ (the data index, starting at 0) to $t_i$ as $t_i = \\frac{i + 0.5}{12}$\n",
    "* $+ 0.5$ because $i$ starts at 0 but the first measurement should be 0.5 (halfway through the first month)\n",
    "* $/ 12$ to get years from months\n"
   ]
  },
  {
   "cell_type": "code",
   "execution_count": 2,
   "metadata": {},
   "outputs": [
    {
     "data": {
      "text/html": [
       "<div>\n",
       "<style scoped>\n",
       "    .dataframe tbody tr th:only-of-type {\n",
       "        vertical-align: middle;\n",
       "    }\n",
       "\n",
       "    .dataframe tbody tr th {\n",
       "        vertical-align: top;\n",
       "    }\n",
       "\n",
       "    .dataframe thead th {\n",
       "        text-align: right;\n",
       "    }\n",
       "</style>\n",
       "<table border=\"1\" class=\"dataframe\">\n",
       "  <thead>\n",
       "    <tr style=\"text-align: right;\">\n",
       "      <th></th>\n",
       "      <th>year</th>\n",
       "      <th>month</th>\n",
       "      <th>co2</th>\n",
       "      <th>time</th>\n",
       "    </tr>\n",
       "  </thead>\n",
       "  <tbody>\n",
       "    <tr>\n",
       "      <th>0</th>\n",
       "      <td>1958</td>\n",
       "      <td>1</td>\n",
       "      <td>NaN</td>\n",
       "      <td>0.041667</td>\n",
       "    </tr>\n",
       "    <tr>\n",
       "      <th>1</th>\n",
       "      <td>1958</td>\n",
       "      <td>2</td>\n",
       "      <td>NaN</td>\n",
       "      <td>0.125000</td>\n",
       "    </tr>\n",
       "    <tr>\n",
       "      <th>2</th>\n",
       "      <td>1958</td>\n",
       "      <td>3</td>\n",
       "      <td>315.70</td>\n",
       "      <td>0.208333</td>\n",
       "    </tr>\n",
       "    <tr>\n",
       "      <th>3</th>\n",
       "      <td>1958</td>\n",
       "      <td>4</td>\n",
       "      <td>317.45</td>\n",
       "      <td>0.291667</td>\n",
       "    </tr>\n",
       "    <tr>\n",
       "      <th>4</th>\n",
       "      <td>1958</td>\n",
       "      <td>5</td>\n",
       "      <td>317.51</td>\n",
       "      <td>0.375000</td>\n",
       "    </tr>\n",
       "    <tr>\n",
       "      <th>5</th>\n",
       "      <td>1958</td>\n",
       "      <td>6</td>\n",
       "      <td>NaN</td>\n",
       "      <td>0.458333</td>\n",
       "    </tr>\n",
       "    <tr>\n",
       "      <th>6</th>\n",
       "      <td>1958</td>\n",
       "      <td>7</td>\n",
       "      <td>315.86</td>\n",
       "      <td>0.541667</td>\n",
       "    </tr>\n",
       "    <tr>\n",
       "      <th>7</th>\n",
       "      <td>1958</td>\n",
       "      <td>8</td>\n",
       "      <td>314.93</td>\n",
       "      <td>0.625000</td>\n",
       "    </tr>\n",
       "    <tr>\n",
       "      <th>8</th>\n",
       "      <td>1958</td>\n",
       "      <td>9</td>\n",
       "      <td>313.21</td>\n",
       "      <td>0.708333</td>\n",
       "    </tr>\n",
       "    <tr>\n",
       "      <th>9</th>\n",
       "      <td>1958</td>\n",
       "      <td>10</td>\n",
       "      <td>NaN</td>\n",
       "      <td>0.791667</td>\n",
       "    </tr>\n",
       "  </tbody>\n",
       "</table>\n",
       "</div>"
      ],
      "text/plain": [
       "   year  month     co2      time\n",
       "0  1958      1     NaN  0.041667\n",
       "1  1958      2     NaN  0.125000\n",
       "2  1958      3  315.70  0.208333\n",
       "3  1958      4  317.45  0.291667\n",
       "4  1958      5  317.51  0.375000\n",
       "5  1958      6     NaN  0.458333\n",
       "6  1958      7  315.86  0.541667\n",
       "7  1958      8  314.93  0.625000\n",
       "8  1958      9  313.21  0.708333\n",
       "9  1958     10     NaN  0.791667"
      ]
     },
     "execution_count": 2,
     "metadata": {},
     "output_type": "execute_result"
    }
   ],
   "source": [
    "# Initialize columns of dataframe\n",
    "cols = [\n",
    "    \"year\", \"month\", \"date1\", \"date2\", \"co2\", \"co2_season_adj\", \"co2_spline_season_adj\", \"co2_spline\", \"co2_fill_7\", \"co2_fill_8\"\n",
    "]\n",
    "keep_cols = [\"year\", \"month\", \"co2\"]\n",
    "co2 = (\n",
    "    pd.read_csv(\"data/CO2.csv\", skiprows=57, header=None, names=cols)\n",
    "    .drop(columns=[col for col in cols if col not in keep_cols]) # Only keep column 5 and date columns\n",
    "    .assign(co2=lambda df: df.co2.replace({-99.99: np.nan})) # -99.99 indicates a homogeneity - replace it with null\n",
    "    .assign(time=lambda df: (df.index.values + 0.5) / 12) # Convert to time notation that question specifies\n",
    ")\n",
    "# View DataFrame to check whether correct table has been generated.\n",
    "co2.head(10)"
   ]
  },
  {
   "cell_type": "markdown",
   "metadata": {},
   "source": [
    "We see that there are null values, i.e. inhomogeneities, present in the table. Before proceeding we must clean the data. One simple way to do this is to drop all missing values from the table. Other correct methods include forward filling, interpolation etc. "
   ]
  },
  {
   "cell_type": "code",
   "execution_count": 3,
   "metadata": {},
   "outputs": [
    {
     "name": "stdout",
     "output_type": "stream",
     "text": [
      "     year  month  co2       time\n",
      "0    1958      1  NaN   0.041667\n",
      "1    1958      2  NaN   0.125000\n",
      "5    1958      6  NaN   0.458333\n",
      "9    1958     10  NaN   0.791667\n",
      "73   1964      2  NaN   6.125000\n",
      "74   1964      3  NaN   6.208333\n",
      "75   1964      4  NaN   6.291667\n",
      "741  2019     10  NaN  61.791667\n",
      "742  2019     11  NaN  61.875000\n",
      "743  2019     12  NaN  61.958333\n"
     ]
    }
   ],
   "source": [
    "print(co2[co2.co2.isnull()]) # View the dates that have invalid data\n",
    "co2 = co2.dropna() # drop missing values from the dataframe\n",
    "x = list(chain.from_iterable(co2.time.values[..., None])) \n",
    "y = list(chain.from_iterable(co2.co2.values[..., None])) \n"
   ]
  },
  {
   "cell_type": "markdown",
   "metadata": {},
   "source": [
    "Split the data into test/training sets with 80 : 20 split. The model will be fit on the training dataset alone and its \"goodness\" will be tested by finding the prediction errors with respect to the testing data set.  \n"
   ]
  },
  {
   "cell_type": "code",
   "execution_count": 4,
   "metadata": {},
   "outputs": [],
   "source": [
    "train_size = int(len(x)*0.8)\n",
    "gap = 0 # int(len(x)*0.1)\n",
    "test_size = len(x) - train_size - gap\n",
    "x_train = x[0:train_size]\n",
    "y_train = y[0:train_size]\n",
    "x_test = x[train_size + gap: None]\n",
    "y_test = y[train_size + gap: None]\n",
    "co2_test = co2.iloc[train_size + gap: None,:].copy()\n",
    "co2_train = co2.iloc[0:train_size,:].copy()"
   ]
  },
  {
   "cell_type": "markdown",
   "metadata": {},
   "source": [
    "Let us first visualize the raw training data"
   ]
  },
  {
   "cell_type": "code",
   "execution_count": 5,
   "metadata": {},
   "outputs": [
    {
     "data": {
      "text/html": [
       "\n",
       "\n",
       "\n",
       "\n",
       "\n",
       "\n",
       "  <div class=\"bk-root\" id=\"80198dc9-79db-48ef-96f3-0b04707479b2\" data-root-id=\"1003\"></div>\n"
      ]
     },
     "metadata": {},
     "output_type": "display_data"
    },
    {
     "data": {
      "application/javascript": [
       "(function(root) {\n",
       "  function embed_document(root) {\n",
       "    \n",
       "  var docs_json = {\"296da4f1-6171-42d7-9c0e-029e6e9ba0e0\":{\"defs\":[],\"roots\":{\"references\":[{\"attributes\":{\"below\":[{\"id\":\"1014\"}],\"center\":[{\"id\":\"1017\"},{\"id\":\"1021\"}],\"height\":400,\"left\":[{\"id\":\"1018\"}],\"renderers\":[{\"id\":\"1039\"}],\"title\":{\"id\":\"1004\"},\"toolbar\":{\"id\":\"1029\"},\"width\":400,\"x_range\":{\"id\":\"1006\"},\"x_scale\":{\"id\":\"1010\"},\"y_range\":{\"id\":\"1008\"},\"y_scale\":{\"id\":\"1012\"}},\"id\":\"1003\",\"subtype\":\"Figure\",\"type\":\"Plot\"},{\"attributes\":{},\"id\":\"1012\",\"type\":\"LinearScale\"},{\"attributes\":{},\"id\":\"1045\",\"type\":\"BasicTickFormatter\"},{\"attributes\":{},\"id\":\"1027\",\"type\":\"HelpTool\"},{\"attributes\":{\"axis\":{\"id\":\"1014\"},\"ticker\":null},\"id\":\"1017\",\"type\":\"Grid\"},{\"attributes\":{\"fill_alpha\":{\"value\":0.1},\"fill_color\":{\"value\":\"orange\"},\"line_alpha\":{\"value\":0.1},\"line_color\":{\"value\":\"navy\"},\"size\":{\"value\":5},\"x\":{\"field\":\"x\"},\"y\":{\"field\":\"y\"}},\"id\":\"1038\",\"type\":\"Scatter\"},{\"attributes\":{\"text\":\"C02 Variation with time\"},\"id\":\"1004\",\"type\":\"Title\"},{\"attributes\":{},\"id\":\"1044\",\"type\":\"AllLabels\"},{\"attributes\":{\"fill_alpha\":{\"value\":0.5},\"fill_color\":{\"value\":\"orange\"},\"line_color\":{\"value\":\"navy\"},\"size\":{\"value\":5},\"x\":{\"field\":\"x\"},\"y\":{\"field\":\"y\"}},\"id\":\"1037\",\"type\":\"Scatter\"},{\"attributes\":{\"active_multi\":null,\"tools\":[{\"id\":\"1022\"},{\"id\":\"1023\"},{\"id\":\"1024\"},{\"id\":\"1025\"},{\"id\":\"1026\"},{\"id\":\"1027\"}]},\"id\":\"1029\",\"type\":\"Toolbar\"},{\"attributes\":{\"bottom_units\":\"screen\",\"fill_alpha\":0.5,\"fill_color\":\"lightgrey\",\"left_units\":\"screen\",\"level\":\"overlay\",\"line_alpha\":1.0,\"line_color\":\"black\",\"line_dash\":[4,4],\"line_width\":2,\"right_units\":\"screen\",\"syncable\":false,\"top_units\":\"screen\"},\"id\":\"1028\",\"type\":\"BoxAnnotation\"},{\"attributes\":{},\"id\":\"1010\",\"type\":\"LinearScale\"},{\"attributes\":{},\"id\":\"1006\",\"type\":\"DataRange1d\"},{\"attributes\":{},\"id\":\"1008\",\"type\":\"DataRange1d\"},{\"attributes\":{},\"id\":\"1019\",\"type\":\"BasicTicker\"},{\"attributes\":{\"data_source\":{\"id\":\"1036\"},\"glyph\":{\"id\":\"1037\"},\"hover_glyph\":null,\"muted_glyph\":null,\"nonselection_glyph\":{\"id\":\"1038\"},\"view\":{\"id\":\"1040\"}},\"id\":\"1039\",\"type\":\"GlyphRenderer\"},{\"attributes\":{\"axis_label\":\"CO2 Concentration\",\"formatter\":{\"id\":\"1045\"},\"major_label_policy\":{\"id\":\"1047\"},\"ticker\":{\"id\":\"1019\"}},\"id\":\"1018\",\"type\":\"LinearAxis\"},{\"attributes\":{\"source\":{\"id\":\"1036\"}},\"id\":\"1040\",\"type\":\"CDSView\"},{\"attributes\":{},\"id\":\"1026\",\"type\":\"ResetTool\"},{\"attributes\":{},\"id\":\"1047\",\"type\":\"AllLabels\"},{\"attributes\":{},\"id\":\"1022\",\"type\":\"PanTool\"},{\"attributes\":{},\"id\":\"1048\",\"type\":\"Selection\"},{\"attributes\":{},\"id\":\"1025\",\"type\":\"SaveTool\"},{\"attributes\":{},\"id\":\"1049\",\"type\":\"UnionRenderers\"},{\"attributes\":{},\"id\":\"1023\",\"type\":\"WheelZoomTool\"},{\"attributes\":{\"overlay\":{\"id\":\"1028\"}},\"id\":\"1024\",\"type\":\"BoxZoomTool\"},{\"attributes\":{},\"id\":\"1042\",\"type\":\"BasicTickFormatter\"},{\"attributes\":{},\"id\":\"1015\",\"type\":\"BasicTicker\"},{\"attributes\":{\"data\":{\"x\":[0.20833333333333334,0.2916666666666667,0.375,0.5416666666666666,0.625,0.7083333333333334,0.875,0.9583333333333334,1.0416666666666667,1.125,1.2083333333333333,1.2916666666666667,1.375,1.4583333333333333,1.5416666666666667,1.625,1.7083333333333333,1.7916666666666667,1.875,1.9583333333333333,2.0416666666666665,2.125,2.2083333333333335,2.2916666666666665,2.375,2.4583333333333335,2.5416666666666665,2.625,2.7083333333333335,2.7916666666666665,2.875,2.9583333333333335,3.0416666666666665,3.125,3.2083333333333335,3.2916666666666665,3.375,3.4583333333333335,3.5416666666666665,3.625,3.7083333333333335,3.7916666666666665,3.875,3.9583333333333335,4.041666666666667,4.125,4.208333333333333,4.291666666666667,4.375,4.458333333333333,4.541666666666667,4.625,4.708333333333333,4.791666666666667,4.875,4.958333333333333,5.041666666666667,5.125,5.208333333333333,5.291666666666667,5.375,5.458333333333333,5.541666666666667,5.625,5.708333333333333,5.791666666666667,5.875,5.958333333333333,6.041666666666667,6.375,6.458333333333333,6.541666666666667,6.625,6.708333333333333,6.791666666666667,6.875,6.958333333333333,7.041666666666667,7.125,7.208333333333333,7.291666666666667,7.375,7.458333333333333,7.541666666666667,7.625,7.708333333333333,7.791666666666667,7.875,7.958333333333333,8.041666666666666,8.125,8.208333333333334,8.291666666666666,8.375,8.458333333333334,8.541666666666666,8.625,8.708333333333334,8.791666666666666,8.875,8.958333333333334,9.041666666666666,9.125,9.208333333333334,9.291666666666666,9.375,9.458333333333334,9.541666666666666,9.625,9.708333333333334,9.791666666666666,9.875,9.958333333333334,10.041666666666666,10.125,10.208333333333334,10.291666666666666,10.375,10.458333333333334,10.541666666666666,10.625,10.708333333333334,10.791666666666666,10.875,10.958333333333334,11.041666666666666,11.125,11.208333333333334,11.291666666666666,11.375,11.458333333333334,11.541666666666666,11.625,11.708333333333334,11.791666666666666,11.875,11.958333333333334,12.041666666666666,12.125,12.208333333333334,12.291666666666666,12.375,12.458333333333334,12.541666666666666,12.625,12.708333333333334,12.791666666666666,12.875,12.958333333333334,13.041666666666666,13.125,13.208333333333334,13.291666666666666,13.375,13.458333333333334,13.541666666666666,13.625,13.708333333333334,13.791666666666666,13.875,13.958333333333334,14.041666666666666,14.125,14.208333333333334,14.291666666666666,14.375,14.458333333333334,14.541666666666666,14.625,14.708333333333334,14.791666666666666,14.875,14.958333333333334,15.041666666666666,15.125,15.208333333333334,15.291666666666666,15.375,15.458333333333334,15.541666666666666,15.625,15.708333333333334,15.791666666666666,15.875,15.958333333333334,16.041666666666668,16.125,16.208333333333332,16.291666666666668,16.375,16.458333333333332,16.541666666666668,16.625,16.708333333333332,16.791666666666668,16.875,16.958333333333332,17.041666666666668,17.125,17.208333333333332,17.291666666666668,17.375,17.458333333333332,17.541666666666668,17.625,17.708333333333332,17.791666666666668,17.875,17.958333333333332,18.041666666666668,18.125,18.208333333333332,18.291666666666668,18.375,18.458333333333332,18.541666666666668,18.625,18.708333333333332,18.791666666666668,18.875,18.958333333333332,19.041666666666668,19.125,19.208333333333332,19.291666666666668,19.375,19.458333333333332,19.541666666666668,19.625,19.708333333333332,19.791666666666668,19.875,19.958333333333332,20.041666666666668,20.125,20.208333333333332,20.291666666666668,20.375,20.458333333333332,20.541666666666668,20.625,20.708333333333332,20.791666666666668,20.875,20.958333333333332,21.041666666666668,21.125,21.208333333333332,21.291666666666668,21.375,21.458333333333332,21.541666666666668,21.625,21.708333333333332,21.791666666666668,21.875,21.958333333333332,22.041666666666668,22.125,22.208333333333332,22.291666666666668,22.375,22.458333333333332,22.541666666666668,22.625,22.708333333333332,22.791666666666668,22.875,22.958333333333332,23.041666666666668,23.125,23.208333333333332,23.291666666666668,23.375,23.458333333333332,23.541666666666668,23.625,23.708333333333332,23.791666666666668,23.875,23.958333333333332,24.041666666666668,24.125,24.208333333333332,24.291666666666668,24.375,24.458333333333332,24.541666666666668,24.625,24.708333333333332,24.791666666666668,24.875,24.958333333333332,25.041666666666668,25.125,25.208333333333332,25.291666666666668,25.375,25.458333333333332,25.541666666666668,25.625,25.708333333333332,25.791666666666668,25.875,25.958333333333332,26.041666666666668,26.125,26.208333333333332,26.291666666666668,26.375,26.458333333333332,26.541666666666668,26.625,26.708333333333332,26.791666666666668,26.875,26.958333333333332,27.041666666666668,27.125,27.208333333333332,27.291666666666668,27.375,27.458333333333332,27.541666666666668,27.625,27.708333333333332,27.791666666666668,27.875,27.958333333333332,28.041666666666668,28.125,28.208333333333332,28.291666666666668,28.375,28.458333333333332,28.541666666666668,28.625,28.708333333333332,28.791666666666668,28.875,28.958333333333332,29.041666666666668,29.125,29.208333333333332,29.291666666666668,29.375,29.458333333333332,29.541666666666668,29.625,29.708333333333332,29.791666666666668,29.875,29.958333333333332,30.041666666666668,30.125,30.208333333333332,30.291666666666668,30.375,30.458333333333332,30.541666666666668,30.625,30.708333333333332,30.791666666666668,30.875,30.958333333333332,31.041666666666668,31.125,31.208333333333332,31.291666666666668,31.375,31.458333333333332,31.541666666666668,31.625,31.708333333333332,31.791666666666668,31.875,31.958333333333332,32.041666666666664,32.125,32.208333333333336,32.291666666666664,32.375,32.458333333333336,32.541666666666664,32.625,32.708333333333336,32.791666666666664,32.875,32.958333333333336,33.041666666666664,33.125,33.208333333333336,33.291666666666664,33.375,33.458333333333336,33.541666666666664,33.625,33.708333333333336,33.791666666666664,33.875,33.958333333333336,34.041666666666664,34.125,34.208333333333336,34.291666666666664,34.375,34.458333333333336,34.541666666666664,34.625,34.708333333333336,34.791666666666664,34.875,34.958333333333336,35.041666666666664,35.125,35.208333333333336,35.291666666666664,35.375,35.458333333333336,35.541666666666664,35.625,35.708333333333336,35.791666666666664,35.875,35.958333333333336,36.041666666666664,36.125,36.208333333333336,36.291666666666664,36.375,36.458333333333336,36.541666666666664,36.625,36.708333333333336,36.791666666666664,36.875,36.958333333333336,37.041666666666664,37.125,37.208333333333336,37.291666666666664,37.375,37.458333333333336,37.541666666666664,37.625,37.708333333333336,37.791666666666664,37.875,37.958333333333336,38.041666666666664,38.125,38.208333333333336,38.291666666666664,38.375,38.458333333333336,38.541666666666664,38.625,38.708333333333336,38.791666666666664,38.875,38.958333333333336,39.041666666666664,39.125,39.208333333333336,39.291666666666664,39.375,39.458333333333336,39.541666666666664,39.625,39.708333333333336,39.791666666666664,39.875,39.958333333333336,40.041666666666664,40.125,40.208333333333336,40.291666666666664,40.375,40.458333333333336,40.541666666666664,40.625,40.708333333333336,40.791666666666664,40.875,40.958333333333336,41.041666666666664,41.125,41.208333333333336,41.291666666666664,41.375,41.458333333333336,41.541666666666664,41.625,41.708333333333336,41.791666666666664,41.875,41.958333333333336,42.041666666666664,42.125,42.208333333333336,42.291666666666664,42.375,42.458333333333336,42.541666666666664,42.625,42.708333333333336,42.791666666666664,42.875,42.958333333333336,43.041666666666664,43.125,43.208333333333336,43.291666666666664,43.375,43.458333333333336,43.541666666666664,43.625,43.708333333333336,43.791666666666664,43.875,43.958333333333336,44.041666666666664,44.125,44.208333333333336,44.291666666666664,44.375,44.458333333333336,44.541666666666664,44.625,44.708333333333336,44.791666666666664,44.875,44.958333333333336,45.041666666666664,45.125,45.208333333333336,45.291666666666664,45.375,45.458333333333336,45.541666666666664,45.625,45.708333333333336,45.791666666666664,45.875,45.958333333333336,46.041666666666664,46.125,46.208333333333336,46.291666666666664,46.375,46.458333333333336,46.541666666666664,46.625,46.708333333333336,46.791666666666664,46.875,46.958333333333336,47.041666666666664,47.125,47.208333333333336,47.291666666666664,47.375,47.458333333333336,47.541666666666664,47.625,47.708333333333336,47.791666666666664,47.875,47.958333333333336,48.041666666666664,48.125,48.208333333333336,48.291666666666664,48.375,48.458333333333336,48.541666666666664,48.625,48.708333333333336,48.791666666666664,48.875,48.958333333333336,49.041666666666664,49.125,49.208333333333336,49.291666666666664,49.375,49.458333333333336],\"y\":[315.7,317.45,317.51,315.86,314.93,313.21,313.33,314.67,315.58,316.48,316.65,317.72,318.29,318.15,316.54,314.8,313.84,313.33,314.81,315.58,316.43,316.98,317.58,319.03,320.04,319.59,318.18,315.9,314.17,313.83,315.0,316.19,316.89,317.7,318.54,319.48,320.58,319.77,318.57,316.79,314.99,315.31,316.1,317.01,317.94,318.55,319.68,320.57,321.02,320.62,319.61,317.4,316.25,315.42,316.69,317.7,318.74,319.07,319.86,321.38,322.25,321.48,319.74,317.77,316.21,315.99,317.07,318.35,319.57,322.25,321.89,320.44,318.69,316.7,316.87,317.68,318.71,319.44,320.44,320.89,322.14,322.17,321.87,321.21,318.87,317.82,317.3,318.87,319.42,320.62,321.6,322.39,323.7,324.08,323.75,322.38,320.36,318.64,318.1,319.78,321.03,322.33,322.5,323.04,324.42,325.0,324.09,322.54,320.92,319.25,319.39,320.73,321.96,322.57,323.15,323.89,325.02,325.57,325.36,324.14,322.11,320.33,320.25,321.32,322.89,324.0,324.42,325.63,326.66,327.38,326.71,325.88,323.66,322.38,321.78,322.85,324.12,325.06,325.98,326.93,328.13,328.08,327.67,326.34,324.69,323.1,323.06,324.01,325.13,326.17,326.68,327.18,327.79,328.93,328.57,327.36,325.43,323.36,323.56,324.8,326.01,326.77,327.63,327.75,329.72,330.07,329.09,328.04,326.32,324.84,325.2,326.5,327.55,328.55,329.56,330.3,331.5,332.48,332.07,330.87,329.31,327.51,327.18,328.16,328.64,329.35,330.71,331.48,332.65,333.09,332.25,331.18,329.39,327.43,327.37,328.46,329.57,330.4,331.4,332.04,333.31,333.97,333.6,331.9,330.06,328.56,328.34,329.49,330.76,331.75,332.56,333.5,334.58,334.88,334.33,333.05,330.94,329.3,328.94,330.31,331.68,332.93,333.42,334.7,336.07,336.75,336.27,334.92,332.75,331.59,331.16,332.4,333.85,334.97,335.39,336.64,337.76,338.01,337.9,336.54,334.68,332.76,332.55,333.92,334.95,336.23,336.76,337.96,338.88,339.47,339.29,337.73,336.09,333.92,333.86,335.29,336.73,338.01,338.36,340.07,340.76,341.47,341.17,339.56,337.6,335.88,336.02,337.1,338.21,339.24,340.48,341.38,342.5,342.91,342.25,340.49,338.43,336.69,336.86,338.36,339.61,340.75,341.61,342.7,343.57,344.14,343.35,342.06,339.81,337.98,337.86,339.26,340.49,341.38,342.52,343.1,344.94,345.76,345.32,343.98,342.38,339.87,339.99,341.15,342.99,343.7,344.5,345.28,347.05,347.43,346.8,345.39,343.28,341.07,341.35,342.98,344.22,344.97,345.99,347.42,348.35,348.93,348.25,346.56,344.67,343.09,342.8,344.24,345.56,346.3,346.95,347.85,349.55,350.21,349.55,347.94,345.9,344.85,344.17,345.66,346.9,348.02,348.48,349.42,350.98,351.85,351.26,349.51,348.1,346.45,346.36,347.81,348.96,350.43,351.73,352.22,353.59,354.22,353.8,352.38,350.43,348.73,348.88,350.07,351.34,352.76,353.07,353.68,355.42,355.67,355.12,353.9,351.67,349.81,349.99,351.3,352.52,353.66,354.7,355.38,356.2,357.16,356.23,354.81,352.91,350.96,351.18,352.83,354.21,354.72,355.75,357.16,358.6,359.34,358.24,356.17,354.01,352.15,352.21,353.75,354.99,355.99,356.72,357.81,359.15,359.66,359.25,357.02,355.0,353.01,353.31,354.16,355.4,356.7,357.17,358.38,359.46,360.28,359.6,357.57,355.52,353.69,353.99,355.34,356.8,358.37,358.91,359.97,361.26,361.69,360.94,359.55,357.48,355.84,356.0,357.58,359.04,359.97,361.0,361.63,363.45,363.8,363.26,361.89,359.45,358.05,357.75,359.56,360.7,362.05,363.24,364.02,364.71,365.42,364.97,363.65,361.48,359.45,359.61,360.76,362.33,363.18,363.99,364.56,366.35,366.8,365.63,364.47,362.5,360.19,360.77,362.43,364.28,365.33,366.15,367.31,368.61,369.3,368.88,367.64,365.78,363.9,364.23,365.46,366.97,368.15,368.87,369.59,371.14,371.0,370.35,369.27,366.93,364.64,365.13,366.68,368.0,369.14,369.46,370.51,371.66,371.83,371.69,370.12,368.12,366.62,366.73,368.29,369.53,370.28,371.5,372.12,372.86,374.02,373.31,371.62,369.55,367.96,368.09,369.68,371.24,372.44,373.08,373.52,374.85,375.55,375.4,374.02,371.48,370.7,370.25,372.08,373.78,374.68,375.62,376.11,377.65,378.35,378.13,376.6,374.48,372.98,373.0,374.35,375.69,376.79,377.37,378.39,380.5,380.62,379.55,377.76,375.83,374.05,374.22,375.84,377.44,378.34,379.61,380.08,382.05,382.24,382.08,380.66,378.67,376.42,376.8,378.31,379.96,381.37,382.02,382.56,384.36,384.92,384.03,382.28,380.48,378.81,379.06,380.14,381.66,382.58,383.71,384.34,386.23,386.41,385.87]},\"selected\":{\"id\":\"1048\"},\"selection_policy\":{\"id\":\"1049\"}},\"id\":\"1036\",\"type\":\"ColumnDataSource\"},{\"attributes\":{\"axis_label\":\"t_i\",\"formatter\":{\"id\":\"1042\"},\"major_label_policy\":{\"id\":\"1044\"},\"ticker\":{\"id\":\"1015\"}},\"id\":\"1014\",\"type\":\"LinearAxis\"},{\"attributes\":{\"axis\":{\"id\":\"1018\"},\"dimension\":1,\"ticker\":null},\"id\":\"1021\",\"type\":\"Grid\"}],\"root_ids\":[\"1003\"]},\"title\":\"Bokeh Application\",\"version\":\"2.3.1\"}};\n",
       "  var render_items = [{\"docid\":\"296da4f1-6171-42d7-9c0e-029e6e9ba0e0\",\"root_ids\":[\"1003\"],\"roots\":{\"1003\":\"80198dc9-79db-48ef-96f3-0b04707479b2\"}}];\n",
       "  root.Bokeh.embed.embed_items_notebook(docs_json, render_items);\n",
       "\n",
       "  }\n",
       "  if (root.Bokeh !== undefined) {\n",
       "    embed_document(root);\n",
       "  } else {\n",
       "    var attempts = 0;\n",
       "    var timer = setInterval(function(root) {\n",
       "      if (root.Bokeh !== undefined) {\n",
       "        clearInterval(timer);\n",
       "        embed_document(root);\n",
       "      } else {\n",
       "        attempts++;\n",
       "        if (attempts > 100) {\n",
       "          clearInterval(timer);\n",
       "          console.log(\"Bokeh: ERROR: Unable to run BokehJS code because BokehJS library is missing\");\n",
       "        }\n",
       "      }\n",
       "    }, 10, root)\n",
       "  }\n",
       "})(window);"
      ],
      "application/vnd.bokehjs_exec.v0+json": ""
     },
     "metadata": {
      "application/vnd.bokehjs_exec.v0+json": {
       "id": "1003"
      }
     },
     "output_type": "display_data"
    }
   ],
   "source": [
    "p = figure(plot_width=400, plot_height=400, title = \"C02 Variation with time\")\n",
    "p.scatter(x_train,y_train,size=5, line_color=\"navy\", fill_color=\"orange\", fill_alpha=0.5)\n",
    "p.xaxis.axis_label ='t_i'\n",
    "p.yaxis.axis_label ='CO2 Concentration'\n",
    "show(p)"
   ]
  },
  {
   "cell_type": "markdown",
   "metadata": {},
   "source": [
    "Now, we will fit a linear model to this data set. This can be done use several different functions on Python. Here, the LinearRegression() method from the sklearn packagage is called"
   ]
  },
  {
   "cell_type": "code",
   "execution_count": 6,
   "metadata": {},
   "outputs": [
    {
     "name": "stdout",
     "output_type": "stream",
     "text": [
      "The linear model is F(t) = 1.4066911494215173*t + (308.9916567323666)\n"
     ]
    },
    {
     "data": {
      "text/html": [
       "\n",
       "\n",
       "\n",
       "\n",
       "\n",
       "\n",
       "  <div class=\"bk-root\" id=\"a93c476a-13a9-486c-940a-34630efeafe6\" data-root-id=\"1101\"></div>\n"
      ]
     },
     "metadata": {},
     "output_type": "display_data"
    },
    {
     "data": {
      "application/javascript": [
       "(function(root) {\n",
       "  function embed_document(root) {\n",
       "    \n",
       "  var docs_json = {\"f99c73cc-a4c8-492c-9de7-44405015fea9\":{\"defs\":[],\"roots\":{\"references\":[{\"attributes\":{\"below\":[{\"id\":\"1112\"}],\"center\":[{\"id\":\"1115\"},{\"id\":\"1119\"},{\"id\":\"1149\"}],\"height\":400,\"left\":[{\"id\":\"1116\"}],\"renderers\":[{\"id\":\"1137\"},{\"id\":\"1154\"}],\"title\":{\"id\":\"1102\"},\"toolbar\":{\"id\":\"1127\"},\"width\":400,\"x_range\":{\"id\":\"1104\"},\"x_scale\":{\"id\":\"1108\"},\"y_range\":{\"id\":\"1106\"},\"y_scale\":{\"id\":\"1110\"}},\"id\":\"1101\",\"subtype\":\"Figure\",\"type\":\"Plot\"},{\"attributes\":{\"items\":[{\"id\":\"1150\"},{\"id\":\"1168\"}]},\"id\":\"1149\",\"type\":\"Legend\"},{\"attributes\":{\"data\":{\"x\":[0.20833333333333334,0.2916666666666667,0.375,0.5416666666666666,0.625,0.7083333333333334,0.875,0.9583333333333334,1.0416666666666667,1.125,1.2083333333333333,1.2916666666666667,1.375,1.4583333333333333,1.5416666666666667,1.625,1.7083333333333333,1.7916666666666667,1.875,1.9583333333333333,2.0416666666666665,2.125,2.2083333333333335,2.2916666666666665,2.375,2.4583333333333335,2.5416666666666665,2.625,2.7083333333333335,2.7916666666666665,2.875,2.9583333333333335,3.0416666666666665,3.125,3.2083333333333335,3.2916666666666665,3.375,3.4583333333333335,3.5416666666666665,3.625,3.7083333333333335,3.7916666666666665,3.875,3.9583333333333335,4.041666666666667,4.125,4.208333333333333,4.291666666666667,4.375,4.458333333333333,4.541666666666667,4.625,4.708333333333333,4.791666666666667,4.875,4.958333333333333,5.041666666666667,5.125,5.208333333333333,5.291666666666667,5.375,5.458333333333333,5.541666666666667,5.625,5.708333333333333,5.791666666666667,5.875,5.958333333333333,6.041666666666667,6.375,6.458333333333333,6.541666666666667,6.625,6.708333333333333,6.791666666666667,6.875,6.958333333333333,7.041666666666667,7.125,7.208333333333333,7.291666666666667,7.375,7.458333333333333,7.541666666666667,7.625,7.708333333333333,7.791666666666667,7.875,7.958333333333333,8.041666666666666,8.125,8.208333333333334,8.291666666666666,8.375,8.458333333333334,8.541666666666666,8.625,8.708333333333334,8.791666666666666,8.875,8.958333333333334,9.041666666666666,9.125,9.208333333333334,9.291666666666666,9.375,9.458333333333334,9.541666666666666,9.625,9.708333333333334,9.791666666666666,9.875,9.958333333333334,10.041666666666666,10.125,10.208333333333334,10.291666666666666,10.375,10.458333333333334,10.541666666666666,10.625,10.708333333333334,10.791666666666666,10.875,10.958333333333334,11.041666666666666,11.125,11.208333333333334,11.291666666666666,11.375,11.458333333333334,11.541666666666666,11.625,11.708333333333334,11.791666666666666,11.875,11.958333333333334,12.041666666666666,12.125,12.208333333333334,12.291666666666666,12.375,12.458333333333334,12.541666666666666,12.625,12.708333333333334,12.791666666666666,12.875,12.958333333333334,13.041666666666666,13.125,13.208333333333334,13.291666666666666,13.375,13.458333333333334,13.541666666666666,13.625,13.708333333333334,13.791666666666666,13.875,13.958333333333334,14.041666666666666,14.125,14.208333333333334,14.291666666666666,14.375,14.458333333333334,14.541666666666666,14.625,14.708333333333334,14.791666666666666,14.875,14.958333333333334,15.041666666666666,15.125,15.208333333333334,15.291666666666666,15.375,15.458333333333334,15.541666666666666,15.625,15.708333333333334,15.791666666666666,15.875,15.958333333333334,16.041666666666668,16.125,16.208333333333332,16.291666666666668,16.375,16.458333333333332,16.541666666666668,16.625,16.708333333333332,16.791666666666668,16.875,16.958333333333332,17.041666666666668,17.125,17.208333333333332,17.291666666666668,17.375,17.458333333333332,17.541666666666668,17.625,17.708333333333332,17.791666666666668,17.875,17.958333333333332,18.041666666666668,18.125,18.208333333333332,18.291666666666668,18.375,18.458333333333332,18.541666666666668,18.625,18.708333333333332,18.791666666666668,18.875,18.958333333333332,19.041666666666668,19.125,19.208333333333332,19.291666666666668,19.375,19.458333333333332,19.541666666666668,19.625,19.708333333333332,19.791666666666668,19.875,19.958333333333332,20.041666666666668,20.125,20.208333333333332,20.291666666666668,20.375,20.458333333333332,20.541666666666668,20.625,20.708333333333332,20.791666666666668,20.875,20.958333333333332,21.041666666666668,21.125,21.208333333333332,21.291666666666668,21.375,21.458333333333332,21.541666666666668,21.625,21.708333333333332,21.791666666666668,21.875,21.958333333333332,22.041666666666668,22.125,22.208333333333332,22.291666666666668,22.375,22.458333333333332,22.541666666666668,22.625,22.708333333333332,22.791666666666668,22.875,22.958333333333332,23.041666666666668,23.125,23.208333333333332,23.291666666666668,23.375,23.458333333333332,23.541666666666668,23.625,23.708333333333332,23.791666666666668,23.875,23.958333333333332,24.041666666666668,24.125,24.208333333333332,24.291666666666668,24.375,24.458333333333332,24.541666666666668,24.625,24.708333333333332,24.791666666666668,24.875,24.958333333333332,25.041666666666668,25.125,25.208333333333332,25.291666666666668,25.375,25.458333333333332,25.541666666666668,25.625,25.708333333333332,25.791666666666668,25.875,25.958333333333332,26.041666666666668,26.125,26.208333333333332,26.291666666666668,26.375,26.458333333333332,26.541666666666668,26.625,26.708333333333332,26.791666666666668,26.875,26.958333333333332,27.041666666666668,27.125,27.208333333333332,27.291666666666668,27.375,27.458333333333332,27.541666666666668,27.625,27.708333333333332,27.791666666666668,27.875,27.958333333333332,28.041666666666668,28.125,28.208333333333332,28.291666666666668,28.375,28.458333333333332,28.541666666666668,28.625,28.708333333333332,28.791666666666668,28.875,28.958333333333332,29.041666666666668,29.125,29.208333333333332,29.291666666666668,29.375,29.458333333333332,29.541666666666668,29.625,29.708333333333332,29.791666666666668,29.875,29.958333333333332,30.041666666666668,30.125,30.208333333333332,30.291666666666668,30.375,30.458333333333332,30.541666666666668,30.625,30.708333333333332,30.791666666666668,30.875,30.958333333333332,31.041666666666668,31.125,31.208333333333332,31.291666666666668,31.375,31.458333333333332,31.541666666666668,31.625,31.708333333333332,31.791666666666668,31.875,31.958333333333332,32.041666666666664,32.125,32.208333333333336,32.291666666666664,32.375,32.458333333333336,32.541666666666664,32.625,32.708333333333336,32.791666666666664,32.875,32.958333333333336,33.041666666666664,33.125,33.208333333333336,33.291666666666664,33.375,33.458333333333336,33.541666666666664,33.625,33.708333333333336,33.791666666666664,33.875,33.958333333333336,34.041666666666664,34.125,34.208333333333336,34.291666666666664,34.375,34.458333333333336,34.541666666666664,34.625,34.708333333333336,34.791666666666664,34.875,34.958333333333336,35.041666666666664,35.125,35.208333333333336,35.291666666666664,35.375,35.458333333333336,35.541666666666664,35.625,35.708333333333336,35.791666666666664,35.875,35.958333333333336,36.041666666666664,36.125,36.208333333333336,36.291666666666664,36.375,36.458333333333336,36.541666666666664,36.625,36.708333333333336,36.791666666666664,36.875,36.958333333333336,37.041666666666664,37.125,37.208333333333336,37.291666666666664,37.375,37.458333333333336,37.541666666666664,37.625,37.708333333333336,37.791666666666664,37.875,37.958333333333336,38.041666666666664,38.125,38.208333333333336,38.291666666666664,38.375,38.458333333333336,38.541666666666664,38.625,38.708333333333336,38.791666666666664,38.875,38.958333333333336,39.041666666666664,39.125,39.208333333333336,39.291666666666664,39.375,39.458333333333336,39.541666666666664,39.625,39.708333333333336,39.791666666666664,39.875,39.958333333333336,40.041666666666664,40.125,40.208333333333336,40.291666666666664,40.375,40.458333333333336,40.541666666666664,40.625,40.708333333333336,40.791666666666664,40.875,40.958333333333336,41.041666666666664,41.125,41.208333333333336,41.291666666666664,41.375,41.458333333333336,41.541666666666664,41.625,41.708333333333336,41.791666666666664,41.875,41.958333333333336,42.041666666666664,42.125,42.208333333333336,42.291666666666664,42.375,42.458333333333336,42.541666666666664,42.625,42.708333333333336,42.791666666666664,42.875,42.958333333333336,43.041666666666664,43.125,43.208333333333336,43.291666666666664,43.375,43.458333333333336,43.541666666666664,43.625,43.708333333333336,43.791666666666664,43.875,43.958333333333336,44.041666666666664,44.125,44.208333333333336,44.291666666666664,44.375,44.458333333333336,44.541666666666664,44.625,44.708333333333336,44.791666666666664,44.875,44.958333333333336,45.041666666666664,45.125,45.208333333333336,45.291666666666664,45.375,45.458333333333336,45.541666666666664,45.625,45.708333333333336,45.791666666666664,45.875,45.958333333333336,46.041666666666664,46.125,46.208333333333336,46.291666666666664,46.375,46.458333333333336,46.541666666666664,46.625,46.708333333333336,46.791666666666664,46.875,46.958333333333336,47.041666666666664,47.125,47.208333333333336,47.291666666666664,47.375,47.458333333333336,47.541666666666664,47.625,47.708333333333336,47.791666666666664,47.875,47.958333333333336,48.041666666666664,48.125,48.208333333333336,48.291666666666664,48.375,48.458333333333336,48.541666666666664,48.625,48.708333333333336,48.791666666666664,48.875,48.958333333333336,49.041666666666664,49.125,49.208333333333336,49.291666666666664,49.375,49.458333333333336],\"y\":[315.7,317.45,317.51,315.86,314.93,313.21,313.33,314.67,315.58,316.48,316.65,317.72,318.29,318.15,316.54,314.8,313.84,313.33,314.81,315.58,316.43,316.98,317.58,319.03,320.04,319.59,318.18,315.9,314.17,313.83,315.0,316.19,316.89,317.7,318.54,319.48,320.58,319.77,318.57,316.79,314.99,315.31,316.1,317.01,317.94,318.55,319.68,320.57,321.02,320.62,319.61,317.4,316.25,315.42,316.69,317.7,318.74,319.07,319.86,321.38,322.25,321.48,319.74,317.77,316.21,315.99,317.07,318.35,319.57,322.25,321.89,320.44,318.69,316.7,316.87,317.68,318.71,319.44,320.44,320.89,322.14,322.17,321.87,321.21,318.87,317.82,317.3,318.87,319.42,320.62,321.6,322.39,323.7,324.08,323.75,322.38,320.36,318.64,318.1,319.78,321.03,322.33,322.5,323.04,324.42,325.0,324.09,322.54,320.92,319.25,319.39,320.73,321.96,322.57,323.15,323.89,325.02,325.57,325.36,324.14,322.11,320.33,320.25,321.32,322.89,324.0,324.42,325.63,326.66,327.38,326.71,325.88,323.66,322.38,321.78,322.85,324.12,325.06,325.98,326.93,328.13,328.08,327.67,326.34,324.69,323.1,323.06,324.01,325.13,326.17,326.68,327.18,327.79,328.93,328.57,327.36,325.43,323.36,323.56,324.8,326.01,326.77,327.63,327.75,329.72,330.07,329.09,328.04,326.32,324.84,325.2,326.5,327.55,328.55,329.56,330.3,331.5,332.48,332.07,330.87,329.31,327.51,327.18,328.16,328.64,329.35,330.71,331.48,332.65,333.09,332.25,331.18,329.39,327.43,327.37,328.46,329.57,330.4,331.4,332.04,333.31,333.97,333.6,331.9,330.06,328.56,328.34,329.49,330.76,331.75,332.56,333.5,334.58,334.88,334.33,333.05,330.94,329.3,328.94,330.31,331.68,332.93,333.42,334.7,336.07,336.75,336.27,334.92,332.75,331.59,331.16,332.4,333.85,334.97,335.39,336.64,337.76,338.01,337.9,336.54,334.68,332.76,332.55,333.92,334.95,336.23,336.76,337.96,338.88,339.47,339.29,337.73,336.09,333.92,333.86,335.29,336.73,338.01,338.36,340.07,340.76,341.47,341.17,339.56,337.6,335.88,336.02,337.1,338.21,339.24,340.48,341.38,342.5,342.91,342.25,340.49,338.43,336.69,336.86,338.36,339.61,340.75,341.61,342.7,343.57,344.14,343.35,342.06,339.81,337.98,337.86,339.26,340.49,341.38,342.52,343.1,344.94,345.76,345.32,343.98,342.38,339.87,339.99,341.15,342.99,343.7,344.5,345.28,347.05,347.43,346.8,345.39,343.28,341.07,341.35,342.98,344.22,344.97,345.99,347.42,348.35,348.93,348.25,346.56,344.67,343.09,342.8,344.24,345.56,346.3,346.95,347.85,349.55,350.21,349.55,347.94,345.9,344.85,344.17,345.66,346.9,348.02,348.48,349.42,350.98,351.85,351.26,349.51,348.1,346.45,346.36,347.81,348.96,350.43,351.73,352.22,353.59,354.22,353.8,352.38,350.43,348.73,348.88,350.07,351.34,352.76,353.07,353.68,355.42,355.67,355.12,353.9,351.67,349.81,349.99,351.3,352.52,353.66,354.7,355.38,356.2,357.16,356.23,354.81,352.91,350.96,351.18,352.83,354.21,354.72,355.75,357.16,358.6,359.34,358.24,356.17,354.01,352.15,352.21,353.75,354.99,355.99,356.72,357.81,359.15,359.66,359.25,357.02,355.0,353.01,353.31,354.16,355.4,356.7,357.17,358.38,359.46,360.28,359.6,357.57,355.52,353.69,353.99,355.34,356.8,358.37,358.91,359.97,361.26,361.69,360.94,359.55,357.48,355.84,356.0,357.58,359.04,359.97,361.0,361.63,363.45,363.8,363.26,361.89,359.45,358.05,357.75,359.56,360.7,362.05,363.24,364.02,364.71,365.42,364.97,363.65,361.48,359.45,359.61,360.76,362.33,363.18,363.99,364.56,366.35,366.8,365.63,364.47,362.5,360.19,360.77,362.43,364.28,365.33,366.15,367.31,368.61,369.3,368.88,367.64,365.78,363.9,364.23,365.46,366.97,368.15,368.87,369.59,371.14,371.0,370.35,369.27,366.93,364.64,365.13,366.68,368.0,369.14,369.46,370.51,371.66,371.83,371.69,370.12,368.12,366.62,366.73,368.29,369.53,370.28,371.5,372.12,372.86,374.02,373.31,371.62,369.55,367.96,368.09,369.68,371.24,372.44,373.08,373.52,374.85,375.55,375.4,374.02,371.48,370.7,370.25,372.08,373.78,374.68,375.62,376.11,377.65,378.35,378.13,376.6,374.48,372.98,373.0,374.35,375.69,376.79,377.37,378.39,380.5,380.62,379.55,377.76,375.83,374.05,374.22,375.84,377.44,378.34,379.61,380.08,382.05,382.24,382.08,380.66,378.67,376.42,376.8,378.31,379.96,381.37,382.02,382.56,384.36,384.92,384.03,382.28,380.48,378.81,379.06,380.14,381.66,382.58,383.71,384.34,386.23,386.41,385.87]},\"selected\":{\"id\":\"1146\"},\"selection_policy\":{\"id\":\"1147\"}},\"id\":\"1134\",\"type\":\"ColumnDataSource\"},{\"attributes\":{\"fill_alpha\":{\"value\":0.1},\"fill_color\":{\"value\":\"orange\"},\"line_alpha\":{\"value\":0.1},\"line_color\":{\"value\":\"navy\"},\"size\":{\"value\":2},\"x\":{\"field\":\"x\"},\"y\":{\"field\":\"y\"}},\"id\":\"1136\",\"type\":\"Scatter\"},{\"attributes\":{\"label\":{\"value\":\"Original Data\"},\"renderers\":[{\"id\":\"1137\"}]},\"id\":\"1150\",\"type\":\"LegendItem\"},{\"attributes\":{},\"id\":\"1120\",\"type\":\"PanTool\"},{\"attributes\":{\"data\":{\"x\":[0.20833333333333334,0.2916666666666667,0.375,0.5416666666666666,0.625,0.7083333333333334,0.875,0.9583333333333334,1.0416666666666667,1.125,1.2083333333333333,1.2916666666666667,1.375,1.4583333333333333,1.5416666666666667,1.625,1.7083333333333333,1.7916666666666667,1.875,1.9583333333333333,2.0416666666666665,2.125,2.2083333333333335,2.2916666666666665,2.375,2.4583333333333335,2.5416666666666665,2.625,2.7083333333333335,2.7916666666666665,2.875,2.9583333333333335,3.0416666666666665,3.125,3.2083333333333335,3.2916666666666665,3.375,3.4583333333333335,3.5416666666666665,3.625,3.7083333333333335,3.7916666666666665,3.875,3.9583333333333335,4.041666666666667,4.125,4.208333333333333,4.291666666666667,4.375,4.458333333333333,4.541666666666667,4.625,4.708333333333333,4.791666666666667,4.875,4.958333333333333,5.041666666666667,5.125,5.208333333333333,5.291666666666667,5.375,5.458333333333333,5.541666666666667,5.625,5.708333333333333,5.791666666666667,5.875,5.958333333333333,6.041666666666667,6.375,6.458333333333333,6.541666666666667,6.625,6.708333333333333,6.791666666666667,6.875,6.958333333333333,7.041666666666667,7.125,7.208333333333333,7.291666666666667,7.375,7.458333333333333,7.541666666666667,7.625,7.708333333333333,7.791666666666667,7.875,7.958333333333333,8.041666666666666,8.125,8.208333333333334,8.291666666666666,8.375,8.458333333333334,8.541666666666666,8.625,8.708333333333334,8.791666666666666,8.875,8.958333333333334,9.041666666666666,9.125,9.208333333333334,9.291666666666666,9.375,9.458333333333334,9.541666666666666,9.625,9.708333333333334,9.791666666666666,9.875,9.958333333333334,10.041666666666666,10.125,10.208333333333334,10.291666666666666,10.375,10.458333333333334,10.541666666666666,10.625,10.708333333333334,10.791666666666666,10.875,10.958333333333334,11.041666666666666,11.125,11.208333333333334,11.291666666666666,11.375,11.458333333333334,11.541666666666666,11.625,11.708333333333334,11.791666666666666,11.875,11.958333333333334,12.041666666666666,12.125,12.208333333333334,12.291666666666666,12.375,12.458333333333334,12.541666666666666,12.625,12.708333333333334,12.791666666666666,12.875,12.958333333333334,13.041666666666666,13.125,13.208333333333334,13.291666666666666,13.375,13.458333333333334,13.541666666666666,13.625,13.708333333333334,13.791666666666666,13.875,13.958333333333334,14.041666666666666,14.125,14.208333333333334,14.291666666666666,14.375,14.458333333333334,14.541666666666666,14.625,14.708333333333334,14.791666666666666,14.875,14.958333333333334,15.041666666666666,15.125,15.208333333333334,15.291666666666666,15.375,15.458333333333334,15.541666666666666,15.625,15.708333333333334,15.791666666666666,15.875,15.958333333333334,16.041666666666668,16.125,16.208333333333332,16.291666666666668,16.375,16.458333333333332,16.541666666666668,16.625,16.708333333333332,16.791666666666668,16.875,16.958333333333332,17.041666666666668,17.125,17.208333333333332,17.291666666666668,17.375,17.458333333333332,17.541666666666668,17.625,17.708333333333332,17.791666666666668,17.875,17.958333333333332,18.041666666666668,18.125,18.208333333333332,18.291666666666668,18.375,18.458333333333332,18.541666666666668,18.625,18.708333333333332,18.791666666666668,18.875,18.958333333333332,19.041666666666668,19.125,19.208333333333332,19.291666666666668,19.375,19.458333333333332,19.541666666666668,19.625,19.708333333333332,19.791666666666668,19.875,19.958333333333332,20.041666666666668,20.125,20.208333333333332,20.291666666666668,20.375,20.458333333333332,20.541666666666668,20.625,20.708333333333332,20.791666666666668,20.875,20.958333333333332,21.041666666666668,21.125,21.208333333333332,21.291666666666668,21.375,21.458333333333332,21.541666666666668,21.625,21.708333333333332,21.791666666666668,21.875,21.958333333333332,22.041666666666668,22.125,22.208333333333332,22.291666666666668,22.375,22.458333333333332,22.541666666666668,22.625,22.708333333333332,22.791666666666668,22.875,22.958333333333332,23.041666666666668,23.125,23.208333333333332,23.291666666666668,23.375,23.458333333333332,23.541666666666668,23.625,23.708333333333332,23.791666666666668,23.875,23.958333333333332,24.041666666666668,24.125,24.208333333333332,24.291666666666668,24.375,24.458333333333332,24.541666666666668,24.625,24.708333333333332,24.791666666666668,24.875,24.958333333333332,25.041666666666668,25.125,25.208333333333332,25.291666666666668,25.375,25.458333333333332,25.541666666666668,25.625,25.708333333333332,25.791666666666668,25.875,25.958333333333332,26.041666666666668,26.125,26.208333333333332,26.291666666666668,26.375,26.458333333333332,26.541666666666668,26.625,26.708333333333332,26.791666666666668,26.875,26.958333333333332,27.041666666666668,27.125,27.208333333333332,27.291666666666668,27.375,27.458333333333332,27.541666666666668,27.625,27.708333333333332,27.791666666666668,27.875,27.958333333333332,28.041666666666668,28.125,28.208333333333332,28.291666666666668,28.375,28.458333333333332,28.541666666666668,28.625,28.708333333333332,28.791666666666668,28.875,28.958333333333332,29.041666666666668,29.125,29.208333333333332,29.291666666666668,29.375,29.458333333333332,29.541666666666668,29.625,29.708333333333332,29.791666666666668,29.875,29.958333333333332,30.041666666666668,30.125,30.208333333333332,30.291666666666668,30.375,30.458333333333332,30.541666666666668,30.625,30.708333333333332,30.791666666666668,30.875,30.958333333333332,31.041666666666668,31.125,31.208333333333332,31.291666666666668,31.375,31.458333333333332,31.541666666666668,31.625,31.708333333333332,31.791666666666668,31.875,31.958333333333332,32.041666666666664,32.125,32.208333333333336,32.291666666666664,32.375,32.458333333333336,32.541666666666664,32.625,32.708333333333336,32.791666666666664,32.875,32.958333333333336,33.041666666666664,33.125,33.208333333333336,33.291666666666664,33.375,33.458333333333336,33.541666666666664,33.625,33.708333333333336,33.791666666666664,33.875,33.958333333333336,34.041666666666664,34.125,34.208333333333336,34.291666666666664,34.375,34.458333333333336,34.541666666666664,34.625,34.708333333333336,34.791666666666664,34.875,34.958333333333336,35.041666666666664,35.125,35.208333333333336,35.291666666666664,35.375,35.458333333333336,35.541666666666664,35.625,35.708333333333336,35.791666666666664,35.875,35.958333333333336,36.041666666666664,36.125,36.208333333333336,36.291666666666664,36.375,36.458333333333336,36.541666666666664,36.625,36.708333333333336,36.791666666666664,36.875,36.958333333333336,37.041666666666664,37.125,37.208333333333336,37.291666666666664,37.375,37.458333333333336,37.541666666666664,37.625,37.708333333333336,37.791666666666664,37.875,37.958333333333336,38.041666666666664,38.125,38.208333333333336,38.291666666666664,38.375,38.458333333333336,38.541666666666664,38.625,38.708333333333336,38.791666666666664,38.875,38.958333333333336,39.041666666666664,39.125,39.208333333333336,39.291666666666664,39.375,39.458333333333336,39.541666666666664,39.625,39.708333333333336,39.791666666666664,39.875,39.958333333333336,40.041666666666664,40.125,40.208333333333336,40.291666666666664,40.375,40.458333333333336,40.541666666666664,40.625,40.708333333333336,40.791666666666664,40.875,40.958333333333336,41.041666666666664,41.125,41.208333333333336,41.291666666666664,41.375,41.458333333333336,41.541666666666664,41.625,41.708333333333336,41.791666666666664,41.875,41.958333333333336,42.041666666666664,42.125,42.208333333333336,42.291666666666664,42.375,42.458333333333336,42.541666666666664,42.625,42.708333333333336,42.791666666666664,42.875,42.958333333333336,43.041666666666664,43.125,43.208333333333336,43.291666666666664,43.375,43.458333333333336,43.541666666666664,43.625,43.708333333333336,43.791666666666664,43.875,43.958333333333336,44.041666666666664,44.125,44.208333333333336,44.291666666666664,44.375,44.458333333333336,44.541666666666664,44.625,44.708333333333336,44.791666666666664,44.875,44.958333333333336,45.041666666666664,45.125,45.208333333333336,45.291666666666664,45.375,45.458333333333336,45.541666666666664,45.625,45.708333333333336,45.791666666666664,45.875,45.958333333333336,46.041666666666664,46.125,46.208333333333336,46.291666666666664,46.375,46.458333333333336,46.541666666666664,46.625,46.708333333333336,46.791666666666664,46.875,46.958333333333336,47.041666666666664,47.125,47.208333333333336,47.291666666666664,47.375,47.458333333333336,47.541666666666664,47.625,47.708333333333336,47.791666666666664,47.875,47.958333333333336,48.041666666666664,48.125,48.208333333333336,48.291666666666664,48.375,48.458333333333336,48.541666666666664,48.625,48.708333333333336,48.791666666666664,48.875,48.958333333333336,49.041666666666664,49.125,49.208333333333336,49.291666666666664,49.375,49.458333333333336],\"y\":{\"__ndarray__\":\"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\",\"dtype\":\"float64\",\"order\":\"little\",\"shape\":[587]}},\"selected\":{\"id\":\"1165\"},\"selection_policy\":{\"id\":\"1166\"}},\"id\":\"1151\",\"type\":\"ColumnDataSource\"},{\"attributes\":{},\"id\":\"1121\",\"type\":\"WheelZoomTool\"},{\"attributes\":{},\"id\":\"1113\",\"type\":\"BasicTicker\"},{\"attributes\":{\"overlay\":{\"id\":\"1126\"}},\"id\":\"1122\",\"type\":\"BoxZoomTool\"},{\"attributes\":{},\"id\":\"1165\",\"type\":\"Selection\"},{\"attributes\":{\"axis\":{\"id\":\"1116\"},\"dimension\":1,\"ticker\":null},\"id\":\"1119\",\"type\":\"Grid\"},{\"attributes\":{\"source\":{\"id\":\"1151\"}},\"id\":\"1155\",\"type\":\"CDSView\"},{\"attributes\":{},\"id\":\"1124\",\"type\":\"ResetTool\"},{\"attributes\":{\"line_alpha\":0.1,\"line_color\":\"orange\",\"line_width\":2.5,\"x\":{\"field\":\"x\"},\"y\":{\"field\":\"y\"}},\"id\":\"1153\",\"type\":\"Line\"},{\"attributes\":{\"data_source\":{\"id\":\"1151\"},\"glyph\":{\"id\":\"1152\"},\"hover_glyph\":null,\"muted_glyph\":null,\"nonselection_glyph\":{\"id\":\"1153\"},\"view\":{\"id\":\"1155\"}},\"id\":\"1154\",\"type\":\"GlyphRenderer\"},{\"attributes\":{},\"id\":\"1125\",\"type\":\"HelpTool\"},{\"attributes\":{},\"id\":\"1166\",\"type\":\"UnionRenderers\"},{\"attributes\":{\"label\":{\"value\":\"Linear Fit\"},\"renderers\":[{\"id\":\"1154\"}]},\"id\":\"1168\",\"type\":\"LegendItem\"},{\"attributes\":{\"active_multi\":null,\"tools\":[{\"id\":\"1120\"},{\"id\":\"1121\"},{\"id\":\"1122\"},{\"id\":\"1123\"},{\"id\":\"1124\"},{\"id\":\"1125\"}]},\"id\":\"1127\",\"type\":\"Toolbar\"},{\"attributes\":{\"bottom_units\":\"screen\",\"fill_alpha\":0.5,\"fill_color\":\"lightgrey\",\"left_units\":\"screen\",\"level\":\"overlay\",\"line_alpha\":1.0,\"line_color\":\"black\",\"line_dash\":[4,4],\"line_width\":2,\"right_units\":\"screen\",\"syncable\":false,\"top_units\":\"screen\"},\"id\":\"1126\",\"type\":\"BoxAnnotation\"},{\"attributes\":{\"fill_alpha\":{\"value\":0.5},\"fill_color\":{\"value\":\"orange\"},\"line_color\":{\"value\":\"navy\"},\"size\":{\"value\":2},\"x\":{\"field\":\"x\"},\"y\":{\"field\":\"y\"}},\"id\":\"1135\",\"type\":\"Scatter\"},{\"attributes\":{},\"id\":\"1123\",\"type\":\"SaveTool\"},{\"attributes\":{\"data_source\":{\"id\":\"1134\"},\"glyph\":{\"id\":\"1135\"},\"hover_glyph\":null,\"muted_glyph\":null,\"nonselection_glyph\":{\"id\":\"1136\"},\"view\":{\"id\":\"1138\"}},\"id\":\"1137\",\"type\":\"GlyphRenderer\"},{\"attributes\":{},\"id\":\"1117\",\"type\":\"BasicTicker\"},{\"attributes\":{\"line_color\":\"orange\",\"line_width\":2.5,\"x\":{\"field\":\"x\"},\"y\":{\"field\":\"y\"}},\"id\":\"1152\",\"type\":\"Line\"},{\"attributes\":{},\"id\":\"1140\",\"type\":\"BasicTickFormatter\"},{\"attributes\":{\"source\":{\"id\":\"1134\"}},\"id\":\"1138\",\"type\":\"CDSView\"},{\"attributes\":{\"axis_label\":\"t_i\",\"formatter\":{\"id\":\"1140\"},\"major_label_policy\":{\"id\":\"1142\"},\"ticker\":{\"id\":\"1113\"}},\"id\":\"1112\",\"type\":\"LinearAxis\"},{\"attributes\":{},\"id\":\"1142\",\"type\":\"AllLabels\"},{\"attributes\":{},\"id\":\"1110\",\"type\":\"LinearScale\"},{\"attributes\":{\"axis_label\":\"CO2 Concentration\",\"formatter\":{\"id\":\"1143\"},\"major_label_policy\":{\"id\":\"1145\"},\"ticker\":{\"id\":\"1117\"}},\"id\":\"1116\",\"type\":\"LinearAxis\"},{\"attributes\":{\"text\":\"C02 Variation with time\"},\"id\":\"1102\",\"type\":\"Title\"},{\"attributes\":{},\"id\":\"1143\",\"type\":\"BasicTickFormatter\"},{\"attributes\":{},\"id\":\"1104\",\"type\":\"DataRange1d\"},{\"attributes\":{},\"id\":\"1145\",\"type\":\"AllLabels\"},{\"attributes\":{},\"id\":\"1106\",\"type\":\"DataRange1d\"},{\"attributes\":{\"axis\":{\"id\":\"1112\"},\"ticker\":null},\"id\":\"1115\",\"type\":\"Grid\"},{\"attributes\":{},\"id\":\"1146\",\"type\":\"Selection\"},{\"attributes\":{},\"id\":\"1108\",\"type\":\"LinearScale\"},{\"attributes\":{},\"id\":\"1147\",\"type\":\"UnionRenderers\"}],\"root_ids\":[\"1101\"]},\"title\":\"Bokeh Application\",\"version\":\"2.3.1\"}};\n",
       "  var render_items = [{\"docid\":\"f99c73cc-a4c8-492c-9de7-44405015fea9\",\"root_ids\":[\"1101\"],\"roots\":{\"1101\":\"a93c476a-13a9-486c-940a-34630efeafe6\"}}];\n",
       "  root.Bokeh.embed.embed_items_notebook(docs_json, render_items);\n",
       "\n",
       "  }\n",
       "  if (root.Bokeh !== undefined) {\n",
       "    embed_document(root);\n",
       "  } else {\n",
       "    var attempts = 0;\n",
       "    var timer = setInterval(function(root) {\n",
       "      if (root.Bokeh !== undefined) {\n",
       "        clearInterval(timer);\n",
       "        embed_document(root);\n",
       "      } else {\n",
       "        attempts++;\n",
       "        if (attempts > 100) {\n",
       "          clearInterval(timer);\n",
       "          console.log(\"Bokeh: ERROR: Unable to run BokehJS code because BokehJS library is missing\");\n",
       "        }\n",
       "      }\n",
       "    }, 10, root)\n",
       "  }\n",
       "})(window);"
      ],
      "application/vnd.bokehjs_exec.v0+json": ""
     },
     "metadata": {
      "application/vnd.bokehjs_exec.v0+json": {
       "id": "1101"
      }
     },
     "output_type": "display_data"
    }
   ],
   "source": [
    "model = LinearRegression().fit(np.array(x_train).reshape(-1, 1),y_train)\n",
    "coefficients = [model.coef_[0],model.intercept_]\n",
    "print(\"The linear model is F(t) = \" +str(coefficients[0])+\"*t + (\" +str(coefficients[1])+\")\")\n",
    "linear = model.predict(np.array(x_train).reshape(-1, 1))\n",
    "p = figure(plot_width=400, plot_height=400, title = \"C02 Variation with time\")\n",
    "p.scatter(x_train,y_train,size=2, line_color=\"navy\", fill_color=\"orange\", fill_alpha=0.5, legend_label =\"Original Data\")\n",
    "p.line(x_train,linear, line_color=\"orange\",line_width=2.5,legend_label =\"Linear Fit\")\n",
    "p.xaxis.axis_label ='t_i'\n",
    "p.yaxis.axis_label ='CO2 Concentration'\n",
    "show(p)\n"
   ]
  },
  {
   "cell_type": "code",
   "execution_count": 7,
   "metadata": {},
   "outputs": [
    {
     "data": {
      "text/html": [
       "\n",
       "\n",
       "\n",
       "\n",
       "\n",
       "\n",
       "  <div class=\"bk-root\" id=\"6cd61f89-4122-4ba6-9033-cb280f258a08\" data-root-id=\"1251\"></div>\n"
      ]
     },
     "metadata": {},
     "output_type": "display_data"
    },
    {
     "data": {
      "application/javascript": [
       "(function(root) {\n",
       "  function embed_document(root) {\n",
       "    \n",
       "  var docs_json = {\"4204d782-c669-40e6-babd-ba50fdd76ea3\":{\"defs\":[],\"roots\":{\"references\":[{\"attributes\":{\"below\":[{\"id\":\"1262\"}],\"center\":[{\"id\":\"1265\"},{\"id\":\"1269\"},{\"id\":\"1299\"}],\"height\":400,\"left\":[{\"id\":\"1266\"}],\"renderers\":[{\"id\":\"1287\"}],\"title\":{\"id\":\"1252\"},\"toolbar\":{\"id\":\"1277\"},\"width\":400,\"x_range\":{\"id\":\"1254\"},\"x_scale\":{\"id\":\"1258\"},\"y_range\":{\"id\":\"1256\"},\"y_scale\":{\"id\":\"1260\"}},\"id\":\"1251\",\"subtype\":\"Figure\",\"type\":\"Plot\"},{\"attributes\":{},\"id\":\"1275\",\"type\":\"HelpTool\"},{\"attributes\":{\"label\":{\"value\":\"R_linear\"},\"renderers\":[{\"id\":\"1287\"}]},\"id\":\"1300\",\"type\":\"LegendItem\"},{\"attributes\":{\"formatter\":{\"id\":\"1290\"},\"major_label_policy\":{\"id\":\"1292\"},\"ticker\":{\"id\":\"1263\"}},\"id\":\"1262\",\"type\":\"LinearAxis\"},{\"attributes\":{\"source\":{\"id\":\"1284\"}},\"id\":\"1288\",\"type\":\"CDSView\"},{\"attributes\":{\"axis_label\":\"Residual\",\"formatter\":{\"id\":\"1293\"},\"major_label_policy\":{\"id\":\"1295\"},\"ticker\":{\"id\":\"1267\"}},\"id\":\"1266\",\"type\":\"LinearAxis\"},{\"attributes\":{\"fill_alpha\":{\"value\":0.1},\"fill_color\":{\"value\":\"maroon\"},\"line_alpha\":{\"value\":0.1},\"line_color\":{\"value\":\"red\"},\"size\":{\"value\":2},\"x\":{\"field\":\"x\"},\"y\":{\"field\":\"y\"}},\"id\":\"1286\",\"type\":\"Scatter\"},{\"attributes\":{},\"id\":\"1292\",\"type\":\"AllLabels\"},{\"attributes\":{\"overlay\":{\"id\":\"1276\"}},\"id\":\"1272\",\"type\":\"BoxZoomTool\"},{\"attributes\":{},\"id\":\"1295\",\"type\":\"AllLabels\"},{\"attributes\":{},\"id\":\"1273\",\"type\":\"SaveTool\"},{\"attributes\":{},\"id\":\"1260\",\"type\":\"LinearScale\"},{\"attributes\":{},\"id\":\"1293\",\"type\":\"BasicTickFormatter\"},{\"attributes\":{},\"id\":\"1296\",\"type\":\"Selection\"},{\"attributes\":{},\"id\":\"1297\",\"type\":\"UnionRenderers\"},{\"attributes\":{\"text\":\"Residuals (R_linear)\"},\"id\":\"1252\",\"type\":\"Title\"},{\"attributes\":{},\"id\":\"1290\",\"type\":\"BasicTickFormatter\"},{\"attributes\":{\"data\":{\"x\":[0.20833333333333334,0.2916666666666667,0.375,0.5416666666666666,0.625,0.7083333333333334,0.875,0.9583333333333334,1.0416666666666667,1.125,1.2083333333333333,1.2916666666666667,1.375,1.4583333333333333,1.5416666666666667,1.625,1.7083333333333333,1.7916666666666667,1.875,1.9583333333333333,2.0416666666666665,2.125,2.2083333333333335,2.2916666666666665,2.375,2.4583333333333335,2.5416666666666665,2.625,2.7083333333333335,2.7916666666666665,2.875,2.9583333333333335,3.0416666666666665,3.125,3.2083333333333335,3.2916666666666665,3.375,3.4583333333333335,3.5416666666666665,3.625,3.7083333333333335,3.7916666666666665,3.875,3.9583333333333335,4.041666666666667,4.125,4.208333333333333,4.291666666666667,4.375,4.458333333333333,4.541666666666667,4.625,4.708333333333333,4.791666666666667,4.875,4.958333333333333,5.041666666666667,5.125,5.208333333333333,5.291666666666667,5.375,5.458333333333333,5.541666666666667,5.625,5.708333333333333,5.791666666666667,5.875,5.958333333333333,6.041666666666667,6.375,6.458333333333333,6.541666666666667,6.625,6.708333333333333,6.791666666666667,6.875,6.958333333333333,7.041666666666667,7.125,7.208333333333333,7.291666666666667,7.375,7.458333333333333,7.541666666666667,7.625,7.708333333333333,7.791666666666667,7.875,7.958333333333333,8.041666666666666,8.125,8.208333333333334,8.291666666666666,8.375,8.458333333333334,8.541666666666666,8.625,8.708333333333334,8.791666666666666,8.875,8.958333333333334,9.041666666666666,9.125,9.208333333333334,9.291666666666666,9.375,9.458333333333334,9.541666666666666,9.625,9.708333333333334,9.791666666666666,9.875,9.958333333333334,10.041666666666666,10.125,10.208333333333334,10.291666666666666,10.375,10.458333333333334,10.541666666666666,10.625,10.708333333333334,10.791666666666666,10.875,10.958333333333334,11.041666666666666,11.125,11.208333333333334,11.291666666666666,11.375,11.458333333333334,11.541666666666666,11.625,11.708333333333334,11.791666666666666,11.875,11.958333333333334,12.041666666666666,12.125,12.208333333333334,12.291666666666666,12.375,12.458333333333334,12.541666666666666,12.625,12.708333333333334,12.791666666666666,12.875,12.958333333333334,13.041666666666666,13.125,13.208333333333334,13.291666666666666,13.375,13.458333333333334,13.541666666666666,13.625,13.708333333333334,13.791666666666666,13.875,13.958333333333334,14.041666666666666,14.125,14.208333333333334,14.291666666666666,14.375,14.458333333333334,14.541666666666666,14.625,14.708333333333334,14.791666666666666,14.875,14.958333333333334,15.041666666666666,15.125,15.208333333333334,15.291666666666666,15.375,15.458333333333334,15.541666666666666,15.625,15.708333333333334,15.791666666666666,15.875,15.958333333333334,16.041666666666668,16.125,16.208333333333332,16.291666666666668,16.375,16.458333333333332,16.541666666666668,16.625,16.708333333333332,16.791666666666668,16.875,16.958333333333332,17.041666666666668,17.125,17.208333333333332,17.291666666666668,17.375,17.458333333333332,17.541666666666668,17.625,17.708333333333332,17.791666666666668,17.875,17.958333333333332,18.041666666666668,18.125,18.208333333333332,18.291666666666668,18.375,18.458333333333332,18.541666666666668,18.625,18.708333333333332,18.791666666666668,18.875,18.958333333333332,19.041666666666668,19.125,19.208333333333332,19.291666666666668,19.375,19.458333333333332,19.541666666666668,19.625,19.708333333333332,19.791666666666668,19.875,19.958333333333332,20.041666666666668,20.125,20.208333333333332,20.291666666666668,20.375,20.458333333333332,20.541666666666668,20.625,20.708333333333332,20.791666666666668,20.875,20.958333333333332,21.041666666666668,21.125,21.208333333333332,21.291666666666668,21.375,21.458333333333332,21.541666666666668,21.625,21.708333333333332,21.791666666666668,21.875,21.958333333333332,22.041666666666668,22.125,22.208333333333332,22.291666666666668,22.375,22.458333333333332,22.541666666666668,22.625,22.708333333333332,22.791666666666668,22.875,22.958333333333332,23.041666666666668,23.125,23.208333333333332,23.291666666666668,23.375,23.458333333333332,23.541666666666668,23.625,23.708333333333332,23.791666666666668,23.875,23.958333333333332,24.041666666666668,24.125,24.208333333333332,24.291666666666668,24.375,24.458333333333332,24.541666666666668,24.625,24.708333333333332,24.791666666666668,24.875,24.958333333333332,25.041666666666668,25.125,25.208333333333332,25.291666666666668,25.375,25.458333333333332,25.541666666666668,25.625,25.708333333333332,25.791666666666668,25.875,25.958333333333332,26.041666666666668,26.125,26.208333333333332,26.291666666666668,26.375,26.458333333333332,26.541666666666668,26.625,26.708333333333332,26.791666666666668,26.875,26.958333333333332,27.041666666666668,27.125,27.208333333333332,27.291666666666668,27.375,27.458333333333332,27.541666666666668,27.625,27.708333333333332,27.791666666666668,27.875,27.958333333333332,28.041666666666668,28.125,28.208333333333332,28.291666666666668,28.375,28.458333333333332,28.541666666666668,28.625,28.708333333333332,28.791666666666668,28.875,28.958333333333332,29.041666666666668,29.125,29.208333333333332,29.291666666666668,29.375,29.458333333333332,29.541666666666668,29.625,29.708333333333332,29.791666666666668,29.875,29.958333333333332,30.041666666666668,30.125,30.208333333333332,30.291666666666668,30.375,30.458333333333332,30.541666666666668,30.625,30.708333333333332,30.791666666666668,30.875,30.958333333333332,31.041666666666668,31.125,31.208333333333332,31.291666666666668,31.375,31.458333333333332,31.541666666666668,31.625,31.708333333333332,31.791666666666668,31.875,31.958333333333332,32.041666666666664,32.125,32.208333333333336,32.291666666666664,32.375,32.458333333333336,32.541666666666664,32.625,32.708333333333336,32.791666666666664,32.875,32.958333333333336,33.041666666666664,33.125,33.208333333333336,33.291666666666664,33.375,33.458333333333336,33.541666666666664,33.625,33.708333333333336,33.791666666666664,33.875,33.958333333333336,34.041666666666664,34.125,34.208333333333336,34.291666666666664,34.375,34.458333333333336,34.541666666666664,34.625,34.708333333333336,34.791666666666664,34.875,34.958333333333336,35.041666666666664,35.125,35.208333333333336,35.291666666666664,35.375,35.458333333333336,35.541666666666664,35.625,35.708333333333336,35.791666666666664,35.875,35.958333333333336,36.041666666666664,36.125,36.208333333333336,36.291666666666664,36.375,36.458333333333336,36.541666666666664,36.625,36.708333333333336,36.791666666666664,36.875,36.958333333333336,37.041666666666664,37.125,37.208333333333336,37.291666666666664,37.375,37.458333333333336,37.541666666666664,37.625,37.708333333333336,37.791666666666664,37.875,37.958333333333336,38.041666666666664,38.125,38.208333333333336,38.291666666666664,38.375,38.458333333333336,38.541666666666664,38.625,38.708333333333336,38.791666666666664,38.875,38.958333333333336,39.041666666666664,39.125,39.208333333333336,39.291666666666664,39.375,39.458333333333336,39.541666666666664,39.625,39.708333333333336,39.791666666666664,39.875,39.958333333333336,40.041666666666664,40.125,40.208333333333336,40.291666666666664,40.375,40.458333333333336,40.541666666666664,40.625,40.708333333333336,40.791666666666664,40.875,40.958333333333336,41.041666666666664,41.125,41.208333333333336,41.291666666666664,41.375,41.458333333333336,41.541666666666664,41.625,41.708333333333336,41.791666666666664,41.875,41.958333333333336,42.041666666666664,42.125,42.208333333333336,42.291666666666664,42.375,42.458333333333336,42.541666666666664,42.625,42.708333333333336,42.791666666666664,42.875,42.958333333333336,43.041666666666664,43.125,43.208333333333336,43.291666666666664,43.375,43.458333333333336,43.541666666666664,43.625,43.708333333333336,43.791666666666664,43.875,43.958333333333336,44.041666666666664,44.125,44.208333333333336,44.291666666666664,44.375,44.458333333333336,44.541666666666664,44.625,44.708333333333336,44.791666666666664,44.875,44.958333333333336,45.041666666666664,45.125,45.208333333333336,45.291666666666664,45.375,45.458333333333336,45.541666666666664,45.625,45.708333333333336,45.791666666666664,45.875,45.958333333333336,46.041666666666664,46.125,46.208333333333336,46.291666666666664,46.375,46.458333333333336,46.541666666666664,46.625,46.708333333333336,46.791666666666664,46.875,46.958333333333336,47.041666666666664,47.125,47.208333333333336,47.291666666666664,47.375,47.458333333333336,47.541666666666664,47.625,47.708333333333336,47.791666666666664,47.875,47.958333333333336,48.041666666666664,48.125,48.208333333333336,48.291666666666664,48.375,48.458333333333336,48.541666666666664,48.625,48.708333333333336,48.791666666666664,48.875,48.958333333333336,49.041666666666664,49.125,49.208333333333336,49.291666666666664,49.375,49.458333333333336],\"y\":{\"__ndarray__\":\"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\",\"dtype\":\"float64\",\"order\":\"little\",\"shape\":[587]}},\"selected\":{\"id\":\"1296\"},\"selection_policy\":{\"id\":\"1297\"}},\"id\":\"1284\",\"type\":\"ColumnDataSource\"},{\"attributes\":{},\"id\":\"1271\",\"type\":\"WheelZoomTool\"},{\"attributes\":{},\"id\":\"1258\",\"type\":\"LinearScale\"},{\"attributes\":{\"active_multi\":null,\"tools\":[{\"id\":\"1270\"},{\"id\":\"1271\"},{\"id\":\"1272\"},{\"id\":\"1273\"},{\"id\":\"1274\"},{\"id\":\"1275\"}]},\"id\":\"1277\",\"type\":\"Toolbar\"},{\"attributes\":{\"items\":[{\"id\":\"1300\"}]},\"id\":\"1299\",\"type\":\"Legend\"},{\"attributes\":{},\"id\":\"1254\",\"type\":\"DataRange1d\"},{\"attributes\":{\"axis\":{\"id\":\"1262\"},\"ticker\":null},\"id\":\"1265\",\"type\":\"Grid\"},{\"attributes\":{},\"id\":\"1270\",\"type\":\"PanTool\"},{\"attributes\":{\"data_source\":{\"id\":\"1284\"},\"glyph\":{\"id\":\"1285\"},\"hover_glyph\":null,\"muted_glyph\":null,\"nonselection_glyph\":{\"id\":\"1286\"},\"view\":{\"id\":\"1288\"}},\"id\":\"1287\",\"type\":\"GlyphRenderer\"},{\"attributes\":{},\"id\":\"1263\",\"type\":\"BasicTicker\"},{\"attributes\":{},\"id\":\"1256\",\"type\":\"DataRange1d\"},{\"attributes\":{},\"id\":\"1267\",\"type\":\"BasicTicker\"},{\"attributes\":{},\"id\":\"1274\",\"type\":\"ResetTool\"},{\"attributes\":{\"axis\":{\"id\":\"1266\"},\"dimension\":1,\"ticker\":null},\"id\":\"1269\",\"type\":\"Grid\"},{\"attributes\":{\"bottom_units\":\"screen\",\"fill_alpha\":0.5,\"fill_color\":\"lightgrey\",\"left_units\":\"screen\",\"level\":\"overlay\",\"line_alpha\":1.0,\"line_color\":\"black\",\"line_dash\":[4,4],\"line_width\":2,\"right_units\":\"screen\",\"syncable\":false,\"top_units\":\"screen\"},\"id\":\"1276\",\"type\":\"BoxAnnotation\"},{\"attributes\":{\"fill_alpha\":{\"value\":0.5},\"fill_color\":{\"value\":\"maroon\"},\"line_color\":{\"value\":\"red\"},\"size\":{\"value\":2},\"x\":{\"field\":\"x\"},\"y\":{\"field\":\"y\"}},\"id\":\"1285\",\"type\":\"Scatter\"}],\"root_ids\":[\"1251\"]},\"title\":\"Bokeh Application\",\"version\":\"2.3.1\"}};\n",
       "  var render_items = [{\"docid\":\"4204d782-c669-40e6-babd-ba50fdd76ea3\",\"root_ids\":[\"1251\"],\"roots\":{\"1251\":\"6cd61f89-4122-4ba6-9033-cb280f258a08\"}}];\n",
       "  root.Bokeh.embed.embed_items_notebook(docs_json, render_items);\n",
       "\n",
       "  }\n",
       "  if (root.Bokeh !== undefined) {\n",
       "    embed_document(root);\n",
       "  } else {\n",
       "    var attempts = 0;\n",
       "    var timer = setInterval(function(root) {\n",
       "      if (root.Bokeh !== undefined) {\n",
       "        clearInterval(timer);\n",
       "        embed_document(root);\n",
       "      } else {\n",
       "        attempts++;\n",
       "        if (attempts > 100) {\n",
       "          clearInterval(timer);\n",
       "          console.log(\"Bokeh: ERROR: Unable to run BokehJS code because BokehJS library is missing\");\n",
       "        }\n",
       "      }\n",
       "    }, 10, root)\n",
       "  }\n",
       "})(window);"
      ],
      "application/vnd.bokehjs_exec.v0+json": ""
     },
     "metadata": {
      "application/vnd.bokehjs_exec.v0+json": {
       "id": "1251"
      }
     },
     "output_type": "display_data"
    }
   ],
   "source": [
    "p = figure(plot_width=400, plot_height=400, title = \"Residuals (R_linear)\")\n",
    "p.scatter(x_train,y_train - linear,size=2, line_color=\"red\", fill_color=\"maroon\", fill_alpha=0.5, legend_label =\"R_linear\")\n",
    "p.yaxis.axis_label ='Residual'\n",
    "show(p)"
   ]
  },
  {
   "cell_type": "markdown",
   "metadata": {},
   "source": [
    "We now calculate the RMSE when this model is used to predict test data "
   ]
  },
  {
   "cell_type": "code",
   "execution_count": 9,
   "metadata": {},
   "outputs": [
    {
     "data": {
      "text/html": [
       "\n",
       "\n",
       "\n",
       "\n",
       "\n",
       "\n",
       "  <div class=\"bk-root\" id=\"a8c0e096-361d-46ad-ad95-dc8ba32c7217\" data-root-id=\"1555\"></div>\n"
      ]
     },
     "metadata": {},
     "output_type": "display_data"
    },
    {
     "data": {
      "application/javascript": [
       "(function(root) {\n",
       "  function embed_document(root) {\n",
       "    \n",
       "  var docs_json = {\"1eaa2915-ab72-49ee-af25-3e8239e324dc\":{\"defs\":[],\"roots\":{\"references\":[{\"attributes\":{\"below\":[{\"id\":\"1566\"}],\"center\":[{\"id\":\"1569\"},{\"id\":\"1573\"},{\"id\":\"1603\"}],\"height\":400,\"left\":[{\"id\":\"1570\"}],\"renderers\":[{\"id\":\"1591\"},{\"id\":\"1608\"}],\"title\":{\"id\":\"1556\"},\"toolbar\":{\"id\":\"1581\"},\"width\":400,\"x_range\":{\"id\":\"1558\"},\"x_scale\":{\"id\":\"1562\"},\"y_range\":{\"id\":\"1560\"},\"y_scale\":{\"id\":\"1564\"}},\"id\":\"1555\",\"subtype\":\"Figure\",\"type\":\"Plot\"},{\"attributes\":{},\"id\":\"1567\",\"type\":\"BasicTicker\"},{\"attributes\":{},\"id\":\"1600\",\"type\":\"Selection\"},{\"attributes\":{\"axis\":{\"id\":\"1566\"},\"ticker\":null},\"id\":\"1569\",\"type\":\"Grid\"},{\"attributes\":{\"items\":[{\"id\":\"1604\"},{\"id\":\"1622\"}],\"location\":\"top_left\"},\"id\":\"1603\",\"type\":\"Legend\"},{\"attributes\":{\"axis_label\":\"CO2 Concentration\",\"formatter\":{\"id\":\"1597\"},\"major_label_policy\":{\"id\":\"1599\"},\"ticker\":{\"id\":\"1571\"}},\"id\":\"1570\",\"type\":\"LinearAxis\"},{\"attributes\":{\"data\":{\"x\":[49.541666666666664,49.625,49.708333333333336,49.791666666666664,49.875,49.958333333333336,50.041666666666664,50.125,50.208333333333336,50.291666666666664,50.375,50.458333333333336,50.541666666666664,50.625,50.708333333333336,50.791666666666664,50.875,50.958333333333336,51.041666666666664,51.125,51.208333333333336,51.291666666666664,51.375,51.458333333333336,51.541666666666664,51.625,51.708333333333336,51.791666666666664,51.875,51.958333333333336,52.041666666666664,52.125,52.208333333333336,52.291666666666664,52.375,52.458333333333336,52.541666666666664,52.625,52.708333333333336,52.791666666666664,52.875,52.958333333333336,53.041666666666664,53.125,53.208333333333336,53.291666666666664,53.375,53.458333333333336,53.541666666666664,53.625,53.708333333333336,53.791666666666664,53.875,53.958333333333336,54.041666666666664,54.125,54.208333333333336,54.291666666666664,54.375,54.458333333333336,54.541666666666664,54.625,54.708333333333336,54.791666666666664,54.875,54.958333333333336,55.041666666666664,55.125,55.208333333333336,55.291666666666664,55.375,55.458333333333336,55.541666666666664,55.625,55.708333333333336,55.791666666666664,55.875,55.958333333333336,56.041666666666664,56.125,56.208333333333336,56.291666666666664,56.375,56.458333333333336,56.541666666666664,56.625,56.708333333333336,56.791666666666664,56.875,56.958333333333336,57.041666666666664,57.125,57.208333333333336,57.291666666666664,57.375,57.458333333333336,57.541666666666664,57.625,57.708333333333336,57.791666666666664,57.875,57.958333333333336,58.041666666666664,58.125,58.208333333333336,58.291666666666664,58.375,58.458333333333336,58.541666666666664,58.625,58.708333333333336,58.791666666666664,58.875,58.958333333333336,59.041666666666664,59.125,59.208333333333336,59.291666666666664,59.375,59.458333333333336,59.541666666666664,59.625,59.708333333333336,59.791666666666664,59.875,59.958333333333336,60.041666666666664,60.125,60.208333333333336,60.291666666666664,60.375,60.458333333333336,60.541666666666664,60.625,60.708333333333336,60.791666666666664,60.875,60.958333333333336,61.041666666666664,61.125,61.208333333333336,61.291666666666664,61.375,61.458333333333336,61.541666666666664,61.625,61.708333333333336],\"y\":{\"__ndarray__\":\"8I1eWOeqd0Bk5up+x6x3QNc+d6WnrndASpcDzIewd0C+74/yZ7J3QDFIHBlItHdApKCoPyi2d0AY+TRmCLh3QIxRwYzouXdA/6lNs8i7d0ByAtrZqL13QOZaZgCJv3dAWbPyJmnBd0DMC39NScN3QEBkC3QpxXdAs7yXmgnHd0AmFSTB6ch3QJptsOfJyndADcY8DqrMd0CBHsk0is53QPR2VVtq0HdAaM/hgUrSd0DbJ26oKtR3QE6A+s4K1ndAwtiG9erXd0A1MRMcy9l3QKiJn0Kr23dAHOIraYvdd0CPOriPa993QAOTRLZL4XdAduvQ3Cvjd0DqQ10DDOV3QF2c6Sns5ndA0PR1UMzod0BETQJ3rOp3QLeljp2M7HdAKv4axGzud0CeVqfqTPB3QBGvMxEt8ndAhAfANw30d0D4X0xe7fV3QGy42ITN93dA3xBlq635d0BSafHRjft3QMbBffht/XdAORoKH07/d0CscpZFLgF4QCDLImwOA3hAkyOvku4EeEAGfDu5zgZ4QHrUx9+uCHhA7SxUBo8KeEBhheAsbwx4QNTdbFNPDnhASDb5eS8QeEC7joWgDxJ4QC7nEcfvE3hAoj+e7c8VeEAVmCoUsBd4QIjwtjqQGXhA/EhDYXAbeEBvoc+HUB14QOP5W64wH3hAVlLo1BAheEDKqnT78CJ4QD0DASLRJHhAsFuNSLEmeEAktBlvkSh4QJcMppVxKnhACmUyvFEseEB+vb7iMS54QPEVSwkSMHhAZG7XL/IxeEDYxmNW0jN4QEwf8HyyNXhAv3d8o5I3eEAy0AjKcjl4QKYolfBSO3hAGYEhFzM9eECM2a09Ez94QAAyOmTzQHhAc4rGitNCeEDm4lKxs0R4QFo739eTRnhAzZNr/nNIeEBB7PckVEp4QLREhEs0THhAKJ0QchROeECb9ZyY9E94QA5OKb/UUXhAgqa15bRTeED1/kEMlVV4QGhXzjJ1V3hA3K9aWVVZeEBPCOd/NVt4QMNgc6YVXXhANrn/zPVeeECqEYzz1WB4QB1qGBq2YnhAkMKkQJZkeEAEGzFndmZ4QHdzvY1WaHhA6stJtDZqeEBeJNbaFmx4QNF8YgH3bXhARNXuJ9dveEC4LXtOt3F4QCyGB3WXc3hAn96Tm3d1eEASNyDCV3d4QIaPrOg3eXhA+ec4Dxh7eEBsQMU1+Hx4QOCYUVzYfnhAU/HdgriAeEDGSWqpmIJ4QDqi9s94hHhArfqC9liGeEAhUw8dOYh4QJSrm0MZinhACAQoavmLeEB7XLSQ2Y14QO60QLe5j3hAYg3N3ZmReEDVZVkEepN4QEi+5SpalXhAvBZyUTqXeEAvb/53Gpl4QKPHip76mnhAFiAXxdqceECKeKPrup54QP3QLxKboHhAcCm8OHuieEDkgUhfW6R4QFfa1IU7pnhAyjJhrBuoeEA+i+3S+6l4QLHjefnbq3hAJDwGILyteECYlJJGnK94QAztHm18sXhAf0Wrk1yzeEDynTe6PLV4QGb2w+Act3hA2U5QB/24eEBMp9wt3bp4QMD/aFS9vHhA\",\"dtype\":\"float64\",\"order\":\"little\",\"shape\":[147]}},\"selected\":{\"id\":\"1619\"},\"selection_policy\":{\"id\":\"1620\"}},\"id\":\"1605\",\"type\":\"ColumnDataSource\"},{\"attributes\":{\"label\":{\"value\":\"Test Data\"},\"renderers\":[{\"id\":\"1591\"}]},\"id\":\"1604\",\"type\":\"LegendItem\"},{\"attributes\":{},\"id\":\"1571\",\"type\":\"BasicTicker\"},{\"attributes\":{\"data\":{\"x\":[49.541666666666664,49.625,49.708333333333336,49.791666666666664,49.875,49.958333333333336,50.041666666666664,50.125,50.208333333333336,50.291666666666664,50.375,50.458333333333336,50.541666666666664,50.625,50.708333333333336,50.791666666666664,50.875,50.958333333333336,51.041666666666664,51.125,51.208333333333336,51.291666666666664,51.375,51.458333333333336,51.541666666666664,51.625,51.708333333333336,51.791666666666664,51.875,51.958333333333336,52.041666666666664,52.125,52.208333333333336,52.291666666666664,52.375,52.458333333333336,52.541666666666664,52.625,52.708333333333336,52.791666666666664,52.875,52.958333333333336,53.041666666666664,53.125,53.208333333333336,53.291666666666664,53.375,53.458333333333336,53.541666666666664,53.625,53.708333333333336,53.791666666666664,53.875,53.958333333333336,54.041666666666664,54.125,54.208333333333336,54.291666666666664,54.375,54.458333333333336,54.541666666666664,54.625,54.708333333333336,54.791666666666664,54.875,54.958333333333336,55.041666666666664,55.125,55.208333333333336,55.291666666666664,55.375,55.458333333333336,55.541666666666664,55.625,55.708333333333336,55.791666666666664,55.875,55.958333333333336,56.041666666666664,56.125,56.208333333333336,56.291666666666664,56.375,56.458333333333336,56.541666666666664,56.625,56.708333333333336,56.791666666666664,56.875,56.958333333333336,57.041666666666664,57.125,57.208333333333336,57.291666666666664,57.375,57.458333333333336,57.541666666666664,57.625,57.708333333333336,57.791666666666664,57.875,57.958333333333336,58.041666666666664,58.125,58.208333333333336,58.291666666666664,58.375,58.458333333333336,58.541666666666664,58.625,58.708333333333336,58.791666666666664,58.875,58.958333333333336,59.041666666666664,59.125,59.208333333333336,59.291666666666664,59.375,59.458333333333336,59.541666666666664,59.625,59.708333333333336,59.791666666666664,59.875,59.958333333333336,60.041666666666664,60.125,60.208333333333336,60.291666666666664,60.375,60.458333333333336,60.541666666666664,60.625,60.708333333333336,60.791666666666664,60.875,60.958333333333336,61.041666666666664,61.125,61.208333333333336,61.291666666666664,61.375,61.458333333333336,61.541666666666664,61.625,61.708333333333336],\"y\":[384.44,381.84,380.86,380.86,382.36,383.61,385.07,385.84,385.83,386.77,388.51,388.05,386.25,384.08,383.09,382.78,384.01,385.11,386.65,387.12,388.52,389.57,390.17,389.62,388.07,386.08,384.65,384.33,386.05,387.49,388.55,390.07,391.01,392.38,393.22,392.24,390.33,388.52,386.84,387.16,388.67,389.81,391.3,391.92,392.45,393.37,394.28,393.69,392.59,390.21,389.0,388.93,390.24,391.8,393.07,393.35,394.36,396.43,396.87,395.88,394.52,392.54,391.13,391.01,392.95,394.33,395.61,396.85,397.26,398.35,399.98,398.87,397.37,395.41,393.39,393.7,395.19,396.82,397.92,398.1,399.47,401.33,401.88,401.31,399.07,397.21,395.4,395.65,397.23,398.79,399.85,400.31,401.51,403.45,404.1,402.88,401.61,399.0,397.5,398.28,400.24,401.89,402.65,404.16,404.85,407.57,407.66,407.0,404.5,402.24,401.01,401.5,403.64,404.55,406.07,406.64,407.06,408.95,409.91,409.12,407.2,405.24,403.27,403.64,405.17,406.75,408.05,408.34,409.25,410.3,411.3,410.88,408.9,407.1,405.59,405.99,408.12,409.23,410.92,411.66,412.0,413.52,414.83,413.96,411.85,410.08,408.55]},\"selected\":{\"id\":\"1600\"},\"selection_policy\":{\"id\":\"1601\"}},\"id\":\"1588\",\"type\":\"ColumnDataSource\"},{\"attributes\":{},\"id\":\"1594\",\"type\":\"BasicTickFormatter\"},{\"attributes\":{\"data_source\":{\"id\":\"1605\"},\"glyph\":{\"id\":\"1606\"},\"hover_glyph\":null,\"muted_glyph\":null,\"nonselection_glyph\":{\"id\":\"1607\"},\"view\":{\"id\":\"1609\"}},\"id\":\"1608\",\"type\":\"GlyphRenderer\"},{\"attributes\":{\"text\":\"C02 Variation with time\"},\"id\":\"1556\",\"type\":\"Title\"},{\"attributes\":{\"line_alpha\":0.1,\"line_color\":\"orange\",\"line_width\":2.5,\"x\":{\"field\":\"x\"},\"y\":{\"field\":\"y\"}},\"id\":\"1607\",\"type\":\"Line\"},{\"attributes\":{\"axis\":{\"id\":\"1570\"},\"dimension\":1,\"ticker\":null},\"id\":\"1573\",\"type\":\"Grid\"},{\"attributes\":{\"fill_alpha\":{\"value\":0.1},\"fill_color\":{\"value\":\"orange\"},\"line_alpha\":{\"value\":0.1},\"line_color\":{\"value\":\"navy\"},\"size\":{\"value\":2},\"x\":{\"field\":\"x\"},\"y\":{\"field\":\"y\"}},\"id\":\"1590\",\"type\":\"Scatter\"},{\"attributes\":{},\"id\":\"1619\",\"type\":\"Selection\"},{\"attributes\":{\"source\":{\"id\":\"1605\"}},\"id\":\"1609\",\"type\":\"CDSView\"},{\"attributes\":{},\"id\":\"1597\",\"type\":\"BasicTickFormatter\"},{\"attributes\":{\"source\":{\"id\":\"1588\"}},\"id\":\"1592\",\"type\":\"CDSView\"},{\"attributes\":{\"line_color\":\"orange\",\"line_width\":2.5,\"x\":{\"field\":\"x\"},\"y\":{\"field\":\"y\"}},\"id\":\"1606\",\"type\":\"Line\"},{\"attributes\":{},\"id\":\"1596\",\"type\":\"AllLabels\"},{\"attributes\":{},\"id\":\"1560\",\"type\":\"DataRange1d\"},{\"attributes\":{},\"id\":\"1620\",\"type\":\"UnionRenderers\"},{\"attributes\":{},\"id\":\"1574\",\"type\":\"PanTool\"},{\"attributes\":{\"data_source\":{\"id\":\"1588\"},\"glyph\":{\"id\":\"1589\"},\"hover_glyph\":null,\"muted_glyph\":null,\"nonselection_glyph\":{\"id\":\"1590\"},\"view\":{\"id\":\"1592\"}},\"id\":\"1591\",\"type\":\"GlyphRenderer\"},{\"attributes\":{},\"id\":\"1562\",\"type\":\"LinearScale\"},{\"attributes\":{\"label\":{\"value\":\"Linear Model Predictions\"},\"renderers\":[{\"id\":\"1608\"}]},\"id\":\"1622\",\"type\":\"LegendItem\"},{\"attributes\":{},\"id\":\"1575\",\"type\":\"WheelZoomTool\"},{\"attributes\":{\"overlay\":{\"id\":\"1580\"}},\"id\":\"1576\",\"type\":\"BoxZoomTool\"},{\"attributes\":{},\"id\":\"1577\",\"type\":\"SaveTool\"},{\"attributes\":{},\"id\":\"1578\",\"type\":\"ResetTool\"},{\"attributes\":{\"axis_label\":\"t_i\",\"formatter\":{\"id\":\"1594\"},\"major_label_policy\":{\"id\":\"1596\"},\"ticker\":{\"id\":\"1567\"}},\"id\":\"1566\",\"type\":\"LinearAxis\"},{\"attributes\":{},\"id\":\"1579\",\"type\":\"HelpTool\"},{\"attributes\":{\"fill_alpha\":{\"value\":0.5},\"fill_color\":{\"value\":\"orange\"},\"line_color\":{\"value\":\"navy\"},\"size\":{\"value\":2},\"x\":{\"field\":\"x\"},\"y\":{\"field\":\"y\"}},\"id\":\"1589\",\"type\":\"Scatter\"},{\"attributes\":{},\"id\":\"1601\",\"type\":\"UnionRenderers\"},{\"attributes\":{},\"id\":\"1558\",\"type\":\"DataRange1d\"},{\"attributes\":{\"active_multi\":null,\"tools\":[{\"id\":\"1574\"},{\"id\":\"1575\"},{\"id\":\"1576\"},{\"id\":\"1577\"},{\"id\":\"1578\"},{\"id\":\"1579\"}]},\"id\":\"1581\",\"type\":\"Toolbar\"},{\"attributes\":{\"bottom_units\":\"screen\",\"fill_alpha\":0.5,\"fill_color\":\"lightgrey\",\"left_units\":\"screen\",\"level\":\"overlay\",\"line_alpha\":1.0,\"line_color\":\"black\",\"line_dash\":[4,4],\"line_width\":2,\"right_units\":\"screen\",\"syncable\":false,\"top_units\":\"screen\"},\"id\":\"1580\",\"type\":\"BoxAnnotation\"},{\"attributes\":{},\"id\":\"1564\",\"type\":\"LinearScale\"},{\"attributes\":{},\"id\":\"1599\",\"type\":\"AllLabels\"}],\"root_ids\":[\"1555\"]},\"title\":\"Bokeh Application\",\"version\":\"2.3.1\"}};\n",
       "  var render_items = [{\"docid\":\"1eaa2915-ab72-49ee-af25-3e8239e324dc\",\"root_ids\":[\"1555\"],\"roots\":{\"1555\":\"a8c0e096-361d-46ad-ad95-dc8ba32c7217\"}}];\n",
       "  root.Bokeh.embed.embed_items_notebook(docs_json, render_items);\n",
       "\n",
       "  }\n",
       "  if (root.Bokeh !== undefined) {\n",
       "    embed_document(root);\n",
       "  } else {\n",
       "    var attempts = 0;\n",
       "    var timer = setInterval(function(root) {\n",
       "      if (root.Bokeh !== undefined) {\n",
       "        clearInterval(timer);\n",
       "        embed_document(root);\n",
       "      } else {\n",
       "        attempts++;\n",
       "        if (attempts > 100) {\n",
       "          clearInterval(timer);\n",
       "          console.log(\"Bokeh: ERROR: Unable to run BokehJS code because BokehJS library is missing\");\n",
       "        }\n",
       "      }\n",
       "    }, 10, root)\n",
       "  }\n",
       "})(window);"
      ],
      "application/vnd.bokehjs_exec.v0+json": ""
     },
     "metadata": {
      "application/vnd.bokehjs_exec.v0+json": {
       "id": "1555"
      }
     },
     "output_type": "display_data"
    },
    {
     "name": "stdout",
     "output_type": "stream",
     "text": [
      "RMSE on test data: 10.641458521874688\n",
      "MAPE on test data: 2.450454956443147\n"
     ]
    }
   ],
   "source": [
    "linear_test = model.predict(np.array(x_test).reshape(-1, 1))\n",
    "p = figure(plot_width=400, plot_height=400, title = \"C02 Variation with time\")\n",
    "p.scatter(x_test,y_test,size=2, line_color=\"navy\", fill_color=\"orange\", fill_alpha=0.5, legend_label =\"Test Data\")\n",
    "p.line(x_test,linear_test, line_color=\"orange\",line_width=2.5,legend_label =\"Linear Model Predictions\")\n",
    "p.xaxis.axis_label ='t_i'\n",
    "p.yaxis.axis_label ='CO2 Concentration'\n",
    "p.legend.location = \"top_left\"\n",
    "show(p)\n",
    "rmse_linear = (mean_squared_error(y_test, linear_test,squared=False))\n",
    "print(\"RMSE on test data: \" + str(rmse_linear))\n",
    "mape_linear = mean_absolute_percentage_error(y_test, linear_test)\n",
    "print(\"MAPE on test data: \" + str(mape_linear))"
   ]
  },
  {
   "cell_type": "markdown",
   "metadata": {},
   "source": [
    "We now fit a quadratic and cubic model to this data and try to find the residuals and rmse of these models"
   ]
  },
  {
   "cell_type": "code",
   "execution_count": 10,
   "metadata": {},
   "outputs": [
    {
     "data": {
      "text/html": [
       "\n",
       "\n",
       "\n",
       "\n",
       "\n",
       "\n",
       "  <div class=\"bk-root\" id=\"8438d8fb-4379-44dd-9b9f-809d2cf6774b\" data-root-id=\"1739\"></div>\n"
      ]
     },
     "metadata": {},
     "output_type": "display_data"
    },
    {
     "data": {
      "application/javascript": [
       "(function(root) {\n",
       "  function embed_document(root) {\n",
       "    \n",
       "  var docs_json = {\"c73b60c9-4c94-4c16-9369-d2df80af6f1d\":{\"defs\":[],\"roots\":{\"references\":[{\"attributes\":{\"below\":[{\"id\":\"1750\"}],\"center\":[{\"id\":\"1753\"},{\"id\":\"1757\"},{\"id\":\"1787\"}],\"height\":400,\"left\":[{\"id\":\"1754\"}],\"renderers\":[{\"id\":\"1775\"},{\"id\":\"1792\"},{\"id\":\"1810\"}],\"title\":{\"id\":\"1740\"},\"toolbar\":{\"id\":\"1765\"},\"width\":400,\"x_range\":{\"id\":\"1742\"},\"x_scale\":{\"id\":\"1746\"},\"y_range\":{\"id\":\"1744\"},\"y_scale\":{\"id\":\"1748\"}},\"id\":\"1739\",\"subtype\":\"Figure\",\"type\":\"Plot\"},{\"attributes\":{\"line_color\":\"blue\",\"line_width\":2.5,\"x\":{\"field\":\"x\"},\"y\":{\"field\":\"y\"}},\"id\":\"1790\",\"type\":\"Line\"},{\"attributes\":{},\"id\":\"1742\",\"type\":\"DataRange1d\"},{\"attributes\":{\"label\":{\"value\":\"Quadratic Fit\"},\"renderers\":[{\"id\":\"1792\"}]},\"id\":\"1806\",\"type\":\"LegendItem\"},{\"attributes\":{},\"id\":\"1778\",\"type\":\"BasicTickFormatter\"},{\"attributes\":{},\"id\":\"1744\",\"type\":\"DataRange1d\"},{\"attributes\":{\"active_multi\":null,\"tools\":[{\"id\":\"1758\"},{\"id\":\"1759\"},{\"id\":\"1760\"},{\"id\":\"1761\"},{\"id\":\"1762\"},{\"id\":\"1763\"}]},\"id\":\"1765\",\"type\":\"Toolbar\"},{\"attributes\":{\"bottom_units\":\"screen\",\"fill_alpha\":0.5,\"fill_color\":\"lightgrey\",\"left_units\":\"screen\",\"level\":\"overlay\",\"line_alpha\":1.0,\"line_color\":\"black\",\"line_dash\":[4,4],\"line_width\":2,\"right_units\":\"screen\",\"syncable\":false,\"top_units\":\"screen\"},\"id\":\"1764\",\"type\":\"BoxAnnotation\"},{\"attributes\":{},\"id\":\"1746\",\"type\":\"LinearScale\"},{\"attributes\":{\"data_source\":{\"id\":\"1807\"},\"glyph\":{\"id\":\"1808\"},\"hover_glyph\":null,\"muted_glyph\":null,\"nonselection_glyph\":{\"id\":\"1809\"},\"view\":{\"id\":\"1811\"}},\"id\":\"1810\",\"type\":\"GlyphRenderer\"},{\"attributes\":{},\"id\":\"1748\",\"type\":\"LinearScale\"},{\"attributes\":{\"line_alpha\":0.1,\"line_color\":\"olive\",\"line_width\":2.5,\"x\":{\"field\":\"x\"},\"y\":{\"field\":\"y\"}},\"id\":\"1809\",\"type\":\"Line\"},{\"attributes\":{\"axis_label\":\"t_i\",\"formatter\":{\"id\":\"1778\"},\"major_label_policy\":{\"id\":\"1780\"},\"ticker\":{\"id\":\"1751\"}},\"id\":\"1750\",\"type\":\"LinearAxis\"},{\"attributes\":{},\"id\":\"1823\",\"type\":\"Selection\"},{\"attributes\":{\"data_source\":{\"id\":\"1772\"},\"glyph\":{\"id\":\"1773\"},\"hover_glyph\":null,\"muted_glyph\":null,\"nonselection_glyph\":{\"id\":\"1774\"},\"view\":{\"id\":\"1776\"}},\"id\":\"1775\",\"type\":\"GlyphRenderer\"},{\"attributes\":{\"source\":{\"id\":\"1807\"}},\"id\":\"1811\",\"type\":\"CDSView\"},{\"attributes\":{\"source\":{\"id\":\"1772\"}},\"id\":\"1776\",\"type\":\"CDSView\"},{\"attributes\":{},\"id\":\"1751\",\"type\":\"BasicTicker\"},{\"attributes\":{},\"id\":\"1780\",\"type\":\"AllLabels\"},{\"attributes\":{\"axis\":{\"id\":\"1750\"},\"ticker\":null},\"id\":\"1753\",\"type\":\"Grid\"},{\"attributes\":{\"line_color\":\"olive\",\"line_width\":2.5,\"x\":{\"field\":\"x\"},\"y\":{\"field\":\"y\"}},\"id\":\"1808\",\"type\":\"Line\"},{\"attributes\":{},\"id\":\"1781\",\"type\":\"BasicTickFormatter\"},{\"attributes\":{\"axis_label\":\"CO2 Concentration\",\"formatter\":{\"id\":\"1781\"},\"major_label_policy\":{\"id\":\"1783\"},\"ticker\":{\"id\":\"1755\"}},\"id\":\"1754\",\"type\":\"LinearAxis\"},{\"attributes\":{},\"id\":\"1824\",\"type\":\"UnionRenderers\"},{\"attributes\":{},\"id\":\"1783\",\"type\":\"AllLabels\"},{\"attributes\":{},\"id\":\"1755\",\"type\":\"BasicTicker\"},{\"attributes\":{\"label\":{\"value\":\"Cubic Fit\"},\"renderers\":[{\"id\":\"1810\"}]},\"id\":\"1826\",\"type\":\"LegendItem\"},{\"attributes\":{},\"id\":\"1784\",\"type\":\"Selection\"},{\"attributes\":{\"axis\":{\"id\":\"1754\"},\"dimension\":1,\"ticker\":null},\"id\":\"1757\",\"type\":\"Grid\"},{\"attributes\":{},\"id\":\"1785\",\"type\":\"UnionRenderers\"},{\"attributes\":{\"fill_alpha\":{\"value\":0.5},\"fill_color\":{\"value\":\"orange\"},\"line_color\":{\"value\":\"red\"},\"size\":{\"value\":2},\"x\":{\"field\":\"x\"},\"y\":{\"field\":\"y\"}},\"id\":\"1773\",\"type\":\"Scatter\"},{\"attributes\":{\"fill_alpha\":{\"value\":0.1},\"fill_color\":{\"value\":\"orange\"},\"line_alpha\":{\"value\":0.1},\"line_color\":{\"value\":\"red\"},\"size\":{\"value\":2},\"x\":{\"field\":\"x\"},\"y\":{\"field\":\"y\"}},\"id\":\"1774\",\"type\":\"Scatter\"},{\"attributes\":{\"items\":[{\"id\":\"1788\"},{\"id\":\"1806\"},{\"id\":\"1826\"}],\"location\":\"top_left\"},\"id\":\"1787\",\"type\":\"Legend\"},{\"attributes\":{\"data\":{\"x\":[0.20833333333333334,0.2916666666666667,0.375,0.5416666666666666,0.625,0.7083333333333334,0.875,0.9583333333333334,1.0416666666666667,1.125,1.2083333333333333,1.2916666666666667,1.375,1.4583333333333333,1.5416666666666667,1.625,1.7083333333333333,1.7916666666666667,1.875,1.9583333333333333,2.0416666666666665,2.125,2.2083333333333335,2.2916666666666665,2.375,2.4583333333333335,2.5416666666666665,2.625,2.7083333333333335,2.7916666666666665,2.875,2.9583333333333335,3.0416666666666665,3.125,3.2083333333333335,3.2916666666666665,3.375,3.4583333333333335,3.5416666666666665,3.625,3.7083333333333335,3.7916666666666665,3.875,3.9583333333333335,4.041666666666667,4.125,4.208333333333333,4.291666666666667,4.375,4.458333333333333,4.541666666666667,4.625,4.708333333333333,4.791666666666667,4.875,4.958333333333333,5.041666666666667,5.125,5.208333333333333,5.291666666666667,5.375,5.458333333333333,5.541666666666667,5.625,5.708333333333333,5.791666666666667,5.875,5.958333333333333,6.041666666666667,6.375,6.458333333333333,6.541666666666667,6.625,6.708333333333333,6.791666666666667,6.875,6.958333333333333,7.041666666666667,7.125,7.208333333333333,7.291666666666667,7.375,7.458333333333333,7.541666666666667,7.625,7.708333333333333,7.791666666666667,7.875,7.958333333333333,8.041666666666666,8.125,8.208333333333334,8.291666666666666,8.375,8.458333333333334,8.541666666666666,8.625,8.708333333333334,8.791666666666666,8.875,8.958333333333334,9.041666666666666,9.125,9.208333333333334,9.291666666666666,9.375,9.458333333333334,9.541666666666666,9.625,9.708333333333334,9.791666666666666,9.875,9.958333333333334,10.041666666666666,10.125,10.208333333333334,10.291666666666666,10.375,10.458333333333334,10.541666666666666,10.625,10.708333333333334,10.791666666666666,10.875,10.958333333333334,11.041666666666666,11.125,11.208333333333334,11.291666666666666,11.375,11.458333333333334,11.541666666666666,11.625,11.708333333333334,11.791666666666666,11.875,11.958333333333334,12.041666666666666,12.125,12.208333333333334,12.291666666666666,12.375,12.458333333333334,12.541666666666666,12.625,12.708333333333334,12.791666666666666,12.875,12.958333333333334,13.041666666666666,13.125,13.208333333333334,13.291666666666666,13.375,13.458333333333334,13.541666666666666,13.625,13.708333333333334,13.791666666666666,13.875,13.958333333333334,14.041666666666666,14.125,14.208333333333334,14.291666666666666,14.375,14.458333333333334,14.541666666666666,14.625,14.708333333333334,14.791666666666666,14.875,14.958333333333334,15.041666666666666,15.125,15.208333333333334,15.291666666666666,15.375,15.458333333333334,15.541666666666666,15.625,15.708333333333334,15.791666666666666,15.875,15.958333333333334,16.041666666666668,16.125,16.208333333333332,16.291666666666668,16.375,16.458333333333332,16.541666666666668,16.625,16.708333333333332,16.791666666666668,16.875,16.958333333333332,17.041666666666668,17.125,17.208333333333332,17.291666666666668,17.375,17.458333333333332,17.541666666666668,17.625,17.708333333333332,17.791666666666668,17.875,17.958333333333332,18.041666666666668,18.125,18.208333333333332,18.291666666666668,18.375,18.458333333333332,18.541666666666668,18.625,18.708333333333332,18.791666666666668,18.875,18.958333333333332,19.041666666666668,19.125,19.208333333333332,19.291666666666668,19.375,19.458333333333332,19.541666666666668,19.625,19.708333333333332,19.791666666666668,19.875,19.958333333333332,20.041666666666668,20.125,20.208333333333332,20.291666666666668,20.375,20.458333333333332,20.541666666666668,20.625,20.708333333333332,20.791666666666668,20.875,20.958333333333332,21.041666666666668,21.125,21.208333333333332,21.291666666666668,21.375,21.458333333333332,21.541666666666668,21.625,21.708333333333332,21.791666666666668,21.875,21.958333333333332,22.041666666666668,22.125,22.208333333333332,22.291666666666668,22.375,22.458333333333332,22.541666666666668,22.625,22.708333333333332,22.791666666666668,22.875,22.958333333333332,23.041666666666668,23.125,23.208333333333332,23.291666666666668,23.375,23.458333333333332,23.541666666666668,23.625,23.708333333333332,23.791666666666668,23.875,23.958333333333332,24.041666666666668,24.125,24.208333333333332,24.291666666666668,24.375,24.458333333333332,24.541666666666668,24.625,24.708333333333332,24.791666666666668,24.875,24.958333333333332,25.041666666666668,25.125,25.208333333333332,25.291666666666668,25.375,25.458333333333332,25.541666666666668,25.625,25.708333333333332,25.791666666666668,25.875,25.958333333333332,26.041666666666668,26.125,26.208333333333332,26.291666666666668,26.375,26.458333333333332,26.541666666666668,26.625,26.708333333333332,26.791666666666668,26.875,26.958333333333332,27.041666666666668,27.125,27.208333333333332,27.291666666666668,27.375,27.458333333333332,27.541666666666668,27.625,27.708333333333332,27.791666666666668,27.875,27.958333333333332,28.041666666666668,28.125,28.208333333333332,28.291666666666668,28.375,28.458333333333332,28.541666666666668,28.625,28.708333333333332,28.791666666666668,28.875,28.958333333333332,29.041666666666668,29.125,29.208333333333332,29.291666666666668,29.375,29.458333333333332,29.541666666666668,29.625,29.708333333333332,29.791666666666668,29.875,29.958333333333332,30.041666666666668,30.125,30.208333333333332,30.291666666666668,30.375,30.458333333333332,30.541666666666668,30.625,30.708333333333332,30.791666666666668,30.875,30.958333333333332,31.041666666666668,31.125,31.208333333333332,31.291666666666668,31.375,31.458333333333332,31.541666666666668,31.625,31.708333333333332,31.791666666666668,31.875,31.958333333333332,32.041666666666664,32.125,32.208333333333336,32.291666666666664,32.375,32.458333333333336,32.541666666666664,32.625,32.708333333333336,32.791666666666664,32.875,32.958333333333336,33.041666666666664,33.125,33.208333333333336,33.291666666666664,33.375,33.458333333333336,33.541666666666664,33.625,33.708333333333336,33.791666666666664,33.875,33.958333333333336,34.041666666666664,34.125,34.208333333333336,34.291666666666664,34.375,34.458333333333336,34.541666666666664,34.625,34.708333333333336,34.791666666666664,34.875,34.958333333333336,35.041666666666664,35.125,35.208333333333336,35.291666666666664,35.375,35.458333333333336,35.541666666666664,35.625,35.708333333333336,35.791666666666664,35.875,35.958333333333336,36.041666666666664,36.125,36.208333333333336,36.291666666666664,36.375,36.458333333333336,36.541666666666664,36.625,36.708333333333336,36.791666666666664,36.875,36.958333333333336,37.041666666666664,37.125,37.208333333333336,37.291666666666664,37.375,37.458333333333336,37.541666666666664,37.625,37.708333333333336,37.791666666666664,37.875,37.958333333333336,38.041666666666664,38.125,38.208333333333336,38.291666666666664,38.375,38.458333333333336,38.541666666666664,38.625,38.708333333333336,38.791666666666664,38.875,38.958333333333336,39.041666666666664,39.125,39.208333333333336,39.291666666666664,39.375,39.458333333333336,39.541666666666664,39.625,39.708333333333336,39.791666666666664,39.875,39.958333333333336,40.041666666666664,40.125,40.208333333333336,40.291666666666664,40.375,40.458333333333336,40.541666666666664,40.625,40.708333333333336,40.791666666666664,40.875,40.958333333333336,41.041666666666664,41.125,41.208333333333336,41.291666666666664,41.375,41.458333333333336,41.541666666666664,41.625,41.708333333333336,41.791666666666664,41.875,41.958333333333336,42.041666666666664,42.125,42.208333333333336,42.291666666666664,42.375,42.458333333333336,42.541666666666664,42.625,42.708333333333336,42.791666666666664,42.875,42.958333333333336,43.041666666666664,43.125,43.208333333333336,43.291666666666664,43.375,43.458333333333336,43.541666666666664,43.625,43.708333333333336,43.791666666666664,43.875,43.958333333333336,44.041666666666664,44.125,44.208333333333336,44.291666666666664,44.375,44.458333333333336,44.541666666666664,44.625,44.708333333333336,44.791666666666664,44.875,44.958333333333336,45.041666666666664,45.125,45.208333333333336,45.291666666666664,45.375,45.458333333333336,45.541666666666664,45.625,45.708333333333336,45.791666666666664,45.875,45.958333333333336,46.041666666666664,46.125,46.208333333333336,46.291666666666664,46.375,46.458333333333336,46.541666666666664,46.625,46.708333333333336,46.791666666666664,46.875,46.958333333333336,47.041666666666664,47.125,47.208333333333336,47.291666666666664,47.375,47.458333333333336,47.541666666666664,47.625,47.708333333333336,47.791666666666664,47.875,47.958333333333336,48.041666666666664,48.125,48.208333333333336,48.291666666666664,48.375,48.458333333333336,48.541666666666664,48.625,48.708333333333336,48.791666666666664,48.875,48.958333333333336,49.041666666666664,49.125,49.208333333333336,49.291666666666664,49.375,49.458333333333336],\"y\":{\"__ndarray__\":\"/NFpmkqkc0BmZSR0XqVzQANJWP5ypnNA2gAsJJ6oc0AT1cu/tKlzQID55AvMqnNA9jKDtfysc0D/RwgTFq5zQDytBiEwr3NArGJ+30qwc0BRaG9OZrFzQCm+2W2CsnNANmS9PZ+zc0B2Whq+vLRzQOug8O7atXNAkzdA0Pm2c0BvHgliGbhzQH9VS6Q5uXNAw9wGl1q6c0A7tDs6fLtzQOfb6Y2evHNAx1MRksG9c0DaG7JG5b5zQCI0zKsJwHNAnZxfwS7Bc0BNVWyHVMJzQDBe8v16w3NASLfxJKLEc0CTYGr8ycVzQBJaXITyxnNAxaPHvBvIc0CsPaylRclzQMcnCj9wynNAFmLhiJvLc0CZ7DGDx8xzQE/H+y30zXNAOvI+iSHPc0BYbfuUT9BzQKs4MVF+0XNAMVTgva3Sc0Dsvwjb3dNzQNp7qqgO1XNA/IfFJkDWc0BS5FlVctdzQNyQZzSl2HNAmo3uw9jZc0CM2u4DDdtzQLJ3aPRB3HNAC2VblXfdc0CZosfmrd5zQFswrejk33NAUA4Mmxzhc0B6POT9VOJzQNe6NRGO43NAaIkA1cfkc0AtqERJAuZzQCYXAm4953NAU9Y4Q3noc0C05ejItelzQElFEv/y6nNAEvW05TDsc0AP9dB8b+1zQD9FZsSu7nNApOV0vO7vc0A81vxkL/FzQAkX/r1w8nNACah4x7Lzc0A9iWyB9fRzQKa62es49nNATqJLek37c0C5ZBdXlPxzQFl3XOTb/XNALdoaIiT/c0A0jVIQbQB0QHCQA6+2AXRA3+Mt/gADdECDh9H9SwR0QFp77q2XBXRAZb+EDuQGdECkU5QfMQh0QBc4HeF+CXRAvmwfU80KdECZ8Zp1HAx0QKjGj0hsDXRA6+v9y7wOdEBhYeX/DRB0QAwnRuRfEXRA6jwgebISdED9onO+BRR0QENZQLRZFXRAvV+GWq4WdEBstkWxAxh0QE5dfrhZGXRAZFQwcLAadECum1vYBxx0QCwzAPFfHXRA3RoeurgedEDDUrUzEiB0QN3axV1sIXRAKrNPOMcidECs21LDIiR0QGFUz/5+JXRASx3F6tsmdEBoNjSHOSh0QLmfHNSXKXRAPll+0fYqdED3Yll/Vix0QOS8rd22LXRABWd77BcvdEBaYcKreTB0QOOrghvcMXRAn0a8Oz8zdECQMW8MozR0QLRsm40HNnRADfhAv2w3dECZ01+h0jh0QFr/9zM5OnRATnsJd6A7dEB2R5RqCD10QNJjmA5xPnRAYtAVY9o/dEAmjQxoREF0QB6afB2vQnRASfdlgxpEdECppMiZhkV0QD2ipGDzRnRABPD512BIdEAAjsj/zkl0QC98ENg9S3RAkrrRYK1MdEAqSQyaHU50QPUnwIOOT3RA9FbtHQBRdEAn1pNoclJ0QI6ls2PlU3RAKcVMD1lVdED3NF9rzVZ0QPr06ndCWHRAMQXwNLhZdECbZW6iLlt0QDoWZsClXHRADBfXjh1edEASaMENll90QEwJJT0PYXRAu/oBHYlidEBdPFitA2R0QDPOJ+5+ZXRAPbBw3/pmdEB64jKBd2h0QOxkbtP0aXRAkjcj1nJrdEBsWlGJ8Wx0QHnN+OxwbnRAupAZAfFvdEAwpLPFcXF0QNkHxzrzcnRAtrtTYHV0dEDIv1k2+HV0QA0U2bx7d3RAhrjR8/94dEAzrUPbhHp0QBPyLnMKfHRAKIeTu5B9dEBxbHG0F390QO6hyF2fgHRAnieZtyeCdECD/eLBsIN0QJsjpnw6hXRA55ni58SGdEBoYJgDUIh0QBx3x8/biXRABN5vTGiLdEAglZF59Yx0QHCcLFeDjnRA9PNA5RGQdECrm84joZF0QJeT1RIxk3RAt9tVssGUdEAKdE8CU5Z0QJJcwgLll3RATZWus3eZdEA8HhQVC5t0QGD38iafnHRAtyBL6TOedEBCmhxcyZ90QAFkZ39foXRA9H0rU/aidEAb6GjXjaR0QHaiHwwmpnRABK1P8b6ndEDHB/mGWKl0QL2yG83yqnRA6K23w42sdEBG+cxqKa50QNmUW8LFr3RAn4BjymKxdECZvOSCALN0QMdI3+uetHRAKSVTBT62dEC/UUDP3bd0QInOpkl+uXRAh5uGdB+7dEC4uN9Pwbx0QB4msttjvnRAuOP9FwfAdECF8cIEq8F0QIdPAaJPw3RAvP247/TEdEAl/OntmsZ0QMJKlJxByHRAlOm3++jJdECY2FQLkct0QNIXa8s5zXRAPqf6O+POdEDfhgNdjdB0QLS2hS440nRAvDaBsOPTdED5Bvbij9V0QGon5MU813RADphLWerYdEDmWCydmNp0QPNphpFH3HRAM8tZNvfddECnfKaLp990QE9+bJFY4XRAK9CrRwrjdEA7cmSuvOR0QH9klsVv5nRA9qZBjSPodECiOWYF2Ol0QIIcBC6N63RAlU8bB0PtdEDc0quQ+e50QFimtcqw8HRAB8o4tWjydEDqPTVQIfR0QAICq5va9XRATBaal5T3dEDLegJET/l0QH4v5KAK+3RAZTQ/rsb8dECAiRNsg/50QM8uYdpAAHVAUSQo+f4BdUAIamjIvQN1QPL/IUh9BXVAEOZUeD0HdUBjHAFZ/gh1QOmiJuq/CnVAo3nFK4IMdUCRoN0dRQ51QLMXb8AIEHVACd95E80RdUCT9v0WkhN1QFFe+8pXFXVAQhZyLx4XdUBoHmJE5Rh1QMF2ywmtGnVATx+uf3UcdUAQGAqmPh51QAZh33wIIHVAL/otBNMhdUCM4/U7niN1QB0dNyRqJXVA4qbxvDYndUDbgCUGBCl1QAir0v/RKnVAaCX5qaAsdUD975gEcC51QMYKsg9AMHVAwnVEyxAydUDzMFA34jN1QFc81VO0NXVA75fTIIc3dUC7Q0ueWjl1QLw/PMwuO3VA8IumqgM9dUBYKIo52T51QPQU53ivQHVAw1G9aIZCdUDH3gwJXkR1QP+71Vk2RnVAaukXWw9IdUAKZ9MM6Ul1QN40CG/DS3VA5VK2gZ5NdUAgwd1Eek91QI9/frhWUXVAMo6Y3DNTdUAK7SuxEVV1QBWcODbwVnVAVJu+a89YdUDG6r1Rr1p1QG2KNuiPXHVASHooL3FedUBWupMmU2B1QJlKeM41YnVADyvWJhlkdUC6W60v/WV1QJjc/ejhZ3VAqq3HUsdpdUDwzgptrWt1QGtAxzeUbXVAGQL9sntvdUD6E6zeY3F1QBB21LpMc3VAWih2RzZ1dUDYKpGEIHd1QIp9JXILeXVAbyAzEPd6dUCIE7pe43x1QNZWul3QfnVAV+ozDb6AdUAMziZtrIJ1QPYBk32bhHVAE4Z4PouGdUBkWteve4h1QOl+r9FsinVAovMApF6MdUCOuMsmUY51QK/ND1pEkHVABDPNPTiSdUCM6APSLJR1QEnusxYilnVAOUTdCxiYdUBd6n+xDpp1QLbgmwcGnHVAQicxDv6ddUACvj/F9p91QPakxyzwoXVAHtzIROqjdUB6Y0MN5aV1QAo7N4bgp3VAzWKkr9ypdUDF2oqJ2at1QPCi6hPXrXVAULvDTtWvdUDjIxY61LF1QKvc4dXTs3VApuUmItS1dUDVPuUe1bd1QDjoHMzWuXVAz+HNKdm7dUCaK/g33L11QJnFm/bfv3VAzK+4ZeTBdUAy6k6F6cN1QM10XlXvxXVAnE/n1fXHdUCeeukG/cl1QNX1ZOgEzHVAP8FZeg3OdUDd3Me8FtB1QK9Ir68g0nVAtgQQUyvUdUDwEOqmNtZ1QF5tPatC2HVA/xkKYE/adUDVFlDFXNx1QN9jD9tq3nVAHAFIoXngdUCO7vkXieJ1QDQsJT+Z5HVADbrJFqrmdUAamOeeu+h1QFzGftfN6nVA0USPwODsdUB6Exla9O51QFcyHKQI8XVAaKGYnh3zdUCtYI5JM/V1QCZw/aRJ93VA0s/lsGD5dUCzf0dtePt1QMh/ItqQ/XVAENB296n/dUCMcETFwwF2QD1hi0PeA3ZAIaJLcvkFdkA6M4VRFQh2QIYUOOExCnZABkZkIU8MdkC6xwkSbQ52QKGZKLOLEHZAvbvABKsSdkANLtIGyxR2QJHwXLnrFnZASANhHA0ZdkA0Zt4vLxt2QFMZ1fNRHXZAphxFaHUfdkAucC6NmSF2QOkTkWK+I3ZA2Adt6OMldkD7S8IeCih2QFLgkAUxKnZA3cTYnFgsdkCc+ZnkgC52QI9+1NypMHZAtVOIhdMydkAQebXe/TR2QJ7uW+goN3ZAYbR7olQ5dkBXyhQNgTt2QIIwJyiuPXZA4Oay89s/dkBy7bdvCkJ2QDhENpw5RHZAMusteWlGdkBg4p4Gmkh2QMIpiUTLSnZAWMHsMv1MdkAhqcnRL092QB/hHyFjUXZAUGnvIJdTdkC2QTjRy1V2QE9q+jEBWHZAHOM1QzdadkAerOoEblx2QFPFGHelXnZAvC7Amd1gdkBZ6OBsFmN2QCryevBPZXZALkyOJIpndkBn9hoJxWl2QNTwIJ4AbHZAdTug4zxudkBJ1pjZeXB2QFLBCoC3cnZAjvz11vV0dkD+h1reNHd2QKJjOJZ0eXZAe4+P/rR7dkCHC2AX9n12QMfXqeA3gHZAO/RsWnqCdkDjYKmEvYR2QL4dX18Bh3ZAziqO6kWJdkASiDYmi4t2QIk1WBLRjXZANDPzrheQdkAUgQf8XpJ2QCcflfmmlHZAbg2cp++WdkDqSxwGOZl2QJnaFRWDm3ZAfLmI1M2ddkCT6HREGaB2QN5n2mRlonZAXDe5NbKkdkAPVxG3/6Z2QPbG4uhNqXZAEIcty5yrdkBfl/Fd7K12QOH3LqE8sHZAl6jllI2ydkCCqRU537R2QKD6vo0xt3ZA8pvhkoS5dkB4jX1I2Lt2QDLPkq4svnZAIGEhxYHAdkBCQymM18J2QJd1qgMuxXZAIfikK4XHdkDeyhgE3cl2QNDtBY01zHZA9WBsxo7OdkBPJEyw6NB2QNw3pUpD03ZAnZt3lZ7VdkCST8OQ+td2QLtTiDxX2nZAGKjGmLTcdkCpTH6lEt92QG5Br2Jx4XZAZoZZ0NDjdkCTG33uMOZ2QPQAGr2R6HZAiDYwPPPqdkBQvL9rVe12QE2SyEu473ZAfbhK3BvydkDhLkYdgPR2QHn1ug7l9nZARQypsEr5dkBGcxADsft2QHkq8QUY/nZA4TFLuX8Ad0B9iR4d6AJ3QEwxazFRBXdAUCkx9roHd0CIcXBrJQp3QPMJKZGQDHdAkvJaZ/wOd0BmKwbuaBF3QGy0KiXWE3dAqI3IDEQWd0AXt9+kshh3QLowcO0hG3dAkfp55pEdd0CcFP2PAiB3QNp++elzIndATTlv9OUkd0D0Q16vWCd3QM6exhrMKXdA3EmoNkAsd0AfRQMDtS53QJWQ138qMXdAPywlraAzd0AdGOyKFzZ3QC9ULBmPOHdAdeDlVwc7d0DvvBhHgD13QJ3pxOb5P3dAf2bqNnRCd0CUM4k370R3QN5QoehqR3dAXL4ySudJd0ANfD1cZEx3QPKJwR7iTndADOi+kWBRd0BZljW131N3QNqUJYlfVndAj+OODeBYd0B4gnFCYVt3QJVxzSfjXXdA5rCivWVgd0BqQPED6WJ3QCMgufpsZXdAEFD6ofFnd0Aw0LT5dmp3QISg6AH9bHdADcGVuoNvd0DJMbwjC3J3QLnyWz2TdHdA3gN1Bxx3d0A2ZQeCpXl3QMIWE60vfHdAgRiYiLp+d0B1apYURoF3QJ0MDlHSg3dA+f7+PV+Gd0CIQWnb7Ih3QEzUTCl7i3dAQ7epJwqOd0Bv6n/WmZB3QM5tzzUqk3dAYUGYRbuVd0AoZdoFTZh3QCPZlXbfmndAUp3Kl3Kdd0C1sXhpBqB3QEwWoOuaondAF8tAHjCld0AW0FoBxqd3QEgl7pRcqndArsr62POsd0BJwIDNi693QBgGgHIksndAGpz4x720d0BQgurNV7d3QLq4VYTyuXdAWD866428d0AqFpgCKr93QDA9b8rGwXdAarS/QmTEd0DYe4lrAsd3QHmTzEShyXdAT/uIzkDMd0BYs74I4c53QJa7bfOB0XdACBSWjiPUd0CtvDfaxdZ3QIa1UtZo2XdAk/7mggzcd0DUl/TfsN53QEmBe+1V4XdA8rp7q/vjd0DPRPUZouZ3QOAe6DhJ6XdAJElUCPHrd0CdwzmIme53QEqOmLhC8XdAKqlwmezzd0A+FMIql/Z3QA==\",\"dtype\":\"float64\",\"order\":\"little\",\"shape\":[587]}},\"selected\":{\"id\":\"1803\"},\"selection_policy\":{\"id\":\"1804\"}},\"id\":\"1789\",\"type\":\"ColumnDataSource\"},{\"attributes\":{\"label\":{\"value\":\"Original Data\"},\"renderers\":[{\"id\":\"1775\"}]},\"id\":\"1788\",\"type\":\"LegendItem\"},{\"attributes\":{},\"id\":\"1804\",\"type\":\"UnionRenderers\"},{\"attributes\":{},\"id\":\"1758\",\"type\":\"PanTool\"},{\"attributes\":{\"data\":{\"x\":[0.20833333333333334,0.2916666666666667,0.375,0.5416666666666666,0.625,0.7083333333333334,0.875,0.9583333333333334,1.0416666666666667,1.125,1.2083333333333333,1.2916666666666667,1.375,1.4583333333333333,1.5416666666666667,1.625,1.7083333333333333,1.7916666666666667,1.875,1.9583333333333333,2.0416666666666665,2.125,2.2083333333333335,2.2916666666666665,2.375,2.4583333333333335,2.5416666666666665,2.625,2.7083333333333335,2.7916666666666665,2.875,2.9583333333333335,3.0416666666666665,3.125,3.2083333333333335,3.2916666666666665,3.375,3.4583333333333335,3.5416666666666665,3.625,3.7083333333333335,3.7916666666666665,3.875,3.9583333333333335,4.041666666666667,4.125,4.208333333333333,4.291666666666667,4.375,4.458333333333333,4.541666666666667,4.625,4.708333333333333,4.791666666666667,4.875,4.958333333333333,5.041666666666667,5.125,5.208333333333333,5.291666666666667,5.375,5.458333333333333,5.541666666666667,5.625,5.708333333333333,5.791666666666667,5.875,5.958333333333333,6.041666666666667,6.375,6.458333333333333,6.541666666666667,6.625,6.708333333333333,6.791666666666667,6.875,6.958333333333333,7.041666666666667,7.125,7.208333333333333,7.291666666666667,7.375,7.458333333333333,7.541666666666667,7.625,7.708333333333333,7.791666666666667,7.875,7.958333333333333,8.041666666666666,8.125,8.208333333333334,8.291666666666666,8.375,8.458333333333334,8.541666666666666,8.625,8.708333333333334,8.791666666666666,8.875,8.958333333333334,9.041666666666666,9.125,9.208333333333334,9.291666666666666,9.375,9.458333333333334,9.541666666666666,9.625,9.708333333333334,9.791666666666666,9.875,9.958333333333334,10.041666666666666,10.125,10.208333333333334,10.291666666666666,10.375,10.458333333333334,10.541666666666666,10.625,10.708333333333334,10.791666666666666,10.875,10.958333333333334,11.041666666666666,11.125,11.208333333333334,11.291666666666666,11.375,11.458333333333334,11.541666666666666,11.625,11.708333333333334,11.791666666666666,11.875,11.958333333333334,12.041666666666666,12.125,12.208333333333334,12.291666666666666,12.375,12.458333333333334,12.541666666666666,12.625,12.708333333333334,12.791666666666666,12.875,12.958333333333334,13.041666666666666,13.125,13.208333333333334,13.291666666666666,13.375,13.458333333333334,13.541666666666666,13.625,13.708333333333334,13.791666666666666,13.875,13.958333333333334,14.041666666666666,14.125,14.208333333333334,14.291666666666666,14.375,14.458333333333334,14.541666666666666,14.625,14.708333333333334,14.791666666666666,14.875,14.958333333333334,15.041666666666666,15.125,15.208333333333334,15.291666666666666,15.375,15.458333333333334,15.541666666666666,15.625,15.708333333333334,15.791666666666666,15.875,15.958333333333334,16.041666666666668,16.125,16.208333333333332,16.291666666666668,16.375,16.458333333333332,16.541666666666668,16.625,16.708333333333332,16.791666666666668,16.875,16.958333333333332,17.041666666666668,17.125,17.208333333333332,17.291666666666668,17.375,17.458333333333332,17.541666666666668,17.625,17.708333333333332,17.791666666666668,17.875,17.958333333333332,18.041666666666668,18.125,18.208333333333332,18.291666666666668,18.375,18.458333333333332,18.541666666666668,18.625,18.708333333333332,18.791666666666668,18.875,18.958333333333332,19.041666666666668,19.125,19.208333333333332,19.291666666666668,19.375,19.458333333333332,19.541666666666668,19.625,19.708333333333332,19.791666666666668,19.875,19.958333333333332,20.041666666666668,20.125,20.208333333333332,20.291666666666668,20.375,20.458333333333332,20.541666666666668,20.625,20.708333333333332,20.791666666666668,20.875,20.958333333333332,21.041666666666668,21.125,21.208333333333332,21.291666666666668,21.375,21.458333333333332,21.541666666666668,21.625,21.708333333333332,21.791666666666668,21.875,21.958333333333332,22.041666666666668,22.125,22.208333333333332,22.291666666666668,22.375,22.458333333333332,22.541666666666668,22.625,22.708333333333332,22.791666666666668,22.875,22.958333333333332,23.041666666666668,23.125,23.208333333333332,23.291666666666668,23.375,23.458333333333332,23.541666666666668,23.625,23.708333333333332,23.791666666666668,23.875,23.958333333333332,24.041666666666668,24.125,24.208333333333332,24.291666666666668,24.375,24.458333333333332,24.541666666666668,24.625,24.708333333333332,24.791666666666668,24.875,24.958333333333332,25.041666666666668,25.125,25.208333333333332,25.291666666666668,25.375,25.458333333333332,25.541666666666668,25.625,25.708333333333332,25.791666666666668,25.875,25.958333333333332,26.041666666666668,26.125,26.208333333333332,26.291666666666668,26.375,26.458333333333332,26.541666666666668,26.625,26.708333333333332,26.791666666666668,26.875,26.958333333333332,27.041666666666668,27.125,27.208333333333332,27.291666666666668,27.375,27.458333333333332,27.541666666666668,27.625,27.708333333333332,27.791666666666668,27.875,27.958333333333332,28.041666666666668,28.125,28.208333333333332,28.291666666666668,28.375,28.458333333333332,28.541666666666668,28.625,28.708333333333332,28.791666666666668,28.875,28.958333333333332,29.041666666666668,29.125,29.208333333333332,29.291666666666668,29.375,29.458333333333332,29.541666666666668,29.625,29.708333333333332,29.791666666666668,29.875,29.958333333333332,30.041666666666668,30.125,30.208333333333332,30.291666666666668,30.375,30.458333333333332,30.541666666666668,30.625,30.708333333333332,30.791666666666668,30.875,30.958333333333332,31.041666666666668,31.125,31.208333333333332,31.291666666666668,31.375,31.458333333333332,31.541666666666668,31.625,31.708333333333332,31.791666666666668,31.875,31.958333333333332,32.041666666666664,32.125,32.208333333333336,32.291666666666664,32.375,32.458333333333336,32.541666666666664,32.625,32.708333333333336,32.791666666666664,32.875,32.958333333333336,33.041666666666664,33.125,33.208333333333336,33.291666666666664,33.375,33.458333333333336,33.541666666666664,33.625,33.708333333333336,33.791666666666664,33.875,33.958333333333336,34.041666666666664,34.125,34.208333333333336,34.291666666666664,34.375,34.458333333333336,34.541666666666664,34.625,34.708333333333336,34.791666666666664,34.875,34.958333333333336,35.041666666666664,35.125,35.208333333333336,35.291666666666664,35.375,35.458333333333336,35.541666666666664,35.625,35.708333333333336,35.791666666666664,35.875,35.958333333333336,36.041666666666664,36.125,36.208333333333336,36.291666666666664,36.375,36.458333333333336,36.541666666666664,36.625,36.708333333333336,36.791666666666664,36.875,36.958333333333336,37.041666666666664,37.125,37.208333333333336,37.291666666666664,37.375,37.458333333333336,37.541666666666664,37.625,37.708333333333336,37.791666666666664,37.875,37.958333333333336,38.041666666666664,38.125,38.208333333333336,38.291666666666664,38.375,38.458333333333336,38.541666666666664,38.625,38.708333333333336,38.791666666666664,38.875,38.958333333333336,39.041666666666664,39.125,39.208333333333336,39.291666666666664,39.375,39.458333333333336,39.541666666666664,39.625,39.708333333333336,39.791666666666664,39.875,39.958333333333336,40.041666666666664,40.125,40.208333333333336,40.291666666666664,40.375,40.458333333333336,40.541666666666664,40.625,40.708333333333336,40.791666666666664,40.875,40.958333333333336,41.041666666666664,41.125,41.208333333333336,41.291666666666664,41.375,41.458333333333336,41.541666666666664,41.625,41.708333333333336,41.791666666666664,41.875,41.958333333333336,42.041666666666664,42.125,42.208333333333336,42.291666666666664,42.375,42.458333333333336,42.541666666666664,42.625,42.708333333333336,42.791666666666664,42.875,42.958333333333336,43.041666666666664,43.125,43.208333333333336,43.291666666666664,43.375,43.458333333333336,43.541666666666664,43.625,43.708333333333336,43.791666666666664,43.875,43.958333333333336,44.041666666666664,44.125,44.208333333333336,44.291666666666664,44.375,44.458333333333336,44.541666666666664,44.625,44.708333333333336,44.791666666666664,44.875,44.958333333333336,45.041666666666664,45.125,45.208333333333336,45.291666666666664,45.375,45.458333333333336,45.541666666666664,45.625,45.708333333333336,45.791666666666664,45.875,45.958333333333336,46.041666666666664,46.125,46.208333333333336,46.291666666666664,46.375,46.458333333333336,46.541666666666664,46.625,46.708333333333336,46.791666666666664,46.875,46.958333333333336,47.041666666666664,47.125,47.208333333333336,47.291666666666664,47.375,47.458333333333336,47.541666666666664,47.625,47.708333333333336,47.791666666666664,47.875,47.958333333333336,48.041666666666664,48.125,48.208333333333336,48.291666666666664,48.375,48.458333333333336,48.541666666666664,48.625,48.708333333333336,48.791666666666664,48.875,48.958333333333336,49.041666666666664,49.125,49.208333333333336,49.291666666666664,49.375,49.458333333333336],\"y\":{\"__ndarray__\":\"ypAWfdWvc0DCxflarrBzQHl0kmiIsXNA4RorEUCzc0BygE6rHbRzQII7bnP8tHNA3o3pi722c0AJk2jbn7dzQHPJKleDuHNADOjB/me5c0DDpb/RTbpzQIm5tc80u3NATto1+By8c0ACv9FKBr1zQJQeG8fwvXNA9a+jbNy+c0AWKv06yb9zQOVDuTG3wHNAU7RpUKbBc0BQMqCWlsJzQMx07gOIw3NAtzLml3rEc0ACIxlSbsVzQJv8GDJjxnNAdHZ3N1nHc0B8R8ZhUMhzQKQml7BIyXNA28p7I0LKc0AR6wW6PMtzQDY+x3M4zHNAO3tRUDXNc0AQWTZPM85zQKSOB3Ayz3NA6NJWsjLQc0DL3LUVNNFzQD5jtpk20nNAMR3qPTrTc0CTweIBP9RzQFUHMuVE1XNAZ6Vp50vWc0C5UhsIVNdzQDvG2EZd2HNA3bYzo2fZc0CP270cc9pzQEDrCLN/23NA4pymZY3cc0Bkpyg0nN1zQLbBIB6s3nNAyaIgI73fc0CLAbpCz+BzQO6Ufnzi4XNA4RMA0Pbic0BVNdA8DORzQDmwgMIi5XNAfTujYDrmc0ASjskWU+dzQOdeheRs6HNA7WRoyYfpc0ATVwTFo+pzQErs6tbA63NAgtut/t7sc0Cr2947/u1zQLSjD44e73NAjurR9D/wc0ApZ7dvYvFzQHXQUf6F8nNAYd0yoKrzc0DfROxU0PRzQN69Dxz39XNAo5sk6Jz6c0A3JOQEyftzQOwHeDH2/HNAs/1xbST+c0B7vGO4U/9zQDX73hGEAHRAz3B1ebUBdEA81Lju5wJ0QGncOnEbBHRASUCNAFAFdEDJtkGchQZ0QNz26UO8B3RAcLcX9/MIdEB2r1y1LAp0QN2VSn5mC3RAliFzUaEMdECRCWgu3Q10QL4EuxQaD3RADcr9A1gQdEBuEML7lhF0QNCOmfvWEnRAJfwVAxgUdEBcD8kRWhV0QGR/RCedFnRALwMaQ+EXdECsUdtkJhl0QMshGoxsGnRAfSpouLMbdECxIlfp+xx0QFfBeB5FHnRAX71eV48fdEC6zZqT2iB0QFipvtImInRAJwdcFHQjdEAangRYwiR0QB8lSp0RJnRAJlO+42EndEAg3/Iqsyh0QP1/eXIFKnRArezjuVgrdEAf3MMArSx0QEUFq0YCLnRADR8ri1gvdEBo4NXNrzB0QEUAPQ4IMnRAljXyS2EzdEBKN4eGuzR0QFG8jb0WNnRAm3uX8HI3dEAYLDYf0Dh0QLiE+0guOnRAbDx5bY07dEAjCkGM7Tx0QM2k5KROPnRAWsP1trA/dEC7HAbCE0F0QN9np8V3QnRAtltrwdxDdEAyr+O0QkV0QEAZop+pRnRA0lA4gRFIdEDYDDhZekl0QEIEMyfkSnRA/+266k5MdEAAgWGjuk10QDV0uFAnT3RAjX5R8pRQdED6Vr6HA1J0QGq0kBBzU3RAzk1ajONUdEAW2qz6VFZ0QDIQGlvHV3RAE6czrTpZdECnVYvwrlp0QODSsiQkXHRArNU7SZpddED9FLhdEV90QMJHuWGJYHRA7CTRVAJidEBqY5E2fGN0QCy6iwb3ZHRAI+BRxHJmdEA+jHVv72d0QG11iAdtaXRAoVIcjOtqdEDK2sL8amx0QNfEDVnrbXRAuceOoGxvdEBgmtfS7nB0QLzzee9xcnRAvIoH9vVzdEBRFhLmenV0QGtNK78Ad3RA+ubkgId4dEDtmdAqD3p0QDYdgLyXe3RAxCeFNSF9dECHcHGVq350QG+u1ts2gHRAbJhGCMOBdEBu5VIaUIN0QGVMjRHehHRAQoSH7WyGdED0Q9Ot/Id0QGxCAlKNiXRAmDam2R6LdEBr11BEsYx0QNLbk5FEjnRAwPoAwdiPdEAi6ynSbZF0QOtjoMQDk3RACRz2l5qUdEBsyrxLMpZ0QAYmht/Kl3RAxeXjUmSZdECawGel/pp0QHVto9aZnHRARaMo5jWedED8GInT0p90QIiFVp5woXRA258iRg+jdEDjHn/KrqR0QJK5/SpPpnRA1iYwZ/CndEChHah+kql0QOJU93A1q3RAioOvPdmsdECHYGLkfa50QMuioWQjsHRARQH/vcmxdEDmMgzwcLN0QJ3uWvoYtXRAWut83MG2dEAO4AOWa7h0QKmDgSYWunRAGo2HjcG7dEBSs6fKbb10QECtc90av3RA1jF9xcjAdEAC+FWCd8J0QLS2jxMnxHRA3iS8eNfFdEBv+WyxiMd0QFbrM706yXRAhLGim+3KdEDqAktMocx0QHaWvs5VznRAGiOPIgvQdEDEX05HwdF0QGYDjjx403RA78TfATDVdEBPW9WW6NZ0QHd9APuh2HRAVuLyLVzadEDcQD4vF9x0QPlPdP7S3XRAnsYmm4/fdEC7W+cETeF0QD/GRzsL43RAGr3ZPcrkdEA+9y4MiuZ0QJgr2aVK6HRAGxFqCgzqdEC1XnM5zut0QFfLhjKR7XRA8Q029VTvdEBz3RKBGfF0QMzwrtXe8nRA7v6b8qT0dEDHvmvXa/Z0QEnnr4Mz+HRAYi/69vv5dEAETtwwxft0QB765zCP/XRAn+qu9ln/dEB51sKBJQF1QJx0tdHxAnVA9nsY5r4EdUB5o32+jAZ1QBWidlpbCHVAuC6VuSoKdUBVAGvb+gt1QNnNib/LDXVANk6DZZ0PdUBcOOnMbxF1QDtDTfVCE3VAwiVB3hYVdUDhllaH6xZ1QIpNH/DAGHVAqwAtGJcadUA1ZxH/bRx1QBg4XqRFHnVARCqlBx4gdUCo9Hco9yF1QDZOaAbRI3VA3e0HoasldUCNiuj3hid1QDbbmwpjKXVAyJaz2D8rdUAzdMFhHS11QGcqV6X7LnVAVXAGo9owdUDs/GBaujJ1QByH+MqaNHVA1sVe9Hs2dUAIcCXWXTh1QKU83m9AOnVAm+IawSM8dUDbGG3JBz51QFSWZojsP3VA9hGZ/dFBdUCzQpYouEN1QHnf7wifRXVAOZ83noZHdUDiOP/nbkl1QGZj2OVXS3VAs9VUl0FNdUC6Rgb8K091QGxtfhMXUXVAtwBP3QJTdUCMtwlZ71R1QNtIQIbcVnVAlGuEZMpYdUCo1mfzuFp1QAVBfDKoXHVAnWFTIZhedUBf736/iGB1QDyhkAx6YnVAIi4aCGxkdUAETa2xXmZ1QM+02whSaHVAdRw3DUZqdUDmOlG+Omx1QBHHuxswbnVA5ncIJSZwdUBXBMnZHHJ1QFIjjzkUdHVAx4vsQwx2dUCo9HL4BHh1QOMUtFb+eXVAaaNBXvh7dUAqV60O8311QBbniGfuf3VAHApmaOqBdUAud9YQ54N1QDvla2DkhXVAMwu4VuKHdUAGoEzz4Il1QKRauzXgi3VA/fGVHeCNdUABHW6q4I91QKGS1dvhkXVAzAleseOTdUBzOZkq5pV1QITYGEfpl3VA8p1uBu2ZdUCqQCxo8Zt1QJ9342v2nXVAvvklEfyfdUD6fYVXAqJ1QEG7kz4JpHVAhGjixRCmdUCyPAPtGKh1QLzuh7MhqnVAkjUCGSusdUAkyAMdNa51QGFdHr8/sHVAO6zj/kqydUCga+XbVrR1QIJStVVjtnVAzxfla3C4dUB5cgYefrp1QG8Zq2uMvHVAoMNkVJu+dUD/J8XXqsB1QHn9XfW6wnVAAPvArMvEdUCC13/93MZ1QPJJLOfuyHVAPglYaQHLdUBWzJSDFM11QCpKdDUoz3VAqzmIfjzRdUDJUWJeUdN1QHNJlNRm1XVAmtev4HzXdUAus0aCk9l1QB6T6riq23VAWy4thMLddUDVO6Dj2t91QHxy1dbz4XVAP4leXQ3kdUAQN812J+Z1QN0ysyJC6HVAmDOiYF3qdUAv8Csweex1QJQf4pCV7nVAtXhWgrLwdUCEshoE0PJ1QPCDwBXu9HVA6qPZtgz3dUBgyffmK/l1QESrrKVL+3VAhQCK8mv9dUAUgCHNjP91QODgBDWuAXZA2tnFKdADdkDxIfaq8gV2QBZwJ7gVCHZAOHvrUDkKdkBI+tN0XQx2QDWkciOCDnZA8S9ZXKcQdkBqVBkfzRJ2QJHIRGvzFHZAVkNtQBoXdkCoeySeQRl2QHko/INpG3ZAuACG8ZEddkBUu1Pmuh92QD8P92HkIXZAaLMBZA4kdkC+XgXsOCZ2QDTIk/ljKHZAt6Y+jI8qdkA4sZejuyx2QKieMD/oLnZA9iWbXhUxdkAT/mgBQzN2QO7dKydxNXZAd3x1z583dkCfkNf5zjl2QFXR46X+O3ZAivUr0y4+dkAutEGBX0B2QDDEtq+QQnZAgdwcXsJEdkAQtAWM9EZ2QM8BAzknSXZArHymZFpLdkCY24EOjk12QIPVJjbCT3ZAXSEn2/ZRdkAWdhT9K1R2QJ6KgJthVnZA5RX9tZdYdkDbzhtMzlp2QHBsbl0FXXZAlKWG6TxfdkA4MfbvdGF2QEvGTnCtY3ZAvRsiauZldkB+6AHdH2h2QH/jf8hZanZAsMMtLJRsdkD/P50Hz252QF4PYFoKcXZAvegHJEZzdkAMgyZkgnV2QDqVTRq/d3ZAN9YORvx5dkD1/PvmOXx2QGLApvx3fnZAb9eghraAdkAL+XuE9YJ2QCjcyfU0hXZAtDcc2nSHdkChwgQxtYl2QN0zFfr1i3ZAWULfNDeOdkAGpfTgeJB2QNIS5/26knZAr0JIi/2UdkCM66mIQJd2QFnEnfWDmXZABoS10cebdkCE4YIcDJ52QMKTl9VQoHZAsVGF/JWidkBA0t2Q26R2QF/MMpIhp3ZA/vYVAGipdkAPCRnarqt2QIC5zR/2rXZAQr/F0D2wdkBE0ZLshbJ2QHamxnLOtHZAyvXyYhe3dkAvdqm8YLl2QJTee3+qu3ZA6uX7qvS9dkAiQ7s+P8B2QCmtSzqKwnZA8to+ndXEdkBtgyZnIcd2QIhdlJdtyXZANCAaLrrLdkBhgkkqB852QAA7tItU0HZAAAHsUaLSdkBRi4J88NR2QOOQCQs/13ZAp8gS/Y3ZdkCM6S9S3dt2QIKq8gkt3nZAe8LsI33gdkBk6K+fzeJ2QC/TzXwe5XZAzDnYum/ndkAq02BZwel2QDpW+VcT7HZA7HkztmXudkAw9aBzuPB2QPV+048L83ZALM5cCl/1dkDFmc7isvd2QLCYuhgH+nZA3YGyq1v8dkA8DEibsP52QLzuDOcFAXdAUOCSjlsDd0Dll2uRsQV3QGzMKO8HCHdA1TRcp14Kd0ARiJe5tQx3QA99bCUND3dAv8ps6mQRd0ASKCoIvRN3QPdLNn4VFndAXu0iTG4Yd0A4w4Fxxxp3QHWE5O0gHXdABOjcwHofd0DWpPzp1CF3QNpx1WgvJHdAAQb5PIomd0A7GPll5Sh3QHdfZ+NAK3dAppLVtJwtd0C4aNXZ+C93QJ2Y+FFVMndARdnQHLI0d0Cg4e85Dzd3QJ5o56hsOXdALyVJaco7d0BDzqZ6KD53QMoaktyGQHdAtMGcjuVCd0DyeViQREV3QHL6VuGjR3dAJ/opgQNKd0D+L2NvY0x3QOlSlKvDTndA1xlPNSRRd0C4OyUMhVN3QH5vqC/mVXdAFmxqn0dYd0By6PxaqVp3QIKb8WELXXdANjzas21fd0B9gUhQ0GF3QEcizjYzZHdAhtX8ZpZmd0AoUmbg+Wh3QB9PnKJda3dAWYMwrcFtd0DHpbT/JXB3QFltupmKcndA/5DTeu90d0Cpx5GiVHd3QEfIhhC6eXdAyklExB98d0AgA1y9hX53QDurX/vrgHdACvngfVKDd0B9o3FEuYV3QIVho04giHdAEeoHnIeKd0AR9DAs74x3QHY2sP5Wj3dAMGgXE7+Rd0AuQPhoJ5R3QGB15P+PlndAt75t1/iYd0Aj0yXvYZt3QJNpnkbLnXdA+Dhp3TSgd0BC+BeznqJ3QGFePMcIpXdARCJoGXOnd0Dd+iyp3al3QBqfHHZIrHdA7cXIf7Oud0BEJsPFHrF3QBF3nUeKs3dAQm/pBPa1d0DJxTj9Ybh3QJUxHTDOundAlmkonTq9d0C8JOxDp793QPgZ+iMUwndAOQDkPIHEd0BwjjuO7sZ3QIx7khdcyXdAfH562MnLd0A0ToXQN853QKChRP+l0HdAsi9KZBTTd0BZryf/gtV3QIbXbs/x13dAKV+x1GDad0Ay/YAO0Nx3QJBob3w/33dANVgOHq/hd0APg+/yHuR3QA+gpPqO5ndAJWa/NP/od0BBjNGgb+t3QA==\",\"dtype\":\"float64\",\"order\":\"little\",\"shape\":[587]}},\"selected\":{\"id\":\"1823\"},\"selection_policy\":{\"id\":\"1824\"}},\"id\":\"1807\",\"type\":\"ColumnDataSource\"},{\"attributes\":{},\"id\":\"1759\",\"type\":\"WheelZoomTool\"},{\"attributes\":{\"data_source\":{\"id\":\"1789\"},\"glyph\":{\"id\":\"1790\"},\"hover_glyph\":null,\"muted_glyph\":null,\"nonselection_glyph\":{\"id\":\"1791\"},\"view\":{\"id\":\"1793\"}},\"id\":\"1792\",\"type\":\"GlyphRenderer\"},{\"attributes\":{\"overlay\":{\"id\":\"1764\"}},\"id\":\"1760\",\"type\":\"BoxZoomTool\"},{\"attributes\":{\"data\":{\"x\":[0.20833333333333334,0.2916666666666667,0.375,0.5416666666666666,0.625,0.7083333333333334,0.875,0.9583333333333334,1.0416666666666667,1.125,1.2083333333333333,1.2916666666666667,1.375,1.4583333333333333,1.5416666666666667,1.625,1.7083333333333333,1.7916666666666667,1.875,1.9583333333333333,2.0416666666666665,2.125,2.2083333333333335,2.2916666666666665,2.375,2.4583333333333335,2.5416666666666665,2.625,2.7083333333333335,2.7916666666666665,2.875,2.9583333333333335,3.0416666666666665,3.125,3.2083333333333335,3.2916666666666665,3.375,3.4583333333333335,3.5416666666666665,3.625,3.7083333333333335,3.7916666666666665,3.875,3.9583333333333335,4.041666666666667,4.125,4.208333333333333,4.291666666666667,4.375,4.458333333333333,4.541666666666667,4.625,4.708333333333333,4.791666666666667,4.875,4.958333333333333,5.041666666666667,5.125,5.208333333333333,5.291666666666667,5.375,5.458333333333333,5.541666666666667,5.625,5.708333333333333,5.791666666666667,5.875,5.958333333333333,6.041666666666667,6.375,6.458333333333333,6.541666666666667,6.625,6.708333333333333,6.791666666666667,6.875,6.958333333333333,7.041666666666667,7.125,7.208333333333333,7.291666666666667,7.375,7.458333333333333,7.541666666666667,7.625,7.708333333333333,7.791666666666667,7.875,7.958333333333333,8.041666666666666,8.125,8.208333333333334,8.291666666666666,8.375,8.458333333333334,8.541666666666666,8.625,8.708333333333334,8.791666666666666,8.875,8.958333333333334,9.041666666666666,9.125,9.208333333333334,9.291666666666666,9.375,9.458333333333334,9.541666666666666,9.625,9.708333333333334,9.791666666666666,9.875,9.958333333333334,10.041666666666666,10.125,10.208333333333334,10.291666666666666,10.375,10.458333333333334,10.541666666666666,10.625,10.708333333333334,10.791666666666666,10.875,10.958333333333334,11.041666666666666,11.125,11.208333333333334,11.291666666666666,11.375,11.458333333333334,11.541666666666666,11.625,11.708333333333334,11.791666666666666,11.875,11.958333333333334,12.041666666666666,12.125,12.208333333333334,12.291666666666666,12.375,12.458333333333334,12.541666666666666,12.625,12.708333333333334,12.791666666666666,12.875,12.958333333333334,13.041666666666666,13.125,13.208333333333334,13.291666666666666,13.375,13.458333333333334,13.541666666666666,13.625,13.708333333333334,13.791666666666666,13.875,13.958333333333334,14.041666666666666,14.125,14.208333333333334,14.291666666666666,14.375,14.458333333333334,14.541666666666666,14.625,14.708333333333334,14.791666666666666,14.875,14.958333333333334,15.041666666666666,15.125,15.208333333333334,15.291666666666666,15.375,15.458333333333334,15.541666666666666,15.625,15.708333333333334,15.791666666666666,15.875,15.958333333333334,16.041666666666668,16.125,16.208333333333332,16.291666666666668,16.375,16.458333333333332,16.541666666666668,16.625,16.708333333333332,16.791666666666668,16.875,16.958333333333332,17.041666666666668,17.125,17.208333333333332,17.291666666666668,17.375,17.458333333333332,17.541666666666668,17.625,17.708333333333332,17.791666666666668,17.875,17.958333333333332,18.041666666666668,18.125,18.208333333333332,18.291666666666668,18.375,18.458333333333332,18.541666666666668,18.625,18.708333333333332,18.791666666666668,18.875,18.958333333333332,19.041666666666668,19.125,19.208333333333332,19.291666666666668,19.375,19.458333333333332,19.541666666666668,19.625,19.708333333333332,19.791666666666668,19.875,19.958333333333332,20.041666666666668,20.125,20.208333333333332,20.291666666666668,20.375,20.458333333333332,20.541666666666668,20.625,20.708333333333332,20.791666666666668,20.875,20.958333333333332,21.041666666666668,21.125,21.208333333333332,21.291666666666668,21.375,21.458333333333332,21.541666666666668,21.625,21.708333333333332,21.791666666666668,21.875,21.958333333333332,22.041666666666668,22.125,22.208333333333332,22.291666666666668,22.375,22.458333333333332,22.541666666666668,22.625,22.708333333333332,22.791666666666668,22.875,22.958333333333332,23.041666666666668,23.125,23.208333333333332,23.291666666666668,23.375,23.458333333333332,23.541666666666668,23.625,23.708333333333332,23.791666666666668,23.875,23.958333333333332,24.041666666666668,24.125,24.208333333333332,24.291666666666668,24.375,24.458333333333332,24.541666666666668,24.625,24.708333333333332,24.791666666666668,24.875,24.958333333333332,25.041666666666668,25.125,25.208333333333332,25.291666666666668,25.375,25.458333333333332,25.541666666666668,25.625,25.708333333333332,25.791666666666668,25.875,25.958333333333332,26.041666666666668,26.125,26.208333333333332,26.291666666666668,26.375,26.458333333333332,26.541666666666668,26.625,26.708333333333332,26.791666666666668,26.875,26.958333333333332,27.041666666666668,27.125,27.208333333333332,27.291666666666668,27.375,27.458333333333332,27.541666666666668,27.625,27.708333333333332,27.791666666666668,27.875,27.958333333333332,28.041666666666668,28.125,28.208333333333332,28.291666666666668,28.375,28.458333333333332,28.541666666666668,28.625,28.708333333333332,28.791666666666668,28.875,28.958333333333332,29.041666666666668,29.125,29.208333333333332,29.291666666666668,29.375,29.458333333333332,29.541666666666668,29.625,29.708333333333332,29.791666666666668,29.875,29.958333333333332,30.041666666666668,30.125,30.208333333333332,30.291666666666668,30.375,30.458333333333332,30.541666666666668,30.625,30.708333333333332,30.791666666666668,30.875,30.958333333333332,31.041666666666668,31.125,31.208333333333332,31.291666666666668,31.375,31.458333333333332,31.541666666666668,31.625,31.708333333333332,31.791666666666668,31.875,31.958333333333332,32.041666666666664,32.125,32.208333333333336,32.291666666666664,32.375,32.458333333333336,32.541666666666664,32.625,32.708333333333336,32.791666666666664,32.875,32.958333333333336,33.041666666666664,33.125,33.208333333333336,33.291666666666664,33.375,33.458333333333336,33.541666666666664,33.625,33.708333333333336,33.791666666666664,33.875,33.958333333333336,34.041666666666664,34.125,34.208333333333336,34.291666666666664,34.375,34.458333333333336,34.541666666666664,34.625,34.708333333333336,34.791666666666664,34.875,34.958333333333336,35.041666666666664,35.125,35.208333333333336,35.291666666666664,35.375,35.458333333333336,35.541666666666664,35.625,35.708333333333336,35.791666666666664,35.875,35.958333333333336,36.041666666666664,36.125,36.208333333333336,36.291666666666664,36.375,36.458333333333336,36.541666666666664,36.625,36.708333333333336,36.791666666666664,36.875,36.958333333333336,37.041666666666664,37.125,37.208333333333336,37.291666666666664,37.375,37.458333333333336,37.541666666666664,37.625,37.708333333333336,37.791666666666664,37.875,37.958333333333336,38.041666666666664,38.125,38.208333333333336,38.291666666666664,38.375,38.458333333333336,38.541666666666664,38.625,38.708333333333336,38.791666666666664,38.875,38.958333333333336,39.041666666666664,39.125,39.208333333333336,39.291666666666664,39.375,39.458333333333336,39.541666666666664,39.625,39.708333333333336,39.791666666666664,39.875,39.958333333333336,40.041666666666664,40.125,40.208333333333336,40.291666666666664,40.375,40.458333333333336,40.541666666666664,40.625,40.708333333333336,40.791666666666664,40.875,40.958333333333336,41.041666666666664,41.125,41.208333333333336,41.291666666666664,41.375,41.458333333333336,41.541666666666664,41.625,41.708333333333336,41.791666666666664,41.875,41.958333333333336,42.041666666666664,42.125,42.208333333333336,42.291666666666664,42.375,42.458333333333336,42.541666666666664,42.625,42.708333333333336,42.791666666666664,42.875,42.958333333333336,43.041666666666664,43.125,43.208333333333336,43.291666666666664,43.375,43.458333333333336,43.541666666666664,43.625,43.708333333333336,43.791666666666664,43.875,43.958333333333336,44.041666666666664,44.125,44.208333333333336,44.291666666666664,44.375,44.458333333333336,44.541666666666664,44.625,44.708333333333336,44.791666666666664,44.875,44.958333333333336,45.041666666666664,45.125,45.208333333333336,45.291666666666664,45.375,45.458333333333336,45.541666666666664,45.625,45.708333333333336,45.791666666666664,45.875,45.958333333333336,46.041666666666664,46.125,46.208333333333336,46.291666666666664,46.375,46.458333333333336,46.541666666666664,46.625,46.708333333333336,46.791666666666664,46.875,46.958333333333336,47.041666666666664,47.125,47.208333333333336,47.291666666666664,47.375,47.458333333333336,47.541666666666664,47.625,47.708333333333336,47.791666666666664,47.875,47.958333333333336,48.041666666666664,48.125,48.208333333333336,48.291666666666664,48.375,48.458333333333336,48.541666666666664,48.625,48.708333333333336,48.791666666666664,48.875,48.958333333333336,49.041666666666664,49.125,49.208333333333336,49.291666666666664,49.375,49.458333333333336],\"y\":[315.7,317.45,317.51,315.86,314.93,313.21,313.33,314.67,315.58,316.48,316.65,317.72,318.29,318.15,316.54,314.8,313.84,313.33,314.81,315.58,316.43,316.98,317.58,319.03,320.04,319.59,318.18,315.9,314.17,313.83,315.0,316.19,316.89,317.7,318.54,319.48,320.58,319.77,318.57,316.79,314.99,315.31,316.1,317.01,317.94,318.55,319.68,320.57,321.02,320.62,319.61,317.4,316.25,315.42,316.69,317.7,318.74,319.07,319.86,321.38,322.25,321.48,319.74,317.77,316.21,315.99,317.07,318.35,319.57,322.25,321.89,320.44,318.69,316.7,316.87,317.68,318.71,319.44,320.44,320.89,322.14,322.17,321.87,321.21,318.87,317.82,317.3,318.87,319.42,320.62,321.6,322.39,323.7,324.08,323.75,322.38,320.36,318.64,318.1,319.78,321.03,322.33,322.5,323.04,324.42,325.0,324.09,322.54,320.92,319.25,319.39,320.73,321.96,322.57,323.15,323.89,325.02,325.57,325.36,324.14,322.11,320.33,320.25,321.32,322.89,324.0,324.42,325.63,326.66,327.38,326.71,325.88,323.66,322.38,321.78,322.85,324.12,325.06,325.98,326.93,328.13,328.08,327.67,326.34,324.69,323.1,323.06,324.01,325.13,326.17,326.68,327.18,327.79,328.93,328.57,327.36,325.43,323.36,323.56,324.8,326.01,326.77,327.63,327.75,329.72,330.07,329.09,328.04,326.32,324.84,325.2,326.5,327.55,328.55,329.56,330.3,331.5,332.48,332.07,330.87,329.31,327.51,327.18,328.16,328.64,329.35,330.71,331.48,332.65,333.09,332.25,331.18,329.39,327.43,327.37,328.46,329.57,330.4,331.4,332.04,333.31,333.97,333.6,331.9,330.06,328.56,328.34,329.49,330.76,331.75,332.56,333.5,334.58,334.88,334.33,333.05,330.94,329.3,328.94,330.31,331.68,332.93,333.42,334.7,336.07,336.75,336.27,334.92,332.75,331.59,331.16,332.4,333.85,334.97,335.39,336.64,337.76,338.01,337.9,336.54,334.68,332.76,332.55,333.92,334.95,336.23,336.76,337.96,338.88,339.47,339.29,337.73,336.09,333.92,333.86,335.29,336.73,338.01,338.36,340.07,340.76,341.47,341.17,339.56,337.6,335.88,336.02,337.1,338.21,339.24,340.48,341.38,342.5,342.91,342.25,340.49,338.43,336.69,336.86,338.36,339.61,340.75,341.61,342.7,343.57,344.14,343.35,342.06,339.81,337.98,337.86,339.26,340.49,341.38,342.52,343.1,344.94,345.76,345.32,343.98,342.38,339.87,339.99,341.15,342.99,343.7,344.5,345.28,347.05,347.43,346.8,345.39,343.28,341.07,341.35,342.98,344.22,344.97,345.99,347.42,348.35,348.93,348.25,346.56,344.67,343.09,342.8,344.24,345.56,346.3,346.95,347.85,349.55,350.21,349.55,347.94,345.9,344.85,344.17,345.66,346.9,348.02,348.48,349.42,350.98,351.85,351.26,349.51,348.1,346.45,346.36,347.81,348.96,350.43,351.73,352.22,353.59,354.22,353.8,352.38,350.43,348.73,348.88,350.07,351.34,352.76,353.07,353.68,355.42,355.67,355.12,353.9,351.67,349.81,349.99,351.3,352.52,353.66,354.7,355.38,356.2,357.16,356.23,354.81,352.91,350.96,351.18,352.83,354.21,354.72,355.75,357.16,358.6,359.34,358.24,356.17,354.01,352.15,352.21,353.75,354.99,355.99,356.72,357.81,359.15,359.66,359.25,357.02,355.0,353.01,353.31,354.16,355.4,356.7,357.17,358.38,359.46,360.28,359.6,357.57,355.52,353.69,353.99,355.34,356.8,358.37,358.91,359.97,361.26,361.69,360.94,359.55,357.48,355.84,356.0,357.58,359.04,359.97,361.0,361.63,363.45,363.8,363.26,361.89,359.45,358.05,357.75,359.56,360.7,362.05,363.24,364.02,364.71,365.42,364.97,363.65,361.48,359.45,359.61,360.76,362.33,363.18,363.99,364.56,366.35,366.8,365.63,364.47,362.5,360.19,360.77,362.43,364.28,365.33,366.15,367.31,368.61,369.3,368.88,367.64,365.78,363.9,364.23,365.46,366.97,368.15,368.87,369.59,371.14,371.0,370.35,369.27,366.93,364.64,365.13,366.68,368.0,369.14,369.46,370.51,371.66,371.83,371.69,370.12,368.12,366.62,366.73,368.29,369.53,370.28,371.5,372.12,372.86,374.02,373.31,371.62,369.55,367.96,368.09,369.68,371.24,372.44,373.08,373.52,374.85,375.55,375.4,374.02,371.48,370.7,370.25,372.08,373.78,374.68,375.62,376.11,377.65,378.35,378.13,376.6,374.48,372.98,373.0,374.35,375.69,376.79,377.37,378.39,380.5,380.62,379.55,377.76,375.83,374.05,374.22,375.84,377.44,378.34,379.61,380.08,382.05,382.24,382.08,380.66,378.67,376.42,376.8,378.31,379.96,381.37,382.02,382.56,384.36,384.92,384.03,382.28,380.48,378.81,379.06,380.14,381.66,382.58,383.71,384.34,386.23,386.41,385.87]},\"selected\":{\"id\":\"1784\"},\"selection_policy\":{\"id\":\"1785\"}},\"id\":\"1772\",\"type\":\"ColumnDataSource\"},{\"attributes\":{\"line_alpha\":0.1,\"line_color\":\"blue\",\"line_width\":2.5,\"x\":{\"field\":\"x\"},\"y\":{\"field\":\"y\"}},\"id\":\"1791\",\"type\":\"Line\"},{\"attributes\":{},\"id\":\"1803\",\"type\":\"Selection\"},{\"attributes\":{},\"id\":\"1761\",\"type\":\"SaveTool\"},{\"attributes\":{\"source\":{\"id\":\"1789\"}},\"id\":\"1793\",\"type\":\"CDSView\"},{\"attributes\":{},\"id\":\"1762\",\"type\":\"ResetTool\"},{\"attributes\":{},\"id\":\"1763\",\"type\":\"HelpTool\"},{\"attributes\":{\"text\":\"C02 Variation with time\"},\"id\":\"1740\",\"type\":\"Title\"}],\"root_ids\":[\"1739\"]},\"title\":\"Bokeh Application\",\"version\":\"2.3.1\"}};\n",
       "  var render_items = [{\"docid\":\"c73b60c9-4c94-4c16-9369-d2df80af6f1d\",\"root_ids\":[\"1739\"],\"roots\":{\"1739\":\"8438d8fb-4379-44dd-9b9f-809d2cf6774b\"}}];\n",
       "  root.Bokeh.embed.embed_items_notebook(docs_json, render_items);\n",
       "\n",
       "  }\n",
       "  if (root.Bokeh !== undefined) {\n",
       "    embed_document(root);\n",
       "  } else {\n",
       "    var attempts = 0;\n",
       "    var timer = setInterval(function(root) {\n",
       "      if (root.Bokeh !== undefined) {\n",
       "        clearInterval(timer);\n",
       "        embed_document(root);\n",
       "      } else {\n",
       "        attempts++;\n",
       "        if (attempts > 100) {\n",
       "          clearInterval(timer);\n",
       "          console.log(\"Bokeh: ERROR: Unable to run BokehJS code because BokehJS library is missing\");\n",
       "        }\n",
       "      }\n",
       "    }, 10, root)\n",
       "  }\n",
       "})(window);"
      ],
      "application/vnd.bokehjs_exec.v0+json": ""
     },
     "metadata": {
      "application/vnd.bokehjs_exec.v0+json": {
       "id": "1739"
      }
     },
     "output_type": "display_data"
    },
    {
     "name": "stdout",
     "output_type": "stream",
     "text": [
      "The quadratic model is F(t) = 0.012117499698121086*t^2 + (0.8020970211603167)*t + (314.1005841870842)\n",
      "The cubic model is F(t) = -0.00011832339739603311*t^3 + (0.02095756739756907)*t^2 + (0.6248954085884475)*t + (314.8585261562906)\n"
     ]
    }
   ],
   "source": [
    "degree=2\n",
    "model_2=make_pipeline(PolynomialFeatures(degree),LinearRegression())\n",
    "model_2.fit(np.array(x_train).reshape(-1, 1),y_train)\n",
    "quadratic = model_2.predict(np.array(x_train).reshape(-1, 1))\n",
    "\n",
    "degree=3\n",
    "model_3=make_pipeline(PolynomialFeatures(degree),LinearRegression())\n",
    "model_3.fit(np.array(x_train).reshape(-1, 1),y_train)\n",
    "cubic = model_3.predict(np.array(x_train).reshape(-1, 1))\n",
    "\n",
    "p = figure(plot_width=400, plot_height=400, title = \"C02 Variation with time\")\n",
    "p.scatter(x_train,y_train,size=2, line_color=\"red\", fill_color=\"orange\", fill_alpha=0.5, legend_label =\"Original Data\")\n",
    "p.line(x_train,quadratic, line_color=\"blue\",line_width=2.5,legend_label =\"Quadratic Fit\")\n",
    "p.line(x_train,cubic, line_color=\"olive\",line_width=2.5,legend_label =\"Cubic Fit\")\n",
    "p.xaxis.axis_label ='t_i'\n",
    "p.yaxis.axis_label ='CO2 Concentration'\n",
    "p.legend.location = \"top_left\"\n",
    "show(p)\n",
    "\n",
    "coefficients_2 = [model_2.named_steps.linearregression.coef_[-1],model_2.named_steps.linearregression.coef_[-2],model_2.named_steps.linearregression.intercept_]\n",
    "print(\"The quadratic model is F(t) = \" +str(coefficients_2[0])+\"*t^2 + (\" +str(coefficients_2[1])+\")*t + (\" +str(coefficients_2[2])+\")\")\n",
    "coefficients_3 = [model_3.named_steps.linearregression.coef_[-1],model_3.named_steps.linearregression.coef_[-2],model_3.named_steps.linearregression.coef_[-3],model_3.named_steps.linearregression.intercept_]\n",
    "print(\"The cubic model is F(t) = \" +str(coefficients_3[0])+\"*t^3 + (\" +str(coefficients_3[1])+\")*t^2 + (\"+str(coefficients_3[2])+\")*t + (\" + str(coefficients_3[3])+\")\")"
   ]
  },
  {
   "cell_type": "code",
   "execution_count": 11,
   "metadata": {},
   "outputs": [
    {
     "data": {
      "text/html": [
       "\n",
       "\n",
       "\n",
       "\n",
       "\n",
       "\n",
       "  <div class=\"bk-root\" id=\"ab63d294-c574-4608-a534-2690a70c32d8\" data-root-id=\"1967\"></div>\n"
      ]
     },
     "metadata": {},
     "output_type": "display_data"
    },
    {
     "data": {
      "application/javascript": [
       "(function(root) {\n",
       "  function embed_document(root) {\n",
       "    \n",
       "  var docs_json = {\"f140ba57-9668-4dad-827d-fd47f5d6f9db\":{\"defs\":[],\"roots\":{\"references\":[{\"attributes\":{\"below\":[{\"id\":\"1978\"}],\"center\":[{\"id\":\"1981\"},{\"id\":\"1985\"},{\"id\":\"2015\"}],\"height\":400,\"left\":[{\"id\":\"1982\"}],\"renderers\":[{\"id\":\"2003\"},{\"id\":\"2020\"}],\"title\":{\"id\":\"1968\"},\"toolbar\":{\"id\":\"1993\"},\"width\":400,\"x_range\":{\"id\":\"1970\"},\"x_scale\":{\"id\":\"1974\"},\"y_range\":{\"id\":\"1972\"},\"y_scale\":{\"id\":\"1976\"}},\"id\":\"1967\",\"subtype\":\"Figure\",\"type\":\"Plot\"},{\"attributes\":{\"source\":{\"id\":\"2000\"}},\"id\":\"2004\",\"type\":\"CDSView\"},{\"attributes\":{\"items\":[{\"id\":\"2016\"},{\"id\":\"2034\"}],\"location\":\"bottom_left\"},\"id\":\"2015\",\"type\":\"Legend\"},{\"attributes\":{\"data\":{\"x\":[0.20833333333333334,0.2916666666666667,0.375,0.5416666666666666,0.625,0.7083333333333334,0.875,0.9583333333333334,1.0416666666666667,1.125,1.2083333333333333,1.2916666666666667,1.375,1.4583333333333333,1.5416666666666667,1.625,1.7083333333333333,1.7916666666666667,1.875,1.9583333333333333,2.0416666666666665,2.125,2.2083333333333335,2.2916666666666665,2.375,2.4583333333333335,2.5416666666666665,2.625,2.7083333333333335,2.7916666666666665,2.875,2.9583333333333335,3.0416666666666665,3.125,3.2083333333333335,3.2916666666666665,3.375,3.4583333333333335,3.5416666666666665,3.625,3.7083333333333335,3.7916666666666665,3.875,3.9583333333333335,4.041666666666667,4.125,4.208333333333333,4.291666666666667,4.375,4.458333333333333,4.541666666666667,4.625,4.708333333333333,4.791666666666667,4.875,4.958333333333333,5.041666666666667,5.125,5.208333333333333,5.291666666666667,5.375,5.458333333333333,5.541666666666667,5.625,5.708333333333333,5.791666666666667,5.875,5.958333333333333,6.041666666666667,6.375,6.458333333333333,6.541666666666667,6.625,6.708333333333333,6.791666666666667,6.875,6.958333333333333,7.041666666666667,7.125,7.208333333333333,7.291666666666667,7.375,7.458333333333333,7.541666666666667,7.625,7.708333333333333,7.791666666666667,7.875,7.958333333333333,8.041666666666666,8.125,8.208333333333334,8.291666666666666,8.375,8.458333333333334,8.541666666666666,8.625,8.708333333333334,8.791666666666666,8.875,8.958333333333334,9.041666666666666,9.125,9.208333333333334,9.291666666666666,9.375,9.458333333333334,9.541666666666666,9.625,9.708333333333334,9.791666666666666,9.875,9.958333333333334,10.041666666666666,10.125,10.208333333333334,10.291666666666666,10.375,10.458333333333334,10.541666666666666,10.625,10.708333333333334,10.791666666666666,10.875,10.958333333333334,11.041666666666666,11.125,11.208333333333334,11.291666666666666,11.375,11.458333333333334,11.541666666666666,11.625,11.708333333333334,11.791666666666666,11.875,11.958333333333334,12.041666666666666,12.125,12.208333333333334,12.291666666666666,12.375,12.458333333333334,12.541666666666666,12.625,12.708333333333334,12.791666666666666,12.875,12.958333333333334,13.041666666666666,13.125,13.208333333333334,13.291666666666666,13.375,13.458333333333334,13.541666666666666,13.625,13.708333333333334,13.791666666666666,13.875,13.958333333333334,14.041666666666666,14.125,14.208333333333334,14.291666666666666,14.375,14.458333333333334,14.541666666666666,14.625,14.708333333333334,14.791666666666666,14.875,14.958333333333334,15.041666666666666,15.125,15.208333333333334,15.291666666666666,15.375,15.458333333333334,15.541666666666666,15.625,15.708333333333334,15.791666666666666,15.875,15.958333333333334,16.041666666666668,16.125,16.208333333333332,16.291666666666668,16.375,16.458333333333332,16.541666666666668,16.625,16.708333333333332,16.791666666666668,16.875,16.958333333333332,17.041666666666668,17.125,17.208333333333332,17.291666666666668,17.375,17.458333333333332,17.541666666666668,17.625,17.708333333333332,17.791666666666668,17.875,17.958333333333332,18.041666666666668,18.125,18.208333333333332,18.291666666666668,18.375,18.458333333333332,18.541666666666668,18.625,18.708333333333332,18.791666666666668,18.875,18.958333333333332,19.041666666666668,19.125,19.208333333333332,19.291666666666668,19.375,19.458333333333332,19.541666666666668,19.625,19.708333333333332,19.791666666666668,19.875,19.958333333333332,20.041666666666668,20.125,20.208333333333332,20.291666666666668,20.375,20.458333333333332,20.541666666666668,20.625,20.708333333333332,20.791666666666668,20.875,20.958333333333332,21.041666666666668,21.125,21.208333333333332,21.291666666666668,21.375,21.458333333333332,21.541666666666668,21.625,21.708333333333332,21.791666666666668,21.875,21.958333333333332,22.041666666666668,22.125,22.208333333333332,22.291666666666668,22.375,22.458333333333332,22.541666666666668,22.625,22.708333333333332,22.791666666666668,22.875,22.958333333333332,23.041666666666668,23.125,23.208333333333332,23.291666666666668,23.375,23.458333333333332,23.541666666666668,23.625,23.708333333333332,23.791666666666668,23.875,23.958333333333332,24.041666666666668,24.125,24.208333333333332,24.291666666666668,24.375,24.458333333333332,24.541666666666668,24.625,24.708333333333332,24.791666666666668,24.875,24.958333333333332,25.041666666666668,25.125,25.208333333333332,25.291666666666668,25.375,25.458333333333332,25.541666666666668,25.625,25.708333333333332,25.791666666666668,25.875,25.958333333333332,26.041666666666668,26.125,26.208333333333332,26.291666666666668,26.375,26.458333333333332,26.541666666666668,26.625,26.708333333333332,26.791666666666668,26.875,26.958333333333332,27.041666666666668,27.125,27.208333333333332,27.291666666666668,27.375,27.458333333333332,27.541666666666668,27.625,27.708333333333332,27.791666666666668,27.875,27.958333333333332,28.041666666666668,28.125,28.208333333333332,28.291666666666668,28.375,28.458333333333332,28.541666666666668,28.625,28.708333333333332,28.791666666666668,28.875,28.958333333333332,29.041666666666668,29.125,29.208333333333332,29.291666666666668,29.375,29.458333333333332,29.541666666666668,29.625,29.708333333333332,29.791666666666668,29.875,29.958333333333332,30.041666666666668,30.125,30.208333333333332,30.291666666666668,30.375,30.458333333333332,30.541666666666668,30.625,30.708333333333332,30.791666666666668,30.875,30.958333333333332,31.041666666666668,31.125,31.208333333333332,31.291666666666668,31.375,31.458333333333332,31.541666666666668,31.625,31.708333333333332,31.791666666666668,31.875,31.958333333333332,32.041666666666664,32.125,32.208333333333336,32.291666666666664,32.375,32.458333333333336,32.541666666666664,32.625,32.708333333333336,32.791666666666664,32.875,32.958333333333336,33.041666666666664,33.125,33.208333333333336,33.291666666666664,33.375,33.458333333333336,33.541666666666664,33.625,33.708333333333336,33.791666666666664,33.875,33.958333333333336,34.041666666666664,34.125,34.208333333333336,34.291666666666664,34.375,34.458333333333336,34.541666666666664,34.625,34.708333333333336,34.791666666666664,34.875,34.958333333333336,35.041666666666664,35.125,35.208333333333336,35.291666666666664,35.375,35.458333333333336,35.541666666666664,35.625,35.708333333333336,35.791666666666664,35.875,35.958333333333336,36.041666666666664,36.125,36.208333333333336,36.291666666666664,36.375,36.458333333333336,36.541666666666664,36.625,36.708333333333336,36.791666666666664,36.875,36.958333333333336,37.041666666666664,37.125,37.208333333333336,37.291666666666664,37.375,37.458333333333336,37.541666666666664,37.625,37.708333333333336,37.791666666666664,37.875,37.958333333333336,38.041666666666664,38.125,38.208333333333336,38.291666666666664,38.375,38.458333333333336,38.541666666666664,38.625,38.708333333333336,38.791666666666664,38.875,38.958333333333336,39.041666666666664,39.125,39.208333333333336,39.291666666666664,39.375,39.458333333333336,39.541666666666664,39.625,39.708333333333336,39.791666666666664,39.875,39.958333333333336,40.041666666666664,40.125,40.208333333333336,40.291666666666664,40.375,40.458333333333336,40.541666666666664,40.625,40.708333333333336,40.791666666666664,40.875,40.958333333333336,41.041666666666664,41.125,41.208333333333336,41.291666666666664,41.375,41.458333333333336,41.541666666666664,41.625,41.708333333333336,41.791666666666664,41.875,41.958333333333336,42.041666666666664,42.125,42.208333333333336,42.291666666666664,42.375,42.458333333333336,42.541666666666664,42.625,42.708333333333336,42.791666666666664,42.875,42.958333333333336,43.041666666666664,43.125,43.208333333333336,43.291666666666664,43.375,43.458333333333336,43.541666666666664,43.625,43.708333333333336,43.791666666666664,43.875,43.958333333333336,44.041666666666664,44.125,44.208333333333336,44.291666666666664,44.375,44.458333333333336,44.541666666666664,44.625,44.708333333333336,44.791666666666664,44.875,44.958333333333336,45.041666666666664,45.125,45.208333333333336,45.291666666666664,45.375,45.458333333333336,45.541666666666664,45.625,45.708333333333336,45.791666666666664,45.875,45.958333333333336,46.041666666666664,46.125,46.208333333333336,46.291666666666664,46.375,46.458333333333336,46.541666666666664,46.625,46.708333333333336,46.791666666666664,46.875,46.958333333333336,47.041666666666664,47.125,47.208333333333336,47.291666666666664,47.375,47.458333333333336,47.541666666666664,47.625,47.708333333333336,47.791666666666664,47.875,47.958333333333336,48.041666666666664,48.125,48.208333333333336,48.291666666666664,48.375,48.458333333333336,48.541666666666664,48.625,48.708333333333336,48.791666666666664,48.875,48.958333333333336,49.041666666666664,49.125,49.208333333333336,49.291666666666664,49.375,49.458333333333336],\"y\":{\"__ndarray__\":\"gMuu8SRRAsAAHiWNT/bivwA6yp/lvuK/gPV458C+AsCA+zXQMZ4KwMA8Hp4SaBTAQL9EdXddFMAA9Ya+xHMOwABJJ4vUnQfAAGKDI/XcAMAAXT9Za+f/vwA6z/phX++/AHRzroTk3b8AOLHWyD/lv4CRcAh4pgLAAMq49eeDEMBA9ofJJZYUwABBMung2xbAgAqWdiMsEcCAt9tFdKcMwIAoMCBeUwbAgLeotUFmAsAAIagEpCb8vwAcOkVDode/APqNJT+V4j8AECwMIQSyPwApEuloZ/a/gDqyit7tDcCAfJkGGiEWwEDVsGwxvBfAwM5eFFRNE8CAnNriiJQNwADN27F/egjAgNrPkb9/AsAAWp+rPpD4vwDsA3cKEeW/AMB2qcA12D8AbIt2WbTfvwDQG+AsJvy/APuzLwjUDMBAhXh3P98VwICEWhLh2RTAwFCHZoLzEcCAGaZ9EyUNwIC0I8y6OgbAgArobEzgAcAA6ZJ67LryvwDEWDuXNda/AOB9jwyZoj8A5CRt9o7bvwD4ayLtH/i/gL3WzDRIDsBAVQ00DwMUwIDGSiWcmhfAgOmlzAjMEsCAby3L8Q8OwIAh9yPtSgbAALQ8i4g0BMAAHS6oNeH8vwBwkiZwsda/APiRSAWE3D8AjOmPnUDZvwCIGenBowHAgPUyU4L7EMCAJmmwkYEXwED0FwW9qxjAAHc8+PmiFMCAolWpXZsPwIAs6d4xbAbAAIxukqBz2r8AWpqAKBfrv4AKsgP69QLAAHdWAIzGEMAAUiJMIQgZwMC4EDAjphjAABXXcQy1FcBAa8Rw8eIRwABJHOWZiA7AADlOjuEiB8CA3+/OFSQEwADSH0bTfvW/AFEyLKU79r8AJPc9MEH8vwCnaaoqBQTAAFEaFXOtE8AAg4eFnS8YwED8jftRkxrAwG7Etx+bFMDA06J1qrcSwAA/az27dQzAgEUxvjQ/BcAAUjgloRz/vwBimCLo0+a/ADghFlRm2r8AWKO2yUzqv4AObZwILALAwGEAQ0p8EcDA6dIsnq8YwEDvyTfhKhvAwNLDhR3FFMCA6ceU7BcQwIA7F1WSbwbAgJMDLgq6BcCAVDB9QA8CwAAAQL2Wsu6/AJhM+Y6H3b8A49Qbh0L3vwBGobfNsAjAgOMZ/hkoE8DAB/cwQCsawMCOy4E18RnAQHEPrJ3qFMBAdgc46VQQwABgivWqdAzAAJjnxXJ9CMAAILDxCj8DwACZnQjSxPW/ACwgi3Co7L8AIgPajw3zvwDX1its+APAgN1Eh7dyEsCA0COLd+kZwEAzKTmpkxrAQPX1qH+kFsBAbJFYlLUQwIDvs9PiOwnAgEvrvzeSBsAAhGcCOi77vwD6RvKGNOi/AECScGXQv78AkpSEYDzsvwCUvFGsz/y/AA9+pONvEMCAVA4giukVwECIMdwbqxjAwDz5Lda+FMAAquenAAYQwIAgrACnPgnAAEO277uaAsAAm8X+snP3vwAQIuOAy9a/AMiwfPzL378AEKE/Pe3vv4BR5G3AWQPAQHXM8gKkEMDA2J4H8V0XwEDmesrn5BfAAGSlw1d2FMAA7wbs7lkQwICGGlBaHwnAANTlUb7IBcCA4bvjE4cCwAD8N34wyfy/AEx83IgU6L8ARe9wREzzv4DwzdhkFATAgM8sONYiEsCAWtzeEMsawMDkpToLXxrAwHuvTkrKFcBAveETfFQRwIBZF9NpVw3AAKbPAYM5B8CA9kxolQcHwABKy8edEvC/AH54ZvoE6L8ASmaa8Tr9vwB/OGaCyQfAwDkr/RMpE8BAzPae3XcZwIBMhpa3ahjAgBDhYTubE8CAkzuD8JcPwIDPuppCYAjAgDdti4sUAcAAngqEd+T3vwBIb09GEtm/ACCa501V3z8AQOf/dcaTvwCZq4E/GPW/APBfs2rSB8AAxI5+VYITwMBiBPZlOhXAgAC8rj21EcAAZPowTTAQwIDt6YQegAvAAFtwmd5sAcAAtDcOvyT4vwCIfMDfKNy/AOBZuSTqub8A4x5/yq7wv4CL0qfxtgHAAPMTo71sEMCASYK+TawYwAAkJ/Z6UhnAwD5wLkVfFcCAQB0Ey1cRwIAynh1/3gzAgG9NzKuxBcCAuvqAjGYBwAB0kss3I/C/ALhlEvfy3L8A6IzU+KPtv4Chjg3g1wXAQDwMvvKyEsBAyhUGAh4ZwMDAKGeOahrAgEzwz248FsCAKdoko5MRwABa28eJEwzAgFpkFttwBsAAb/lssYj/vwDq4D4e5u+/AKzTgkGy6b8ACYg2nln3v4DU5PiAxAbAwNCfRzlAFMDAvWSgHj0bwMDjV8d/Gx3AgDEa1I8OGMAAtdHJ0wETwAB+NKlZ4AzAgJuuA+7RCcCA1IYF/nEAwADoyESMaOm/APA0Ntl8zL8ABnrEMvbpvwCQIK50KQLAgEZvdo8yEsBAQPsVWkYXwEB1DWzSbhnAQK3qAGnpFMCAjeLsTxoPwIC1POcJBgfAgHMbScKLBMAAaQZvENz2vwDAhbF/19q/AEi+ZfPv0b8AwrAK4grgvwDYqaWsj/+/gHMNpleND8AAqm/GDucXwEBUywaZMBnAAGDZMGkoFMCA0eijk3wQwACqSZ3eoQfAAE32KvhKBMAA6uCHlTD3vwDOtCq/jeS/AGDm5tYsxb8AkAuDEVzdv4BIdofVDgHAgPwh1mAWD8BAz2y/3q0YwECRRnwZYBnAQBS6zcEcFMCAzNptuZ4NwAAXXy79SwTAgNpraERqAsAAYPd+jZ7mvwDgRd105cC/AKCeTFyc3T8A4A5yLiWoPwAN8thD2/q/gCEqtwMJDsDAt9BBn1wWwIAfr8VHRBbAgEt/xo9pEsAA0thlnOAMwIDh3IxNkgXAAA2Pi44s+b8AfGr/vkvpvwAgxzuoKcs/ANpflM8m4D8AIMCVWHfRv4AAZtCyNAHAAIgzW55QEcAAQR3/Yr8YwIBXm0J+ihjAAEA6j9sDE8CA3gydzPoMwIC873eEzwTAAEN22w7E/b8AXguYaXfsvwAIvzNsycG/AFwFPGXv0z8AQFrZxCTjv4ChiHeoEADAgCPpr0aDEcAAkbUjUVAZwED5B7l9RhrAAA53sFsoFcAAgZlKergQwICrfM3bSQvAgHIh5xojA8AAxVXlJe/+vwAo6/94fsu/AOiEobbz3j8A8Be2lf+zvwCH02D0o/i/gGPqKskYCsAApaBMzpMXwECblV9ElhfAAGCEqO9vE8CA2cnF5yIJwIAP+C2DcATAAMeL7EMM/r8AlEYrF4rzvwCo32LYOds/ACTi2NLR5T8A0KUIHmSyvwAMEOX2sPm/AAQuj8O3DsBA6iIhFrIYwEDokrSxEhjAwHpKjxANEsAADSdK6i0LwABchIGLLQbAAFmBWBMJ/r8AxC8FsVDivwDINyDuvc0/AF4VoCz75T8AMJeTqWK+vwBbfImE8/6/gGmMQVqaD8BAm00VMaAWwIC0qsVnShjAgEYiukEJE8CA6BB7SoYMwAA6d+M4ngfAgKiaV8luA8AAGKNpU3/6vwDwHrJrTrW/APQzzj/E3D8AXO3bQKHVvwDF3NbAmgDAQHVRHyb5EMCAgfSSUK8VwMBYc/LA6hjAAIMI70N4E8CACQbQ2wsOwIBb/RJAHQbAACzx9J92A8AA4KLZhfL5vwCI4RgHZ8i/ADQ9sdmb4T8AMEHqPaDFvwBL3bT4YgDAANI33+ezDMDASGYYVHgVwABNCIZpWRbAgGA3/q4REcAAnUe2mvoJwAD4NOaMhf6/AKTsaZid578ACIU5jjnYvwA+7tjVi+s/AJEji5rC9T8A8CFZ0uPpPwCcVei3vue/AGI62AqWBsAAcpWUWJ4SwMDLevRpixLAgAkkKFSfDMAA+XIqRoQDwAA4kB+bbPK/AGAaCZQn778AJHiy8brfvwAvASs8yvE/ADXhEZur8z8A5N1NPH/hPwC8iYx+yum/ALM9T9BZCcDA+oikwqUUwAAP3LHKdRTAgIaGfK6BD8CAnIG4X9AGwABTev5bhv2/AAqQcDsM7r8AaMrK5yPZvwD4OwI/xNI/ANLFz//n8T8AwJsxrB6sPwBobLWo/fe/gMkmInJFDMBARq5LXXkWwID/hBMPIhbAwHVh3JASEMCAYvyuXi8GwICpXp+hLwPAAGizAWQO+L8A2EfjfkzNvwBm0QWgNfE/AIZjmBfh+j8AsP2Wmm3cPwCJGUXtL/y/gKYlNho7EMBA66XAJjcYwMDXho0/hRjAwB1f3fPnEsCA/Q/N9/sMwIBYMNPNEwbAAM/ROdpUAcAABViyvmnzvwAA5S6oJIW/AAhlMPgz1z8AgKAtYKTHv4CL8b6magTAACufKZnWEsAAD9MvRlkbwIBW3uUcsxrAgOaKv9/ZF8AA7IOrZXETwIC1qyY0lw3AAGPICLLvCsCAlkOd6FwCwADhqXg0qfW/AADvfRCE5b8AnpdcVtv3vwBjbf5bRw3AQEE/px9lF8DAKVHkZ0UfwMC2nJCvoB7AwFyuFeLIGcCAzBy0joAUwACGq6Bqjw3AAH1572NbCsAAkBi3ov4CwADeBYsklvO/AMBkPBHk7b8AHlmLqS/9v4DK+eyX1QrAwIl9iRxCFsCAszspOGEdwAAKd3I9TR3AwDTvAUuLF8AATKF+VkQSwID4cK5tOA7AgCyhb5obB8AArK4JMzIDwAA+v2eVD+e/AMTr9nxh4L8AMFznkhfzv4Cn9nxCowXAwDSUoCclFcDALYXt008bwIDw5GU1FB3AAGJ9fQ5oFsBAw6dqF2oSwADJ/7JiKgvAAC1D7HrIAsAAV+qT7lz7vwDx9tf2mfK/AEZ0tP0K478AWH/azQDzvwAIIDAGNAXAgCAFnlPaE8AAv5BdYoscwIBn7Qf8eRzAgKNVTu1yGMBAELIp5L0SwABXzE551A/AACe1gEl/CsAAopNL0hUHwADuw/r90/O/AM6mmsLa7b+AWR20V/kBwACK9H22ZwzAAEAAe5SoFsBA7zzixzwgwMCKHOFHux7AAAstWS2rGMAA3g46nNgRwIDQF++tcgzAgAouw14LB8AAO4wg3df9vwByVOPat+a/APhnW3AXxb8A+Bb/vFnnvwCYv6rz6gDAAPbyOrV6EMCAsqNOg5QYwEBrJ9Ze1xfAQOfCWbiAE8CA7CML4hYMwAAlGSpZ0APAAIvJkyZw/r8A/wFx9z/1vwDghG6ZeLM/AIACl3Tcyr8AS/7R9xfwvwDa1tEB2wHAgBaI61ffEsDAQew8Ep4cwEBYzaIqPhvAAJGtr+igFcCABIoKQu8QwIB2OskG7AnAgGeVlhGJCMAA7pnfPU8BwACyjruRkfK/ACNtyBIz8r8A/wCMrMr2vwDEXNvxIQnAwGuT9q0nFcBA+pc2eL4bwMCLH7uz5BvAQE3Vcjc+FsAAqW4jft8RwIBEdVg47Q7AgKJsaA5ZBsAAp5Ro2pECwACoP4sZqvu/AO4MiPvw5r8AGnIXuDL5vwA8sbmrTQvAwDn9czCGFsDA2K3YGXodwEAN/F/PjB3AAGv5Xo7IF8CA1m9JGSMSwACJ1xG33AvAAHtPnUPuB8AAgA5QkJkFwADk1Q6WTPi/AJI+O6X17r8ADIKW9EL0vwBlPja7XAbAgLvW1+fvFcCAklNFR6cZwMCRiLPNDBzAQKkWOq5TFcAAClKPfz8OwABSHXctPgjAgIPlCBTrAcAA0XxYcGP+vwDmDahmSOC/AGATwdhDpT8A7P/BngDVv4BWl3Y7EADAgCBa8mscEcAAdkg46rUXwMDO6tf+OhjAANzXETluE8AA03+Ag1cNwAAKksw7vgXAgN+YdAtOAsAABx2Nu7H2vwAUk58CUuE/AESgDuRY4D8AwuZWOLXmvwAC8xCFMwXAgPVQVkrsEsCAlUGWSKUawMDphfmJkRrAwK6LZA6xFMCANarTOsoNwAASqrIRzAfAAE75C4qw/b8A/H8Y+5X4vwDMtsBaEdI/ANyq0imO1D8AgE6qKHSEPwBOgXTr+vi/gBH1ftmeDcCAKlDTamoYwAAyGdRYgBfAQFtDpjYREsCAFjF7jSUIwACmYdueKPy/AIHhXlEv9L8AjmRYl/HrvwDUWpPvzOg/AKMGcXnu8j8AAP8ShhjCPwCM8/wdK/y/ADWn5yezDcAAzBQmTyMWwEDX3jcDvxXAwAdiA9kIEsCAtwMsWSAJwIDXdi3n+wLAAKaVGPVS9r8ApPEwnlztvwBygqwzPuo/ADwf004g6z8AiGBpIt/DPw==\",\"dtype\":\"float64\",\"order\":\"little\",\"shape\":[587]}},\"selected\":{\"id\":\"2031\"},\"selection_policy\":{\"id\":\"2032\"}},\"id\":\"2017\",\"type\":\"ColumnDataSource\"},{\"attributes\":{\"axis\":{\"id\":\"1982\"},\"dimension\":1,\"ticker\":null},\"id\":\"1985\",\"type\":\"Grid\"},{\"attributes\":{\"data_source\":{\"id\":\"2000\"},\"glyph\":{\"id\":\"2001\"},\"hover_glyph\":null,\"muted_glyph\":null,\"nonselection_glyph\":{\"id\":\"2002\"},\"view\":{\"id\":\"2004\"}},\"id\":\"2003\",\"type\":\"GlyphRenderer\"},{\"attributes\":{},\"id\":\"1983\",\"type\":\"BasicTicker\"},{\"attributes\":{},\"id\":\"1979\",\"type\":\"BasicTicker\"},{\"attributes\":{},\"id\":\"2006\",\"type\":\"BasicTickFormatter\"},{\"attributes\":{\"axis_label\":\"Residual\",\"formatter\":{\"id\":\"2009\"},\"major_label_policy\":{\"id\":\"2011\"},\"ticker\":{\"id\":\"1983\"}},\"id\":\"1982\",\"type\":\"LinearAxis\"},{\"attributes\":{\"source\":{\"id\":\"2017\"}},\"id\":\"2021\",\"type\":\"CDSView\"},{\"attributes\":{\"axis\":{\"id\":\"1978\"},\"ticker\":null},\"id\":\"1981\",\"type\":\"Grid\"},{\"attributes\":{},\"id\":\"2011\",\"type\":\"AllLabels\"},{\"attributes\":{\"formatter\":{\"id\":\"2006\"},\"major_label_policy\":{\"id\":\"2008\"},\"ticker\":{\"id\":\"1979\"}},\"id\":\"1978\",\"type\":\"LinearAxis\"},{\"attributes\":{},\"id\":\"1989\",\"type\":\"SaveTool\"},{\"attributes\":{},\"id\":\"1974\",\"type\":\"LinearScale\"},{\"attributes\":{},\"id\":\"2032\",\"type\":\"UnionRenderers\"},{\"attributes\":{},\"id\":\"1970\",\"type\":\"DataRange1d\"},{\"attributes\":{},\"id\":\"1976\",\"type\":\"LinearScale\"},{\"attributes\":{\"data_source\":{\"id\":\"2017\"},\"glyph\":{\"id\":\"2018\"},\"hover_glyph\":null,\"muted_glyph\":null,\"nonselection_glyph\":{\"id\":\"2019\"},\"view\":{\"id\":\"2021\"}},\"id\":\"2020\",\"type\":\"GlyphRenderer\"},{\"attributes\":{},\"id\":\"1972\",\"type\":\"DataRange1d\"},{\"attributes\":{\"fill_alpha\":{\"value\":0.1},\"fill_color\":{\"value\":\"blue\"},\"line_alpha\":{\"value\":0.1},\"line_color\":{\"value\":\"navy\"},\"size\":{\"value\":2},\"x\":{\"field\":\"x\"},\"y\":{\"field\":\"y\"}},\"id\":\"2002\",\"type\":\"Scatter\"},{\"attributes\":{},\"id\":\"2008\",\"type\":\"AllLabels\"},{\"attributes\":{},\"id\":\"1986\",\"type\":\"PanTool\"},{\"attributes\":{},\"id\":\"1987\",\"type\":\"WheelZoomTool\"},{\"attributes\":{},\"id\":\"2009\",\"type\":\"BasicTickFormatter\"},{\"attributes\":{\"text\":\"Residuals\"},\"id\":\"1968\",\"type\":\"Title\"},{\"attributes\":{\"bottom_units\":\"screen\",\"fill_alpha\":0.5,\"fill_color\":\"lightgrey\",\"left_units\":\"screen\",\"level\":\"overlay\",\"line_alpha\":1.0,\"line_color\":\"black\",\"line_dash\":[4,4],\"line_width\":2,\"right_units\":\"screen\",\"syncable\":false,\"top_units\":\"screen\"},\"id\":\"1992\",\"type\":\"BoxAnnotation\"},{\"attributes\":{\"fill_alpha\":{\"value\":0.1},\"fill_color\":{\"value\":\"aquamarine\"},\"line_alpha\":{\"value\":0.1},\"line_color\":{\"value\":\"green\"},\"size\":{\"value\":2},\"x\":{\"field\":\"x\"},\"y\":{\"field\":\"y\"}},\"id\":\"2019\",\"type\":\"Scatter\"},{\"attributes\":{\"fill_alpha\":{\"value\":0.5},\"fill_color\":{\"value\":\"blue\"},\"line_color\":{\"value\":\"navy\"},\"size\":{\"value\":2},\"x\":{\"field\":\"x\"},\"y\":{\"field\":\"y\"}},\"id\":\"2001\",\"type\":\"Scatter\"},{\"attributes\":{\"overlay\":{\"id\":\"1992\"}},\"id\":\"1988\",\"type\":\"BoxZoomTool\"},{\"attributes\":{},\"id\":\"1990\",\"type\":\"ResetTool\"},{\"attributes\":{},\"id\":\"2012\",\"type\":\"Selection\"},{\"attributes\":{\"fill_alpha\":{\"value\":0.5},\"fill_color\":{\"value\":\"aquamarine\"},\"line_color\":{\"value\":\"green\"},\"size\":{\"value\":2},\"x\":{\"field\":\"x\"},\"y\":{\"field\":\"y\"}},\"id\":\"2018\",\"type\":\"Scatter\"},{\"attributes\":{},\"id\":\"2013\",\"type\":\"UnionRenderers\"},{\"attributes\":{\"active_multi\":null,\"tools\":[{\"id\":\"1986\"},{\"id\":\"1987\"},{\"id\":\"1988\"},{\"id\":\"1989\"},{\"id\":\"1990\"},{\"id\":\"1991\"}]},\"id\":\"1993\",\"type\":\"Toolbar\"},{\"attributes\":{},\"id\":\"1991\",\"type\":\"HelpTool\"},{\"attributes\":{},\"id\":\"2031\",\"type\":\"Selection\"},{\"attributes\":{\"data\":{\"x\":[0.20833333333333334,0.2916666666666667,0.375,0.5416666666666666,0.625,0.7083333333333334,0.875,0.9583333333333334,1.0416666666666667,1.125,1.2083333333333333,1.2916666666666667,1.375,1.4583333333333333,1.5416666666666667,1.625,1.7083333333333333,1.7916666666666667,1.875,1.9583333333333333,2.0416666666666665,2.125,2.2083333333333335,2.2916666666666665,2.375,2.4583333333333335,2.5416666666666665,2.625,2.7083333333333335,2.7916666666666665,2.875,2.9583333333333335,3.0416666666666665,3.125,3.2083333333333335,3.2916666666666665,3.375,3.4583333333333335,3.5416666666666665,3.625,3.7083333333333335,3.7916666666666665,3.875,3.9583333333333335,4.041666666666667,4.125,4.208333333333333,4.291666666666667,4.375,4.458333333333333,4.541666666666667,4.625,4.708333333333333,4.791666666666667,4.875,4.958333333333333,5.041666666666667,5.125,5.208333333333333,5.291666666666667,5.375,5.458333333333333,5.541666666666667,5.625,5.708333333333333,5.791666666666667,5.875,5.958333333333333,6.041666666666667,6.375,6.458333333333333,6.541666666666667,6.625,6.708333333333333,6.791666666666667,6.875,6.958333333333333,7.041666666666667,7.125,7.208333333333333,7.291666666666667,7.375,7.458333333333333,7.541666666666667,7.625,7.708333333333333,7.791666666666667,7.875,7.958333333333333,8.041666666666666,8.125,8.208333333333334,8.291666666666666,8.375,8.458333333333334,8.541666666666666,8.625,8.708333333333334,8.791666666666666,8.875,8.958333333333334,9.041666666666666,9.125,9.208333333333334,9.291666666666666,9.375,9.458333333333334,9.541666666666666,9.625,9.708333333333334,9.791666666666666,9.875,9.958333333333334,10.041666666666666,10.125,10.208333333333334,10.291666666666666,10.375,10.458333333333334,10.541666666666666,10.625,10.708333333333334,10.791666666666666,10.875,10.958333333333334,11.041666666666666,11.125,11.208333333333334,11.291666666666666,11.375,11.458333333333334,11.541666666666666,11.625,11.708333333333334,11.791666666666666,11.875,11.958333333333334,12.041666666666666,12.125,12.208333333333334,12.291666666666666,12.375,12.458333333333334,12.541666666666666,12.625,12.708333333333334,12.791666666666666,12.875,12.958333333333334,13.041666666666666,13.125,13.208333333333334,13.291666666666666,13.375,13.458333333333334,13.541666666666666,13.625,13.708333333333334,13.791666666666666,13.875,13.958333333333334,14.041666666666666,14.125,14.208333333333334,14.291666666666666,14.375,14.458333333333334,14.541666666666666,14.625,14.708333333333334,14.791666666666666,14.875,14.958333333333334,15.041666666666666,15.125,15.208333333333334,15.291666666666666,15.375,15.458333333333334,15.541666666666666,15.625,15.708333333333334,15.791666666666666,15.875,15.958333333333334,16.041666666666668,16.125,16.208333333333332,16.291666666666668,16.375,16.458333333333332,16.541666666666668,16.625,16.708333333333332,16.791666666666668,16.875,16.958333333333332,17.041666666666668,17.125,17.208333333333332,17.291666666666668,17.375,17.458333333333332,17.541666666666668,17.625,17.708333333333332,17.791666666666668,17.875,17.958333333333332,18.041666666666668,18.125,18.208333333333332,18.291666666666668,18.375,18.458333333333332,18.541666666666668,18.625,18.708333333333332,18.791666666666668,18.875,18.958333333333332,19.041666666666668,19.125,19.208333333333332,19.291666666666668,19.375,19.458333333333332,19.541666666666668,19.625,19.708333333333332,19.791666666666668,19.875,19.958333333333332,20.041666666666668,20.125,20.208333333333332,20.291666666666668,20.375,20.458333333333332,20.541666666666668,20.625,20.708333333333332,20.791666666666668,20.875,20.958333333333332,21.041666666666668,21.125,21.208333333333332,21.291666666666668,21.375,21.458333333333332,21.541666666666668,21.625,21.708333333333332,21.791666666666668,21.875,21.958333333333332,22.041666666666668,22.125,22.208333333333332,22.291666666666668,22.375,22.458333333333332,22.541666666666668,22.625,22.708333333333332,22.791666666666668,22.875,22.958333333333332,23.041666666666668,23.125,23.208333333333332,23.291666666666668,23.375,23.458333333333332,23.541666666666668,23.625,23.708333333333332,23.791666666666668,23.875,23.958333333333332,24.041666666666668,24.125,24.208333333333332,24.291666666666668,24.375,24.458333333333332,24.541666666666668,24.625,24.708333333333332,24.791666666666668,24.875,24.958333333333332,25.041666666666668,25.125,25.208333333333332,25.291666666666668,25.375,25.458333333333332,25.541666666666668,25.625,25.708333333333332,25.791666666666668,25.875,25.958333333333332,26.041666666666668,26.125,26.208333333333332,26.291666666666668,26.375,26.458333333333332,26.541666666666668,26.625,26.708333333333332,26.791666666666668,26.875,26.958333333333332,27.041666666666668,27.125,27.208333333333332,27.291666666666668,27.375,27.458333333333332,27.541666666666668,27.625,27.708333333333332,27.791666666666668,27.875,27.958333333333332,28.041666666666668,28.125,28.208333333333332,28.291666666666668,28.375,28.458333333333332,28.541666666666668,28.625,28.708333333333332,28.791666666666668,28.875,28.958333333333332,29.041666666666668,29.125,29.208333333333332,29.291666666666668,29.375,29.458333333333332,29.541666666666668,29.625,29.708333333333332,29.791666666666668,29.875,29.958333333333332,30.041666666666668,30.125,30.208333333333332,30.291666666666668,30.375,30.458333333333332,30.541666666666668,30.625,30.708333333333332,30.791666666666668,30.875,30.958333333333332,31.041666666666668,31.125,31.208333333333332,31.291666666666668,31.375,31.458333333333332,31.541666666666668,31.625,31.708333333333332,31.791666666666668,31.875,31.958333333333332,32.041666666666664,32.125,32.208333333333336,32.291666666666664,32.375,32.458333333333336,32.541666666666664,32.625,32.708333333333336,32.791666666666664,32.875,32.958333333333336,33.041666666666664,33.125,33.208333333333336,33.291666666666664,33.375,33.458333333333336,33.541666666666664,33.625,33.708333333333336,33.791666666666664,33.875,33.958333333333336,34.041666666666664,34.125,34.208333333333336,34.291666666666664,34.375,34.458333333333336,34.541666666666664,34.625,34.708333333333336,34.791666666666664,34.875,34.958333333333336,35.041666666666664,35.125,35.208333333333336,35.291666666666664,35.375,35.458333333333336,35.541666666666664,35.625,35.708333333333336,35.791666666666664,35.875,35.958333333333336,36.041666666666664,36.125,36.208333333333336,36.291666666666664,36.375,36.458333333333336,36.541666666666664,36.625,36.708333333333336,36.791666666666664,36.875,36.958333333333336,37.041666666666664,37.125,37.208333333333336,37.291666666666664,37.375,37.458333333333336,37.541666666666664,37.625,37.708333333333336,37.791666666666664,37.875,37.958333333333336,38.041666666666664,38.125,38.208333333333336,38.291666666666664,38.375,38.458333333333336,38.541666666666664,38.625,38.708333333333336,38.791666666666664,38.875,38.958333333333336,39.041666666666664,39.125,39.208333333333336,39.291666666666664,39.375,39.458333333333336,39.541666666666664,39.625,39.708333333333336,39.791666666666664,39.875,39.958333333333336,40.041666666666664,40.125,40.208333333333336,40.291666666666664,40.375,40.458333333333336,40.541666666666664,40.625,40.708333333333336,40.791666666666664,40.875,40.958333333333336,41.041666666666664,41.125,41.208333333333336,41.291666666666664,41.375,41.458333333333336,41.541666666666664,41.625,41.708333333333336,41.791666666666664,41.875,41.958333333333336,42.041666666666664,42.125,42.208333333333336,42.291666666666664,42.375,42.458333333333336,42.541666666666664,42.625,42.708333333333336,42.791666666666664,42.875,42.958333333333336,43.041666666666664,43.125,43.208333333333336,43.291666666666664,43.375,43.458333333333336,43.541666666666664,43.625,43.708333333333336,43.791666666666664,43.875,43.958333333333336,44.041666666666664,44.125,44.208333333333336,44.291666666666664,44.375,44.458333333333336,44.541666666666664,44.625,44.708333333333336,44.791666666666664,44.875,44.958333333333336,45.041666666666664,45.125,45.208333333333336,45.291666666666664,45.375,45.458333333333336,45.541666666666664,45.625,45.708333333333336,45.791666666666664,45.875,45.958333333333336,46.041666666666664,46.125,46.208333333333336,46.291666666666664,46.375,46.458333333333336,46.541666666666664,46.625,46.708333333333336,46.791666666666664,46.875,46.958333333333336,47.041666666666664,47.125,47.208333333333336,47.291666666666664,47.375,47.458333333333336,47.541666666666664,47.625,47.708333333333336,47.791666666666664,47.875,47.958333333333336,48.041666666666664,48.125,48.208333333333336,48.291666666666664,48.375,48.458333333333336,48.541666666666664,48.625,48.708333333333336,48.791666666666664,48.875,48.958333333333336,49.041666666666664,49.125,49.208333333333336,49.291666666666664,49.375,49.458333333333336],\"y\":{\"__ndarray__\":\"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\",\"dtype\":\"float64\",\"order\":\"little\",\"shape\":[587]}},\"selected\":{\"id\":\"2012\"},\"selection_policy\":{\"id\":\"2013\"}},\"id\":\"2000\",\"type\":\"ColumnDataSource\"},{\"attributes\":{\"label\":{\"value\":\"R_cubic\"},\"renderers\":[{\"id\":\"2020\"}]},\"id\":\"2034\",\"type\":\"LegendItem\"},{\"attributes\":{\"label\":{\"value\":\"R_quadratic\"},\"renderers\":[{\"id\":\"2003\"}]},\"id\":\"2016\",\"type\":\"LegendItem\"}],\"root_ids\":[\"1967\"]},\"title\":\"Bokeh Application\",\"version\":\"2.3.1\"}};\n",
       "  var render_items = [{\"docid\":\"f140ba57-9668-4dad-827d-fd47f5d6f9db\",\"root_ids\":[\"1967\"],\"roots\":{\"1967\":\"ab63d294-c574-4608-a534-2690a70c32d8\"}}];\n",
       "  root.Bokeh.embed.embed_items_notebook(docs_json, render_items);\n",
       "\n",
       "  }\n",
       "  if (root.Bokeh !== undefined) {\n",
       "    embed_document(root);\n",
       "  } else {\n",
       "    var attempts = 0;\n",
       "    var timer = setInterval(function(root) {\n",
       "      if (root.Bokeh !== undefined) {\n",
       "        clearInterval(timer);\n",
       "        embed_document(root);\n",
       "      } else {\n",
       "        attempts++;\n",
       "        if (attempts > 100) {\n",
       "          clearInterval(timer);\n",
       "          console.log(\"Bokeh: ERROR: Unable to run BokehJS code because BokehJS library is missing\");\n",
       "        }\n",
       "      }\n",
       "    }, 10, root)\n",
       "  }\n",
       "})(window);"
      ],
      "application/vnd.bokehjs_exec.v0+json": ""
     },
     "metadata": {
      "application/vnd.bokehjs_exec.v0+json": {
       "id": "1967"
      }
     },
     "output_type": "display_data"
    }
   ],
   "source": [
    "p = figure(plot_width=400, plot_height=400, title = \"Residuals\")\n",
    "p.scatter(x_train,y_train - quadratic ,size=2, line_color=\"navy\", fill_color=\"blue\", fill_alpha=0.5, legend_label =\"R_quadratic\")\n",
    "p.scatter(x_train,y_train - cubic - 3,size=2, line_color=\"green\", fill_color=\"aquamarine\", fill_alpha=0.5, legend_label =\"R_cubic\")\n",
    "p.yaxis.axis_label ='Residual'\n",
    "p.legend.location = \"bottom_left\"\n",
    "show(p)\n"
   ]
  },
  {
   "cell_type": "code",
   "execution_count": 12,
   "metadata": {},
   "outputs": [
    {
     "data": {
      "text/html": [
       "\n",
       "\n",
       "\n",
       "\n",
       "\n",
       "\n",
       "  <div class=\"bk-root\" id=\"6bb4300c-27dd-4ba1-96d5-72f9306d347b\" data-root-id=\"2177\"></div>\n"
      ]
     },
     "metadata": {},
     "output_type": "display_data"
    },
    {
     "data": {
      "application/javascript": [
       "(function(root) {\n",
       "  function embed_document(root) {\n",
       "    \n",
       "  var docs_json = {\"1e6915e7-b318-47a9-a4fe-3852fc544f15\":{\"defs\":[],\"roots\":{\"references\":[{\"attributes\":{\"below\":[{\"id\":\"2188\"}],\"center\":[{\"id\":\"2191\"},{\"id\":\"2195\"},{\"id\":\"2225\"}],\"height\":400,\"left\":[{\"id\":\"2192\"}],\"renderers\":[{\"id\":\"2213\"},{\"id\":\"2230\"},{\"id\":\"2248\"}],\"title\":{\"id\":\"2178\"},\"toolbar\":{\"id\":\"2203\"},\"width\":400,\"x_range\":{\"id\":\"2180\"},\"x_scale\":{\"id\":\"2184\"},\"y_range\":{\"id\":\"2182\"},\"y_scale\":{\"id\":\"2186\"}},\"id\":\"2177\",\"subtype\":\"Figure\",\"type\":\"Plot\"},{\"attributes\":{},\"id\":\"2200\",\"type\":\"ResetTool\"},{\"attributes\":{\"text\":\"C02 Variation with time\"},\"id\":\"2178\",\"type\":\"Title\"},{\"attributes\":{\"data_source\":{\"id\":\"2245\"},\"glyph\":{\"id\":\"2246\"},\"hover_glyph\":null,\"muted_glyph\":null,\"nonselection_glyph\":{\"id\":\"2247\"},\"view\":{\"id\":\"2249\"}},\"id\":\"2248\",\"type\":\"GlyphRenderer\"},{\"attributes\":{},\"id\":\"2201\",\"type\":\"HelpTool\"},{\"attributes\":{},\"id\":\"2180\",\"type\":\"DataRange1d\"},{\"attributes\":{\"line_alpha\":0.1,\"line_color\":\"navy\",\"line_width\":2.5,\"x\":{\"field\":\"x\"},\"y\":{\"field\":\"y\"}},\"id\":\"2247\",\"type\":\"Line\"},{\"attributes\":{},\"id\":\"2261\",\"type\":\"Selection\"},{\"attributes\":{},\"id\":\"2218\",\"type\":\"AllLabels\"},{\"attributes\":{},\"id\":\"2182\",\"type\":\"DataRange1d\"},{\"attributes\":{\"source\":{\"id\":\"2245\"}},\"id\":\"2249\",\"type\":\"CDSView\"},{\"attributes\":{\"bottom_units\":\"screen\",\"fill_alpha\":0.5,\"fill_color\":\"lightgrey\",\"left_units\":\"screen\",\"level\":\"overlay\",\"line_alpha\":1.0,\"line_color\":\"black\",\"line_dash\":[4,4],\"line_width\":2,\"right_units\":\"screen\",\"syncable\":false,\"top_units\":\"screen\"},\"id\":\"2202\",\"type\":\"BoxAnnotation\"},{\"attributes\":{},\"id\":\"2184\",\"type\":\"LinearScale\"},{\"attributes\":{},\"id\":\"2219\",\"type\":\"BasicTickFormatter\"},{\"attributes\":{},\"id\":\"2186\",\"type\":\"LinearScale\"},{\"attributes\":{\"line_color\":\"navy\",\"line_width\":2.5,\"x\":{\"field\":\"x\"},\"y\":{\"field\":\"y\"}},\"id\":\"2246\",\"type\":\"Line\"},{\"attributes\":{},\"id\":\"2221\",\"type\":\"AllLabels\"},{\"attributes\":{\"axis_label\":\"t_i\",\"formatter\":{\"id\":\"2216\"},\"major_label_policy\":{\"id\":\"2218\"},\"ticker\":{\"id\":\"2189\"}},\"id\":\"2188\",\"type\":\"LinearAxis\"},{\"attributes\":{},\"id\":\"2262\",\"type\":\"UnionRenderers\"},{\"attributes\":{},\"id\":\"2222\",\"type\":\"Selection\"},{\"attributes\":{},\"id\":\"2189\",\"type\":\"BasicTicker\"},{\"attributes\":{\"label\":{\"value\":\"Cubic Model Predictions\"},\"renderers\":[{\"id\":\"2248\"}]},\"id\":\"2264\",\"type\":\"LegendItem\"},{\"attributes\":{},\"id\":\"2223\",\"type\":\"UnionRenderers\"},{\"attributes\":{\"axis\":{\"id\":\"2188\"},\"ticker\":null},\"id\":\"2191\",\"type\":\"Grid\"},{\"attributes\":{\"items\":[{\"id\":\"2226\"},{\"id\":\"2244\"},{\"id\":\"2264\"}],\"location\":\"top_left\"},\"id\":\"2225\",\"type\":\"Legend\"},{\"attributes\":{\"axis_label\":\"CO2 Concentration\",\"formatter\":{\"id\":\"2219\"},\"major_label_policy\":{\"id\":\"2221\"},\"ticker\":{\"id\":\"2193\"}},\"id\":\"2192\",\"type\":\"LinearAxis\"},{\"attributes\":{\"label\":{\"value\":\"Test Data\"},\"renderers\":[{\"id\":\"2213\"}]},\"id\":\"2226\",\"type\":\"LegendItem\"},{\"attributes\":{},\"id\":\"2193\",\"type\":\"BasicTicker\"},{\"attributes\":{\"data\":{\"x\":[49.541666666666664,49.625,49.708333333333336,49.791666666666664,49.875,49.958333333333336,50.041666666666664,50.125,50.208333333333336,50.291666666666664,50.375,50.458333333333336,50.541666666666664,50.625,50.708333333333336,50.791666666666664,50.875,50.958333333333336,51.041666666666664,51.125,51.208333333333336,51.291666666666664,51.375,51.458333333333336,51.541666666666664,51.625,51.708333333333336,51.791666666666664,51.875,51.958333333333336,52.041666666666664,52.125,52.208333333333336,52.291666666666664,52.375,52.458333333333336,52.541666666666664,52.625,52.708333333333336,52.791666666666664,52.875,52.958333333333336,53.041666666666664,53.125,53.208333333333336,53.291666666666664,53.375,53.458333333333336,53.541666666666664,53.625,53.708333333333336,53.791666666666664,53.875,53.958333333333336,54.041666666666664,54.125,54.208333333333336,54.291666666666664,54.375,54.458333333333336,54.541666666666664,54.625,54.708333333333336,54.791666666666664,54.875,54.958333333333336,55.041666666666664,55.125,55.208333333333336,55.291666666666664,55.375,55.458333333333336,55.541666666666664,55.625,55.708333333333336,55.791666666666664,55.875,55.958333333333336,56.041666666666664,56.125,56.208333333333336,56.291666666666664,56.375,56.458333333333336,56.541666666666664,56.625,56.708333333333336,56.791666666666664,56.875,56.958333333333336,57.041666666666664,57.125,57.208333333333336,57.291666666666664,57.375,57.458333333333336,57.541666666666664,57.625,57.708333333333336,57.791666666666664,57.875,57.958333333333336,58.041666666666664,58.125,58.208333333333336,58.291666666666664,58.375,58.458333333333336,58.541666666666664,58.625,58.708333333333336,58.791666666666664,58.875,58.958333333333336,59.041666666666664,59.125,59.208333333333336,59.291666666666664,59.375,59.458333333333336,59.541666666666664,59.625,59.708333333333336,59.791666666666664,59.875,59.958333333333336,60.041666666666664,60.125,60.208333333333336,60.291666666666664,60.375,60.458333333333336,60.541666666666664,60.625,60.708333333333336,60.791666666666664,60.875,60.958333333333336,61.041666666666664,61.125,61.208333333333336,61.291666666666664,61.375,61.458333333333336,61.541666666666664,61.625,61.708333333333336],\"y\":{\"__ndarray__\":\"UslsPuDtd0BL1CINUfB3QBlkhQzC8ndArS8mPDP1d0D47ZabpPd3QOhVaSoW+ndAbx4v6If8d0B9/nnU+f53QACt2+5rAXhA6uDlNt4DeEArUSqsUAZ4QLK0Ok7DCHhAb8KoHDYLeEBTMQYXqQ14QE645DwcEHhATw7WjY8SeEBH6msJAxV4QCYDOK92F3hA2g/MfuoZeEBXx7l3Xhx4QIrgkpnSHnhAZBLp40YheEDUE05WuyN4QMybU/AvJnhAOmGLsaQoeEAQG4eZGSt4QD2A2KeOLXhAsUcR3AMweEBcKMM1eTJ4QC7Zf7TuNHhAGBHZV2Q3eEAIh2Af2jl4QPDxpwpQPHhAwAhBGcY+eEBmgr1KPEF4QNUVr56yQ3hA+nmnFClGeEDIZTisn0h4QCyQ82QWS3hAGbBqPo1NeEB9fC84BFB4QEms01F7UnhAbPboivJUeEDXEQHjaVd4QHq1rVnhWXhARZiA7lhceEAocQuh0F54QBL333BIYXhA9eCPXcBjeEDA5axmOGZ4QGK8yIuwaHhAzBt1zChreEDwukMooW14QLpQxp4ZcHhAHpSOL5JyeEAJPC7aCnV4QGz/Np6Dd3hAOZU6e/x5eEBdtMpwdXx4QMoTeX7ufnhAb2rXo2eBeEA9b3fg4IN4QCPZ6jNahnhAEl/DndOIeED5t5IdTYt4QMma6rLGjXhAcr5cXUCQeEDj2XocupJ4QA6k1u8zlXhA4NMB162XeEBMII7RJ5p4QEFADd+hnHhAruoQ/xufeECG1ioxlqF4QLW67HQQpHhALk7oyYqmeEDgR68vBal4QLpe06V/q3hArknmK/qteECsv3nBdLB4QKJ3H2bvsnhAgihpGWq1eEA7ieja5Ld4QL5QL6pfunhA+jXPhtq8eEDf71lwVb94QF41YWbQwXhAZr12aEvEeEDoPix2xsZ4QNRwE49ByXhAGQq+srzLeECowb3gN854QHBOpBiz0HhAYmcDWi7TeEBvw2ykqdV4QIUZcvck2HhAlSClUqDaeECPj5e1G914QGMd2x+X33hAAIEBkRLieEBYcZwIjuR4QFqlPYYJ53hA9tN2CYXpeEAdtNmRAOx4QL789x587nhAyGRjsPfweEAuo61Fc/N4QN1uaN7u9XhAxn4lemr4eEDbiXYY5vp4QApH7bhh/XhAQm0bW93/eEB2s5L+WAJ5QJXQ5KLUBHlAjnujR1AHeUBRa2Dsywl5QNBWrZBHDHlA+PQbNMMOeUC8/D3WPhF5QAslpXa6E3lA1CTjFDYWeUAJs4mwsRh5QJiGKkktG3lAclZX3qgdeUCI2aFvJCB5QMjGm/yfInlAI9XWhBsleUCKu+QHlyd5QOwwV4USKnlAOey//I0seUBhpLBtCS95QFQQu9eEMXlABOdwOgA0eUBe32OVezZ5QFSwJej2OHlA1BBIMnI7eUDRt1xz7T15QDpc9apoQHlA/rSj2ONCeUANefn7XkV5QFhfiBTaR3lAzx7iIVVKeUBhbpgj0Ex5QAAFPRlLT3lAmplhAsZReUAg45feQFR5QIKYca27VnlA\",\"dtype\":\"float64\",\"order\":\"little\",\"shape\":[147]}},\"selected\":{\"id\":\"2261\"},\"selection_policy\":{\"id\":\"2262\"}},\"id\":\"2245\",\"type\":\"ColumnDataSource\"},{\"attributes\":{\"axis\":{\"id\":\"2192\"},\"dimension\":1,\"ticker\":null},\"id\":\"2195\",\"type\":\"Grid\"},{\"attributes\":{\"data_source\":{\"id\":\"2227\"},\"glyph\":{\"id\":\"2228\"},\"hover_glyph\":null,\"muted_glyph\":null,\"nonselection_glyph\":{\"id\":\"2229\"},\"view\":{\"id\":\"2231\"}},\"id\":\"2230\",\"type\":\"GlyphRenderer\"},{\"attributes\":{\"active_multi\":null,\"tools\":[{\"id\":\"2196\"},{\"id\":\"2197\"},{\"id\":\"2198\"},{\"id\":\"2199\"},{\"id\":\"2200\"},{\"id\":\"2201\"}]},\"id\":\"2203\",\"type\":\"Toolbar\"},{\"attributes\":{\"line_alpha\":0.1,\"line_color\":\"orange\",\"line_width\":2.5,\"x\":{\"field\":\"x\"},\"y\":{\"field\":\"y\"}},\"id\":\"2229\",\"type\":\"Line\"},{\"attributes\":{\"fill_alpha\":{\"value\":0.5},\"fill_color\":{\"value\":\"orange\"},\"line_color\":{\"value\":\"navy\"},\"size\":{\"value\":2},\"x\":{\"field\":\"x\"},\"y\":{\"field\":\"y\"}},\"id\":\"2211\",\"type\":\"Scatter\"},{\"attributes\":{},\"id\":\"2241\",\"type\":\"Selection\"},{\"attributes\":{\"fill_alpha\":{\"value\":0.1},\"fill_color\":{\"value\":\"orange\"},\"line_alpha\":{\"value\":0.1},\"line_color\":{\"value\":\"navy\"},\"size\":{\"value\":2},\"x\":{\"field\":\"x\"},\"y\":{\"field\":\"y\"}},\"id\":\"2212\",\"type\":\"Scatter\"},{\"attributes\":{\"source\":{\"id\":\"2210\"}},\"id\":\"2214\",\"type\":\"CDSView\"},{\"attributes\":{\"source\":{\"id\":\"2227\"}},\"id\":\"2231\",\"type\":\"CDSView\"},{\"attributes\":{\"data_source\":{\"id\":\"2210\"},\"glyph\":{\"id\":\"2211\"},\"hover_glyph\":null,\"muted_glyph\":null,\"nonselection_glyph\":{\"id\":\"2212\"},\"view\":{\"id\":\"2214\"}},\"id\":\"2213\",\"type\":\"GlyphRenderer\"},{\"attributes\":{\"data\":{\"x\":[49.541666666666664,49.625,49.708333333333336,49.791666666666664,49.875,49.958333333333336,50.041666666666664,50.125,50.208333333333336,50.291666666666664,50.375,50.458333333333336,50.541666666666664,50.625,50.708333333333336,50.791666666666664,50.875,50.958333333333336,51.041666666666664,51.125,51.208333333333336,51.291666666666664,51.375,51.458333333333336,51.541666666666664,51.625,51.708333333333336,51.791666666666664,51.875,51.958333333333336,52.041666666666664,52.125,52.208333333333336,52.291666666666664,52.375,52.458333333333336,52.541666666666664,52.625,52.708333333333336,52.791666666666664,52.875,52.958333333333336,53.041666666666664,53.125,53.208333333333336,53.291666666666664,53.375,53.458333333333336,53.541666666666664,53.625,53.708333333333336,53.791666666666664,53.875,53.958333333333336,54.041666666666664,54.125,54.208333333333336,54.291666666666664,54.375,54.458333333333336,54.541666666666664,54.625,54.708333333333336,54.791666666666664,54.875,54.958333333333336,55.041666666666664,55.125,55.208333333333336,55.291666666666664,55.375,55.458333333333336,55.541666666666664,55.625,55.708333333333336,55.791666666666664,55.875,55.958333333333336,56.041666666666664,56.125,56.208333333333336,56.291666666666664,56.375,56.458333333333336,56.541666666666664,56.625,56.708333333333336,56.791666666666664,56.875,56.958333333333336,57.041666666666664,57.125,57.208333333333336,57.291666666666664,57.375,57.458333333333336,57.541666666666664,57.625,57.708333333333336,57.791666666666664,57.875,57.958333333333336,58.041666666666664,58.125,58.208333333333336,58.291666666666664,58.375,58.458333333333336,58.541666666666664,58.625,58.708333333333336,58.791666666666664,58.875,58.958333333333336,59.041666666666664,59.125,59.208333333333336,59.291666666666664,59.375,59.458333333333336,59.541666666666664,59.625,59.708333333333336,59.791666666666664,59.875,59.958333333333336,60.041666666666664,60.125,60.208333333333336,60.291666666666664,60.375,60.458333333333336,60.541666666666664,60.625,60.708333333333336,60.791666666666664,60.875,60.958333333333336,61.041666666666664,61.125,61.208333333333336,61.291666666666664,61.375,61.458333333333336,61.541666666666664,61.625,61.708333333333336],\"y\":{\"__ndarray__\":\"hs+MbEL5d0AD29Be7vt3QLM2jgGb/ndAl+LEVEgBeECv3nRY9gN4QPsqngylBnhAe8dAcVQJeEAvtFyGBAx4QBbx8Uu1DnhAMn4AwmYReECCW4joGBR4QAWJib/LFnhAvAYER38ZeECo1Pd+Mxx4QMfyZGfoHnhAGmFLAJ4heEChH6tJVCR4QFwuhEMLJ3hAS43W7cIpeEBuPKJIeyx4QMU751M0L3hAUIulD+4xeEAOK917qDR4QAEbjphjN3hAJ1u4ZR86eECC61vj2zx4QBDMeBGZP3hA0vwO8FZCeEDIfR5/FUV4QPJOp77UR3hAUHCprpRKeEDi4SRPVU14QKijGaAWUHhAorWHodhSeEDQF29Tm1V4QDLKz7VeWHhAx8ypyCJbeECQH/2L5114QI7Cyf+sYHhAv7UPJHNjeEAk+c74OWZ4QL6MB34BaXhAi3C5s8lreECMpOSZkm54QMEoiTBccXhAKv2mdyZ0eEDGIT5v8XZ4QJeWThe9eXhAnFvYb4l8eEDUcNt4Vn94QEHWVzIkgnhA4YtNnPKEeEC2kby2wYd4QL7npIGRinhA+o0G/WGNeEBqhOEoM5B4QA7LNQUFk3hA5mEDkteVeEDySErPqph4QDKACr1+m3hApgdEW1OeeEBN3/apKKF4QCkHI6n+o3hAOH/IWNWmeEB8R+e4rKl4QPNff8mErHhAnsiQil2veEB+gRv8NrJ4QJGKHx4RtXhA2OOc8Ou3eEBTjZNzx7p4QAKHA6ejvXhA5NDsioDAeED7ak8fXsN4QEZVK2Q8xnhAxI+AWRvJeEB3Gk//+st4QF71llXbznhAeCBYXLzReEDGm5ITntR4QEhnRnuA13hA/oJzk2PaeEDo7hlcR914QAarOdUr4HhAWLfS/hDjeEDeE+XY9uV4QJjAcGPd6HhAhr11nsTreECnCvSJrO54QPyn6yWV8XhAhpVccn70eEBE00ZvaPd4QDVhqhxT+nhAWj+Hej79eECzbd2IKgB5QEDsrEcXA3lAAbv1tgQGeUD22bfW8gh5QB9J86bhC3lAfAioJ9EOeUAMGNZYwRF5QNF3fTqyFHlAySeezKMXeUD2JzgPlhp5QFZ4SwKJHXlA6hjYpXwgeUCyCd75cCN5QK9KXf5lJnlA39tVs1speUBDvccYUix5QNvusi5JL3lApnAX9UAyeUCmQvVrOTV5QNpkTJMyOHlAQtccayw7eUDdmWbzJj55QK2sKSwiQXlAsA9mFR5EeUDowhuvGkd5QFLGSvkXSnlA8hnz8xVNeUDFvRSfFFB5QMyxr/oTU3lABvbDBhRWeUB2ilHDFFl5QBhvWDAWXHlA76PYTRhfeUD6KNIbG2J5QDj+RJoeZXlAqiMxySJoeUBRmZaoJ2t5QCxfdTgtbnlAOnXNeDNxeUB8255pOnR5QPKR6QpCd3lAnJitXEp6eUB67+peU315QIyWoRFdgHlA0Y3RdGeDeUBL1XqIcoZ5QPlsnUx+iXlA2lQ5wYqMeUDwjE7ml495QDkV3bulknlAtu3kQbSVeUBoFmZ4w5h5QE2PYF/Tm3lA\",\"dtype\":\"float64\",\"order\":\"little\",\"shape\":[147]}},\"selected\":{\"id\":\"2241\"},\"selection_policy\":{\"id\":\"2242\"}},\"id\":\"2227\",\"type\":\"ColumnDataSource\"},{\"attributes\":{},\"id\":\"2216\",\"type\":\"BasicTickFormatter\"},{\"attributes\":{},\"id\":\"2196\",\"type\":\"PanTool\"},{\"attributes\":{\"data\":{\"x\":[49.541666666666664,49.625,49.708333333333336,49.791666666666664,49.875,49.958333333333336,50.041666666666664,50.125,50.208333333333336,50.291666666666664,50.375,50.458333333333336,50.541666666666664,50.625,50.708333333333336,50.791666666666664,50.875,50.958333333333336,51.041666666666664,51.125,51.208333333333336,51.291666666666664,51.375,51.458333333333336,51.541666666666664,51.625,51.708333333333336,51.791666666666664,51.875,51.958333333333336,52.041666666666664,52.125,52.208333333333336,52.291666666666664,52.375,52.458333333333336,52.541666666666664,52.625,52.708333333333336,52.791666666666664,52.875,52.958333333333336,53.041666666666664,53.125,53.208333333333336,53.291666666666664,53.375,53.458333333333336,53.541666666666664,53.625,53.708333333333336,53.791666666666664,53.875,53.958333333333336,54.041666666666664,54.125,54.208333333333336,54.291666666666664,54.375,54.458333333333336,54.541666666666664,54.625,54.708333333333336,54.791666666666664,54.875,54.958333333333336,55.041666666666664,55.125,55.208333333333336,55.291666666666664,55.375,55.458333333333336,55.541666666666664,55.625,55.708333333333336,55.791666666666664,55.875,55.958333333333336,56.041666666666664,56.125,56.208333333333336,56.291666666666664,56.375,56.458333333333336,56.541666666666664,56.625,56.708333333333336,56.791666666666664,56.875,56.958333333333336,57.041666666666664,57.125,57.208333333333336,57.291666666666664,57.375,57.458333333333336,57.541666666666664,57.625,57.708333333333336,57.791666666666664,57.875,57.958333333333336,58.041666666666664,58.125,58.208333333333336,58.291666666666664,58.375,58.458333333333336,58.541666666666664,58.625,58.708333333333336,58.791666666666664,58.875,58.958333333333336,59.041666666666664,59.125,59.208333333333336,59.291666666666664,59.375,59.458333333333336,59.541666666666664,59.625,59.708333333333336,59.791666666666664,59.875,59.958333333333336,60.041666666666664,60.125,60.208333333333336,60.291666666666664,60.375,60.458333333333336,60.541666666666664,60.625,60.708333333333336,60.791666666666664,60.875,60.958333333333336,61.041666666666664,61.125,61.208333333333336,61.291666666666664,61.375,61.458333333333336,61.541666666666664,61.625,61.708333333333336],\"y\":[384.44,381.84,380.86,380.86,382.36,383.61,385.07,385.84,385.83,386.77,388.51,388.05,386.25,384.08,383.09,382.78,384.01,385.11,386.65,387.12,388.52,389.57,390.17,389.62,388.07,386.08,384.65,384.33,386.05,387.49,388.55,390.07,391.01,392.38,393.22,392.24,390.33,388.52,386.84,387.16,388.67,389.81,391.3,391.92,392.45,393.37,394.28,393.69,392.59,390.21,389.0,388.93,390.24,391.8,393.07,393.35,394.36,396.43,396.87,395.88,394.52,392.54,391.13,391.01,392.95,394.33,395.61,396.85,397.26,398.35,399.98,398.87,397.37,395.41,393.39,393.7,395.19,396.82,397.92,398.1,399.47,401.33,401.88,401.31,399.07,397.21,395.4,395.65,397.23,398.79,399.85,400.31,401.51,403.45,404.1,402.88,401.61,399.0,397.5,398.28,400.24,401.89,402.65,404.16,404.85,407.57,407.66,407.0,404.5,402.24,401.01,401.5,403.64,404.55,406.07,406.64,407.06,408.95,409.91,409.12,407.2,405.24,403.27,403.64,405.17,406.75,408.05,408.34,409.25,410.3,411.3,410.88,408.9,407.1,405.59,405.99,408.12,409.23,410.92,411.66,412.0,413.52,414.83,413.96,411.85,410.08,408.55]},\"selected\":{\"id\":\"2222\"},\"selection_policy\":{\"id\":\"2223\"}},\"id\":\"2210\",\"type\":\"ColumnDataSource\"},{\"attributes\":{\"line_color\":\"orange\",\"line_width\":2.5,\"x\":{\"field\":\"x\"},\"y\":{\"field\":\"y\"}},\"id\":\"2228\",\"type\":\"Line\"},{\"attributes\":{},\"id\":\"2197\",\"type\":\"WheelZoomTool\"},{\"attributes\":{},\"id\":\"2242\",\"type\":\"UnionRenderers\"},{\"attributes\":{\"overlay\":{\"id\":\"2202\"}},\"id\":\"2198\",\"type\":\"BoxZoomTool\"},{\"attributes\":{\"label\":{\"value\":\"Quadratic Model Predictions\"},\"renderers\":[{\"id\":\"2230\"}]},\"id\":\"2244\",\"type\":\"LegendItem\"},{\"attributes\":{},\"id\":\"2199\",\"type\":\"SaveTool\"}],\"root_ids\":[\"2177\"]},\"title\":\"Bokeh Application\",\"version\":\"2.3.1\"}};\n",
       "  var render_items = [{\"docid\":\"1e6915e7-b318-47a9-a4fe-3852fc544f15\",\"root_ids\":[\"2177\"],\"roots\":{\"2177\":\"6bb4300c-27dd-4ba1-96d5-72f9306d347b\"}}];\n",
       "  root.Bokeh.embed.embed_items_notebook(docs_json, render_items);\n",
       "\n",
       "  }\n",
       "  if (root.Bokeh !== undefined) {\n",
       "    embed_document(root);\n",
       "  } else {\n",
       "    var attempts = 0;\n",
       "    var timer = setInterval(function(root) {\n",
       "      if (root.Bokeh !== undefined) {\n",
       "        clearInterval(timer);\n",
       "        embed_document(root);\n",
       "      } else {\n",
       "        attempts++;\n",
       "        if (attempts > 100) {\n",
       "          clearInterval(timer);\n",
       "          console.log(\"Bokeh: ERROR: Unable to run BokehJS code because BokehJS library is missing\");\n",
       "        }\n",
       "      }\n",
       "    }, 10, root)\n",
       "  }\n",
       "})(window);"
      ],
      "application/vnd.bokehjs_exec.v0+json": ""
     },
     "metadata": {
      "application/vnd.bokehjs_exec.v0+json": {
       "id": "2177"
      }
     },
     "output_type": "display_data"
    },
    {
     "name": "stdout",
     "output_type": "stream",
     "text": [
      "The mean squared prediction error of the quadratic model is 2.5013322194898326\n",
      "The mean absolute percentage error of the quadratic model is 0.5320319129740952\n",
      "\n",
      "The mean squared prediction error of the cubic model is 4.149370712132838\n",
      "The mean absolute percentage error of the quadratic model is 0.8483502723893245\n"
     ]
    }
   ],
   "source": [
    "quadratic_test = model_2.predict(np.array(x_test).reshape(-1, 1))\n",
    "cubic_test = model_3.predict(np.array(x_test).reshape(-1, 1))\n",
    "\n",
    "p = figure(plot_width=400, plot_height=400, title = \"C02 Variation with time\")\n",
    "p.scatter(x_test,y_test,size=2, line_color=\"navy\", fill_color=\"orange\", fill_alpha=0.5, legend_label =\"Test Data\")\n",
    "p.line(x_test,quadratic_test, line_color=\"orange\",line_width=2.5,legend_label =\"Quadratic Model Predictions\")\n",
    "p.line(x_test,cubic_test, line_color=\"navy\",line_width=2.5,legend_label =\"Cubic Model Predictions\")\n",
    "p.xaxis.axis_label ='t_i'\n",
    "p.yaxis.axis_label ='CO2 Concentration'\n",
    "p.legend.location = \"top_left\"\n",
    "show(p)\n",
    "rmse_quadratic = (mean_squared_error(y_test, quadratic_test))**0.5\n",
    "mape_quadratic = mean_absolute_percentage_error(y_test, quadratic_test)\n",
    "mape_cubic = mean_absolute_percentage_error(y_test, cubic_test)\n",
    "rmse_cubic = (mean_squared_error(y_test, cubic_test))**0.5\n",
    "print(\"The mean squared prediction error of the quadratic model is \" + str(rmse_quadratic))\n",
    "print(\"The mean absolute percentage error of the quadratic model is \" + str(mape_quadratic))\n",
    "print(\"\\nThe mean squared prediction error of the cubic model is \" + str(rmse_cubic))\n",
    "print(\"The mean absolute percentage error of the quadratic model is \" + str(mape_cubic))"
   ]
  },
  {
   "cell_type": "markdown",
   "metadata": {},
   "source": [
    "We see that the quadratic model performs better than the cubic model and has a lower rmse. Additionally, we see that the residuals plot for both cubic and quadratic are non systematic on trend and very similar in magnitude - i.e. adding an extra degree of complexity hardly improves the model performance. Hence, we take the quadratic model to be representative of the deterministic trend in the timeseries"
   ]
  },
  {
   "cell_type": "markdown",
   "metadata": {},
   "source": [
    "Next we remove the periodic trend from the data. To do this, we must first remove the deterministic trend from the time series and fit a periodic signal to the remainder. "
   ]
  },
  {
   "cell_type": "code",
   "execution_count": 13,
   "metadata": {},
   "outputs": [
    {
     "data": {
      "text/html": [
       "<div>\n",
       "<style scoped>\n",
       "    .dataframe tbody tr th:only-of-type {\n",
       "        vertical-align: middle;\n",
       "    }\n",
       "\n",
       "    .dataframe tbody tr th {\n",
       "        vertical-align: top;\n",
       "    }\n",
       "\n",
       "    .dataframe thead th {\n",
       "        text-align: right;\n",
       "    }\n",
       "</style>\n",
       "<table border=\"1\" class=\"dataframe\">\n",
       "  <thead>\n",
       "    <tr style=\"text-align: right;\">\n",
       "      <th></th>\n",
       "      <th>year</th>\n",
       "      <th>month</th>\n",
       "      <th>co2</th>\n",
       "      <th>time</th>\n",
       "      <th>R_quad</th>\n",
       "    </tr>\n",
       "  </thead>\n",
       "  <tbody>\n",
       "    <tr>\n",
       "      <th>2</th>\n",
       "      <td>1958</td>\n",
       "      <td>3</td>\n",
       "      <td>315.70</td>\n",
       "      <td>0.208333</td>\n",
       "      <td>1.431786</td>\n",
       "    </tr>\n",
       "    <tr>\n",
       "      <th>3</th>\n",
       "      <td>1958</td>\n",
       "      <td>4</td>\n",
       "      <td>317.45</td>\n",
       "      <td>0.291667</td>\n",
       "      <td>3.114440</td>\n",
       "    </tr>\n",
       "    <tr>\n",
       "      <th>4</th>\n",
       "      <td>1958</td>\n",
       "      <td>5</td>\n",
       "      <td>317.51</td>\n",
       "      <td>0.375000</td>\n",
       "      <td>3.106925</td>\n",
       "    </tr>\n",
       "    <tr>\n",
       "      <th>6</th>\n",
       "      <td>1958</td>\n",
       "      <td>7</td>\n",
       "      <td>315.86</td>\n",
       "      <td>0.541667</td>\n",
       "      <td>1.321391</td>\n",
       "    </tr>\n",
       "    <tr>\n",
       "      <th>7</th>\n",
       "      <td>1958</td>\n",
       "      <td>8</td>\n",
       "      <td>314.93</td>\n",
       "      <td>0.625000</td>\n",
       "      <td>0.323372</td>\n",
       "    </tr>\n",
       "  </tbody>\n",
       "</table>\n",
       "</div>"
      ],
      "text/plain": [
       "   year  month     co2      time    R_quad\n",
       "2  1958      3  315.70  0.208333  1.431786\n",
       "3  1958      4  317.45  0.291667  3.114440\n",
       "4  1958      5  317.51  0.375000  3.106925\n",
       "6  1958      7  315.86  0.541667  1.321391\n",
       "7  1958      8  314.93  0.625000  0.323372"
      ]
     },
     "execution_count": 13,
     "metadata": {},
     "output_type": "execute_result"
    }
   ],
   "source": [
    "co2_train[\"R_quad\"] = y_train - quadratic\n",
    "co2_train.head(5)"
   ]
  },
  {
   "cell_type": "markdown",
   "metadata": {},
   "source": [
    "In this problem, it has been assumed that the time period is 12 (which seems to be valid as CO2 concentration is linked to seasonal variation.) First we extract the periodic monthly trend by taking the average of the periodic trend over all months. Next, we interpolate between this values to get a continuous periodic signal"
   ]
  },
  {
   "cell_type": "code",
   "execution_count": 20,
   "metadata": {},
   "outputs": [
    {
     "data": {
      "text/html": [
       "\n",
       "\n",
       "\n",
       "\n",
       "\n",
       "\n",
       "  <div class=\"bk-root\" id=\"7fdecbbc-5e67-432f-882f-84896549ffb4\" data-root-id=\"3311\"></div>\n"
      ]
     },
     "metadata": {},
     "output_type": "display_data"
    },
    {
     "data": {
      "application/javascript": [
       "(function(root) {\n",
       "  function embed_document(root) {\n",
       "    \n",
       "  var docs_json = {\"a28c1d83-94a0-486e-808d-8ce7bf45667a\":{\"defs\":[],\"roots\":{\"references\":[{\"attributes\":{\"below\":[{\"id\":\"3322\"}],\"center\":[{\"id\":\"3325\"},{\"id\":\"3329\"},{\"id\":\"3359\"}],\"height\":400,\"left\":[{\"id\":\"3326\"}],\"renderers\":[{\"id\":\"3347\"},{\"id\":\"3364\"}],\"title\":{\"id\":\"3312\"},\"toolbar\":{\"id\":\"3337\"},\"width\":400,\"x_range\":{\"id\":\"3314\"},\"x_scale\":{\"id\":\"3318\"},\"y_range\":{\"id\":\"3316\"},\"y_scale\":{\"id\":\"3320\"}},\"id\":\"3311\",\"subtype\":\"Figure\",\"type\":\"Plot\"},{\"attributes\":{\"formatter\":{\"id\":\"3350\"},\"major_label_policy\":{\"id\":\"3352\"},\"ticker\":{\"id\":\"3323\"}},\"id\":\"3322\",\"type\":\"LinearAxis\"},{\"attributes\":{\"label\":{\"value\":\"Periodic Signal\"},\"renderers\":[{\"id\":\"3364\"}]},\"id\":\"3378\",\"type\":\"LegendItem\"},{\"attributes\":{},\"id\":\"3356\",\"type\":\"Selection\"},{\"attributes\":{},\"id\":\"3316\",\"type\":\"DataRange1d\"},{\"attributes\":{},\"id\":\"3333\",\"type\":\"SaveTool\"},{\"attributes\":{},\"id\":\"3330\",\"type\":\"PanTool\"},{\"attributes\":{},\"id\":\"3318\",\"type\":\"LinearScale\"},{\"attributes\":{},\"id\":\"3320\",\"type\":\"LinearScale\"},{\"attributes\":{\"fill_alpha\":{\"value\":0.5},\"fill_color\":{\"value\":\"green\"},\"line_color\":{\"value\":\"navy\"},\"size\":{\"value\":6},\"x\":{\"field\":\"x\"},\"y\":{\"field\":\"y\"}},\"id\":\"3345\",\"type\":\"Scatter\"},{\"attributes\":{},\"id\":\"3323\",\"type\":\"BasicTicker\"},{\"attributes\":{},\"id\":\"3331\",\"type\":\"WheelZoomTool\"},{\"attributes\":{\"overlay\":{\"id\":\"3336\"}},\"id\":\"3332\",\"type\":\"BoxZoomTool\"},{\"attributes\":{},\"id\":\"3352\",\"type\":\"AllLabels\"},{\"attributes\":{},\"id\":\"3314\",\"type\":\"DataRange1d\"},{\"attributes\":{},\"id\":\"3350\",\"type\":\"BasicTickFormatter\"},{\"attributes\":{\"fill_alpha\":{\"value\":0.1},\"fill_color\":{\"value\":\"green\"},\"line_alpha\":{\"value\":0.1},\"line_color\":{\"value\":\"navy\"},\"size\":{\"value\":6},\"x\":{\"field\":\"x\"},\"y\":{\"field\":\"y\"}},\"id\":\"3346\",\"type\":\"Scatter\"},{\"attributes\":{},\"id\":\"3334\",\"type\":\"ResetTool\"},{\"attributes\":{\"text\":\"Periodic Signal\"},\"id\":\"3312\",\"type\":\"Title\"},{\"attributes\":{},\"id\":\"3327\",\"type\":\"BasicTicker\"},{\"attributes\":{},\"id\":\"3335\",\"type\":\"HelpTool\"},{\"attributes\":{\"items\":[{\"id\":\"3360\"},{\"id\":\"3378\"}]},\"id\":\"3359\",\"type\":\"Legend\"},{\"attributes\":{},\"id\":\"3355\",\"type\":\"AllLabels\"},{\"attributes\":{\"data_source\":{\"id\":\"3344\"},\"glyph\":{\"id\":\"3345\"},\"hover_glyph\":null,\"muted_glyph\":null,\"nonselection_glyph\":{\"id\":\"3346\"},\"view\":{\"id\":\"3348\"}},\"id\":\"3347\",\"type\":\"GlyphRenderer\"},{\"attributes\":{\"active_multi\":null,\"tools\":[{\"id\":\"3330\"},{\"id\":\"3331\"},{\"id\":\"3332\"},{\"id\":\"3333\"},{\"id\":\"3334\"},{\"id\":\"3335\"}]},\"id\":\"3337\",\"type\":\"Toolbar\"},{\"attributes\":{},\"id\":\"3353\",\"type\":\"BasicTickFormatter\"},{\"attributes\":{\"bottom_units\":\"screen\",\"fill_alpha\":0.5,\"fill_color\":\"lightgrey\",\"left_units\":\"screen\",\"level\":\"overlay\",\"line_alpha\":1.0,\"line_color\":\"black\",\"line_dash\":[4,4],\"line_width\":2,\"right_units\":\"screen\",\"syncable\":false,\"top_units\":\"screen\"},\"id\":\"3336\",\"type\":\"BoxAnnotation\"},{\"attributes\":{},\"id\":\"3357\",\"type\":\"UnionRenderers\"},{\"attributes\":{\"label\":{\"value\":\"Periodic Values\"},\"renderers\":[{\"id\":\"3347\"}]},\"id\":\"3360\",\"type\":\"LegendItem\"},{\"attributes\":{\"data\":{\"x\":{\"__ndarray__\":\"AAAAAAAA8D9yHMdxHMfxP+Q4juM4jvM/VVVVVVVV9T/HcRzHcRz3PzmO4ziO4/g/qqqqqqqq+j8cx3Ecx3H8P47jOI7jOP4/AAAAAAAAAEA5juM4juMAQHIcx3EcxwFAqqqqqqqqAkDkOI7jOI4DQBzHcRzHcQRAVVVVVVVVBUCO4ziO4zgGQMdxHMdxHAdAAAAAAAAACEA5juM4juMIQHIcx3EcxwlAqqqqqqqqCkDjOI7jOI4LQBzHcRzHcQxAVVVVVVVVDUCO4ziO4zgOQMdxHMdxHA9AAAAAAAAAEEAcx3Ecx3EQQDiO4ziO4xBAVVVVVVVVEUByHMdxHMcRQI7jOI7jOBJAqqqqqqqqEkDHcRzHcRwTQOQ4juM4jhNAAAAAAAAAFEAcx3Ecx3EUQDmO4ziO4xRAVVVVVVVVFUByHMdxHMcVQI7jOI7jOBZAqqqqqqqqFkDHcRzHcRwXQOM4juM4jhdAAAAAAAAAGEAcx3Ecx3EYQDmO4ziO4xhAVVVVVVVVGUBxHMdxHMcZQI7jOI7jOBpAqqqqqqqqGkDHcRzHcRwbQOM4juM4jhtAAAAAAAAAHEAcx3Ecx3EcQDiO4ziO4xxAVVVVVVVVHUBxHMdxHMcdQI7jOI7jOB5AqqqqqqqqHkDHcRzHcRwfQOM4juM4jh9AAAAAAAAAIECO4ziO4zggQBzHcRzHcSBAqqqqqqqqIEA4juM4juMgQMdxHMdxHCFAVVVVVVVVIUDkOI7jOI4hQHIcx3EcxyFAAAAAAAAAIkCO4ziO4zgiQBzHcRzHcSJAqqqqqqqqIkA5juM4juMiQMdxHMdxHCNAVVVVVVVVI0DjOI7jOI4jQHIcx3EcxyNAAAAAAAAAJECO4ziO4zgkQBzHcRzHcSRAqqqqqqqqJEA5juM4juMkQMdxHMdxHCVAVVVVVVVVJUDjOI7jOI4lQHEcx3EcxyVAAAAAAAAAJkCO4ziO4zgmQBzHcRzHcSZAqqqqqqqqJkA5juM4juMmQMdxHMdxHCdAVVVVVVVVJ0DjOI7jOI4nQHEcx3EcxydAAAAAAAAAKEA=\",\"dtype\":\"float64\",\"order\":\"little\",\"shape\":[100]},\"y\":{\"__ndarray__\":\"68OKNWR1ir9PyzQU3Yy2P0LOuun96sY/7AZ72AG50D9e0pzalYPVP52J+eUQ69k/yOxH5UgF3j8HXp/hCfTgP8VbSrWj1OI/tU8A41yv5D/qmRxgII/mP3Sa+iHZfug/ZbH1HXKJ6j/WPmlJ1rnsP9CisJnwGu8/t54TAtbb8D9gNxS/eU3yP23Lh/7Y5/M/5gocO2mw9T8Z+LvTran3P2LeR7hhyvk/XFvdvE0G/D+oDJq1OlH+P/THTbt4TwBAW8H/aZ1xAUBZwfHQ74gCQL6WMlpUjwNAWRDRb69+BEBJQ8C97VEFQOtdhPccCAZA7tSFElOhBkD9HC0Eph0HQMiq4sErfQdA+fIOQfq/B0BAahp3J+YHQEaFbVnJ7wdAv7hw3fXcB0BD4lTv260HQCyDbFYOYwdAvYXS0Dj9BkBB1KEcB30GQPtY9fck4wVAOP7nID4wBUA4rpRV/mQEQEZTFlQRggNApdeH2iKIAkB//UeP5XcBQHDmxLknUgBA6xdhE30v/j8Zz3ld/pL7P1zlN7F90Pg/t03/baXp9T8a+zPzH+DyPxTBc0Ava+8/4eHpqG3X6D+oPcWO3gjiPz5qmUNAC9Y/gj/RD/qivj8nUMSFuSG8v0kCo6zs+tW/kt3WTrGQ4r+yv046Ozfqv9GjX5wz9fC/5koXNcTR9L9ok+ukmqz4v8t04t+Ie/y/XgrOQ4EZAMBxTNyeveMBwH0T7FGzlgPASXLNLZwsBcC3e1ADsp8GwJBCRaMu6gfAstl73ksGCcC++v9xb+8JwIf6y8uupQrAqdQVRksqC8C/hBM7hn4LwGkG+wShowvARVUC/tyaC8DxbF+Ae2ULwAdJSOa9BAvAKeXyieV5CsAl+6AGyMYJwJ89w/uL7wjAah3WSez4B8BYC1bRo+cGwEd4v3JtwAXAB9WODgSIBMBtkkCFIkMDwFAhUbeD9gHAffI8heKmAMCs7QCf87H+v1Q+MO0II/y/n7gAtnqq+b8pPmu6vlH3v7SwaLtKIvW/3vHxeZQl879R4/+2EWXxv3XNFmdw1O+/eLsaYft87b8=\",\"dtype\":\"float64\",\"order\":\"little\",\"shape\":[100]}},\"selected\":{\"id\":\"3375\"},\"selection_policy\":{\"id\":\"3376\"}},\"id\":\"3361\",\"type\":\"ColumnDataSource\"},{\"attributes\":{\"data_source\":{\"id\":\"3361\"},\"glyph\":{\"id\":\"3362\"},\"hover_glyph\":null,\"muted_glyph\":null,\"nonselection_glyph\":{\"id\":\"3363\"},\"view\":{\"id\":\"3365\"}},\"id\":\"3364\",\"type\":\"GlyphRenderer\"},{\"attributes\":{\"line_alpha\":0.1,\"line_color\":\"navy\",\"line_width\":2.5,\"x\":{\"field\":\"x\"},\"y\":{\"field\":\"y\"}},\"id\":\"3363\",\"type\":\"Line\"},{\"attributes\":{},\"id\":\"3375\",\"type\":\"Selection\"},{\"attributes\":{\"data\":{\"x\":[1,2,3,4,5,6,7,8,9,10,11,12],\"y\":{\"__ndarray__\":\"68OKNWR1ir+1TwDjXK/kP+YKHDtpsPU/WRDRb69+BEDAuHDd9dwHQKXXh9oiiAJA4eHpqG3X6D/mShc1xNH0v7LZe95LBgnAKOXyieV5CsB98jyF4qYAwHi7GmH7fO2/\",\"dtype\":\"float64\",\"order\":\"little\",\"shape\":[12]}},\"selected\":{\"id\":\"3356\"},\"selection_policy\":{\"id\":\"3357\"}},\"id\":\"3344\",\"type\":\"ColumnDataSource\"},{\"attributes\":{\"source\":{\"id\":\"3344\"}},\"id\":\"3348\",\"type\":\"CDSView\"},{\"attributes\":{\"formatter\":{\"id\":\"3353\"},\"major_label_policy\":{\"id\":\"3355\"},\"ticker\":{\"id\":\"3327\"}},\"id\":\"3326\",\"type\":\"LinearAxis\"},{\"attributes\":{\"source\":{\"id\":\"3361\"}},\"id\":\"3365\",\"type\":\"CDSView\"},{\"attributes\":{\"line_color\":\"navy\",\"line_width\":2.5,\"x\":{\"field\":\"x\"},\"y\":{\"field\":\"y\"}},\"id\":\"3362\",\"type\":\"Line\"},{\"attributes\":{\"axis\":{\"id\":\"3322\"},\"ticker\":null},\"id\":\"3325\",\"type\":\"Grid\"},{\"attributes\":{\"axis\":{\"id\":\"3326\"},\"dimension\":1,\"ticker\":null},\"id\":\"3329\",\"type\":\"Grid\"},{\"attributes\":{},\"id\":\"3376\",\"type\":\"UnionRenderers\"}],\"root_ids\":[\"3311\"]},\"title\":\"Bokeh Application\",\"version\":\"2.3.1\"}};\n",
       "  var render_items = [{\"docid\":\"a28c1d83-94a0-486e-808d-8ce7bf45667a\",\"root_ids\":[\"3311\"],\"roots\":{\"3311\":\"7fdecbbc-5e67-432f-882f-84896549ffb4\"}}];\n",
       "  root.Bokeh.embed.embed_items_notebook(docs_json, render_items);\n",
       "\n",
       "  }\n",
       "  if (root.Bokeh !== undefined) {\n",
       "    embed_document(root);\n",
       "  } else {\n",
       "    var attempts = 0;\n",
       "    var timer = setInterval(function(root) {\n",
       "      if (root.Bokeh !== undefined) {\n",
       "        clearInterval(timer);\n",
       "        embed_document(root);\n",
       "      } else {\n",
       "        attempts++;\n",
       "        if (attempts > 100) {\n",
       "          clearInterval(timer);\n",
       "          console.log(\"Bokeh: ERROR: Unable to run BokehJS code because BokehJS library is missing\");\n",
       "        }\n",
       "      }\n",
       "    }, 10, root)\n",
       "  }\n",
       "})(window);"
      ],
      "application/vnd.bokehjs_exec.v0+json": ""
     },
     "metadata": {
      "application/vnd.bokehjs_exec.v0+json": {
       "id": "3311"
      }
     },
     "output_type": "display_data"
    }
   ],
   "source": [
    "month_mean_res = co2_train.groupby(\"month\").R_quad.mean()\n",
    "month_continuous = np.linspace(1,12,num = 100, endpoint =True)\n",
    "periodic= interp1d(month_mean_res.index,month_mean_res.values,kind = 'cubic')\n",
    "p = figure(plot_width=400, plot_height=400, title = \"Periodic Signal\")\n",
    "p.scatter(month_mean_res.index,month_mean_res.values,size=6, line_color=\"navy\", fill_color=\"green\", fill_alpha=0.5,legend_label ='Periodic Values')\n",
    "p.line(month_continuous,periodic(month_continuous),line_color=\"navy\",line_width =2.5,legend_label ='Periodic Signal')\n",
    "show(p)\n",
    "# print(month_mean_res)"
   ]
  }
 ],
 "metadata": {
  "kernelspec": {
   "display_name": "Python 3",
   "language": "python",
   "name": "python3"
  },
  "language_info": {
   "codemirror_mode": {
    "name": "ipython",
    "version": 3
   },
   "file_extension": ".py",
   "mimetype": "text/x-python",
   "name": "python",
   "nbconvert_exporter": "python",
   "pygments_lexer": "ipython3",
   "version": "3.7.2"
  }
 },
 "nbformat": 4,
 "nbformat_minor": 4
}
