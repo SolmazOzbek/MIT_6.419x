{
 "cells": [
  {
   "cell_type": "markdown",
   "metadata": {},
   "source": [
    "# Time Series Homework"
   ]
  },
  {
   "cell_type": "code",
   "execution_count": 30,
   "metadata": {},
   "outputs": [
    {
     "data": {
      "text/html": [
       "\n",
       "    <div class=\"bk-root\">\n",
       "        <a href=\"https://bokeh.org\" target=\"_blank\" class=\"bk-logo bk-logo-small bk-logo-notebook\"></a>\n",
       "        <span id=\"3300\">Loading BokehJS ...</span>\n",
       "    </div>"
      ]
     },
     "metadata": {},
     "output_type": "display_data"
    },
    {
     "data": {
      "application/javascript": [
       "\n",
       "(function(root) {\n",
       "  function now() {\n",
       "    return new Date();\n",
       "  }\n",
       "\n",
       "  var force = true;\n",
       "\n",
       "  if (typeof root._bokeh_onload_callbacks === \"undefined\" || force === true) {\n",
       "    root._bokeh_onload_callbacks = [];\n",
       "    root._bokeh_is_loading = undefined;\n",
       "  }\n",
       "\n",
       "  var JS_MIME_TYPE = 'application/javascript';\n",
       "  var HTML_MIME_TYPE = 'text/html';\n",
       "  var EXEC_MIME_TYPE = 'application/vnd.bokehjs_exec.v0+json';\n",
       "  var CLASS_NAME = 'output_bokeh rendered_html';\n",
       "\n",
       "  /**\n",
       "   * Render data to the DOM node\n",
       "   */\n",
       "  function render(props, node) {\n",
       "    var script = document.createElement(\"script\");\n",
       "    node.appendChild(script);\n",
       "  }\n",
       "\n",
       "  /**\n",
       "   * Handle when an output is cleared or removed\n",
       "   */\n",
       "  function handleClearOutput(event, handle) {\n",
       "    var cell = handle.cell;\n",
       "\n",
       "    var id = cell.output_area._bokeh_element_id;\n",
       "    var server_id = cell.output_area._bokeh_server_id;\n",
       "    // Clean up Bokeh references\n",
       "    if (id != null && id in Bokeh.index) {\n",
       "      Bokeh.index[id].model.document.clear();\n",
       "      delete Bokeh.index[id];\n",
       "    }\n",
       "\n",
       "    if (server_id !== undefined) {\n",
       "      // Clean up Bokeh references\n",
       "      var cmd = \"from bokeh.io.state import curstate; print(curstate().uuid_to_server['\" + server_id + \"'].get_sessions()[0].document.roots[0]._id)\";\n",
       "      cell.notebook.kernel.execute(cmd, {\n",
       "        iopub: {\n",
       "          output: function(msg) {\n",
       "            var id = msg.content.text.trim();\n",
       "            if (id in Bokeh.index) {\n",
       "              Bokeh.index[id].model.document.clear();\n",
       "              delete Bokeh.index[id];\n",
       "            }\n",
       "          }\n",
       "        }\n",
       "      });\n",
       "      // Destroy server and session\n",
       "      var cmd = \"import bokeh.io.notebook as ion; ion.destroy_server('\" + server_id + \"')\";\n",
       "      cell.notebook.kernel.execute(cmd);\n",
       "    }\n",
       "  }\n",
       "\n",
       "  /**\n",
       "   * Handle when a new output is added\n",
       "   */\n",
       "  function handleAddOutput(event, handle) {\n",
       "    var output_area = handle.output_area;\n",
       "    var output = handle.output;\n",
       "\n",
       "    // limit handleAddOutput to display_data with EXEC_MIME_TYPE content only\n",
       "    if ((output.output_type != \"display_data\") || (!Object.prototype.hasOwnProperty.call(output.data, EXEC_MIME_TYPE))) {\n",
       "      return\n",
       "    }\n",
       "\n",
       "    var toinsert = output_area.element.find(\".\" + CLASS_NAME.split(' ')[0]);\n",
       "\n",
       "    if (output.metadata[EXEC_MIME_TYPE][\"id\"] !== undefined) {\n",
       "      toinsert[toinsert.length - 1].firstChild.textContent = output.data[JS_MIME_TYPE];\n",
       "      // store reference to embed id on output_area\n",
       "      output_area._bokeh_element_id = output.metadata[EXEC_MIME_TYPE][\"id\"];\n",
       "    }\n",
       "    if (output.metadata[EXEC_MIME_TYPE][\"server_id\"] !== undefined) {\n",
       "      var bk_div = document.createElement(\"div\");\n",
       "      bk_div.innerHTML = output.data[HTML_MIME_TYPE];\n",
       "      var script_attrs = bk_div.children[0].attributes;\n",
       "      for (var i = 0; i < script_attrs.length; i++) {\n",
       "        toinsert[toinsert.length - 1].firstChild.setAttribute(script_attrs[i].name, script_attrs[i].value);\n",
       "        toinsert[toinsert.length - 1].firstChild.textContent = bk_div.children[0].textContent\n",
       "      }\n",
       "      // store reference to server id on output_area\n",
       "      output_area._bokeh_server_id = output.metadata[EXEC_MIME_TYPE][\"server_id\"];\n",
       "    }\n",
       "  }\n",
       "\n",
       "  function register_renderer(events, OutputArea) {\n",
       "\n",
       "    function append_mime(data, metadata, element) {\n",
       "      // create a DOM node to render to\n",
       "      var toinsert = this.create_output_subarea(\n",
       "        metadata,\n",
       "        CLASS_NAME,\n",
       "        EXEC_MIME_TYPE\n",
       "      );\n",
       "      this.keyboard_manager.register_events(toinsert);\n",
       "      // Render to node\n",
       "      var props = {data: data, metadata: metadata[EXEC_MIME_TYPE]};\n",
       "      render(props, toinsert[toinsert.length - 1]);\n",
       "      element.append(toinsert);\n",
       "      return toinsert\n",
       "    }\n",
       "\n",
       "    /* Handle when an output is cleared or removed */\n",
       "    events.on('clear_output.CodeCell', handleClearOutput);\n",
       "    events.on('delete.Cell', handleClearOutput);\n",
       "\n",
       "    /* Handle when a new output is added */\n",
       "    events.on('output_added.OutputArea', handleAddOutput);\n",
       "\n",
       "    /**\n",
       "     * Register the mime type and append_mime function with output_area\n",
       "     */\n",
       "    OutputArea.prototype.register_mime_type(EXEC_MIME_TYPE, append_mime, {\n",
       "      /* Is output safe? */\n",
       "      safe: true,\n",
       "      /* Index of renderer in `output_area.display_order` */\n",
       "      index: 0\n",
       "    });\n",
       "  }\n",
       "\n",
       "  // register the mime type if in Jupyter Notebook environment and previously unregistered\n",
       "  if (root.Jupyter !== undefined) {\n",
       "    var events = require('base/js/events');\n",
       "    var OutputArea = require('notebook/js/outputarea').OutputArea;\n",
       "\n",
       "    if (OutputArea.prototype.mime_types().indexOf(EXEC_MIME_TYPE) == -1) {\n",
       "      register_renderer(events, OutputArea);\n",
       "    }\n",
       "  }\n",
       "\n",
       "  \n",
       "  if (typeof (root._bokeh_timeout) === \"undefined\" || force === true) {\n",
       "    root._bokeh_timeout = Date.now() + 5000;\n",
       "    root._bokeh_failed_load = false;\n",
       "  }\n",
       "\n",
       "  var NB_LOAD_WARNING = {'data': {'text/html':\n",
       "     \"<div style='background-color: #fdd'>\\n\"+\n",
       "     \"<p>\\n\"+\n",
       "     \"BokehJS does not appear to have successfully loaded. If loading BokehJS from CDN, this \\n\"+\n",
       "     \"may be due to a slow or bad network connection. Possible fixes:\\n\"+\n",
       "     \"</p>\\n\"+\n",
       "     \"<ul>\\n\"+\n",
       "     \"<li>re-rerun `output_notebook()` to attempt to load from CDN again, or</li>\\n\"+\n",
       "     \"<li>use INLINE resources instead, as so:</li>\\n\"+\n",
       "     \"</ul>\\n\"+\n",
       "     \"<code>\\n\"+\n",
       "     \"from bokeh.resources import INLINE\\n\"+\n",
       "     \"output_notebook(resources=INLINE)\\n\"+\n",
       "     \"</code>\\n\"+\n",
       "     \"</div>\"}};\n",
       "\n",
       "  function display_loaded() {\n",
       "    var el = document.getElementById(\"3300\");\n",
       "    if (el != null) {\n",
       "      el.textContent = \"BokehJS is loading...\";\n",
       "    }\n",
       "    if (root.Bokeh !== undefined) {\n",
       "      if (el != null) {\n",
       "        el.textContent = \"BokehJS \" + root.Bokeh.version + \" successfully loaded.\";\n",
       "      }\n",
       "    } else if (Date.now() < root._bokeh_timeout) {\n",
       "      setTimeout(display_loaded, 100)\n",
       "    }\n",
       "  }\n",
       "\n",
       "\n",
       "  function run_callbacks() {\n",
       "    try {\n",
       "      root._bokeh_onload_callbacks.forEach(function(callback) {\n",
       "        if (callback != null)\n",
       "          callback();\n",
       "      });\n",
       "    } finally {\n",
       "      delete root._bokeh_onload_callbacks\n",
       "    }\n",
       "    console.debug(\"Bokeh: all callbacks have finished\");\n",
       "  }\n",
       "\n",
       "  function load_libs(css_urls, js_urls, callback) {\n",
       "    if (css_urls == null) css_urls = [];\n",
       "    if (js_urls == null) js_urls = [];\n",
       "\n",
       "    root._bokeh_onload_callbacks.push(callback);\n",
       "    if (root._bokeh_is_loading > 0) {\n",
       "      console.debug(\"Bokeh: BokehJS is being loaded, scheduling callback at\", now());\n",
       "      return null;\n",
       "    }\n",
       "    if (js_urls == null || js_urls.length === 0) {\n",
       "      run_callbacks();\n",
       "      return null;\n",
       "    }\n",
       "    console.debug(\"Bokeh: BokehJS not loaded, scheduling load and callback at\", now());\n",
       "    root._bokeh_is_loading = css_urls.length + js_urls.length;\n",
       "\n",
       "    function on_load() {\n",
       "      root._bokeh_is_loading--;\n",
       "      if (root._bokeh_is_loading === 0) {\n",
       "        console.debug(\"Bokeh: all BokehJS libraries/stylesheets loaded\");\n",
       "        run_callbacks()\n",
       "      }\n",
       "    }\n",
       "\n",
       "    function on_error(url) {\n",
       "      console.error(\"failed to load \" + url);\n",
       "    }\n",
       "\n",
       "    for (let i = 0; i < css_urls.length; i++) {\n",
       "      const url = css_urls[i];\n",
       "      const element = document.createElement(\"link\");\n",
       "      element.onload = on_load;\n",
       "      element.onerror = on_error.bind(null, url);\n",
       "      element.rel = \"stylesheet\";\n",
       "      element.type = \"text/css\";\n",
       "      element.href = url;\n",
       "      console.debug(\"Bokeh: injecting link tag for BokehJS stylesheet: \", url);\n",
       "      document.body.appendChild(element);\n",
       "    }\n",
       "\n",
       "    const hashes = {\"https://cdn.bokeh.org/bokeh/release/bokeh-2.3.1.min.js\": \"YF85VygJKMVnHE+lLv2AM93Vbstr0yo2TbIu5v8se5Rq3UQAUmcuh4aaJwNlpKwa\", \"https://cdn.bokeh.org/bokeh/release/bokeh-widgets-2.3.1.min.js\": \"KKuas3gevv3PvrlkyCMzffFeaMq5we/a2QsP5AUoS3mJ0jmaCL7jirFJN3GoE/lM\", \"https://cdn.bokeh.org/bokeh/release/bokeh-tables-2.3.1.min.js\": \"MK/uFc3YT18pkvvXRl66tTHjP0/dxoSH2e/eiNMFIguKlun2+WVqaPTWmUy/zvh4\"};\n",
       "\n",
       "    for (let i = 0; i < js_urls.length; i++) {\n",
       "      const url = js_urls[i];\n",
       "      const element = document.createElement('script');\n",
       "      element.onload = on_load;\n",
       "      element.onerror = on_error.bind(null, url);\n",
       "      element.async = false;\n",
       "      element.src = url;\n",
       "      if (url in hashes) {\n",
       "        element.crossOrigin = \"anonymous\";\n",
       "        element.integrity = \"sha384-\" + hashes[url];\n",
       "      }\n",
       "      console.debug(\"Bokeh: injecting script tag for BokehJS library: \", url);\n",
       "      document.head.appendChild(element);\n",
       "    }\n",
       "  };\n",
       "\n",
       "  function inject_raw_css(css) {\n",
       "    const element = document.createElement(\"style\");\n",
       "    element.appendChild(document.createTextNode(css));\n",
       "    document.body.appendChild(element);\n",
       "  }\n",
       "\n",
       "  \n",
       "  var js_urls = [\"https://cdn.bokeh.org/bokeh/release/bokeh-2.3.1.min.js\", \"https://cdn.bokeh.org/bokeh/release/bokeh-widgets-2.3.1.min.js\", \"https://cdn.bokeh.org/bokeh/release/bokeh-tables-2.3.1.min.js\"];\n",
       "  var css_urls = [];\n",
       "  \n",
       "\n",
       "  var inline_js = [\n",
       "    function(Bokeh) {\n",
       "      Bokeh.set_log_level(\"info\");\n",
       "    },\n",
       "    function(Bokeh) {\n",
       "    \n",
       "    \n",
       "    }\n",
       "  ];\n",
       "\n",
       "  function run_inline_js() {\n",
       "    \n",
       "    if (root.Bokeh !== undefined || force === true) {\n",
       "      \n",
       "    for (var i = 0; i < inline_js.length; i++) {\n",
       "      inline_js[i].call(root, root.Bokeh);\n",
       "    }\n",
       "    if (force === true) {\n",
       "        display_loaded();\n",
       "      }} else if (Date.now() < root._bokeh_timeout) {\n",
       "      setTimeout(run_inline_js, 100);\n",
       "    } else if (!root._bokeh_failed_load) {\n",
       "      console.log(\"Bokeh: BokehJS failed to load within specified timeout.\");\n",
       "      root._bokeh_failed_load = true;\n",
       "    } else if (force !== true) {\n",
       "      var cell = $(document.getElementById(\"3300\")).parents('.cell').data().cell;\n",
       "      cell.output_area.append_execute_result(NB_LOAD_WARNING)\n",
       "    }\n",
       "\n",
       "  }\n",
       "\n",
       "  if (root._bokeh_is_loading === 0) {\n",
       "    console.debug(\"Bokeh: BokehJS loaded, going straight to plotting\");\n",
       "    run_inline_js();\n",
       "  } else {\n",
       "    load_libs(css_urls, js_urls, function() {\n",
       "      console.debug(\"Bokeh: BokehJS plotting callback run at\", now());\n",
       "      run_inline_js();\n",
       "    });\n",
       "  }\n",
       "}(window));"
      ],
      "application/vnd.bokehjs_load.v0+json": "\n(function(root) {\n  function now() {\n    return new Date();\n  }\n\n  var force = true;\n\n  if (typeof root._bokeh_onload_callbacks === \"undefined\" || force === true) {\n    root._bokeh_onload_callbacks = [];\n    root._bokeh_is_loading = undefined;\n  }\n\n  \n\n  \n  if (typeof (root._bokeh_timeout) === \"undefined\" || force === true) {\n    root._bokeh_timeout = Date.now() + 5000;\n    root._bokeh_failed_load = false;\n  }\n\n  var NB_LOAD_WARNING = {'data': {'text/html':\n     \"<div style='background-color: #fdd'>\\n\"+\n     \"<p>\\n\"+\n     \"BokehJS does not appear to have successfully loaded. If loading BokehJS from CDN, this \\n\"+\n     \"may be due to a slow or bad network connection. Possible fixes:\\n\"+\n     \"</p>\\n\"+\n     \"<ul>\\n\"+\n     \"<li>re-rerun `output_notebook()` to attempt to load from CDN again, or</li>\\n\"+\n     \"<li>use INLINE resources instead, as so:</li>\\n\"+\n     \"</ul>\\n\"+\n     \"<code>\\n\"+\n     \"from bokeh.resources import INLINE\\n\"+\n     \"output_notebook(resources=INLINE)\\n\"+\n     \"</code>\\n\"+\n     \"</div>\"}};\n\n  function display_loaded() {\n    var el = document.getElementById(\"3300\");\n    if (el != null) {\n      el.textContent = \"BokehJS is loading...\";\n    }\n    if (root.Bokeh !== undefined) {\n      if (el != null) {\n        el.textContent = \"BokehJS \" + root.Bokeh.version + \" successfully loaded.\";\n      }\n    } else if (Date.now() < root._bokeh_timeout) {\n      setTimeout(display_loaded, 100)\n    }\n  }\n\n\n  function run_callbacks() {\n    try {\n      root._bokeh_onload_callbacks.forEach(function(callback) {\n        if (callback != null)\n          callback();\n      });\n    } finally {\n      delete root._bokeh_onload_callbacks\n    }\n    console.debug(\"Bokeh: all callbacks have finished\");\n  }\n\n  function load_libs(css_urls, js_urls, callback) {\n    if (css_urls == null) css_urls = [];\n    if (js_urls == null) js_urls = [];\n\n    root._bokeh_onload_callbacks.push(callback);\n    if (root._bokeh_is_loading > 0) {\n      console.debug(\"Bokeh: BokehJS is being loaded, scheduling callback at\", now());\n      return null;\n    }\n    if (js_urls == null || js_urls.length === 0) {\n      run_callbacks();\n      return null;\n    }\n    console.debug(\"Bokeh: BokehJS not loaded, scheduling load and callback at\", now());\n    root._bokeh_is_loading = css_urls.length + js_urls.length;\n\n    function on_load() {\n      root._bokeh_is_loading--;\n      if (root._bokeh_is_loading === 0) {\n        console.debug(\"Bokeh: all BokehJS libraries/stylesheets loaded\");\n        run_callbacks()\n      }\n    }\n\n    function on_error(url) {\n      console.error(\"failed to load \" + url);\n    }\n\n    for (let i = 0; i < css_urls.length; i++) {\n      const url = css_urls[i];\n      const element = document.createElement(\"link\");\n      element.onload = on_load;\n      element.onerror = on_error.bind(null, url);\n      element.rel = \"stylesheet\";\n      element.type = \"text/css\";\n      element.href = url;\n      console.debug(\"Bokeh: injecting link tag for BokehJS stylesheet: \", url);\n      document.body.appendChild(element);\n    }\n\n    const hashes = {\"https://cdn.bokeh.org/bokeh/release/bokeh-2.3.1.min.js\": \"YF85VygJKMVnHE+lLv2AM93Vbstr0yo2TbIu5v8se5Rq3UQAUmcuh4aaJwNlpKwa\", \"https://cdn.bokeh.org/bokeh/release/bokeh-widgets-2.3.1.min.js\": \"KKuas3gevv3PvrlkyCMzffFeaMq5we/a2QsP5AUoS3mJ0jmaCL7jirFJN3GoE/lM\", \"https://cdn.bokeh.org/bokeh/release/bokeh-tables-2.3.1.min.js\": \"MK/uFc3YT18pkvvXRl66tTHjP0/dxoSH2e/eiNMFIguKlun2+WVqaPTWmUy/zvh4\"};\n\n    for (let i = 0; i < js_urls.length; i++) {\n      const url = js_urls[i];\n      const element = document.createElement('script');\n      element.onload = on_load;\n      element.onerror = on_error.bind(null, url);\n      element.async = false;\n      element.src = url;\n      if (url in hashes) {\n        element.crossOrigin = \"anonymous\";\n        element.integrity = \"sha384-\" + hashes[url];\n      }\n      console.debug(\"Bokeh: injecting script tag for BokehJS library: \", url);\n      document.head.appendChild(element);\n    }\n  };\n\n  function inject_raw_css(css) {\n    const element = document.createElement(\"style\");\n    element.appendChild(document.createTextNode(css));\n    document.body.appendChild(element);\n  }\n\n  \n  var js_urls = [\"https://cdn.bokeh.org/bokeh/release/bokeh-2.3.1.min.js\", \"https://cdn.bokeh.org/bokeh/release/bokeh-widgets-2.3.1.min.js\", \"https://cdn.bokeh.org/bokeh/release/bokeh-tables-2.3.1.min.js\"];\n  var css_urls = [];\n  \n\n  var inline_js = [\n    function(Bokeh) {\n      Bokeh.set_log_level(\"info\");\n    },\n    function(Bokeh) {\n    \n    \n    }\n  ];\n\n  function run_inline_js() {\n    \n    if (root.Bokeh !== undefined || force === true) {\n      \n    for (var i = 0; i < inline_js.length; i++) {\n      inline_js[i].call(root, root.Bokeh);\n    }\n    if (force === true) {\n        display_loaded();\n      }} else if (Date.now() < root._bokeh_timeout) {\n      setTimeout(run_inline_js, 100);\n    } else if (!root._bokeh_failed_load) {\n      console.log(\"Bokeh: BokehJS failed to load within specified timeout.\");\n      root._bokeh_failed_load = true;\n    } else if (force !== true) {\n      var cell = $(document.getElementById(\"3300\")).parents('.cell').data().cell;\n      cell.output_area.append_execute_result(NB_LOAD_WARNING)\n    }\n\n  }\n\n  if (root._bokeh_is_loading === 0) {\n    console.debug(\"Bokeh: BokehJS loaded, going straight to plotting\");\n    run_inline_js();\n  } else {\n    load_libs(css_urls, js_urls, function() {\n      console.debug(\"Bokeh: BokehJS plotting callback run at\", now());\n      run_inline_js();\n    });\n  }\n}(window));"
     },
     "metadata": {},
     "output_type": "display_data"
    }
   ],
   "source": [
    "from sklearn.preprocessing import PolynomialFeatures\n",
    "from sklearn.pipeline import make_pipeline\n",
    "from sklearn.linear_model import LinearRegression\n",
    "from scipy.interpolate import interp1d\n",
    "import pandas as pd\n",
    "import numpy as np\n",
    "import matplotlib.pyplot as plt\n",
    "from bokeh.io import output_notebook, show, export_png\n",
    "# from bokeh.io import output_file\n",
    "from bokeh.plotting import figure\n",
    "from itertools import chain \n",
    "from sklearn.metrics import mean_squared_error\n",
    "import datetime as dt\n",
    "import statsmodels.api as sm\n",
    "from statsmodels.graphics.tsaplots import plot_acf,plot_pacf\n",
    "from statsmodels.tsa.ar_model import AutoReg\n",
    "import pmdarima as pm\n",
    "\n",
    "import math\n",
    "import pmdarima as pm\n",
    "import statsmodels.api as sm\n",
    "def mean_absolute_percentage_error(y_true, y_pred): \n",
    "     return np.mean(np.abs((y_true - y_pred) / y_true)) *100\n",
    "output_notebook()"
   ]
  },
  {
   "cell_type": "markdown",
   "metadata": {},
   "source": [
    "## Problem 3"
   ]
  },
  {
   "cell_type": "markdown",
   "metadata": {},
   "source": [
    "We will first read the two files given to us into dataframes that we can work with"
   ]
  },
  {
   "cell_type": "code",
   "execution_count": 31,
   "metadata": {},
   "outputs": [
    {
     "data": {
      "text/html": [
       "<div>\n",
       "<style scoped>\n",
       "    .dataframe tbody tr th:only-of-type {\n",
       "        vertical-align: middle;\n",
       "    }\n",
       "\n",
       "    .dataframe tbody tr th {\n",
       "        vertical-align: top;\n",
       "    }\n",
       "\n",
       "    .dataframe thead th {\n",
       "        text-align: right;\n",
       "    }\n",
       "</style>\n",
       "<table border=\"1\" class=\"dataframe\">\n",
       "  <thead>\n",
       "    <tr style=\"text-align: right;\">\n",
       "      <th></th>\n",
       "      <th>date</th>\n",
       "      <th>CPI</th>\n",
       "    </tr>\n",
       "  </thead>\n",
       "  <tbody>\n",
       "    <tr>\n",
       "      <th>0</th>\n",
       "      <td>2008-07-24</td>\n",
       "      <td>100.0000</td>\n",
       "    </tr>\n",
       "    <tr>\n",
       "      <th>1</th>\n",
       "      <td>2008-07-25</td>\n",
       "      <td>100.0000</td>\n",
       "    </tr>\n",
       "    <tr>\n",
       "      <th>2</th>\n",
       "      <td>2008-07-26</td>\n",
       "      <td>100.0000</td>\n",
       "    </tr>\n",
       "    <tr>\n",
       "      <th>3</th>\n",
       "      <td>2008-07-27</td>\n",
       "      <td>100.0000</td>\n",
       "    </tr>\n",
       "    <tr>\n",
       "      <th>4</th>\n",
       "      <td>2008-07-28</td>\n",
       "      <td>100.0000</td>\n",
       "    </tr>\n",
       "    <tr>\n",
       "      <th>5</th>\n",
       "      <td>2008-07-29</td>\n",
       "      <td>100.0000</td>\n",
       "    </tr>\n",
       "    <tr>\n",
       "      <th>6</th>\n",
       "      <td>2008-07-30</td>\n",
       "      <td>100.0000</td>\n",
       "    </tr>\n",
       "    <tr>\n",
       "      <th>7</th>\n",
       "      <td>2008-07-31</td>\n",
       "      <td>100.0000</td>\n",
       "    </tr>\n",
       "    <tr>\n",
       "      <th>8</th>\n",
       "      <td>2008-08-01</td>\n",
       "      <td>100.5251</td>\n",
       "    </tr>\n",
       "    <tr>\n",
       "      <th>9</th>\n",
       "      <td>2008-08-02</td>\n",
       "      <td>100.5251</td>\n",
       "    </tr>\n",
       "  </tbody>\n",
       "</table>\n",
       "</div>"
      ],
      "text/plain": [
       "        date       CPI\n",
       "0 2008-07-24  100.0000\n",
       "1 2008-07-25  100.0000\n",
       "2 2008-07-26  100.0000\n",
       "3 2008-07-27  100.0000\n",
       "4 2008-07-28  100.0000\n",
       "5 2008-07-29  100.0000\n",
       "6 2008-07-30  100.0000\n",
       "7 2008-07-31  100.0000\n",
       "8 2008-08-01  100.5251\n",
       "9 2008-08-02  100.5251"
      ]
     },
     "execution_count": 31,
     "metadata": {},
     "output_type": "execute_result"
    }
   ],
   "source": [
    "ps_cpi = pd.read_csv(\"../data/CPI.csv\")\n",
    "ps_cpi['date'] =pd.to_datetime(ps_cpi['date'])\n",
    "ps_cpi.head(10)"
   ]
  },
  {
   "cell_type": "markdown",
   "metadata": {},
   "source": [
    "The monthly CPI can be obtained by taking the CPI of any day during a month. Additionally, we split the data into training and testing data sets as outlined in the problem statement"
   ]
  },
  {
   "cell_type": "code",
   "execution_count": 32,
   "metadata": {},
   "outputs": [
    {
     "data": {
      "text/html": [
       "<div>\n",
       "<style scoped>\n",
       "    .dataframe tbody tr th:only-of-type {\n",
       "        vertical-align: middle;\n",
       "    }\n",
       "\n",
       "    .dataframe tbody tr th {\n",
       "        vertical-align: top;\n",
       "    }\n",
       "\n",
       "    .dataframe thead th {\n",
       "        text-align: right;\n",
       "    }\n",
       "</style>\n",
       "<table border=\"1\" class=\"dataframe\">\n",
       "  <thead>\n",
       "    <tr style=\"text-align: right;\">\n",
       "      <th></th>\n",
       "      <th>date</th>\n",
       "      <th>CPI</th>\n",
       "      <th>YearMonth</th>\n",
       "    </tr>\n",
       "  </thead>\n",
       "  <tbody>\n",
       "    <tr>\n",
       "      <th>0</th>\n",
       "      <td>2008-07-31</td>\n",
       "      <td>100.00000</td>\n",
       "      <td>2008-07</td>\n",
       "    </tr>\n",
       "    <tr>\n",
       "      <th>1</th>\n",
       "      <td>2008-08-31</td>\n",
       "      <td>100.52510</td>\n",
       "      <td>2008-08</td>\n",
       "    </tr>\n",
       "    <tr>\n",
       "      <th>2</th>\n",
       "      <td>2008-09-30</td>\n",
       "      <td>100.12380</td>\n",
       "      <td>2008-09</td>\n",
       "    </tr>\n",
       "    <tr>\n",
       "      <th>3</th>\n",
       "      <td>2008-10-31</td>\n",
       "      <td>99.98538</td>\n",
       "      <td>2008-10</td>\n",
       "    </tr>\n",
       "    <tr>\n",
       "      <th>4</th>\n",
       "      <td>2008-11-30</td>\n",
       "      <td>98.97539</td>\n",
       "      <td>2008-11</td>\n",
       "    </tr>\n",
       "    <tr>\n",
       "      <th>5</th>\n",
       "      <td>2008-12-31</td>\n",
       "      <td>97.07973</td>\n",
       "      <td>2008-12</td>\n",
       "    </tr>\n",
       "    <tr>\n",
       "      <th>6</th>\n",
       "      <td>2009-01-31</td>\n",
       "      <td>96.07569</td>\n",
       "      <td>2009-01</td>\n",
       "    </tr>\n",
       "    <tr>\n",
       "      <th>7</th>\n",
       "      <td>2009-02-28</td>\n",
       "      <td>96.49385</td>\n",
       "      <td>2009-02</td>\n",
       "    </tr>\n",
       "    <tr>\n",
       "      <th>8</th>\n",
       "      <td>2009-03-31</td>\n",
       "      <td>96.97369</td>\n",
       "      <td>2009-03</td>\n",
       "    </tr>\n",
       "    <tr>\n",
       "      <th>9</th>\n",
       "      <td>2009-04-30</td>\n",
       "      <td>97.20951</td>\n",
       "      <td>2009-04</td>\n",
       "    </tr>\n",
       "  </tbody>\n",
       "</table>\n",
       "</div>"
      ],
      "text/plain": [
       "        date        CPI YearMonth\n",
       "0 2008-07-31  100.00000   2008-07\n",
       "1 2008-08-31  100.52510   2008-08\n",
       "2 2008-09-30  100.12380   2008-09\n",
       "3 2008-10-31   99.98538   2008-10\n",
       "4 2008-11-30   98.97539   2008-11\n",
       "5 2008-12-31   97.07973   2008-12\n",
       "6 2009-01-31   96.07569   2009-01\n",
       "7 2009-02-28   96.49385   2009-02\n",
       "8 2009-03-31   96.97369   2009-03\n",
       "9 2009-04-30   97.20951   2009-04"
      ]
     },
     "execution_count": 32,
     "metadata": {},
     "output_type": "execute_result"
    }
   ],
   "source": [
    "# cpi_monthly = pd.DataFrame(columns =['Month','CPI'])\n",
    "ps_cpi['YearMonth'] = ps_cpi['date'].dt.strftime('%Y-%m')\n",
    "cpi =ps_cpi.drop_duplicates('YearMonth', keep='last').copy().reset_index().drop(['index'],axis=1)\n",
    "cpi_train = (cpi[cpi.YearMonth<'2013-09'].copy())\n",
    "cpi_test = (cpi[cpi.YearMonth >='2013-09'].copy())\n",
    "# cpi_train.CPI = np.log(cpi_train.CPI)\n",
    "# cpi_test.CPI = np.log(cpi_test.CPI)\n",
    "cpi.head(10)\n"
   ]
  },
  {
   "cell_type": "markdown",
   "metadata": {},
   "source": [
    "Visualize the time series"
   ]
  },
  {
   "cell_type": "code",
   "execution_count": 33,
   "metadata": {},
   "outputs": [
    {
     "data": {
      "text/html": [
       "\n",
       "\n",
       "\n",
       "\n",
       "\n",
       "\n",
       "  <div class=\"bk-root\" id=\"5a8866e6-d7a6-43c3-9300-8eb17a2a3e14\" data-root-id=\"3301\"></div>\n"
      ]
     },
     "metadata": {},
     "output_type": "display_data"
    },
    {
     "data": {
      "application/javascript": [
       "(function(root) {\n",
       "  function embed_document(root) {\n",
       "    \n",
       "  var docs_json = {\"660156a0-fa97-4124-838a-d9ff9b10f595\":{\"defs\":[],\"roots\":{\"references\":[{\"attributes\":{\"below\":[{\"id\":\"3312\"}],\"center\":[{\"id\":\"3315\"},{\"id\":\"3319\"}],\"height\":400,\"left\":[{\"id\":\"3316\"}],\"renderers\":[{\"id\":\"3337\"}],\"title\":{\"id\":\"3302\"},\"toolbar\":{\"id\":\"3327\"},\"width\":400,\"x_range\":{\"id\":\"3304\"},\"x_scale\":{\"id\":\"3308\"},\"y_range\":{\"id\":\"3306\"},\"y_scale\":{\"id\":\"3310\"}},\"id\":\"3301\",\"subtype\":\"Figure\",\"type\":\"Plot\"},{\"attributes\":{\"line_color\":\"navy\",\"line_width\":2.5,\"x\":{\"field\":\"x\"},\"y\":{\"field\":\"y\"}},\"id\":\"3335\",\"type\":\"Line\"},{\"attributes\":{},\"id\":\"3304\",\"type\":\"DataRange1d\"},{\"attributes\":{},\"id\":\"3485\",\"type\":\"Selection\"},{\"attributes\":{},\"id\":\"3481\",\"type\":\"BasicTickFormatter\"},{\"attributes\":{\"text\":\"Monthly CPI\"},\"id\":\"3302\",\"type\":\"Title\"},{\"attributes\":{},\"id\":\"3478\",\"type\":\"BasicTickFormatter\"},{\"attributes\":{\"line_alpha\":0.1,\"line_color\":\"navy\",\"line_width\":2.5,\"x\":{\"field\":\"x\"},\"y\":{\"field\":\"y\"}},\"id\":\"3336\",\"type\":\"Line\"},{\"attributes\":{},\"id\":\"3321\",\"type\":\"WheelZoomTool\"},{\"attributes\":{},\"id\":\"3325\",\"type\":\"HelpTool\"},{\"attributes\":{\"data\":{\"x\":[0,1,2,3,4,5,6,7,8,9,10,11,12,13,14,15,16,17,18,19,20,21,22,23,24,25,26,27,28,29,30,31,32,33,34,35,36,37,38,39,40,41,42,43,44,45,46,47,48,49,50,51,52,53,54,55,56,57,58,59,60,61],\"y\":{\"__ndarray__\":\"AAAAAAAAWUBLyAc9myFZQKvP1VbsB1lAe4hGdxD/WEActi3KbL5YQKWg20saRVhAl6jeGtgEWEBLyAc9mx9YQE6c3O9QPlhA1ouhnGhNWEDw+WGE8FxYQNBE2PD0blhAcVrwoq+kWEAYQznRrppYQOl942vPqFhAWwhyUMKsWEB00vvG17JYQOi8xi5Rt1hA48KBkCysWEDkvWplwsFYQEX11sBWw1hArHMMyF7dWEA/jBAebehYQHYyOEpe7VhAd6G5TiPnWECRm+EGfOhYQMjqVs9J8VhA0GG+vAD1WEAFhqxu9fxYQPLNNjem/1hAe4MvTKYKWUB3vp8aLylZQMX+snvySFlA8tJNYhCIWUBSSZ2AJrJZQHBfB84Z0VlAbqMBvAXKWUAdWmQ7389ZQBKlvcEX4llAqmBUUifsWUBYObTIdt5ZQCL99nXg2FlAat5xio7IWUCamZmZmeVZQMKGp1fKAlpA6Nms+lw1WkASg8DKoUlaQC9uowG8QVpAzojS3uA3WkAU0ETY8CxaQFioNc07UlpAo5I6AU1wWkCLbOf7qW1aQEvIBz2bTVpADwu1pnk7WkDIBz2bVU9aQNEi2/l+hlpAFR3J5T+YWkATYcPTK5FaQOF6FK5HnVpAEoPAyqGtWkBqTfOOU7BaQA==\",\"dtype\":\"float64\",\"order\":\"little\",\"shape\":[62]}},\"selected\":{\"id\":\"3485\"},\"selection_policy\":{\"id\":\"3484\"}},\"id\":\"3334\",\"type\":\"ColumnDataSource\"},{\"attributes\":{\"overlay\":{\"id\":\"3326\"}},\"id\":\"3322\",\"type\":\"BoxZoomTool\"},{\"attributes\":{},\"id\":\"3324\",\"type\":\"ResetTool\"},{\"attributes\":{},\"id\":\"3317\",\"type\":\"BasicTicker\"},{\"attributes\":{},\"id\":\"3484\",\"type\":\"UnionRenderers\"},{\"attributes\":{},\"id\":\"3320\",\"type\":\"PanTool\"},{\"attributes\":{\"source\":{\"id\":\"3334\"}},\"id\":\"3338\",\"type\":\"CDSView\"},{\"attributes\":{},\"id\":\"3479\",\"type\":\"AllLabels\"},{\"attributes\":{\"bottom_units\":\"screen\",\"fill_alpha\":0.5,\"fill_color\":\"lightgrey\",\"left_units\":\"screen\",\"level\":\"overlay\",\"line_alpha\":1.0,\"line_color\":\"black\",\"line_dash\":[4,4],\"line_width\":2,\"right_units\":\"screen\",\"syncable\":false,\"top_units\":\"screen\"},\"id\":\"3326\",\"type\":\"BoxAnnotation\"},{\"attributes\":{},\"id\":\"3482\",\"type\":\"AllLabels\"},{\"attributes\":{\"axis\":{\"id\":\"3312\"},\"ticker\":null},\"id\":\"3315\",\"type\":\"Grid\"},{\"attributes\":{},\"id\":\"3323\",\"type\":\"SaveTool\"},{\"attributes\":{},\"id\":\"3306\",\"type\":\"DataRange1d\"},{\"attributes\":{\"axis_label\":\"CPI\",\"formatter\":{\"id\":\"3481\"},\"major_label_policy\":{\"id\":\"3482\"},\"ticker\":{\"id\":\"3317\"}},\"id\":\"3316\",\"type\":\"LinearAxis\"},{\"attributes\":{\"axis\":{\"id\":\"3316\"},\"dimension\":1,\"ticker\":null},\"id\":\"3319\",\"type\":\"Grid\"},{\"attributes\":{\"axis_label\":\"t\",\"formatter\":{\"id\":\"3478\"},\"major_label_policy\":{\"id\":\"3479\"},\"ticker\":{\"id\":\"3313\"}},\"id\":\"3312\",\"type\":\"LinearAxis\"},{\"attributes\":{\"active_multi\":null,\"tools\":[{\"id\":\"3320\"},{\"id\":\"3321\"},{\"id\":\"3322\"},{\"id\":\"3323\"},{\"id\":\"3324\"},{\"id\":\"3325\"}]},\"id\":\"3327\",\"type\":\"Toolbar\"},{\"attributes\":{\"data_source\":{\"id\":\"3334\"},\"glyph\":{\"id\":\"3335\"},\"hover_glyph\":null,\"muted_glyph\":null,\"nonselection_glyph\":{\"id\":\"3336\"},\"view\":{\"id\":\"3338\"}},\"id\":\"3337\",\"type\":\"GlyphRenderer\"},{\"attributes\":{},\"id\":\"3313\",\"type\":\"BasicTicker\"},{\"attributes\":{},\"id\":\"3310\",\"type\":\"LinearScale\"},{\"attributes\":{},\"id\":\"3308\",\"type\":\"LinearScale\"}],\"root_ids\":[\"3301\"]},\"title\":\"Bokeh Application\",\"version\":\"2.3.1\"}};\n",
       "  var render_items = [{\"docid\":\"660156a0-fa97-4124-838a-d9ff9b10f595\",\"root_ids\":[\"3301\"],\"roots\":{\"3301\":\"5a8866e6-d7a6-43c3-9300-8eb17a2a3e14\"}}];\n",
       "  root.Bokeh.embed.embed_items_notebook(docs_json, render_items);\n",
       "\n",
       "  }\n",
       "  if (root.Bokeh !== undefined) {\n",
       "    embed_document(root);\n",
       "  } else {\n",
       "    var attempts = 0;\n",
       "    var timer = setInterval(function(root) {\n",
       "      if (root.Bokeh !== undefined) {\n",
       "        clearInterval(timer);\n",
       "        embed_document(root);\n",
       "      } else {\n",
       "        attempts++;\n",
       "        if (attempts > 100) {\n",
       "          clearInterval(timer);\n",
       "          console.log(\"Bokeh: ERROR: Unable to run BokehJS code because BokehJS library is missing\");\n",
       "        }\n",
       "      }\n",
       "    }, 10, root)\n",
       "  }\n",
       "})(window);"
      ],
      "application/vnd.bokehjs_exec.v0+json": ""
     },
     "metadata": {
      "application/vnd.bokehjs_exec.v0+json": {
       "id": "3301"
      }
     },
     "output_type": "display_data"
    }
   ],
   "source": [
    "p = figure(plot_width=400, plot_height=400, title = \"Monthly CPI\")\n",
    "p.line(cpi_train.index,cpi_train.CPI,line_color=\"navy\",line_width =2.5)\n",
    "p.xaxis.axis_label ='t'\n",
    "p.yaxis.axis_label ='CPI'\n",
    "show(p)"
   ]
  },
  {
   "cell_type": "markdown",
   "metadata": {},
   "source": [
    "From the visualization, it is clear that the timeseries has a deterministic trend. We try and fit a linear model to the data (as in the question above) and see if this is sufficient to represent the trend. We then subtract this trend from the data.\n"
   ]
  },
  {
   "cell_type": "code",
   "execution_count": 34,
   "metadata": {},
   "outputs": [
    {
     "name": "stdout",
     "output_type": "stream",
     "text": [
      "The linear trend is given by F(t) = 0.16104348366951224*t + (96.72932632872502)\n"
     ]
    },
    {
     "data": {
      "text/html": [
       "\n",
       "\n",
       "\n",
       "\n",
       "\n",
       "\n",
       "  <div class=\"bk-root\" id=\"d9ecad7e-7f2f-48e2-b929-e780f9f15ded\" data-root-id=\"3537\"></div>\n"
      ]
     },
     "metadata": {},
     "output_type": "display_data"
    },
    {
     "data": {
      "application/javascript": [
       "(function(root) {\n",
       "  function embed_document(root) {\n",
       "    \n",
       "  var docs_json = {\"0ff2eb7b-bdca-4115-92aa-97a3864d2e8f\":{\"defs\":[],\"roots\":{\"references\":[{\"attributes\":{\"below\":[{\"id\":\"3548\"}],\"center\":[{\"id\":\"3551\"},{\"id\":\"3555\"},{\"id\":\"3585\"}],\"height\":400,\"left\":[{\"id\":\"3552\"}],\"renderers\":[{\"id\":\"3573\"},{\"id\":\"3590\"}],\"title\":{\"id\":\"3538\"},\"toolbar\":{\"id\":\"3563\"},\"width\":400,\"x_range\":{\"id\":\"3540\"},\"x_scale\":{\"id\":\"3544\"},\"y_range\":{\"id\":\"3542\"},\"y_scale\":{\"id\":\"3546\"}},\"id\":\"3537\",\"subtype\":\"Figure\",\"type\":\"Plot\"},{\"attributes\":{\"axis_label\":\"t\",\"formatter\":{\"id\":\"3576\"},\"major_label_policy\":{\"id\":\"3577\"},\"ticker\":{\"id\":\"3549\"}},\"id\":\"3548\",\"type\":\"LinearAxis\"},{\"attributes\":{},\"id\":\"3577\",\"type\":\"AllLabels\"},{\"attributes\":{\"line_color\":\"orange\",\"line_width\":2.5,\"x\":{\"field\":\"x\"},\"y\":{\"field\":\"y\"}},\"id\":\"3588\",\"type\":\"Line\"},{\"attributes\":{},\"id\":\"3582\",\"type\":\"UnionRenderers\"},{\"attributes\":{},\"id\":\"3544\",\"type\":\"LinearScale\"},{\"attributes\":{},\"id\":\"3546\",\"type\":\"LinearScale\"},{\"attributes\":{},\"id\":\"3553\",\"type\":\"BasicTicker\"},{\"attributes\":{},\"id\":\"3583\",\"type\":\"Selection\"},{\"attributes\":{\"line_color\":\"navy\",\"line_width\":2,\"x\":{\"field\":\"x\"},\"y\":{\"field\":\"y\"}},\"id\":\"3571\",\"type\":\"Line\"},{\"attributes\":{},\"id\":\"3580\",\"type\":\"AllLabels\"},{\"attributes\":{},\"id\":\"3540\",\"type\":\"DataRange1d\"},{\"attributes\":{\"axis_label\":\"CPI\",\"formatter\":{\"id\":\"3579\"},\"major_label_policy\":{\"id\":\"3580\"},\"ticker\":{\"id\":\"3553\"}},\"id\":\"3552\",\"type\":\"LinearAxis\"},{\"attributes\":{\"active_multi\":null,\"tools\":[{\"id\":\"3556\"},{\"id\":\"3557\"},{\"id\":\"3558\"},{\"id\":\"3559\"},{\"id\":\"3560\"},{\"id\":\"3561\"}]},\"id\":\"3563\",\"type\":\"Toolbar\"},{\"attributes\":{\"overlay\":{\"id\":\"3562\"}},\"id\":\"3558\",\"type\":\"BoxZoomTool\"},{\"attributes\":{\"label\":{\"value\":\"Linear Trend\"},\"renderers\":[{\"id\":\"3590\"}]},\"id\":\"3604\",\"type\":\"LegendItem\"},{\"attributes\":{},\"id\":\"3556\",\"type\":\"PanTool\"},{\"attributes\":{},\"id\":\"3542\",\"type\":\"DataRange1d\"},{\"attributes\":{\"axis\":{\"id\":\"3548\"},\"ticker\":null},\"id\":\"3551\",\"type\":\"Grid\"},{\"attributes\":{},\"id\":\"3576\",\"type\":\"BasicTickFormatter\"},{\"attributes\":{\"source\":{\"id\":\"3570\"}},\"id\":\"3574\",\"type\":\"CDSView\"},{\"attributes\":{\"axis\":{\"id\":\"3552\"},\"dimension\":1,\"ticker\":null},\"id\":\"3555\",\"type\":\"Grid\"},{\"attributes\":{},\"id\":\"3602\",\"type\":\"Selection\"},{\"attributes\":{\"data_source\":{\"id\":\"3587\"},\"glyph\":{\"id\":\"3588\"},\"hover_glyph\":null,\"muted_glyph\":null,\"nonselection_glyph\":{\"id\":\"3589\"},\"view\":{\"id\":\"3591\"}},\"id\":\"3590\",\"type\":\"GlyphRenderer\"},{\"attributes\":{\"line_alpha\":0.1,\"line_color\":\"orange\",\"line_width\":2.5,\"x\":{\"field\":\"x\"},\"y\":{\"field\":\"y\"}},\"id\":\"3589\",\"type\":\"Line\"},{\"attributes\":{\"line_alpha\":0.1,\"line_color\":\"navy\",\"line_width\":2,\"x\":{\"field\":\"x\"},\"y\":{\"field\":\"y\"}},\"id\":\"3572\",\"type\":\"Line\"},{\"attributes\":{\"items\":[{\"id\":\"3586\"},{\"id\":\"3604\"}],\"location\":\"bottom_right\"},\"id\":\"3585\",\"type\":\"Legend\"},{\"attributes\":{\"data\":{\"x\":[0,1,2,3,4,5,6,7,8,9,10,11,12,13,14,15,16,17,18,19,20,21,22,23,24,25,26,27,28,29,30,31,32,33,34,35,36,37,38,39,40,41,42,43,44,45,46,47,48,49,50,51,52,53,54,55,56,57,58,59,60,61],\"y\":{\"__ndarray__\":\"AAAAAAAAWUBLyAc9myFZQKvP1VbsB1lAe4hGdxD/WEActi3KbL5YQKWg20saRVhAl6jeGtgEWEBLyAc9mx9YQE6c3O9QPlhA1ouhnGhNWEDw+WGE8FxYQNBE2PD0blhAcVrwoq+kWEAYQznRrppYQOl942vPqFhAWwhyUMKsWEB00vvG17JYQOi8xi5Rt1hA48KBkCysWEDkvWplwsFYQEX11sBWw1hArHMMyF7dWEA/jBAebehYQHYyOEpe7VhAd6G5TiPnWECRm+EGfOhYQMjqVs9J8VhA0GG+vAD1WEAFhqxu9fxYQPLNNjem/1hAe4MvTKYKWUB3vp8aLylZQMX+snvySFlA8tJNYhCIWUBSSZ2AJrJZQHBfB84Z0VlAbqMBvAXKWUAdWmQ7389ZQBKlvcEX4llAqmBUUifsWUBYObTIdt5ZQCL99nXg2FlAat5xio7IWUCamZmZmeVZQMKGp1fKAlpA6Nms+lw1WkASg8DKoUlaQC9uowG8QVpAzojS3uA3WkAU0ETY8CxaQFioNc07UlpAo5I6AU1wWkCLbOf7qW1aQEvIBz2bTVpADwu1pnk7WkDIBz2bVU9aQNEi2/l+hlpAFR3J5T+YWkATYcPTK5FaQOF6FK5HnVpAEoPAyqGtWkBqTfOOU7BaQA==\",\"dtype\":\"float64\",\"order\":\"little\",\"shape\":[62]}},\"selected\":{\"id\":\"3583\"},\"selection_policy\":{\"id\":\"3582\"}},\"id\":\"3570\",\"type\":\"ColumnDataSource\"},{\"attributes\":{\"data_source\":{\"id\":\"3570\"},\"glyph\":{\"id\":\"3571\"},\"hover_glyph\":null,\"muted_glyph\":null,\"nonselection_glyph\":{\"id\":\"3572\"},\"view\":{\"id\":\"3574\"}},\"id\":\"3573\",\"type\":\"GlyphRenderer\"},{\"attributes\":{\"bottom_units\":\"screen\",\"fill_alpha\":0.5,\"fill_color\":\"lightgrey\",\"left_units\":\"screen\",\"level\":\"overlay\",\"line_alpha\":1.0,\"line_color\":\"black\",\"line_dash\":[4,4],\"line_width\":2,\"right_units\":\"screen\",\"syncable\":false,\"top_units\":\"screen\"},\"id\":\"3562\",\"type\":\"BoxAnnotation\"},{\"attributes\":{},\"id\":\"3579\",\"type\":\"BasicTickFormatter\"},{\"attributes\":{},\"id\":\"3559\",\"type\":\"SaveTool\"},{\"attributes\":{\"text\":\"CPI Time Series\"},\"id\":\"3538\",\"type\":\"Title\"},{\"attributes\":{\"label\":{\"value\":\"Original Data\"},\"renderers\":[{\"id\":\"3573\"}]},\"id\":\"3586\",\"type\":\"LegendItem\"},{\"attributes\":{},\"id\":\"3557\",\"type\":\"WheelZoomTool\"},{\"attributes\":{},\"id\":\"3560\",\"type\":\"ResetTool\"},{\"attributes\":{},\"id\":\"3549\",\"type\":\"BasicTicker\"},{\"attributes\":{},\"id\":\"3601\",\"type\":\"UnionRenderers\"},{\"attributes\":{\"data\":{\"x\":[0,1,2,3,4,5,6,7,8,9,10,11,12,13,14,15,16,17,18,19,20,21,22,23,24,25,26,27,28,29,30,31,32,33,34,35,36,37,38,39,40,41,42,43,44,45,46,47,48,49,50,51,52,53,54,55,56,57,58,59,60,61],\"y\":{\"__ndarray__\":\"Fn9WSK0uWEAiZarR+zhYQC1L/lpKQ1hAOTFS5JhNWEBFF6Zt51dYQFH9+fY1YlhAXONNgIRsWEBoyaEJ03ZYQHSv9ZIhgVhAf5VJHHCLWECLe52lvpVYQJdh8S4NoFhAo0dFuFuqWECuLZlBqrRYQLoT7cr4vlhAxvlAVEfJWEDR35TdldNYQN3F6Gbk3VhA6as88DLoWED1kZB5gfJYQAB45ALQ/FhADF44jB4HWUAYRIwVbRFZQCQq4J67G1lALxA0KAomWUA79oexWDBZQEfc2zqnOllAUsIvxPVEWUBeqINNRE9ZQGqO19aSWVlAdnQrYOFjWUCBWn/pL25ZQI1A03J+eFlAmSYn/MyCWUCkDHuFG41ZQLDyzg5ql1lAvNgimLihWUDIvnYhB6xZQNOkyqpVtllA34oeNKTAWUDrcHK98spZQPZWxkZB1VlAAj0a0I/fWUAOI25Z3ulZQBoJwuIs9FlAJe8VbHv+WUAx1Wn1yQhaQD27vX4YE1pASKERCGcdWkBUh2WRtSdaQGBtuRoEMlpAbFMNpFI8WkB3OWEtoUZaQIMftbbvUFpAjwUJQD5bWkCa61zJjGVaQKbRsFLbb1pAsrcE3Cl6WkC+nVhleIRaQMmDrO7GjlpA1WkAeBWZWkDhT1QBZKNaQA==\",\"dtype\":\"float64\",\"order\":\"little\",\"shape\":[62]}},\"selected\":{\"id\":\"3602\"},\"selection_policy\":{\"id\":\"3601\"}},\"id\":\"3587\",\"type\":\"ColumnDataSource\"},{\"attributes\":{\"source\":{\"id\":\"3587\"}},\"id\":\"3591\",\"type\":\"CDSView\"},{\"attributes\":{},\"id\":\"3561\",\"type\":\"HelpTool\"}],\"root_ids\":[\"3537\"]},\"title\":\"Bokeh Application\",\"version\":\"2.3.1\"}};\n",
       "  var render_items = [{\"docid\":\"0ff2eb7b-bdca-4115-92aa-97a3864d2e8f\",\"root_ids\":[\"3537\"],\"roots\":{\"3537\":\"d9ecad7e-7f2f-48e2-b929-e780f9f15ded\"}}];\n",
       "  root.Bokeh.embed.embed_items_notebook(docs_json, render_items);\n",
       "\n",
       "  }\n",
       "  if (root.Bokeh !== undefined) {\n",
       "    embed_document(root);\n",
       "  } else {\n",
       "    var attempts = 0;\n",
       "    var timer = setInterval(function(root) {\n",
       "      if (root.Bokeh !== undefined) {\n",
       "        clearInterval(timer);\n",
       "        embed_document(root);\n",
       "      } else {\n",
       "        attempts++;\n",
       "        if (attempts > 100) {\n",
       "          clearInterval(timer);\n",
       "          console.log(\"Bokeh: ERROR: Unable to run BokehJS code because BokehJS library is missing\");\n",
       "        }\n",
       "      }\n",
       "    }, 10, root)\n",
       "  }\n",
       "})(window);"
      ],
      "application/vnd.bokehjs_exec.v0+json": ""
     },
     "metadata": {
      "application/vnd.bokehjs_exec.v0+json": {
       "id": "3537"
      }
     },
     "output_type": "display_data"
    }
   ],
   "source": [
    "model = LinearRegression().fit(np.array(cpi_train.index).reshape(-1, 1),cpi_train.CPI)\n",
    "coefficients = [model.coef_[0],model.intercept_]\n",
    "print(\"The linear trend is given by F(t) = \" +str(coefficients[0])+\"*t + (\" +str(coefficients[1])+\")\")\n",
    "linear_cpi =model.predict(np.array(cpi_train.index).reshape(-1, 1))\n",
    "p = figure(plot_width=400, plot_height=400, title = \"CPI Time Series\")\n",
    "p.line(cpi_train.index,cpi_train.CPI, line_color=\"navy\", line_width=2, legend_label =\"Original Data\")\n",
    "p.line(cpi_train.index,linear_cpi, line_color=\"orange\",line_width=2.5,legend_label =\"Linear Trend\")\n",
    "\n",
    "p.xaxis.axis_label ='t'\n",
    "p.yaxis.axis_label ='CPI'\n",
    "p.legend.location='bottom_right'\n",
    "show(p)"
   ]
  },
  {
   "cell_type": "markdown",
   "metadata": {},
   "source": [
    "We now subtract this linear trend from the data. When prompted to 'Choose Method:' in the following part, please type 'linear'\n",
    "\n",
    "> $\\textit{Note :}$ An alternative to detrending the data in this manner would be to take first difference. Economists tend to log transform the CPI data and then take the first difference in order to detrend it. While the problem set only asks for the linear trend to be removed from the data, the code below allows you to visualize what the first difference of log transform looks like as well. In order to see this, please enter \"log\" when asked to choose method. Please remember to run the block again with the method as linear to proceed with the next part of the PSET."
   ]
  },
  {
   "cell_type": "code",
   "execution_count": 35,
   "metadata": {},
   "outputs": [
    {
     "name": "stdout",
     "output_type": "stream",
     "text": [
      "Choose Method:linear\n"
     ]
    },
    {
     "data": {
      "text/html": [
       "\n",
       "\n",
       "\n",
       "\n",
       "\n",
       "\n",
       "  <div class=\"bk-root\" id=\"a05c0a2a-4077-4604-92a7-b27d6799699c\" data-root-id=\"3825\"></div>\n"
      ]
     },
     "metadata": {},
     "output_type": "display_data"
    },
    {
     "data": {
      "application/javascript": [
       "(function(root) {\n",
       "  function embed_document(root) {\n",
       "    \n",
       "  var docs_json = {\"8645701a-34ee-4828-8de2-d895cc35314f\":{\"defs\":[],\"roots\":{\"references\":[{\"attributes\":{\"below\":[{\"id\":\"3836\"}],\"center\":[{\"id\":\"3839\"},{\"id\":\"3843\"},{\"id\":\"3873\"}],\"height\":400,\"left\":[{\"id\":\"3840\"}],\"renderers\":[{\"id\":\"3861\"}],\"title\":{\"id\":\"3826\"},\"toolbar\":{\"id\":\"3851\"},\"width\":400,\"x_range\":{\"id\":\"3828\"},\"x_scale\":{\"id\":\"3832\"},\"y_range\":{\"id\":\"3830\"},\"y_scale\":{\"id\":\"3834\"}},\"id\":\"3825\",\"subtype\":\"Figure\",\"type\":\"Plot\"},{\"attributes\":{},\"id\":\"3830\",\"type\":\"DataRange1d\"},{\"attributes\":{\"axis\":{\"id\":\"3836\"},\"ticker\":null},\"id\":\"3839\",\"type\":\"Grid\"},{\"attributes\":{\"formatter\":{\"id\":\"3864\"},\"major_label_policy\":{\"id\":\"3865\"},\"ticker\":{\"id\":\"3837\"}},\"id\":\"3836\",\"type\":\"LinearAxis\"},{\"attributes\":{\"label\":{\"value\":\"Detrended Data\"},\"renderers\":[{\"id\":\"3861\"}]},\"id\":\"3874\",\"type\":\"LegendItem\"},{\"attributes\":{},\"id\":\"3837\",\"type\":\"BasicTicker\"},{\"attributes\":{\"overlay\":{\"id\":\"3850\"}},\"id\":\"3846\",\"type\":\"BoxZoomTool\"},{\"attributes\":{},\"id\":\"3847\",\"type\":\"SaveTool\"},{\"attributes\":{},\"id\":\"3868\",\"type\":\"AllLabels\"},{\"attributes\":{\"bottom_units\":\"screen\",\"fill_alpha\":0.5,\"fill_color\":\"lightgrey\",\"left_units\":\"screen\",\"level\":\"overlay\",\"line_alpha\":1.0,\"line_color\":\"black\",\"line_dash\":[4,4],\"line_width\":2,\"right_units\":\"screen\",\"syncable\":false,\"top_units\":\"screen\"},\"id\":\"3850\",\"type\":\"BoxAnnotation\"},{\"attributes\":{},\"id\":\"3834\",\"type\":\"LinearScale\"},{\"attributes\":{\"formatter\":{\"id\":\"3867\"},\"major_label_policy\":{\"id\":\"3868\"},\"ticker\":{\"id\":\"3841\"}},\"id\":\"3840\",\"type\":\"LinearAxis\"},{\"attributes\":{},\"id\":\"3841\",\"type\":\"BasicTicker\"},{\"attributes\":{},\"id\":\"3849\",\"type\":\"HelpTool\"},{\"attributes\":{\"line_alpha\":0.1,\"line_color\":\"navy\",\"line_width\":2,\"x\":{\"field\":\"x\"},\"y\":{\"field\":\"y\"}},\"id\":\"3860\",\"type\":\"Line\"},{\"attributes\":{},\"id\":\"3867\",\"type\":\"BasicTickFormatter\"},{\"attributes\":{},\"id\":\"3865\",\"type\":\"AllLabels\"},{\"attributes\":{\"text\":\"CPI Time Series\"},\"id\":\"3826\",\"type\":\"Title\"},{\"attributes\":{},\"id\":\"3845\",\"type\":\"WheelZoomTool\"},{\"attributes\":{},\"id\":\"3864\",\"type\":\"BasicTickFormatter\"},{\"attributes\":{},\"id\":\"3832\",\"type\":\"LinearScale\"},{\"attributes\":{\"axis\":{\"id\":\"3840\"},\"dimension\":1,\"ticker\":null},\"id\":\"3843\",\"type\":\"Grid\"},{\"attributes\":{\"active_multi\":null,\"tools\":[{\"id\":\"3844\"},{\"id\":\"3845\"},{\"id\":\"3846\"},{\"id\":\"3847\"},{\"id\":\"3848\"},{\"id\":\"3849\"}]},\"id\":\"3851\",\"type\":\"Toolbar\"},{\"attributes\":{\"line_color\":\"navy\",\"line_width\":2,\"x\":{\"field\":\"x\"},\"y\":{\"field\":\"y\"}},\"id\":\"3859\",\"type\":\"Line\"},{\"attributes\":{},\"id\":\"3848\",\"type\":\"ResetTool\"},{\"attributes\":{},\"id\":\"3844\",\"type\":\"PanTool\"},{\"attributes\":{},\"id\":\"3828\",\"type\":\"DataRange1d\"},{\"attributes\":{\"data\":{\"x\":[0,1,2,3,4,5,6,7,8,9,10,11,12,13,14,15,16,17,18,19,20,21,22,23,24,25,26,27,28,29,30,31,32,33,34,35,36,37,38,39,40,41,42,43,44,45,46,47,48,49,50,51,52,53,54,55,56,57,58,59,60,61],\"y\":{\"__ndarray__\":\"QB0w9VYqCkAgZaxr7RMNQMCP8Ho/lAhAQOiKXvIuBkDAtechV6H5PwCsXB6rG92/QLHOWxnr+b9AR4Am8831v4DJRMYotPC/gNQE1L8D77+AzcCdEGfsv4BjjgwfjOi/AMi0U1Wwtr8AlupfcPvZvwDRlQlfKda/AGvxzgOF3L+AroZMC1/gv4B6BBGcSeO/AIN03S8D7r+ACOoSil/ov4BdwQahvOy/ADD1FeLf5L+A7Nu9+3/kvwDX+1OqLue/AFw3vWxz77+AqpapKvfxv8BfPOFaV/K/gCBY3EH9879Alsi1t5P0vwAeMOgne/a/wD78/sRO9r+AAue3M0DxvwDkIJD7xee/AGSxmpgNtT8AVx6RfYXiPwBgNpzf1+w/AFll75Em5D+Aqs32DOzhP4AfgHkL4eU/gOXqGo/B5T8AbchBC4TTPwBgMYV5+aw/AJheqEUB178A0CVS/xKxvwBQ+8rpOs0/gGF1S8dw6z9AeKtV9TXwPwB52XLBUec/AIbnwNZ52j8AACN9G+20PwB8HT7ZG+A/gJufli796T8AihlDZ4TjPwDAuWrNo6q/AID6U5nE378A0uMfLjfWvwArUSqno9Y/AGNlxAkW3j8AqobV3GbJPwAw7s9+Ac0/AD0ZwFKM1D8AEvs9G9/JPw==\",\"dtype\":\"float64\",\"order\":\"little\",\"shape\":[62]}},\"selected\":{\"id\":\"3871\"},\"selection_policy\":{\"id\":\"3870\"}},\"id\":\"3858\",\"type\":\"ColumnDataSource\"},{\"attributes\":{\"data_source\":{\"id\":\"3858\"},\"glyph\":{\"id\":\"3859\"},\"hover_glyph\":null,\"muted_glyph\":null,\"nonselection_glyph\":{\"id\":\"3860\"},\"view\":{\"id\":\"3862\"}},\"id\":\"3861\",\"type\":\"GlyphRenderer\"},{\"attributes\":{},\"id\":\"3871\",\"type\":\"Selection\"},{\"attributes\":{\"items\":[{\"id\":\"3874\"}]},\"id\":\"3873\",\"type\":\"Legend\"},{\"attributes\":{\"source\":{\"id\":\"3858\"}},\"id\":\"3862\",\"type\":\"CDSView\"},{\"attributes\":{},\"id\":\"3870\",\"type\":\"UnionRenderers\"}],\"root_ids\":[\"3825\"]},\"title\":\"Bokeh Application\",\"version\":\"2.3.1\"}};\n",
       "  var render_items = [{\"docid\":\"8645701a-34ee-4828-8de2-d895cc35314f\",\"root_ids\":[\"3825\"],\"roots\":{\"3825\":\"a05c0a2a-4077-4604-92a7-b27d6799699c\"}}];\n",
       "  root.Bokeh.embed.embed_items_notebook(docs_json, render_items);\n",
       "\n",
       "  }\n",
       "  if (root.Bokeh !== undefined) {\n",
       "    embed_document(root);\n",
       "  } else {\n",
       "    var attempts = 0;\n",
       "    var timer = setInterval(function(root) {\n",
       "      if (root.Bokeh !== undefined) {\n",
       "        clearInterval(timer);\n",
       "        embed_document(root);\n",
       "      } else {\n",
       "        attempts++;\n",
       "        if (attempts > 100) {\n",
       "          clearInterval(timer);\n",
       "          console.log(\"Bokeh: ERROR: Unable to run BokehJS code because BokehJS library is missing\");\n",
       "        }\n",
       "      }\n",
       "    }, 10, root)\n",
       "  }\n",
       "})(window);"
      ],
      "application/vnd.bokehjs_exec.v0+json": ""
     },
     "metadata": {
      "application/vnd.bokehjs_exec.v0+json": {
       "id": "3825"
      }
     },
     "output_type": "display_data"
    },
    {
     "name": "stdout",
     "output_type": "stream",
     "text": [
      "the maximum residual value is:3.634730187605456\n"
     ]
    }
   ],
   "source": [
    "x = input('Choose Method:')\n",
    "if x == 'linear':\n",
    "    remaining = cpi_train.CPI - linear_cpi\n",
    "    linear_cpi_test = model.predict(np.array(cpi_test.index).reshape(-1, 1))\n",
    "    remaining_test = cpi_test.CPI - linear_cpi_test\n",
    "    test = cpi_test.index\n",
    "    train = cpi_train.index\n",
    "else:\n",
    "    cpi_diff_log = np.log(cpi.CPI).diff()\n",
    "    remaining = cpi_diff_log[0:cpi_train.shape[0]]\n",
    "    remaining.iloc[0] = 0    \n",
    "    #.reset_index()#.drop(['index'],axis =1)\n",
    "    remaining_test = cpi_diff_log[cpi_train.shape[0]:].dropna()\n",
    "    remaining_test.iloc[0] = 0\n",
    "    test = cpi_test.index\n",
    "    train = cpi_train.index\n",
    "\n",
    "\n",
    "    \n",
    "p = figure(plot_width=400, plot_height=400, title = \"CPI Time Series\")\n",
    "p.line(train,remaining, line_color=\"navy\", line_width=2, legend_label =\"Detrended Data\")\n",
    "\n",
    "\n",
    "\n",
    "# p.line(cpi_diff.index,cpi_diff,line_color=\"green\",line_width =2.5)\n",
    "show(p)\n",
    "print(\"the maximum residual value is:\"+str(np.max(remaining)))"
   ]
  },
  {
   "cell_type": "markdown",
   "metadata": {},
   "source": [
    "Note that at some stage, we will be required to add back the trend to the data. The function $\\texttt{rebuild_diffed()}$ below has been designed for this purpose. We will be calling this function later."
   ]
  },
  {
   "cell_type": "code",
   "execution_count": 36,
   "metadata": {},
   "outputs": [],
   "source": [
    "def rebuild_diffed(series, first_element_original,x,linear_trend):\n",
    "    if x == 'linear':\n",
    "        final = series + linear_trend\n",
    "    else:\n",
    "        cumsum = pd.Series(series).cumsum()\n",
    "        final = np.exp(cumsum.fillna(0) + first_element_original)\n",
    "        if first_element_original == 0:\n",
    "            final = np.exp(cumsum.fillna(0))\n",
    "    return final"
   ]
  },
  {
   "cell_type": "markdown",
   "metadata": {},
   "source": [
    "As there seems to be no other trend present in this residual, we can take the linear trend to be sufficient and move to the next step, i.e. to deseasonalize the data. However, the above visualization seems to indicate no clear seasonality. Hence, we directly proceed to fitting an AR Model on the residual. To do so, we first plot the autocorrelation and partial autocorrelation plots."
   ]
  },
  {
   "cell_type": "code",
   "execution_count": 37,
   "metadata": {},
   "outputs": [
    {
     "data": {
      "image/png": "[encoded data removed]",
      "text/plain": [
       "<Figure size 432x288 with 1 Axes>"
      ]
     },
     "metadata": {
      "needs_background": "light"
     },
     "output_type": "display_data"
    },
    {
     "data": {
      "image/png": "[encoded data removed]",
      "text/plain": [
       "<Figure size 432x288 with 1 Axes>"
      ]
     },
     "metadata": {
      "needs_background": "light"
     },
     "output_type": "display_data"
    }
   ],
   "source": [
    "#linear\n",
    "plot_acf(remaining)\n",
    "plt.show()\n",
    "plot_pacf(remaining)\n",
    "plt.show()"
   ]
  },
  {
   "cell_type": "markdown",
   "metadata": {},
   "source": [
    "From the above PACF plot, we can see that the highest lag at which the plot extends beyond the statistically significant boundary is at lag 2. This indicates that an AR Model of lag 2 should be sufficient to fit the data. However, we can further verify this by calculating the rmse of the fit"
   ]
  },
  {
   "cell_type": "code",
   "execution_count": 38,
   "metadata": {},
   "outputs": [
    {
     "name": "stderr",
     "output_type": "stream",
     "text": [
      "/anaconda3/lib/python3.7/site-packages/statsmodels/tsa/ar_model.py:252: FutureWarning: The parameter names will change after 0.12 is released. Set old_names to False to use the new names now. Set old_names to True to use the old names. \n",
      "  FutureWarning,\n",
      "/anaconda3/lib/python3.7/site-packages/statsmodels/tsa/ar_model.py:252: FutureWarning: The parameter names will change after 0.12 is released. Set old_names to False to use the new names now. Set old_names to True to use the old names. \n",
      "  FutureWarning,\n",
      "/anaconda3/lib/python3.7/site-packages/statsmodels/tsa/ar_model.py:252: FutureWarning: The parameter names will change after 0.12 is released. Set old_names to False to use the new names now. Set old_names to True to use the old names. \n",
      "  FutureWarning,\n",
      "/anaconda3/lib/python3.7/site-packages/statsmodels/tsa/ar_model.py:252: FutureWarning: The parameter names will change after 0.12 is released. Set old_names to False to use the new names now. Set old_names to True to use the old names. \n",
      "  FutureWarning,\n",
      "/anaconda3/lib/python3.7/site-packages/statsmodels/tsa/ar_model.py:252: FutureWarning: The parameter names will change after 0.12 is released. Set old_names to False to use the new names now. Set old_names to True to use the old names. \n",
      "  FutureWarning,\n",
      "/anaconda3/lib/python3.7/site-packages/statsmodels/tsa/ar_model.py:252: FutureWarning: The parameter names will change after 0.12 is released. Set old_names to False to use the new names now. Set old_names to True to use the old names. \n",
      "  FutureWarning,\n",
      "/anaconda3/lib/python3.7/site-packages/statsmodels/tsa/ar_model.py:252: FutureWarning: The parameter names will change after 0.12 is released. Set old_names to False to use the new names now. Set old_names to True to use the old names. \n",
      "  FutureWarning,\n"
     ]
    },
    {
     "data": {
      "text/html": [
       "\n",
       "\n",
       "\n",
       "\n",
       "\n",
       "\n",
       "  <div class=\"bk-root\" id=\"550753c6-9992-4585-816c-498589181a3c\" data-root-id=\"4095\"></div>\n"
      ]
     },
     "metadata": {},
     "output_type": "display_data"
    },
    {
     "data": {
      "application/javascript": [
       "(function(root) {\n",
       "  function embed_document(root) {\n",
       "    \n",
       "  var docs_json = {\"e1c3ef0b-f648-4a8b-a63e-3580dc41fbb9\":{\"defs\":[],\"roots\":{\"references\":[{\"attributes\":{\"below\":[{\"id\":\"4106\"}],\"center\":[{\"id\":\"4109\"},{\"id\":\"4113\"},{\"id\":\"4143\"}],\"height\":400,\"left\":[{\"id\":\"4110\"}],\"renderers\":[{\"id\":\"4131\"}],\"title\":{\"id\":\"4096\"},\"toolbar\":{\"id\":\"4121\"},\"width\":400,\"x_range\":{\"id\":\"4098\"},\"x_scale\":{\"id\":\"4102\"},\"y_range\":{\"id\":\"4100\"},\"y_scale\":{\"id\":\"4104\"}},\"id\":\"4095\",\"subtype\":\"Figure\",\"type\":\"Plot\"},{\"attributes\":{\"source\":{\"id\":\"4128\"}},\"id\":\"4132\",\"type\":\"CDSView\"},{\"attributes\":{\"label\":{\"value\":\"RMSE\"},\"renderers\":[{\"id\":\"4131\"}]},\"id\":\"4144\",\"type\":\"LegendItem\"},{\"attributes\":{},\"id\":\"4114\",\"type\":\"PanTool\"},{\"attributes\":{\"axis_label\":\"RMSE\",\"formatter\":{\"id\":\"4137\"},\"major_label_policy\":{\"id\":\"4138\"},\"ticker\":{\"id\":\"4111\"}},\"id\":\"4110\",\"type\":\"LinearAxis\"},{\"attributes\":{},\"id\":\"4117\",\"type\":\"SaveTool\"},{\"attributes\":{},\"id\":\"4100\",\"type\":\"DataRange1d\"},{\"attributes\":{\"bottom_units\":\"screen\",\"fill_alpha\":0.5,\"fill_color\":\"lightgrey\",\"left_units\":\"screen\",\"level\":\"overlay\",\"line_alpha\":1.0,\"line_color\":\"black\",\"line_dash\":[4,4],\"line_width\":2,\"right_units\":\"screen\",\"syncable\":false,\"top_units\":\"screen\"},\"id\":\"4120\",\"type\":\"BoxAnnotation\"},{\"attributes\":{},\"id\":\"4098\",\"type\":\"DataRange1d\"},{\"attributes\":{},\"id\":\"4134\",\"type\":\"BasicTickFormatter\"},{\"attributes\":{\"active_multi\":null,\"tools\":[{\"id\":\"4114\"},{\"id\":\"4115\"},{\"id\":\"4116\"},{\"id\":\"4117\"},{\"id\":\"4118\"},{\"id\":\"4119\"}]},\"id\":\"4121\",\"type\":\"Toolbar\"},{\"attributes\":{},\"id\":\"4137\",\"type\":\"BasicTickFormatter\"},{\"attributes\":{\"text\":\"RMSE of AR Models of order n\"},\"id\":\"4096\",\"type\":\"Title\"},{\"attributes\":{},\"id\":\"4138\",\"type\":\"AllLabels\"},{\"attributes\":{\"data_source\":{\"id\":\"4128\"},\"glyph\":{\"id\":\"4129\"},\"hover_glyph\":null,\"muted_glyph\":null,\"nonselection_glyph\":{\"id\":\"4130\"},\"view\":{\"id\":\"4132\"}},\"id\":\"4131\",\"type\":\"GlyphRenderer\"},{\"attributes\":{\"data\":{\"x\":[1,2,3,4,5,6,7],\"y\":[0.4245898727866745,0.32656877529273626,0.32770290052402523,0.31615457753801773,0.3068656056592596,0.260342993874571,0.2537636598936937]},\"selected\":{\"id\":\"4141\"},\"selection_policy\":{\"id\":\"4140\"}},\"id\":\"4128\",\"type\":\"ColumnDataSource\"},{\"attributes\":{},\"id\":\"4140\",\"type\":\"UnionRenderers\"},{\"attributes\":{},\"id\":\"4118\",\"type\":\"ResetTool\"},{\"attributes\":{},\"id\":\"4119\",\"type\":\"HelpTool\"},{\"attributes\":{\"fill_alpha\":{\"value\":0.1},\"fill_color\":{\"value\":\"orange\"},\"line_alpha\":{\"value\":0.1},\"line_color\":{\"value\":\"navy\"},\"marker\":{\"value\":\"square\"},\"size\":{\"value\":15},\"x\":{\"field\":\"x\"},\"y\":{\"field\":\"y\"}},\"id\":\"4130\",\"type\":\"Scatter\"},{\"attributes\":{},\"id\":\"4115\",\"type\":\"WheelZoomTool\"},{\"attributes\":{},\"id\":\"4141\",\"type\":\"Selection\"},{\"attributes\":{\"axis_label\":\"n\",\"formatter\":{\"id\":\"4134\"},\"major_label_policy\":{\"id\":\"4135\"},\"ticker\":{\"id\":\"4107\"}},\"id\":\"4106\",\"type\":\"LinearAxis\"},{\"attributes\":{\"axis\":{\"id\":\"4106\"},\"ticker\":null},\"id\":\"4109\",\"type\":\"Grid\"},{\"attributes\":{},\"id\":\"4107\",\"type\":\"BasicTicker\"},{\"attributes\":{},\"id\":\"4111\",\"type\":\"BasicTicker\"},{\"attributes\":{},\"id\":\"4104\",\"type\":\"LinearScale\"},{\"attributes\":{},\"id\":\"4135\",\"type\":\"AllLabels\"},{\"attributes\":{\"overlay\":{\"id\":\"4120\"}},\"id\":\"4116\",\"type\":\"BoxZoomTool\"},{\"attributes\":{\"items\":[{\"id\":\"4144\"}]},\"id\":\"4143\",\"type\":\"Legend\"},{\"attributes\":{},\"id\":\"4102\",\"type\":\"LinearScale\"},{\"attributes\":{\"axis\":{\"id\":\"4110\"},\"dimension\":1,\"ticker\":null},\"id\":\"4113\",\"type\":\"Grid\"},{\"attributes\":{\"fill_alpha\":{\"value\":0.5},\"fill_color\":{\"value\":\"orange\"},\"line_color\":{\"value\":\"navy\"},\"marker\":{\"value\":\"square\"},\"size\":{\"value\":15},\"x\":{\"field\":\"x\"},\"y\":{\"field\":\"y\"}},\"id\":\"4129\",\"type\":\"Scatter\"}],\"root_ids\":[\"4095\"]},\"title\":\"Bokeh Application\",\"version\":\"2.3.1\"}};\n",
       "  var render_items = [{\"docid\":\"e1c3ef0b-f648-4a8b-a63e-3580dc41fbb9\",\"root_ids\":[\"4095\"],\"roots\":{\"4095\":\"550753c6-9992-4585-816c-498589181a3c\"}}];\n",
       "  root.Bokeh.embed.embed_items_notebook(docs_json, render_items);\n",
       "\n",
       "  }\n",
       "  if (root.Bokeh !== undefined) {\n",
       "    embed_document(root);\n",
       "  } else {\n",
       "    var attempts = 0;\n",
       "    var timer = setInterval(function(root) {\n",
       "      if (root.Bokeh !== undefined) {\n",
       "        clearInterval(timer);\n",
       "        embed_document(root);\n",
       "      } else {\n",
       "        attempts++;\n",
       "        if (attempts > 100) {\n",
       "          clearInterval(timer);\n",
       "          console.log(\"Bokeh: ERROR: Unable to run BokehJS code because BokehJS library is missing\");\n",
       "        }\n",
       "      }\n",
       "    }, 10, root)\n",
       "  }\n",
       "})(window);"
      ],
      "application/vnd.bokehjs_exec.v0+json": ""
     },
     "metadata": {
      "application/vnd.bokehjs_exec.v0+json": {
       "id": "4095"
      }
     },
     "output_type": "display_data"
    }
   ],
   "source": [
    "rmse_train=[]\n",
    "\n",
    "for n in range(1,8):\n",
    "    model = AutoReg(remaining, lags= n,trend='n')\n",
    "    model_fit = model.fit()\n",
    "    predictions=model_fit.predict()\n",
    "    rmse=(mean_squared_error(remaining[n:], predictions[n:]))**0.5\n",
    "    rmse_train.append(rmse)\n",
    "\n",
    "    \n",
    "    \n",
    "p = figure(plot_width=400, plot_height=400, title = \"RMSE of AR Models of order n\")\n",
    "p.scatter(np.arange(1,8),rmse_train,size = 15, marker =\"square\", line_color=\"navy\",fill_color=\"orange\", fill_alpha =0.5, legend_label =\"RMSE\")\n",
    "p.xaxis.axis_label ='n'\n",
    "p.yaxis.axis_label ='RMSE'\n",
    "p.legend.location='top_right'\n",
    "show(p)\n",
    "\n",
    "\n"
   ]
  },
  {
   "cell_type": "code",
   "execution_count": 39,
   "metadata": {},
   "outputs": [
    {
     "name": "stdout",
     "output_type": "stream",
     "text": [
      "Test RMSE for AR(1):0.3718449350821093\n",
      "Test RMSE for AR(2):0.39328060138088866\n",
      "Test RMSE for AR(3):0.3784955272936298\n",
      "Test RMSE for AR(4):0.44251979719237056\n",
      "Test RMSE for AR(5):0.43456315263365036\n",
      "Test RMSE for AR(6):0.34020763928627823\n",
      "Test RMSE for AR(7):0.31251327073280627\n"
     ]
    },
    {
     "name": "stderr",
     "output_type": "stream",
     "text": [
      "/anaconda3/lib/python3.7/site-packages/statsmodels/tsa/ar_model.py:252: FutureWarning: The parameter names will change after 0.12 is released. Set old_names to False to use the new names now. Set old_names to True to use the old names. \n",
      "  FutureWarning,\n",
      "/anaconda3/lib/python3.7/site-packages/statsmodels/tsa/ar_model.py:252: FutureWarning: The parameter names will change after 0.12 is released. Set old_names to False to use the new names now. Set old_names to True to use the old names. \n",
      "  FutureWarning,\n",
      "/anaconda3/lib/python3.7/site-packages/statsmodels/tsa/ar_model.py:252: FutureWarning: The parameter names will change after 0.12 is released. Set old_names to False to use the new names now. Set old_names to True to use the old names. \n",
      "  FutureWarning,\n",
      "/anaconda3/lib/python3.7/site-packages/statsmodels/tsa/ar_model.py:252: FutureWarning: The parameter names will change after 0.12 is released. Set old_names to False to use the new names now. Set old_names to True to use the old names. \n",
      "  FutureWarning,\n",
      "/anaconda3/lib/python3.7/site-packages/statsmodels/tsa/ar_model.py:252: FutureWarning: The parameter names will change after 0.12 is released. Set old_names to False to use the new names now. Set old_names to True to use the old names. \n",
      "  FutureWarning,\n",
      "/anaconda3/lib/python3.7/site-packages/statsmodels/tsa/ar_model.py:252: FutureWarning: The parameter names will change after 0.12 is released. Set old_names to False to use the new names now. Set old_names to True to use the old names. \n",
      "  FutureWarning,\n",
      "/anaconda3/lib/python3.7/site-packages/statsmodels/tsa/ar_model.py:252: FutureWarning: The parameter names will change after 0.12 is released. Set old_names to False to use the new names now. Set old_names to True to use the old names. \n",
      "  FutureWarning,\n"
     ]
    },
    {
     "data": {
      "text/html": [
       "\n",
       "\n",
       "\n",
       "\n",
       "\n",
       "\n",
       "  <div class=\"bk-root\" id=\"2a7e0fc6-a42c-4c2a-b4f2-935b162f960a\" data-root-id=\"4375\"></div>\n"
      ]
     },
     "metadata": {},
     "output_type": "display_data"
    },
    {
     "data": {
      "application/javascript": [
       "(function(root) {\n",
       "  function embed_document(root) {\n",
       "    \n",
       "  var docs_json = {\"a816777e-bf2b-4eee-bff0-056d76009d04\":{\"defs\":[],\"roots\":{\"references\":[{\"attributes\":{\"below\":[{\"id\":\"4386\"}],\"center\":[{\"id\":\"4389\"},{\"id\":\"4393\"},{\"id\":\"4423\"}],\"height\":400,\"left\":[{\"id\":\"4390\"}],\"renderers\":[{\"id\":\"4411\"}],\"title\":{\"id\":\"4376\"},\"toolbar\":{\"id\":\"4401\"},\"width\":400,\"x_range\":{\"id\":\"4378\"},\"x_scale\":{\"id\":\"4382\"},\"y_range\":{\"id\":\"4380\"},\"y_scale\":{\"id\":\"4384\"}},\"id\":\"4375\",\"subtype\":\"Figure\",\"type\":\"Plot\"},{\"attributes\":{\"axis\":{\"id\":\"4390\"},\"dimension\":1,\"ticker\":null},\"id\":\"4393\",\"type\":\"Grid\"},{\"attributes\":{\"axis_label\":\"n\",\"formatter\":{\"id\":\"4414\"},\"major_label_policy\":{\"id\":\"4415\"},\"ticker\":{\"id\":\"4387\"}},\"id\":\"4386\",\"type\":\"LinearAxis\"},{\"attributes\":{},\"id\":\"4391\",\"type\":\"BasicTicker\"},{\"attributes\":{},\"id\":\"4397\",\"type\":\"SaveTool\"},{\"attributes\":{},\"id\":\"4418\",\"type\":\"AllLabels\"},{\"attributes\":{\"data_source\":{\"id\":\"4408\"},\"glyph\":{\"id\":\"4409\"},\"hover_glyph\":null,\"muted_glyph\":null,\"nonselection_glyph\":{\"id\":\"4410\"},\"view\":{\"id\":\"4412\"}},\"id\":\"4411\",\"type\":\"GlyphRenderer\"},{\"attributes\":{},\"id\":\"4417\",\"type\":\"BasicTickFormatter\"},{\"attributes\":{},\"id\":\"4380\",\"type\":\"DataRange1d\"},{\"attributes\":{},\"id\":\"4384\",\"type\":\"LinearScale\"},{\"attributes\":{},\"id\":\"4387\",\"type\":\"BasicTicker\"},{\"attributes\":{\"items\":[{\"id\":\"4424\"}],\"location\":\"bottom_right\"},\"id\":\"4423\",\"type\":\"Legend\"},{\"attributes\":{},\"id\":\"4420\",\"type\":\"UnionRenderers\"},{\"attributes\":{\"axis_label\":\"RMSE\",\"formatter\":{\"id\":\"4417\"},\"major_label_policy\":{\"id\":\"4418\"},\"ticker\":{\"id\":\"4391\"}},\"id\":\"4390\",\"type\":\"LinearAxis\"},{\"attributes\":{},\"id\":\"4399\",\"type\":\"HelpTool\"},{\"attributes\":{\"fill_alpha\":{\"value\":0.5},\"fill_color\":{\"value\":\"orange\"},\"line_color\":{\"value\":\"navy\"},\"marker\":{\"value\":\"square\"},\"size\":{\"value\":15},\"x\":{\"field\":\"x\"},\"y\":{\"field\":\"y\"}},\"id\":\"4409\",\"type\":\"Scatter\"},{\"attributes\":{\"label\":{\"value\":\"RMSE\"},\"renderers\":[{\"id\":\"4411\"}]},\"id\":\"4424\",\"type\":\"LegendItem\"},{\"attributes\":{},\"id\":\"4378\",\"type\":\"DataRange1d\"},{\"attributes\":{\"active_multi\":null,\"tools\":[{\"id\":\"4394\"},{\"id\":\"4395\"},{\"id\":\"4396\"},{\"id\":\"4397\"},{\"id\":\"4398\"},{\"id\":\"4399\"}]},\"id\":\"4401\",\"type\":\"Toolbar\"},{\"attributes\":{\"text\":\"RMSE of AR Models of order n\"},\"id\":\"4376\",\"type\":\"Title\"},{\"attributes\":{\"bottom_units\":\"screen\",\"fill_alpha\":0.5,\"fill_color\":\"lightgrey\",\"left_units\":\"screen\",\"level\":\"overlay\",\"line_alpha\":1.0,\"line_color\":\"black\",\"line_dash\":[4,4],\"line_width\":2,\"right_units\":\"screen\",\"syncable\":false,\"top_units\":\"screen\"},\"id\":\"4400\",\"type\":\"BoxAnnotation\"},{\"attributes\":{},\"id\":\"4394\",\"type\":\"PanTool\"},{\"attributes\":{},\"id\":\"4421\",\"type\":\"Selection\"},{\"attributes\":{},\"id\":\"4398\",\"type\":\"ResetTool\"},{\"attributes\":{\"fill_alpha\":{\"value\":0.1},\"fill_color\":{\"value\":\"orange\"},\"line_alpha\":{\"value\":0.1},\"line_color\":{\"value\":\"navy\"},\"marker\":{\"value\":\"square\"},\"size\":{\"value\":15},\"x\":{\"field\":\"x\"},\"y\":{\"field\":\"y\"}},\"id\":\"4410\",\"type\":\"Scatter\"},{\"attributes\":{},\"id\":\"4382\",\"type\":\"LinearScale\"},{\"attributes\":{},\"id\":\"4395\",\"type\":\"WheelZoomTool\"},{\"attributes\":{\"data\":{\"x\":[1,2,3,4,5,6,7],\"y\":[0.3718449350821093,0.39328060138088866,0.3784955272936298,0.44251979719237056,0.43456315263365036,0.34020763928627823,0.31251327073280627]},\"selected\":{\"id\":\"4421\"},\"selection_policy\":{\"id\":\"4420\"}},\"id\":\"4408\",\"type\":\"ColumnDataSource\"},{\"attributes\":{},\"id\":\"4414\",\"type\":\"BasicTickFormatter\"},{\"attributes\":{\"overlay\":{\"id\":\"4400\"}},\"id\":\"4396\",\"type\":\"BoxZoomTool\"},{\"attributes\":{\"source\":{\"id\":\"4408\"}},\"id\":\"4412\",\"type\":\"CDSView\"},{\"attributes\":{\"axis\":{\"id\":\"4386\"},\"ticker\":null},\"id\":\"4389\",\"type\":\"Grid\"},{\"attributes\":{},\"id\":\"4415\",\"type\":\"AllLabels\"}],\"root_ids\":[\"4375\"]},\"title\":\"Bokeh Application\",\"version\":\"2.3.1\"}};\n",
       "  var render_items = [{\"docid\":\"a816777e-bf2b-4eee-bff0-056d76009d04\",\"root_ids\":[\"4375\"],\"roots\":{\"4375\":\"2a7e0fc6-a42c-4c2a-b4f2-935b162f960a\"}}];\n",
       "  root.Bokeh.embed.embed_items_notebook(docs_json, render_items);\n",
       "\n",
       "  }\n",
       "  if (root.Bokeh !== undefined) {\n",
       "    embed_document(root);\n",
       "  } else {\n",
       "    var attempts = 0;\n",
       "    var timer = setInterval(function(root) {\n",
       "      if (root.Bokeh !== undefined) {\n",
       "        clearInterval(timer);\n",
       "        embed_document(root);\n",
       "      } else {\n",
       "        attempts++;\n",
       "        if (attempts > 100) {\n",
       "          clearInterval(timer);\n",
       "          console.log(\"Bokeh: ERROR: Unable to run BokehJS code because BokehJS library is missing\");\n",
       "        }\n",
       "      }\n",
       "    }, 10, root)\n",
       "  }\n",
       "})(window);"
      ],
      "application/vnd.bokehjs_exec.v0+json": ""
     },
     "metadata": {
      "application/vnd.bokehjs_exec.v0+json": {
       "id": "4375"
      }
     },
     "output_type": "display_data"
    }
   ],
   "source": [
    "#plot RMSE for a range of lags p \n",
    "n = 2\n",
    "rmse_ar=[]\n",
    "for n in range(1,8):\n",
    "    model = AutoReg(remaining, lags= n)\n",
    "    model_fit = model.fit()\n",
    "    coef = model_fit.params\n",
    "    past = remaining[len(remaining)-n:].values\n",
    "    past = [past[i] for i in range(len(past))]    \n",
    "    test_predictions = list()\n",
    "    for t in range(len(remaining_test.dropna())):\n",
    "        length = len(past)\n",
    "        lag = [past[i] for i in range(length-n,length)]\n",
    "        pred = coef[0]\n",
    "        for d in range(n):\n",
    "            pred += coef[d+1] * lag[n-d-1]\n",
    "        obs = remaining_test.values[t]\n",
    "        test_predictions.append(pred)\n",
    "        past.append(obs)\n",
    "    rmse = (mean_squared_error(remaining_test.dropna(), test_predictions))**0.5\n",
    "    rmse_ar.append(rmse)\n",
    "    print('Test RMSE for AR(' + str(n) +'):' + str(rmse))\n",
    "\n",
    "p = figure(plot_width=400, plot_height=400, title = \"RMSE of AR Models of order n\")\n",
    "p.scatter(np.arange(1,8),rmse_ar,size = 15, marker =\"square\", line_color=\"navy\",fill_color=\"orange\", fill_alpha =0.5, legend_label =\"RMSE\")\n",
    "p.xaxis.axis_label ='n'\n",
    "p.yaxis.axis_label ='RMSE'\n",
    "p.legend.location='bottom_right'\n",
    "show(p)"
   ]
  },
  {
   "cell_type": "markdown",
   "metadata": {},
   "source": [
    "The plot above seems to indicate the AR(1) model predictions have the least rmse. While it would have been ideal to have our previous conclusion of model order 2 validated by the RMSE, we should note this kind of discrepancy between the two diagnostic methods (rmse and PACF) can occur when working with finite data sets. In order to proceed, we choose to work with model order of 2 so we do not miss out on possible lag terms."
   ]
  },
  {
   "cell_type": "code",
   "execution_count": 40,
   "metadata": {},
   "outputs": [
    {
     "name": "stdout",
     "output_type": "stream",
     "text": [
      "intercept   -0.043105\n",
      "CPI.L1       1.323666\n",
      "CPI.L2      -0.530797\n",
      "dtype: float64\n"
     ]
    },
    {
     "name": "stderr",
     "output_type": "stream",
     "text": [
      "/anaconda3/lib/python3.7/site-packages/statsmodels/tsa/ar_model.py:252: FutureWarning: The parameter names will change after 0.12 is released. Set old_names to False to use the new names now. Set old_names to True to use the old names. \n",
      "  FutureWarning,\n"
     ]
    }
   ],
   "source": [
    "## Building AR (2) Model \n",
    "n = 2\n",
    "AR2_model = AutoReg(remaining, lags= n).fit()# Here we have used the default value for the trend parameter\n",
    "coef = AR2_model.params\n",
    "print(coef)\n",
    "# walk forward over time steps in test\n",
    "past = remaining[len(remaining)-n:].values\n",
    "past = [past[i] for i in range(len(past))]\n",
    "test_predictions = list()\n",
    "training_predictions = AR2_model.predict(start = train[0], end =train[-1])\n",
    "for t in range(len(remaining_test)):\n",
    "    length = len(past)\n",
    "    lag = [past[i] for i in range(length-n,length)]\n",
    "    pred = coef[0]\n",
    "    for d in range(n):\n",
    "        pred += coef[d+1] * lag[n-d-1]\n",
    "    obs = remaining_test.values[t]\n",
    "    test_predictions.append(pred)\n",
    "    past.append(obs)\n",
    "final_training = (rebuild_diffed(training_predictions,np.log(cpi_train.CPI[0]),x,linear_cpi))\n",
    "final_test = (rebuild_diffed(test_predictions,np.log(cpi_train.iloc[-1].CPI),x,linear_cpi_test))\n",
    "\n"
   ]
  },
  {
   "cell_type": "markdown",
   "metadata": {},
   "source": [
    "We now plot the final model predictions and the actual observed data together to visualize the fit."
   ]
  },
  {
   "cell_type": "code",
   "execution_count": 41,
   "metadata": {
    "scrolled": true
   },
   "outputs": [
    {
     "data": {
      "text/html": [
       "\n",
       "\n",
       "\n",
       "\n",
       "\n",
       "\n",
       "  <div class=\"bk-root\" id=\"04fd6485-b38f-47ab-8431-617556691bc3\" data-root-id=\"4665\"></div>\n"
      ]
     },
     "metadata": {},
     "output_type": "display_data"
    },
    {
     "data": {
      "application/javascript": [
       "(function(root) {\n",
       "  function embed_document(root) {\n",
       "    \n",
       "  var docs_json = {\"edbb4be0-919e-4708-8fec-219fdde64eef\":{\"defs\":[],\"roots\":{\"references\":[{\"attributes\":{\"below\":[{\"id\":\"4676\"}],\"center\":[{\"id\":\"4679\"},{\"id\":\"4683\"},{\"id\":\"4713\"}],\"height\":400,\"left\":[{\"id\":\"4680\"}],\"renderers\":[{\"id\":\"4701\"},{\"id\":\"4718\"},{\"id\":\"4736\"},{\"id\":\"4756\"}],\"title\":{\"id\":\"4666\"},\"toolbar\":{\"id\":\"4691\"},\"width\":800,\"x_range\":{\"id\":\"4668\"},\"x_scale\":{\"id\":\"4672\"},\"y_range\":{\"id\":\"4670\"},\"y_scale\":{\"id\":\"4674\"}},\"id\":\"4665\",\"subtype\":\"Figure\",\"type\":\"Plot\"},{\"attributes\":{},\"id\":\"4705\",\"type\":\"AllLabels\"},{\"attributes\":{\"text\":\"CPI predictions\"},\"id\":\"4666\",\"type\":\"Title\"},{\"attributes\":{},\"id\":\"4704\",\"type\":\"BasicTickFormatter\"},{\"attributes\":{\"axis\":{\"id\":\"4680\"},\"dimension\":1,\"ticker\":null},\"id\":\"4683\",\"type\":\"Grid\"},{\"attributes\":{\"label\":{\"value\":\"Training Data\"},\"renderers\":[{\"id\":\"4701\"}]},\"id\":\"4714\",\"type\":\"LegendItem\"},{\"attributes\":{},\"id\":\"4670\",\"type\":\"DataRange1d\"},{\"attributes\":{\"line_alpha\":0.1,\"line_dash\":[6],\"line_width\":2.5,\"x\":{\"field\":\"x\"},\"y\":{\"field\":\"y\"}},\"id\":\"4700\",\"type\":\"Line\"},{\"attributes\":{},\"id\":\"4708\",\"type\":\"AllLabels\"},{\"attributes\":{},\"id\":\"4685\",\"type\":\"WheelZoomTool\"},{\"attributes\":{\"source\":{\"id\":\"4698\"}},\"id\":\"4702\",\"type\":\"CDSView\"},{\"attributes\":{},\"id\":\"4750\",\"type\":\"Selection\"},{\"attributes\":{\"axis_label\":\"t\",\"formatter\":{\"id\":\"4704\"},\"major_label_policy\":{\"id\":\"4705\"},\"ticker\":{\"id\":\"4677\"}},\"id\":\"4676\",\"type\":\"LinearAxis\"},{\"attributes\":{\"data\":{\"x\":[62,63,64,65,66,67,68,69,70,71,72,73,74,75,76,77,78,79,80,81,82,83,84,85,86,87,88,89,90,91,92,93,94,95,96,97,98,99,100,101,102,103,104,105,106,107,108,109,110,111,112,113,114,115,116,117,118,119,120,121,122,123,124,125,126,127,128,129,130,131,132,133,134,135,136],\"y\":{\"__ndarray__\":\"bh/niCexWkDEQkCJvLxaQMtnFhsKxVpA2iLMuZqrWkBGxQRHoqRaQBtkhU5nrVpAAlutVWnRWkAfgmAek+daQL3qeY7RFltAiMtySqMfW0BZVhQrvDVbQKrUnIIrPFtAzIUzSNMzW0BPsOaO/idbQDEoufs8N1tARI6KFnEfW0BHDogDOvlaQP6NrKFt21pA4i2msZHHWkBqnyJlJgJbQM3ogY2eKltAGU0ZbKYpW0ANb0eWBFNbQK0kC6SuYltA9p3PsIBYW0BpYFYZTU1bQEIThU9TRltAUORfahNKW0BHr2o4cDpbQPc7CmX2JFtATFP0MtRCW0CH+0rzcEZbQD/Y57sTbVtAhLZA5BKLW0CHDYpHKKFbQOyjmr7PsltADEYdgJeZW0D0wcoBV6pbQKRrS4p1v1tAd9hBEkPEW0D1+XIhK7NbQIOXlKAyvltAt6PI55P1W0B2WZVvcf9bQHr+oKZi/VtAu4amf28YXEB9hEPGbxdcQBXz5//sHlxAZ9b+lhIXXECK0S1yMzhcQOrBibFJYVxAKOW+dzVJXEDp84m+/U1cQEgt1PFqSlxAlz6Yfs2CXEBlw4mimptcQHwO5sUVolxAHnPbWuHBXEB8XnsJ9dxcQDUTvXZx3lxAM4fu5ADbXED4aGFrTOJcQGghZz6a7VxAx84nQ3b8XEAEMHGK4NZcQHL00OP+xlxA/VudKCzoXEB9MIcwDwxdQI4rs8/iNF1AOxU/k/9UXUCo1WhVS1ddQEY/fDH1Ul1ABg10Dd9kXUAsRWtn2l9dQAAAAAAAAPh/\",\"dtype\":\"float64\",\"order\":\"little\",\"shape\":[75]}},\"selected\":{\"id\":\"4772\"},\"selection_policy\":{\"id\":\"4771\"}},\"id\":\"4753\",\"type\":\"ColumnDataSource\"},{\"attributes\":{\"data_source\":{\"id\":\"4733\"},\"glyph\":{\"id\":\"4734\"},\"hover_glyph\":null,\"muted_glyph\":null,\"nonselection_glyph\":{\"id\":\"4735\"},\"view\":{\"id\":\"4737\"}},\"id\":\"4736\",\"type\":\"GlyphRenderer\"},{\"attributes\":{},\"id\":\"4674\",\"type\":\"LinearScale\"},{\"attributes\":{},\"id\":\"4668\",\"type\":\"DataRange1d\"},{\"attributes\":{\"overlay\":{\"id\":\"4690\"}},\"id\":\"4686\",\"type\":\"BoxZoomTool\"},{\"attributes\":{},\"id\":\"4711\",\"type\":\"Selection\"},{\"attributes\":{\"bottom_units\":\"screen\",\"fill_alpha\":0.5,\"fill_color\":\"lightgrey\",\"left_units\":\"screen\",\"level\":\"overlay\",\"line_alpha\":1.0,\"line_color\":\"black\",\"line_dash\":[4,4],\"line_width\":2,\"right_units\":\"screen\",\"syncable\":false,\"top_units\":\"screen\"},\"id\":\"4690\",\"type\":\"BoxAnnotation\"},{\"attributes\":{},\"id\":\"4771\",\"type\":\"UnionRenderers\"},{\"attributes\":{},\"id\":\"4772\",\"type\":\"Selection\"},{\"attributes\":{},\"id\":\"4672\",\"type\":\"LinearScale\"},{\"attributes\":{\"source\":{\"id\":\"4715\"}},\"id\":\"4719\",\"type\":\"CDSView\"},{\"attributes\":{\"source\":{\"id\":\"4733\"}},\"id\":\"4737\",\"type\":\"CDSView\"},{\"attributes\":{},\"id\":\"4687\",\"type\":\"SaveTool\"},{\"attributes\":{},\"id\":\"4729\",\"type\":\"UnionRenderers\"},{\"attributes\":{\"active_multi\":null,\"tools\":[{\"id\":\"4684\"},{\"id\":\"4685\"},{\"id\":\"4686\"},{\"id\":\"4687\"},{\"id\":\"4688\"},{\"id\":\"4689\"}]},\"id\":\"4691\",\"type\":\"Toolbar\"},{\"attributes\":{},\"id\":\"4710\",\"type\":\"UnionRenderers\"},{\"attributes\":{\"line_color\":\"red\",\"line_width\":2.5,\"x\":{\"field\":\"x\"},\"y\":{\"field\":\"y\"}},\"id\":\"4734\",\"type\":\"Line\"},{\"attributes\":{\"line_alpha\":0.1,\"line_color\":\"red\",\"line_width\":2.5,\"x\":{\"field\":\"x\"},\"y\":{\"field\":\"y\"}},\"id\":\"4735\",\"type\":\"Line\"},{\"attributes\":{},\"id\":\"4689\",\"type\":\"HelpTool\"},{\"attributes\":{\"data_source\":{\"id\":\"4698\"},\"glyph\":{\"id\":\"4699\"},\"hover_glyph\":null,\"muted_glyph\":null,\"nonselection_glyph\":{\"id\":\"4700\"},\"view\":{\"id\":\"4702\"}},\"id\":\"4701\",\"type\":\"GlyphRenderer\"},{\"attributes\":{\"data_source\":{\"id\":\"4753\"},\"glyph\":{\"id\":\"4754\"},\"hover_glyph\":null,\"muted_glyph\":null,\"nonselection_glyph\":{\"id\":\"4755\"},\"view\":{\"id\":\"4757\"}},\"id\":\"4756\",\"type\":\"GlyphRenderer\"},{\"attributes\":{\"axis\":{\"id\":\"4676\"},\"ticker\":null},\"id\":\"4679\",\"type\":\"Grid\"},{\"attributes\":{},\"id\":\"4688\",\"type\":\"ResetTool\"},{\"attributes\":{\"label\":{\"value\":\"Final AR(2) Model Predictions\"},\"renderers\":[{\"id\":\"4756\"}]},\"id\":\"4774\",\"type\":\"LegendItem\"},{\"attributes\":{\"data_source\":{\"id\":\"4715\"},\"glyph\":{\"id\":\"4716\"},\"hover_glyph\":null,\"muted_glyph\":null,\"nonselection_glyph\":{\"id\":\"4717\"},\"view\":{\"id\":\"4719\"}},\"id\":\"4718\",\"type\":\"GlyphRenderer\"},{\"attributes\":{\"line_alpha\":0.1,\"line_color\":\"green\",\"line_dash\":[6],\"line_width\":2.5,\"x\":{\"field\":\"x\"},\"y\":{\"field\":\"y\"}},\"id\":\"4717\",\"type\":\"Line\"},{\"attributes\":{\"data\":{\"x\":[0,1,2,3,4,5,6,7,8,9,10,11,12,13,14,15,16,17,18,19,20,21,22,23,24,25,26,27,28,29,30,31,32,33,34,35,36,37,38,39,40,41,42,43,44,45,46,47,48,49,50,51,52,53,54,55,56,57,58,59,60,61],\"y\":{\"__ndarray__\":\"AAAAAAAAWUBLyAc9myFZQKvP1VbsB1lAe4hGdxD/WEActi3KbL5YQKWg20saRVhAl6jeGtgEWEBLyAc9mx9YQE6c3O9QPlhA1ouhnGhNWEDw+WGE8FxYQNBE2PD0blhAcVrwoq+kWEAYQznRrppYQOl942vPqFhAWwhyUMKsWEB00vvG17JYQOi8xi5Rt1hA48KBkCysWEDkvWplwsFYQEX11sBWw1hArHMMyF7dWEA/jBAebehYQHYyOEpe7VhAd6G5TiPnWECRm+EGfOhYQMjqVs9J8VhA0GG+vAD1WEAFhqxu9fxYQPLNNjem/1hAe4MvTKYKWUB3vp8aLylZQMX+snvySFlA8tJNYhCIWUBSSZ2AJrJZQHBfB84Z0VlAbqMBvAXKWUAdWmQ7389ZQBKlvcEX4llAqmBUUifsWUBYObTIdt5ZQCL99nXg2FlAat5xio7IWUCamZmZmeVZQMKGp1fKAlpA6Nms+lw1WkASg8DKoUlaQC9uowG8QVpAzojS3uA3WkAU0ETY8CxaQFioNc07UlpAo5I6AU1wWkCLbOf7qW1aQEvIBz2bTVpADwu1pnk7WkDIBz2bVU9aQNEi2/l+hlpAFR3J5T+YWkATYcPTK5FaQOF6FK5HnVpAEoPAyqGtWkBqTfOOU7BaQA==\",\"dtype\":\"float64\",\"order\":\"little\",\"shape\":[62]}},\"selected\":{\"id\":\"4711\"},\"selection_policy\":{\"id\":\"4710\"}},\"id\":\"4698\",\"type\":\"ColumnDataSource\"},{\"attributes\":{\"source\":{\"id\":\"4753\"}},\"id\":\"4757\",\"type\":\"CDSView\"},{\"attributes\":{\"items\":[{\"id\":\"4714\"},{\"id\":\"4732\"},{\"id\":\"4752\"},{\"id\":\"4774\"}],\"location\":\"bottom_right\"},\"id\":\"4713\",\"type\":\"Legend\"},{\"attributes\":{},\"id\":\"4707\",\"type\":\"BasicTickFormatter\"},{\"attributes\":{\"line_alpha\":0.1,\"line_color\":\"orange\",\"line_width\":2.5,\"x\":{\"field\":\"x\"},\"y\":{\"field\":\"y\"}},\"id\":\"4755\",\"type\":\"Line\"},{\"attributes\":{\"data\":{\"x\":[62,63,64,65,66,67,68,69,70,71,72,73,74,75,76,77,78,79,80,81,82,83,84,85,86,87,88,89,90,91,92,93,94,95,96,97,98,99,100,101,102,103,104,105,106,107,108,109,110,111,112,113,114,115,116,117,118,119,120,121,122,123,124,125,126,127,128,129,130,131,132,133,134,135,136],\"y\":{\"__ndarray__\":\"BoGVQ4u4WkAqOpLLf8BaQGaIY13crlpAm+Ydp+igWkBqTfOOU6BaQKH4MeauuVpAl/+QfvvSWkDlYaHWNP9aQPW52or9FVtAke18PzUuW0C6SQwCKztbQJzEILByOFtAf/s6cM4sW0CDL0ymCjJbQLivA+eMIFtAOwFNhA37WkAy5q4l5NNaQHrHKTqSs1pAGsBbIEHRWkDZX3ZPHvpaQFyPwvUoCFtAM8SxLm4rW0DHKTqSy0NbQHh6pSxDRFtAn6ut2F86W0CdgCbChi9bQA5Pr5RlLFtAGeJYF7cdW0D1udqK/QVbQNqs+lxtEVtAkDF3LSEXW0CiRbbz/TRbQLx0kxgEVltAw2SqYFRyW0DFILByaIlbQKfoSC7/fVtA/yH99nWEW0Bhw9MrZZVbQOC+DpwznltA5WGh1jSTW0CTOgFNhJVbQJEPejarvltAt9EA3gLVW0Am5IOezdpbQHKKjuTy71tAmbuWkA/2W0Bq3nGKjvxbQFYOLbKd91tA4umVsgwNXEBQjZduEjNcQOauJeSDLlxAppvEILAuXEBDrWnecSpcQH0/NV66UVxAnzws1JpyXEBQjZduEoNcQAdfmEwVoFxAw/UoXI++XECYTBWMSspcQBBYObTIylxAexSuR+HOXEBIUPwYc9dcQCo6kst/5FxAJCh+jLnLXEBxGw3gLbRcQHxhMlUwwlxAqDXNO07hXEAQ6bevAwtdQAMJih9jMl1ASnuDL0xCXUAW+8vuyUNdQFXBqKROUF1Aq8/VVuxPXUAAAAAAAAD4fwAAAAAAAPh/\",\"dtype\":\"float64\",\"order\":\"little\",\"shape\":[75]}},\"selected\":{\"id\":\"4730\"},\"selection_policy\":{\"id\":\"4729\"}},\"id\":\"4715\",\"type\":\"ColumnDataSource\"},{\"attributes\":{\"axis_label\":\"CPI\",\"formatter\":{\"id\":\"4707\"},\"major_label_policy\":{\"id\":\"4708\"},\"ticker\":{\"id\":\"4681\"}},\"id\":\"4680\",\"type\":\"LinearAxis\"},{\"attributes\":{\"line_color\":\"green\",\"line_dash\":[6],\"line_width\":2.5,\"x\":{\"field\":\"x\"},\"y\":{\"field\":\"y\"}},\"id\":\"4716\",\"type\":\"Line\"},{\"attributes\":{\"line_color\":\"orange\",\"line_width\":2.5,\"x\":{\"field\":\"x\"},\"y\":{\"field\":\"y\"}},\"id\":\"4754\",\"type\":\"Line\"},{\"attributes\":{\"data\":{\"x\":[0,1,2,3,4,5,6,7,8,9,10,11,12,13,14,15,16,17,18,19,20,21,22,23,24,25,26,27,28,29,30,31,32,33,34,35,36,37,38,39,40,41,42,43,44,45,46,47,48,49,50,51,52,53,54,55,56,57,58,59,60,61],\"y\":{\"__ndarray__\":\"AAAAAAAA+H8AAAAAAAD4f20xsZhWBVlAU3vUk6PTWEBKC9sirtdYQB/Jl9r0iFhA3hYDyc8MWEAD2caGSfpXQEELIGH0QVhA0nGWmYheWEAp3nleWGRYQKKJj9UGc1hAy8jnQ8SEWED9Au8kdcRYQN0KYwvVnFhAPowXBfq2WEAqL9vx1rZYQND1WnPuvlhA6EB2acLDWEAmxdkLxbRYQJObJhZk2VhAIPB9vyjSWEC8AO2V6fVYQDF1r0fd+FhAHeSdIqz7WED2kwDj7/JYQDVGPlEp+lhAydIBHzwHWUANVb8NnQlZQGkPYLtOFFlAP5A958cVWUCUutlfDCVZQC26tffCSVlA5f0UlLtlWUCWrhGljapZQIwYXe3kwllAjLRjYajXWUBxV3ip/r9ZQAxXFjehzVlAJTGdJMfkWUBxGc3vjupZQFyI44U71VlAQMFY+jzXWUB+PsqLvMZZQH2oTjv691lA1594qFURWkAcWAyw6kZaQD0Nl2wJSVpAHHurkvU1WkDt+OJ3PS9aQCDvTvggKFpALA4HuG5hWkCHsTxEkndaQC8/ZKJBZlpAnATteFs/WkBv8SQ1gjpaQGpvZe6NYFpApgxN4CmhWkDiKl7FhJ1aQJkxzEncjFpALPDk0seiWkCenpb3IbRaQA==\",\"dtype\":\"float64\",\"order\":\"little\",\"shape\":[62]}},\"selected\":{\"id\":\"4750\"},\"selection_policy\":{\"id\":\"4749\"}},\"id\":\"4733\",\"type\":\"ColumnDataSource\"},{\"attributes\":{},\"id\":\"4681\",\"type\":\"BasicTicker\"},{\"attributes\":{\"label\":{\"value\":\"Final AR(2) Model (Training Data Fit)\"},\"renderers\":[{\"id\":\"4736\"}]},\"id\":\"4752\",\"type\":\"LegendItem\"},{\"attributes\":{},\"id\":\"4684\",\"type\":\"PanTool\"},{\"attributes\":{},\"id\":\"4677\",\"type\":\"BasicTicker\"},{\"attributes\":{\"line_dash\":[6],\"line_width\":2.5,\"x\":{\"field\":\"x\"},\"y\":{\"field\":\"y\"}},\"id\":\"4699\",\"type\":\"Line\"},{\"attributes\":{},\"id\":\"4730\",\"type\":\"Selection\"},{\"attributes\":{},\"id\":\"4749\",\"type\":\"UnionRenderers\"},{\"attributes\":{\"label\":{\"value\":\"Test Data\"},\"renderers\":[{\"id\":\"4718\"}]},\"id\":\"4732\",\"type\":\"LegendItem\"}],\"root_ids\":[\"4665\"]},\"title\":\"Bokeh Application\",\"version\":\"2.3.1\"}};\n",
       "  var render_items = [{\"docid\":\"edbb4be0-919e-4708-8fec-219fdde64eef\",\"root_ids\":[\"4665\"],\"roots\":{\"4665\":\"04fd6485-b38f-47ab-8431-617556691bc3\"}}];\n",
       "  root.Bokeh.embed.embed_items_notebook(docs_json, render_items);\n",
       "\n",
       "  }\n",
       "  if (root.Bokeh !== undefined) {\n",
       "    embed_document(root);\n",
       "  } else {\n",
       "    var attempts = 0;\n",
       "    var timer = setInterval(function(root) {\n",
       "      if (root.Bokeh !== undefined) {\n",
       "        clearInterval(timer);\n",
       "        embed_document(root);\n",
       "      } else {\n",
       "        attempts++;\n",
       "        if (attempts > 100) {\n",
       "          clearInterval(timer);\n",
       "          console.log(\"Bokeh: ERROR: Unable to run BokehJS code because BokehJS library is missing\");\n",
       "        }\n",
       "      }\n",
       "    }, 10, root)\n",
       "  }\n",
       "})(window);"
      ],
      "application/vnd.bokehjs_exec.v0+json": ""
     },
     "metadata": {
      "application/vnd.bokehjs_exec.v0+json": {
       "id": "4665"
      }
     },
     "output_type": "display_data"
    }
   ],
   "source": [
    "p = figure(plot_width=800, plot_height=400, title = \"CPI predictions\")\n",
    "p.line(cpi_train.index,cpi_train.CPI,line_width =2.5, line_color=\"black\", line_dash=\"dashed\", legend_label =\"Training Data\")\n",
    "p.line(cpi_test.index,cpi_test.CPI,line_width =2.5, line_color=\"green\", line_dash=\"dashed\", legend_label =\"Test Data\")\n",
    "p.line(cpi_train.index,final_training,line_color=\"red\",line_width=2.5,legend_label =\"Final AR(2) Model (Training Data Fit)\")\n",
    "p.line(cpi_test.index,final_test,line_color=\"orange\",line_width=2.5,legend_label =\"Final AR(2) Model Predictions\")\n",
    "\n",
    "\n",
    "p.legend.location = \"bottom_right\"\n",
    "p.xaxis.axis_label ='t'\n",
    "p.yaxis.axis_label ='CPI'\n",
    "\n",
    "show(p)\n"
   ]
  },
  {
   "cell_type": "markdown",
   "metadata": {},
   "source": [
    "We see that the AR(2) Model does predict pretty well and the mean squared prediction error is small. We can also reaffirm this conclusion by plotting the residuals after the AR(2) predictions are subtracted from the detrended data "
   ]
  },
  {
   "cell_type": "code",
   "execution_count": 16,
   "metadata": {},
   "outputs": [
    {
     "data": {
      "image/png": "[encoded data removed]",
      "text/plain": [
       "<Figure size 432x288 with 1 Axes>"
      ]
     },
     "metadata": {
      "needs_background": "light"
     },
     "output_type": "display_data"
    }
   ],
   "source": [
    "residuals = (remaining - training_predictions)[2:]\n",
    "plot_pacf(residuals)\n",
    "plt.show()"
   ]
  },
  {
   "cell_type": "code",
   "execution_count": 17,
   "metadata": {},
   "outputs": [
    {
     "name": "stdout",
     "output_type": "stream",
     "text": [
      "The rmse of the final fit is 0.39328060138088855\n"
     ]
    }
   ],
   "source": [
    "rmse = mean_squared_error(cpi_test.dropna().CPI,final_test[:-2])**0.5\n",
    "print(\"The rmse of the final fit is \" + str(rmse))"
   ]
  },
  {
   "cell_type": "markdown",
   "metadata": {},
   "source": [
    "We see that the fit has a low rmse, considering that the order of the data is $10^2$."
   ]
  },
  {
   "cell_type": "markdown",
   "metadata": {},
   "source": [
    "**Inflation Rate**\n",
    "In the next part of the question, since we will be working with external regressors that have different units(such as BER), we must first convert all the data into an equivalent form, i.e monthly inflation rates. We will first do so for CPI from which inflation rates can be simply calculated as\n",
    "> $IR_t = \\frac{CPI_t -CPI_{t-1}}{CPI_{t-1}}$"
   ]
  },
  {
   "cell_type": "code",
   "execution_count": 26,
   "metadata": {},
   "outputs": [],
   "source": [
    "def calc_inflation_rate(data):\n",
    "    ir = []\n",
    "    for i in range(1,len(data)):\n",
    "        ir_temp = (data[i]-data[i-1])/data[i-1] *100 # in percentage     \n",
    "        ir.append(ir_temp)\n",
    "#         print(i)\n",
    "    return ir"
   ]
  },
  {
   "cell_type": "code",
   "execution_count": 25,
   "metadata": {},
   "outputs": [
    {
     "name": "stdout",
     "output_type": "stream",
     "text": [
      "The inflation rate from CPI for the month of February in 2013 was 0.295722930 %\n",
      "The inflation rate from CPI for the month of February in 2013 was 0.295286530 %\n"
     ]
    }
   ],
   "source": [
    "#calculate monthly inflation from CPI\n",
    "val = calc_inflation_rate(cpi.CPI.values)\n",
    "val2=np.log(cpi.CPI).diff().values*100  # in percentage\n",
    "\n",
    "cpi.loc[1:, 'IR_cpi'] = val\n",
    "cpi['diff_log'] = val2\n",
    "\n",
    "cpi_ir_train = (cpi[cpi.YearMonth<'2013-09'].copy())\n",
    "cpi_ir_test = (cpi[cpi.YearMonth >='2013-09'].copy())\n",
    "\n",
    "print(\"The inflation rate from CPI for the month of February in 2013 was %0.9f\" % cpi[cpi.YearMonth =='2013-02']['IR_cpi'] + \" %\")\n",
    "print(\"The inflation rate from CPI for the month of February in 2013 was %0.9f\" % cpi[cpi.YearMonth =='2013-02']['diff_log'] + \" %\")\n"
   ]
  },
  {
   "cell_type": "code",
   "execution_count": 27,
   "metadata": {},
   "outputs": [
    {
     "data": {
      "text/html": [
       "\n",
       "\n",
       "\n",
       "\n",
       "\n",
       "\n",
       "  <div class=\"bk-root\" id=\"c86f7eb5-f740-4569-9999-7109819c4503\" data-root-id=\"2530\"></div>\n"
      ]
     },
     "metadata": {},
     "output_type": "display_data"
    },
    {
     "data": {
      "application/javascript": [
       "(function(root) {\n",
       "  function embed_document(root) {\n",
       "    \n",
       "  var docs_json = {\"9d49bf77-17be-49ea-bc33-677b7ad5ab6e\":{\"defs\":[],\"roots\":{\"references\":[{\"attributes\":{\"below\":[{\"id\":\"2541\"}],\"center\":[{\"id\":\"2544\"},{\"id\":\"2548\"}],\"height\":400,\"left\":[{\"id\":\"2545\"}],\"renderers\":[{\"id\":\"2566\"},{\"id\":\"2571\"}],\"title\":{\"id\":\"2531\"},\"toolbar\":{\"id\":\"2556\"},\"width\":400,\"x_range\":{\"id\":\"2533\"},\"x_scale\":{\"id\":\"2537\"},\"y_range\":{\"id\":\"2535\"},\"y_scale\":{\"id\":\"2539\"}},\"id\":\"2530\",\"subtype\":\"Figure\",\"type\":\"Plot\"},{\"attributes\":{},\"id\":\"2679\",\"type\":\"BasicTickFormatter\"},{\"attributes\":{},\"id\":\"2685\",\"type\":\"Selection\"},{\"attributes\":{\"data\":{\"x\":[0,1,2,3,4,5,6,7,8,9,10,11,12,13,14,15,16,17,18,19,20,21,22,23,24,25,26,27,28,29,30,31,32,33,34,35,36,37,38,39,40,41,42,43,44,45,46,47,48,49,50,51,52,53,54,55,56,57,58,59,60,61,62,63,64,65,66,67,68,69,70,71,72,73,74,75,76,77,78,79,80,81,82,83,84,85,86,87,88,89,90,91,92,93,94,95,96,97,98,99,100,101,102,103,104,105,106,107,108,109,110,111,112,113,114,115,116,117,118,119,120,121,122,123,124,125,126,127,128,129,130,131,132,133,134,135,136],\"y\":{\"__ndarray__\":\"AAAAAAAA+H+AJeSDns3gP2qi5gOOjNm/DchGZCOywb/LOlMhhinwv/Ff0QkBpf6/SWkQDUKM8L80TvGZ+drbPwFLVGxb098/Bqj8VYAgzz/jU1MhE/TPP2l3CCcDfdI/bpg+yNJ86z8SABdHxUvEv+vlS8WOtcw/ajGFUmsDsD/b6jCo8qe4P6ZJZemHHbI/9M0E/8WKxr/t8sQgK9/VP8bdbRxAhZk/oL/L1ctH2j91Nn3MdzvGP1wSvz1m17M/vubAnI7+uL8dbqr4BKGVPys+inYwrME/tWqcQ/LIrT8al7qIzeC/P40EdvjiiKU/6g269XgAxj+Rh7Ui0nvePwzq/Wljj98/yYMNfucz7z/LTM8d6prkP49Fau+4HN4/SNdyTPVqu78MH+07sq62PxRZzH3JpdE/UbcVaV1vwz8cZa6dpmfKv3Lm6+oZmbW/0jxIZveRz79vmXFsJSncP++8gjXxLdw/DBRUfLxN6D+D/7eYj1XTP9h9Rj8EC76/USSStrvEwr+ViVfu1dvEv4bkn7IZz+E/41CqPtWO3D/OKeo5UPKjv3AmpQcyU96/6+tQcqA70b/N+dvdH+3SPyGX8e0mNeo/zY6vZ4+70D93PUVcpZ26v9R+WyADysY/dY/2rWG4zj88+vt4ADOkP/5Fd2xcyr4/toVVuX/FvT9M4LOGuHvQv07X3RvZJMq/69qSCDx/gb9sn+oi3c7XP5glMDJ7qtc/q93nOrmb5D/Hc6ehRRnVP2z2wktDWtY/Dwyn8DLXxz/rYQLbJfqjv1zk5S9GYsW/TE0fgcZDsz9zXHrhQhTQv1+QPFNUR+G/4KTF/7Ik4r/+wNdiPR7ev4j9ShKwyts/IhCAJB4M4z8oRxeBbQbKP2V9NDRET+A/rZfHTkxr1j8UJVo3wWp7PyeRsmbNIcK/b4rj0q/rw7+fnZoQHwanvz1x9by+A8u/gHhhUZXf1b+krioKMinFPw32tlEfEbU/KScsF+OO2z9VejaOWljeP56z6A7h5Nk/zXP0PmwF1T+luP1xTrjEv8gXQuwbg7c/BdKYwTPFzj/L4Jh0Hu2/P4LL/oXn58O/mYDWXNfBoD+MmjZZAabiP6AuRrzOIdQ/CncvWX7PtD/OgYH6ffrSPwPFgN+n4LU/Uk2pX3I7tz+cPC5Meaexvyc99nHYKNM/tLySQYXx4D8EwmsrviiwvyDWnNEJn2M/yhfHsMgcrr9SQ4asFG/hP2gCjWn7Bd0/clUBA2bxzD94FY/KDXDZP8iiyRTzndo/Rrqm0vRnxD/jAfTJGGN7PzK+l/nEc6w/ptnNGEa/vT+QpdbvdJ/GPyrQ/EDIb9W/BE9ZZB5x1L+3YmLyWWfIP1r7+5XPDNs/YKekKnUN4j9c9pwOJvLgP+YJXisuP8s/s83xiN9ilD96KU7zXWPFP/BrXK+g9XS/AAAAAAAA+H8AAAAAAAD4fw==\",\"dtype\":\"float64\",\"order\":\"little\",\"shape\":[137]}},\"selected\":{\"id\":\"2685\"},\"selection_policy\":{\"id\":\"2684\"}},\"id\":\"2568\",\"type\":\"ColumnDataSource\"},{\"attributes\":{},\"id\":\"2680\",\"type\":\"AllLabels\"},{\"attributes\":{\"overlay\":{\"id\":\"2555\"}},\"id\":\"2551\",\"type\":\"BoxZoomTool\"},{\"attributes\":{},\"id\":\"2550\",\"type\":\"WheelZoomTool\"},{\"attributes\":{\"axis\":{\"id\":\"2545\"},\"dimension\":1,\"ticker\":null},\"id\":\"2548\",\"type\":\"Grid\"},{\"attributes\":{},\"id\":\"2535\",\"type\":\"DataRange1d\"},{\"attributes\":{},\"id\":\"2684\",\"type\":\"UnionRenderers\"},{\"attributes\":{},\"id\":\"2546\",\"type\":\"BasicTicker\"},{\"attributes\":{},\"id\":\"2677\",\"type\":\"AllLabels\"},{\"attributes\":{\"active_multi\":null,\"tools\":[{\"id\":\"2549\"},{\"id\":\"2550\"},{\"id\":\"2551\"},{\"id\":\"2552\"},{\"id\":\"2553\"},{\"id\":\"2554\"}]},\"id\":\"2556\",\"type\":\"Toolbar\"},{\"attributes\":{},\"id\":\"2542\",\"type\":\"BasicTicker\"},{\"attributes\":{},\"id\":\"2553\",\"type\":\"ResetTool\"},{\"attributes\":{\"line_alpha\":0.1,\"line_color\":\"navy\",\"line_width\":2.5,\"x\":{\"field\":\"x\"},\"y\":{\"field\":\"y\"}},\"id\":\"2565\",\"type\":\"Line\"},{\"attributes\":{},\"id\":\"2552\",\"type\":\"SaveTool\"},{\"attributes\":{\"line_alpha\":0.1,\"line_color\":\"orange\",\"line_width\":2.5,\"x\":{\"field\":\"x\"},\"y\":{\"field\":\"y\"}},\"id\":\"2570\",\"type\":\"Line\"},{\"attributes\":{},\"id\":\"2682\",\"type\":\"UnionRenderers\"},{\"attributes\":{\"axis_label\":\"t\",\"formatter\":{\"id\":\"2676\"},\"major_label_policy\":{\"id\":\"2677\"},\"ticker\":{\"id\":\"2542\"}},\"id\":\"2541\",\"type\":\"LinearAxis\"},{\"attributes\":{\"data_source\":{\"id\":\"2563\"},\"glyph\":{\"id\":\"2564\"},\"hover_glyph\":null,\"muted_glyph\":null,\"nonselection_glyph\":{\"id\":\"2565\"},\"view\":{\"id\":\"2567\"}},\"id\":\"2566\",\"type\":\"GlyphRenderer\"},{\"attributes\":{\"axis_label\":\"Monthly IR\",\"formatter\":{\"id\":\"2679\"},\"major_label_policy\":{\"id\":\"2680\"},\"ticker\":{\"id\":\"2546\"}},\"id\":\"2545\",\"type\":\"LinearAxis\"},{\"attributes\":{\"source\":{\"id\":\"2563\"}},\"id\":\"2567\",\"type\":\"CDSView\"},{\"attributes\":{},\"id\":\"2537\",\"type\":\"LinearScale\"},{\"attributes\":{},\"id\":\"2554\",\"type\":\"HelpTool\"},{\"attributes\":{\"text\":\"Monthly IR from CPI (in %)\"},\"id\":\"2531\",\"type\":\"Title\"},{\"attributes\":{\"line_color\":\"orange\",\"line_width\":2.5,\"x\":{\"field\":\"x\"},\"y\":{\"field\":\"y\"}},\"id\":\"2569\",\"type\":\"Line\"},{\"attributes\":{\"source\":{\"id\":\"2568\"}},\"id\":\"2572\",\"type\":\"CDSView\"},{\"attributes\":{},\"id\":\"2676\",\"type\":\"BasicTickFormatter\"},{\"attributes\":{\"data_source\":{\"id\":\"2568\"},\"glyph\":{\"id\":\"2569\"},\"hover_glyph\":null,\"muted_glyph\":null,\"nonselection_glyph\":{\"id\":\"2570\"},\"view\":{\"id\":\"2572\"}},\"id\":\"2571\",\"type\":\"GlyphRenderer\"},{\"attributes\":{\"data\":{\"x\":[0,1,2,3,4,5,6,7,8,9,10,11,12,13,14,15,16,17,18,19,20,21,22,23,24,25,26,27,28,29,30,31,32,33,34,35,36,37,38,39,40,41,42,43,44,45,46,47,48,49,50,51,52,53,54,55,56,57,58,59,60,61,62,63,64,65,66,67,68,69,70,71,72,73,74,75,76,77,78,79,80,81,82,83,84,85,86,87,88,89,90,91,92,93,94,95,96,97,98,99,100,101,102,103,104,105,106,107,108,109,110,111,112,113,114,115,116,117,118,119,120,121,122,123,124,125,126,127,128,129,130,131,132,133,134,135,136],\"y\":{\"__ndarray__\":\"AAAAAAAA+H8Az6lbXcLgP8CX3Qilmdm/gIckx0W1wb+A3d0mkD7wvwA+Ybga8f6/cC7sG1Gi8L9ASzpfgMvbP0ABmagqv98/gHFk/9MWzz+Ab5+o4enPP8BC5mcwdtI/YCbYysVe6z+AdR/t5E/EvwB1pOtTrcw/AKhaOyMCsD8A6pIE6aS4PwBCog7kG7I/gNnHYNyPxr+AreVrn9XVPwAgF7tvhJk/wDCNSwU62j+AEgPrhzbGPwBu35Zu1bM/AA7Cxa4Bub8A6NRKb6CVP4Aw26cRqcE/AIpwtrrGrT8ATGTbudu/PwA09kG6h6U/AGBWIaP7xT+AjiRoS2neP8AWz2OIe98/YNtBDDYN7z9gMLITAYrkP0DtM+qkCt4/AFlXNbhuu78Ak9YSIKy2P8B1p9qRn9E/gKnQbJdrwz8A+tfzoW7KvwBywFdvm7W/gLQYGPObz7+Airv/VBncP4CRY2cbHtw/QFfOfzo26D+AtTKGGU7TPwCSjXWID76/gCUaX0LIwr+AXfH2MODEv8COrfp1wuE/wMls+pF+3D8AwvDsTvOjvwDyy1SlZd6/wON6r5NB0b9ACM94+eXSP2BMu9vTGeo/ALlQZPi10D8A2yS+MKG6vwCE0C7TxMY/gLvLlPWuzj8ADmlq+zGkPwDEQuOfxb4/AHAVFhLBvT+A6zgEKoHQv4BD50SxK8q/APj/BG1/gb+AxAEtjsPXPwBOAKdOn9c/4MaK3c6K5D+AFQ9uYxDVP0BcwxZLUNY/gFkmtIXRxz8AFktWJfujv4BW2xraZsW/AEAOsutBsz+Ap0PScBnQvwCxq4lQU+G/ALWxnOox4r/AiSBecDDevwAg8ONIu9s/gMnBvKn94j8AHmjyqf/JP6AQj4qpROA/QGhk5kRh1j8AcGAVhWp7PwDOrtkXJcK/AOEWxajvw78AClFucgenvwB9Q6INC8u/AL6OjCzp1b8AXCH5uCTFPwB3m4znDrU/wKrc0r1/2z+A12bF/kXeP0CAdlGB19k/QJ3etZr81D8ALqiumrzEvwBkur5YgLc/AB0Zy7+7zj8AJ6naBui/P4Bh9PXe68O/AEQHsCPBoD+gu5QCJpjiP8BCDfG3GdQ/AK8bT1TNtD9AQNR6TfPSPwBnE5RD3rU/AHf57b84tz8ANWBrCKmxv8AR5rGEIdM/QKQn5BPm4D8Aq6aKDCqwvwBgWmv6nmM/AMhtPg0frr8Ayw2T92LhP4BDiIsv9dw/ADdSvQjpzD+AIFSCJWPZP8CQQMXRj9o/AGwl88tjxD8AII7J3GJ7PwBcdxG/caw/AHZBT9q6vT8ApM1IWJrGPwAEalD+eNW/QOENdH551L+AvcJLZ2HIPwAPsMc3/to/QG1Nf3gA4j+Aj13Ys+bgP4DwS1nEN8s/AECqj1pilD+A1mkszF7FPwDAiNTD9XS/AAAAAAAA+H8AAAAAAAD4fw==\",\"dtype\":\"float64\",\"order\":\"little\",\"shape\":[137]}},\"selected\":{\"id\":\"2683\"},\"selection_policy\":{\"id\":\"2682\"}},\"id\":\"2563\",\"type\":\"ColumnDataSource\"},{\"attributes\":{\"axis\":{\"id\":\"2541\"},\"ticker\":null},\"id\":\"2544\",\"type\":\"Grid\"},{\"attributes\":{},\"id\":\"2533\",\"type\":\"DataRange1d\"},{\"attributes\":{},\"id\":\"2683\",\"type\":\"Selection\"},{\"attributes\":{\"bottom_units\":\"screen\",\"fill_alpha\":0.5,\"fill_color\":\"lightgrey\",\"left_units\":\"screen\",\"level\":\"overlay\",\"line_alpha\":1.0,\"line_color\":\"black\",\"line_dash\":[4,4],\"line_width\":2,\"right_units\":\"screen\",\"syncable\":false,\"top_units\":\"screen\"},\"id\":\"2555\",\"type\":\"BoxAnnotation\"},{\"attributes\":{},\"id\":\"2549\",\"type\":\"PanTool\"},{\"attributes\":{},\"id\":\"2539\",\"type\":\"LinearScale\"},{\"attributes\":{\"line_color\":\"navy\",\"line_width\":2.5,\"x\":{\"field\":\"x\"},\"y\":{\"field\":\"y\"}},\"id\":\"2564\",\"type\":\"Line\"}],\"root_ids\":[\"2530\"]},\"title\":\"Bokeh Application\",\"version\":\"2.3.1\"}};\n",
       "  var render_items = [{\"docid\":\"9d49bf77-17be-49ea-bc33-677b7ad5ab6e\",\"root_ids\":[\"2530\"],\"roots\":{\"2530\":\"c86f7eb5-f740-4569-9999-7109819c4503\"}}];\n",
       "  root.Bokeh.embed.embed_items_notebook(docs_json, render_items);\n",
       "\n",
       "  }\n",
       "  if (root.Bokeh !== undefined) {\n",
       "    embed_document(root);\n",
       "  } else {\n",
       "    var attempts = 0;\n",
       "    var timer = setInterval(function(root) {\n",
       "      if (root.Bokeh !== undefined) {\n",
       "        clearInterval(timer);\n",
       "        embed_document(root);\n",
       "      } else {\n",
       "        attempts++;\n",
       "        if (attempts > 100) {\n",
       "          clearInterval(timer);\n",
       "          console.log(\"Bokeh: ERROR: Unable to run BokehJS code because BokehJS library is missing\");\n",
       "        }\n",
       "      }\n",
       "    }, 10, root)\n",
       "  }\n",
       "})(window);"
      ],
      "application/vnd.bokehjs_exec.v0+json": ""
     },
     "metadata": {
      "application/vnd.bokehjs_exec.v0+json": {
       "id": "2530"
      }
     },
     "output_type": "display_data"
    }
   ],
   "source": [
    "p = figure(plot_width=400, plot_height=400, title = \"Monthly IR from CPI (in %)\")\n",
    "p.line(cpi.index,cpi['diff_log'],line_color=\"navy\",line_width =2.5)\n",
    "p.line(cpi.index,cpi['IR_cpi'],line_color=\"orange\",line_width =2.5)\n",
    "p.xaxis.axis_label ='t'\n",
    "p.yaxis.axis_label ='Monthly IR'\n",
    "\n",
    "show(p)\n",
    "\n"
   ]
  },
  {
   "cell_type": "markdown",
   "metadata": {},
   "source": [
    "Repeat the above analysis for the monthly Inflation Rate computed from CPI.  We have not included this repeated analysis here."
   ]
  },
  {
   "cell_type": "markdown",
   "metadata": {},
   "source": [
    "Now we move on to converting BER to monthly inflation rates. Note that BER is reported on a daily basis. We first choose a monthly representative value by averaging the BER across all days of the month. BER is already a rate, however it is reported across a 10 year period. In order to convert this to a monthly value, we must then deannualize it using the following formula.\n",
    "> $BER_t = (BER_t +1)^\\frac{1}{12} -1$"
   ]
  },
  {
   "cell_type": "code",
   "execution_count": 22,
   "metadata": {},
   "outputs": [
    {
     "name": "stdout",
     "output_type": "stream",
     "text": [
      "The inflation rate from BER for the month of February in 2013 was 0.210441852 %\n"
     ]
    }
   ],
   "source": [
    "ber = pd.read_csv('../data/T10YIE.csv')\n",
    "ber['DATE'] =pd.to_datetime(ber['DATE'])\n",
    "ber['YearMonth'] = ber['DATE'].dt.strftime('%Y-%m')\n",
    "ber = ber.drop(ber[ber.YearMonth< '2008-07'].index)\n",
    "ber = ber.dropna()\n",
    "# print(ber)\n",
    "\n",
    "ber_monthly = pd.DataFrame(columns =['YearMonth','BER'])\n",
    "ber_monthly['BER'] =ber.groupby('YearMonth').T10YIE.mean().values\n",
    "ber_monthly['YearMonth'] = cpi.YearMonth\n",
    "\n",
    "\n",
    "\n",
    "ber_ir_train = (ber_monthly[ber_monthly.YearMonth<'2013-09'].copy())\n",
    "ber_ir_test = (ber_monthly[ber_monthly.YearMonth >='2013-09'].copy())\n",
    "\n",
    "# print(ber_monthly.BER-ber_ir_train.BER)\n",
    "ber_ir_train['IR_ber'] = ((ber_ir_train.BER.values/100+1)**(1/12)-1)*100\n",
    "ber_ir_test['IR_ber'] = ((ber_ir_test.BER.values/100+1)**(1/12)-1)*100\n",
    "print(\"The inflation rate from BER for the month of February in 2013 was %0.9f\" % ber_ir_train[ber_ir_train.YearMonth == '2013-02']['IR_ber'] + \" %\")"
   ]
  },
  {
   "cell_type": "markdown",
   "metadata": {},
   "source": [
    "We can now overlay these estimates and plot them together"
   ]
  },
  {
   "cell_type": "code",
   "execution_count": 42,
   "metadata": {},
   "outputs": [
    {
     "data": {
      "text/html": [
       "\n",
       "\n",
       "\n",
       "\n",
       "\n",
       "\n",
       "  <div class=\"bk-root\" id=\"f6ea44ed-213c-4cf7-a0e4-7eb526e2872b\" data-root-id=\"5061\"></div>\n"
      ]
     },
     "metadata": {},
     "output_type": "display_data"
    },
    {
     "data": {
      "application/javascript": [
       "(function(root) {\n",
       "  function embed_document(root) {\n",
       "    \n",
       "  var docs_json = {\"55236f6e-1be1-4bb3-a34f-15c015ca6930\":{\"defs\":[],\"roots\":{\"references\":[{\"attributes\":{\"below\":[{\"id\":\"5072\"}],\"center\":[{\"id\":\"5075\"},{\"id\":\"5079\"},{\"id\":\"5109\"}],\"height\":300,\"left\":[{\"id\":\"5076\"}],\"renderers\":[{\"id\":\"5097\"},{\"id\":\"5114\"}],\"title\":{\"id\":\"5062\"},\"toolbar\":{\"id\":\"5087\"},\"width\":800,\"x_range\":{\"id\":\"5064\"},\"x_scale\":{\"id\":\"5068\"},\"y_range\":{\"id\":\"5066\"},\"y_scale\":{\"id\":\"5070\"}},\"id\":\"5061\",\"subtype\":\"Figure\",\"type\":\"Plot\"},{\"attributes\":{\"label\":{\"value\":\"CPI\"},\"renderers\":[{\"id\":\"5097\"}]},\"id\":\"5110\",\"type\":\"LegendItem\"},{\"attributes\":{\"formatter\":{\"id\":\"5100\"},\"major_label_policy\":{\"id\":\"5101\"},\"ticker\":{\"id\":\"5073\"}},\"id\":\"5072\",\"type\":\"LinearAxis\"},{\"attributes\":{},\"id\":\"5070\",\"type\":\"LinearScale\"},{\"attributes\":{},\"id\":\"5101\",\"type\":\"AllLabels\"},{\"attributes\":{},\"id\":\"5073\",\"type\":\"BasicTicker\"},{\"attributes\":{},\"id\":\"5077\",\"type\":\"BasicTicker\"},{\"attributes\":{},\"id\":\"5103\",\"type\":\"BasicTickFormatter\"},{\"attributes\":{\"label\":{\"value\":\"BER (Avg)\"},\"renderers\":[{\"id\":\"5114\"}]},\"id\":\"5128\",\"type\":\"LegendItem\"},{\"attributes\":{\"bottom_units\":\"screen\",\"fill_alpha\":0.5,\"fill_color\":\"lightgrey\",\"left_units\":\"screen\",\"level\":\"overlay\",\"line_alpha\":1.0,\"line_color\":\"black\",\"line_dash\":[4,4],\"line_width\":2,\"right_units\":\"screen\",\"syncable\":false,\"top_units\":\"screen\"},\"id\":\"5086\",\"type\":\"BoxAnnotation\"},{\"attributes\":{},\"id\":\"5107\",\"type\":\"Selection\"},{\"attributes\":{},\"id\":\"5104\",\"type\":\"AllLabels\"},{\"attributes\":{\"axis\":{\"id\":\"5072\"},\"ticker\":null},\"id\":\"5075\",\"type\":\"Grid\"},{\"attributes\":{},\"id\":\"5100\",\"type\":\"BasicTickFormatter\"},{\"attributes\":{\"line_alpha\":0.1,\"line_width\":2.5,\"x\":{\"field\":\"x\"},\"y\":{\"field\":\"y\"}},\"id\":\"5096\",\"type\":\"Line\"},{\"attributes\":{\"axis\":{\"id\":\"5076\"},\"dimension\":1,\"ticker\":null},\"id\":\"5079\",\"type\":\"Grid\"},{\"attributes\":{},\"id\":\"5125\",\"type\":\"UnionRenderers\"},{\"attributes\":{\"data\":{\"x\":[0,1,2,3,4,5,6,7,8,9,10,11,12,13,14,15,16,17,18,19,20,21,22,23,24,25,26,27,28,29,30,31,32,33,34,35,36,37,38,39,40,41,42,43,44,45,46,47,48,49,50,51,52,53,54,55,56,57,58,59,60,61],\"y\":{\"__ndarray__\":\"wMdPJdC5yT+AVyKTOFXHP+BN4LJQbMM/AK5CV+mKtj+AVsJ3/CerPwCpFQjU/5Q/gN25GmTDqT+ASqzkIrq3P0Drj97pkbc/gN0KC/LSvD8AC0sYwbDAPwCjX0YHq8M/gJbpgKlowj/gVPwS7S7DP4B12bOin8I/AF9qASEjxD+gdrUiQHnGP+C0Xk7bf8c/gEx/xHrjyD8AAjF1rPzHP6Cb1Zzubsc/QNA5tAjCyD9gZo00w1LGP0C8Ez56lsQ/wNIdj8m7wj9AsteDA8DBP+DAWkkLZsI/gDzrQB9MxT9gY8vy5SfGP0DFn94Fucc/wFuXFtygyD/gBJAaBK7IP6DqUkBT2ck/gH5I7tVRyz8gvZBM4DfJP0DFn94Fucc/II9FI9EbyT/ADyyNmOXGP4A4ZWw8EcQ/IP5xErfIxD8g94oTFETFPwBtamVwPcU/4KV8I5zrxT+AgE6anHbHP4CJfN/2bMg/QJtbAiDuxz/gaM5cQafGP2ALErsqbcY/oOi6BXl8xj9gIJg1wubHP4C4i12ds8k/gHAPE7BPyj/go2wVZZnJP2CRXS/uHso/wLd1XfSbyj+A9Y00wu/KPyBGch0bz8o/IF4JTvVwyT+AJvtRTRrIP2DKK6HtpcU/YNQr/Jlrxj9AVRHZWxLHPw==\",\"dtype\":\"float64\",\"order\":\"little\",\"shape\":[62]}},\"selected\":{\"id\":\"5126\"},\"selection_policy\":{\"id\":\"5125\"}},\"id\":\"5111\",\"type\":\"ColumnDataSource\"},{\"attributes\":{},\"id\":\"5068\",\"type\":\"LinearScale\"},{\"attributes\":{\"data_source\":{\"id\":\"5094\"},\"glyph\":{\"id\":\"5095\"},\"hover_glyph\":null,\"muted_glyph\":null,\"nonselection_glyph\":{\"id\":\"5096\"},\"view\":{\"id\":\"5098\"}},\"id\":\"5097\",\"type\":\"GlyphRenderer\"},{\"attributes\":{},\"id\":\"5084\",\"type\":\"ResetTool\"},{\"attributes\":{\"active_multi\":null,\"tools\":[{\"id\":\"5080\"},{\"id\":\"5081\"},{\"id\":\"5082\"},{\"id\":\"5083\"},{\"id\":\"5084\"},{\"id\":\"5085\"}]},\"id\":\"5087\",\"type\":\"Toolbar\"},{\"attributes\":{},\"id\":\"5066\",\"type\":\"DataRange1d\"},{\"attributes\":{},\"id\":\"5083\",\"type\":\"SaveTool\"},{\"attributes\":{\"source\":{\"id\":\"5094\"}},\"id\":\"5098\",\"type\":\"CDSView\"},{\"attributes\":{},\"id\":\"5080\",\"type\":\"PanTool\"},{\"attributes\":{\"overlay\":{\"id\":\"5086\"}},\"id\":\"5082\",\"type\":\"BoxZoomTool\"},{\"attributes\":{\"line_width\":2.5,\"x\":{\"field\":\"x\"},\"y\":{\"field\":\"y\"}},\"id\":\"5095\",\"type\":\"Line\"},{\"attributes\":{\"data\":{\"x\":[0,1,2,3,4,5,6,7,8,9,10,11,12,13,14,15,16,17,18,19,20,21,22,23,24,25,26,27,28,29,30,31,32,33,34,35,36,37,38,39,40,41,42,43,44,45,46,47,48,49,50,51,52,53,54,55,56,57,58,59,60,61],\"y\":{\"__ndarray__\":\"AAAAAAAA+H+AJeSDns3gP2qi5gOOjNm/DchGZCOywb/LOlMhhinwv/Ff0QkBpf6/SWkQDUKM8L80TvGZ+drbPwFLVGxb098/Bqj8VYAgzz/jU1MhE/TPP2l3CCcDfdI/bpg+yNJ86z8SABdHxUvEv+vlS8WOtcw/ajGFUmsDsD/b6jCo8qe4P6ZJZemHHbI/9M0E/8WKxr/t8sQgK9/VP8bdbRxAhZk/oL/L1ctH2j91Nn3MdzvGP1wSvz1m17M/vubAnI7+uL8dbqr4BKGVPys+inYwrME/tWqcQ/LIrT8al7qIzeC/P40EdvjiiKU/6g269XgAxj+Rh7Ui0nvePwzq/Wljj98/yYMNfucz7z/LTM8d6prkP49Fau+4HN4/SNdyTPVqu78MH+07sq62PxRZzH3JpdE/UbcVaV1vwz8cZa6dpmfKv3Lm6+oZmbW/0jxIZveRz79vmXFsJSncP++8gjXxLdw/DBRUfLxN6D+D/7eYj1XTP9h9Rj8EC76/USSStrvEwr+ViVfu1dvEv4bkn7IZz+E/41CqPtWO3D/OKeo5UPKjv3AmpQcyU96/6+tQcqA70b/N+dvdH+3SPyGX8e0mNeo/zY6vZ4+70D93PUVcpZ26v9R+WyADysY/dY/2rWG4zj88+vt4ADOkPw==\",\"dtype\":\"float64\",\"order\":\"little\",\"shape\":[62]}},\"selected\":{\"id\":\"5107\"},\"selection_policy\":{\"id\":\"5106\"}},\"id\":\"5094\",\"type\":\"ColumnDataSource\"},{\"attributes\":{\"source\":{\"id\":\"5111\"}},\"id\":\"5115\",\"type\":\"CDSView\"},{\"attributes\":{},\"id\":\"5126\",\"type\":\"Selection\"},{\"attributes\":{\"text\":\"Inflation Rates\"},\"id\":\"5062\",\"type\":\"Title\"},{\"attributes\":{\"line_color\":\"red\",\"line_width\":2.5,\"x\":{\"field\":\"x\"},\"y\":{\"field\":\"y\"}},\"id\":\"5112\",\"type\":\"Line\"},{\"attributes\":{\"data_source\":{\"id\":\"5111\"},\"glyph\":{\"id\":\"5112\"},\"hover_glyph\":null,\"muted_glyph\":null,\"nonselection_glyph\":{\"id\":\"5113\"},\"view\":{\"id\":\"5115\"}},\"id\":\"5114\",\"type\":\"GlyphRenderer\"},{\"attributes\":{},\"id\":\"5064\",\"type\":\"DataRange1d\"},{\"attributes\":{},\"id\":\"5106\",\"type\":\"UnionRenderers\"},{\"attributes\":{\"formatter\":{\"id\":\"5103\"},\"major_label_policy\":{\"id\":\"5104\"},\"ticker\":{\"id\":\"5077\"}},\"id\":\"5076\",\"type\":\"LinearAxis\"},{\"attributes\":{\"items\":[{\"id\":\"5110\"},{\"id\":\"5128\"}],\"location\":\"bottom_right\"},\"id\":\"5109\",\"type\":\"Legend\"},{\"attributes\":{},\"id\":\"5081\",\"type\":\"WheelZoomTool\"},{\"attributes\":{\"line_alpha\":0.1,\"line_color\":\"red\",\"line_width\":2.5,\"x\":{\"field\":\"x\"},\"y\":{\"field\":\"y\"}},\"id\":\"5113\",\"type\":\"Line\"},{\"attributes\":{},\"id\":\"5085\",\"type\":\"HelpTool\"}],\"root_ids\":[\"5061\"]},\"title\":\"Bokeh Application\",\"version\":\"2.3.1\"}};\n",
       "  var render_items = [{\"docid\":\"55236f6e-1be1-4bb3-a34f-15c015ca6930\",\"root_ids\":[\"5061\"],\"roots\":{\"5061\":\"f6ea44ed-213c-4cf7-a0e4-7eb526e2872b\"}}];\n",
       "  root.Bokeh.embed.embed_items_notebook(docs_json, render_items);\n",
       "\n",
       "  }\n",
       "  if (root.Bokeh !== undefined) {\n",
       "    embed_document(root);\n",
       "  } else {\n",
       "    var attempts = 0;\n",
       "    var timer = setInterval(function(root) {\n",
       "      if (root.Bokeh !== undefined) {\n",
       "        clearInterval(timer);\n",
       "        embed_document(root);\n",
       "      } else {\n",
       "        attempts++;\n",
       "        if (attempts > 100) {\n",
       "          clearInterval(timer);\n",
       "          console.log(\"Bokeh: ERROR: Unable to run BokehJS code because BokehJS library is missing\");\n",
       "        }\n",
       "      }\n",
       "    }, 10, root)\n",
       "  }\n",
       "})(window);"
      ],
      "application/vnd.bokehjs_exec.v0+json": ""
     },
     "metadata": {
      "application/vnd.bokehjs_exec.v0+json": {
       "id": "5061"
      }
     },
     "output_type": "display_data"
    }
   ],
   "source": [
    "p = figure(plot_width=800, plot_height=300, title = \"Inflation Rates\")\n",
    "p.line(cpi_train.index[0:],cpi_ir_train.IR_cpi,line_width =2.5, line_color=\"black\", legend_label =\"CPI\")\n",
    "p.line(ber_ir_train.index[0:],ber_ir_train.IR_ber,line_color=\"red\",line_width=2.5,legend_label =\"BER (Avg)\")\n",
    "p.legend.location ='bottom_right'\n",
    "show(p)\n",
    "\n"
   ]
  },
  {
   "cell_type": "markdown",
   "metadata": {},
   "source": [
    "In the next part, we incorporate BER data as external regressors , i.e. exogenous variables to help better our predictions. In order to identify the lag between the external regressor and the CPI timeseries, we plot the cross correlation plots between BER and CPI."
   ]
  },
  {
   "cell_type": "code",
   "execution_count": 24,
   "metadata": {},
   "outputs": [
    {
     "data": {
      "image/png": "[encoded data removed]",
      "text/plain": [
       "<Figure size 432x288 with 1 Axes>"
      ]
     },
     "metadata": {
      "needs_background": "light"
     },
     "output_type": "display_data"
    }
   ],
   "source": [
    "from statsmodels.tsa.stattools import ccf\n",
    "plt.xcorr(ber_ir_train.IR_ber[1:],cpi_ir_train.IR_cpi[1:], maxlags = 25)\n",
    "plt.title('Crosscorrelation between CPI and BER Inflation Rates')\n",
    "plt.show()"
   ]
  },
  {
   "cell_type": "markdown",
   "metadata": {},
   "source": [
    "We see that for BER and CPI, the CCF plot is not as clear but we see that the peak correlation occurs at a lag of 0 and another peak at a lag of (-6). While multiple lag terms can be incorporated, we begin by including the BER at the same time instant as a regressor."
   ]
  },
  {
   "cell_type": "code",
   "execution_count": 68,
   "metadata": {},
   "outputs": [],
   "source": [
    "exogenous = ber_ir_train.copy().drop(['BER'],axis=1)\n",
    "exogenous =exogenous.drop(['YearMonth'],axis=1).drop([0,1]).values # exogenous start at index 2, i.e. 2008-09\n",
    "\n",
    "endogenous = cpi_ir_train.IR_cpi.iloc[2:].reset_index().drop(['index'],axis =1)# drop first 2 rows to match with start of exogenous\n",
    "model_external = sm.tsa.statespace.SARIMAX(endogenous, exogenous, order=(2,0,0), coerce_errors =True).fit(disp=False) #AR(2)\n",
    "coef = model_external.params\n",
    "#print(model_external.summary())\n",
    "\n",
    "training_predictions3 = model_external.predict(start =2, end = len(endogenous.index) - 1, exog = exogenous)# training prediction start 2008-11\n",
    "\n"
   ]
  },
  {
   "cell_type": "code",
   "execution_count": 71,
   "metadata": {},
   "outputs": [
    {
     "name": "stdout",
     "output_type": "stream",
     "text": [
      "The rmse of this final fit is 0.23693092827591775\n",
      "The mape of this final fit is 280.7584070780668\n"
     ]
    }
   ],
   "source": [
    "k= 2\n",
    "coef = model_external.params\n",
    "past = endogenous.IR_cpi[len(endogenous.IR_cpi)-k:].values #exact the last k items in training data\n",
    "past = [past[i] for i in range(k)]\n",
    "test_predictions3 = list()\n",
    "\n",
    "#prediction of the first time step\n",
    "#past_ps = ps_ir_train.IR_ps.values[-1] # since lag was 1 between ir_cpi and ir_ps\n",
    "pred = coef['ar.L2']*past[0] + coef['ar.L1']*past[1] + coef['x1'] * ber_ir_test.IR_ber.iloc[0] \n",
    "test_predictions3.append(pred)\n",
    "obs = cpi_ir_test.IR_cpi.values[0]\n",
    "past.append(obs)\n",
    "\n",
    "for t in range(1,len(cpi_ir_test.IR_cpi)):\n",
    "    length = len(past)\n",
    "    lag = [past[i] for i in range(length-2,length)]\n",
    "    pred = coef['ar.L2']*lag[0] + coef['ar.L1']*lag[1] +  coef['x1'] * ber_ir_test.IR_ber.iloc[t] \n",
    "    test_predictions3.append(pred)\n",
    "    obs = cpi_ir_test.IR_cpi.values[t]\n",
    "    past.append(obs)\n",
    "print(\"The rmse of this final fit is \" + str(mean_squared_error(cpi_ir_test.IR_cpi.values[:-2], test_predictions3[:-2])**0.5))\n",
    "print(\"The mape of this final fit is \" + str(mean_absolute_percentage_error(cpi_ir_test.IR_cpi.values[:-2],test_predictions3[:-2])))\n",
    "\n"
   ]
  },
  {
   "cell_type": "code",
   "execution_count": 72,
   "metadata": {},
   "outputs": [
    {
     "data": {
      "text/html": [
       "\n",
       "\n",
       "\n",
       "\n",
       "\n",
       "\n",
       "  <div class=\"bk-root\" id=\"490e2c40-dce2-42df-9096-684be51f4d07\" data-root-id=\"3330\"></div>\n"
      ]
     },
     "metadata": {},
     "output_type": "display_data"
    },
    {
     "data": {
      "application/javascript": [
       "(function(root) {\n",
       "  function embed_document(root) {\n",
       "    \n",
       "  var docs_json = {\"c9a30b4b-b54b-4069-a969-89151a460d5d\":{\"defs\":[],\"roots\":{\"references\":[{\"attributes\":{\"below\":[{\"id\":\"3341\"}],\"center\":[{\"id\":\"3344\"},{\"id\":\"3348\"},{\"id\":\"3378\"}],\"height\":300,\"left\":[{\"id\":\"3345\"}],\"renderers\":[{\"id\":\"3366\"},{\"id\":\"3383\"},{\"id\":\"3401\"},{\"id\":\"3421\"}],\"title\":{\"id\":\"3331\"},\"toolbar\":{\"id\":\"3356\"},\"width\":800,\"x_range\":{\"id\":\"3333\"},\"x_scale\":{\"id\":\"3337\"},\"y_range\":{\"id\":\"3335\"},\"y_scale\":{\"id\":\"3339\"}},\"id\":\"3330\",\"subtype\":\"Figure\",\"type\":\"Plot\"},{\"attributes\":{\"line_alpha\":0.1,\"line_color\":\"green\",\"line_dash\":[6],\"line_width\":2.5,\"x\":{\"field\":\"x\"},\"y\":{\"field\":\"y\"}},\"id\":\"3365\",\"type\":\"Line\"},{\"attributes\":{},\"id\":\"3436\",\"type\":\"Selection\"},{\"attributes\":{\"data_source\":{\"id\":\"3363\"},\"glyph\":{\"id\":\"3364\"},\"hover_glyph\":null,\"muted_glyph\":null,\"nonselection_glyph\":{\"id\":\"3365\"},\"view\":{\"id\":\"3367\"}},\"id\":\"3366\",\"type\":\"GlyphRenderer\"},{\"attributes\":{},\"id\":\"3337\",\"type\":\"LinearScale\"},{\"attributes\":{},\"id\":\"3370\",\"type\":\"BasicTickFormatter\"},{\"attributes\":{\"source\":{\"id\":\"3363\"}},\"id\":\"3367\",\"type\":\"CDSView\"},{\"attributes\":{},\"id\":\"3437\",\"type\":\"UnionRenderers\"},{\"attributes\":{\"data\":{\"x\":[2,3,4,5,6,7,8,9,10,11,12,13,14,15,16,17,18,19,20,21,22,23,24,25,26,27,28,29,30,31,32,33,34,35,36,37,38,39,40,41,42,43,44,45,46,47,48,49,50,51,52,53,54,55,56,57,58,59,60,61],\"y\":{\"__ndarray__\":\"aqLmA46M2b8NyEZkI7LBv8s6UyGGKfC/8V/RCQGl/r9JaRANQozwvzRO8Zn52ts/AUtUbFvT3z8GqPxVgCDPP+NTUyET9M8/aXcIJwN90j9umD7I0nzrPxIAF0fFS8S/6+VLxY61zD9qMYVSawOwP9vqMKjyp7g/pkll6Ycdsj/0zQT/xYrGv+3yxCAr39U/xt1tHECFmT+gv8vVy0faP3U2fcx3O8Y/XBK/PWbXsz++5sCcjv64vx1uqvgEoZU/Kz6KdjCswT+1apxD8sitPxqXuojN4L8/jQR2+OKIpT/qDbr1eADGP5GHtSLSe94/DOr9aWOP3z/Jgw1+5zPvP8tMzx3qmuQ/j0Vq77gc3j9I13JM9Wq7vwwf7TuyrrY/FFnMfcml0T9RtxVpXW/DPxxlrp2mZ8q/cubr6hmZtb/SPEhm95HPv2+ZcWwlKdw/77yCNfEt3D8MFFR8vE3oP4P/t5iPVdM/2H1GPwQLvr9RJJK2u8TCv5WJV+7V28S/huSfshnP4T/jUKo+1Y7cP84p6jlQ8qO/cCalBzJT3r/r61ByoDvRv835290f7dI/IZfx7SY16j/Njq9nj7vQP3c9RVylnbq/1H5bIAPKxj91j/atYbjOPzz6+3gAM6Q/\",\"dtype\":\"float64\",\"order\":\"little\",\"shape\":[60]}},\"selected\":{\"id\":\"3375\"},\"selection_policy\":{\"id\":\"3376\"}},\"id\":\"3363\",\"type\":\"ColumnDataSource\"},{\"attributes\":{},\"id\":\"3339\",\"type\":\"LinearScale\"},{\"attributes\":{},\"id\":\"3414\",\"type\":\"Selection\"},{\"attributes\":{\"data_source\":{\"id\":\"3418\"},\"glyph\":{\"id\":\"3419\"},\"hover_glyph\":null,\"muted_glyph\":null,\"nonselection_glyph\":{\"id\":\"3420\"},\"view\":{\"id\":\"3422\"}},\"id\":\"3421\",\"type\":\"GlyphRenderer\"},{\"attributes\":{\"items\":[{\"id\":\"3379\"},{\"id\":\"3397\"},{\"id\":\"3417\"},{\"id\":\"3439\"}],\"location\":\"bottom_right\"},\"id\":\"3378\",\"type\":\"Legend\"},{\"attributes\":{},\"id\":\"3415\",\"type\":\"UnionRenderers\"},{\"attributes\":{\"data\":{\"x\":[4,5,6,7,8,9,10,11,12,13,14,15,16,17,18,19,20,21,22,23,24,25,26,27,28,29,30,31,32,33,34,35,36,37,38,39,40,41,42,43,44,45,46,47,48,49,50,51,52,53,54,55,56,57,58,59,60,61],\"y\":{\"__ndarray__\":\"E/VtDVg0pj85j8tc9L7jv+LPj5F4SO6/AXc1FzaWv7+Vwz+HSuviP9Lpif2239E/9N9nRsjNuT9iZF6eSsLHP2Kn3BM2isg/Al52TkhB4j9c0O3hsh7QvzHvL2bqqtE/b/D9CypVtD/SBkamMUHCPwxXkALpJ8A/lBZXr+EHpL91kq9zT23XP5wLcvp90KE/OOba7I0b1j+UweIe14+3P0WP4EnOzbQ/YMMQd/YohL98GzLl6mG+Pwt9fD4z/MY/DEFGeh1Utz9RP+NFiGbFP8bH+FiPyLg/2HKNftfeyT9UhZOw8h7YPxIrRweTGNQ/Rj2FTEJj4z8WMc4uCwzRP65H/8oLE9A/0MTb5eIDu7+aomBxohzFP3JjS3EjBNA/IhaGu5OqvT/6TJ0161S2v52dLdHQPrc/vLYamrEqpL9KOzTGcPTcP0dKfvAHRtE/vBDmeN5Q3j+5AQYpGGa4P0TT13woaa+/YG8rIxT/oj+8t00E6YakPwaaH64qbeA/xNVA2e8I0D+giETmdP2ev5O0E/p5OMi/FOPHm/W6rT8pCXP4bt/XP0LDUgfU8OE/LEkAy7JmrT+Y/WvU7sipv/6WDZapCc8/l0rAImBzyj8=\",\"dtype\":\"float64\",\"order\":\"little\",\"shape\":[58]}},\"selected\":{\"id\":\"3394\"},\"selection_policy\":{\"id\":\"3395\"}},\"id\":\"3380\",\"type\":\"ColumnDataSource\"},{\"attributes\":{\"data_source\":{\"id\":\"3380\"},\"glyph\":{\"id\":\"3381\"},\"hover_glyph\":null,\"muted_glyph\":null,\"nonselection_glyph\":{\"id\":\"3382\"},\"view\":{\"id\":\"3384\"}},\"id\":\"3383\",\"type\":\"GlyphRenderer\"},{\"attributes\":{\"label\":{\"value\":\"Final Model (Training Data Fit)\"},\"renderers\":[{\"id\":\"3383\"}]},\"id\":\"3397\",\"type\":\"LegendItem\"},{\"attributes\":{},\"id\":\"3333\",\"type\":\"DataRange1d\"},{\"attributes\":{},\"id\":\"3375\",\"type\":\"Selection\"},{\"attributes\":{},\"id\":\"3394\",\"type\":\"Selection\"},{\"attributes\":{\"axis\":{\"id\":\"3345\"},\"dimension\":1,\"ticker\":null},\"id\":\"3348\",\"type\":\"Grid\"},{\"attributes\":{\"source\":{\"id\":\"3380\"}},\"id\":\"3384\",\"type\":\"CDSView\"},{\"attributes\":{},\"id\":\"3346\",\"type\":\"BasicTicker\"},{\"attributes\":{},\"id\":\"3395\",\"type\":\"UnionRenderers\"},{\"attributes\":{\"text\":\"Inflation Rates\"},\"id\":\"3331\",\"type\":\"Title\"},{\"attributes\":{\"label\":{\"value\":\"Training Data\"},\"renderers\":[{\"id\":\"3366\"}]},\"id\":\"3379\",\"type\":\"LegendItem\"},{\"attributes\":{\"line_color\":\"green\",\"line_dash\":[6],\"line_width\":2.5,\"x\":{\"field\":\"x\"},\"y\":{\"field\":\"y\"}},\"id\":\"3364\",\"type\":\"Line\"},{\"attributes\":{\"active_multi\":null,\"tools\":[{\"id\":\"3349\"},{\"id\":\"3350\"},{\"id\":\"3351\"},{\"id\":\"3352\"},{\"id\":\"3353\"},{\"id\":\"3354\"}]},\"id\":\"3356\",\"type\":\"Toolbar\"},{\"attributes\":{},\"id\":\"3354\",\"type\":\"HelpTool\"},{\"attributes\":{},\"id\":\"3373\",\"type\":\"BasicTickFormatter\"},{\"attributes\":{},\"id\":\"3349\",\"type\":\"PanTool\"},{\"attributes\":{},\"id\":\"3335\",\"type\":\"DataRange1d\"},{\"attributes\":{},\"id\":\"3372\",\"type\":\"AllLabels\"},{\"attributes\":{},\"id\":\"3369\",\"type\":\"AllLabels\"},{\"attributes\":{\"line_color\":\"orange\",\"line_width\":2.5,\"x\":{\"field\":\"x\"},\"y\":{\"field\":\"y\"}},\"id\":\"3419\",\"type\":\"Line\"},{\"attributes\":{\"formatter\":{\"id\":\"3373\"},\"major_label_policy\":{\"id\":\"3372\"},\"ticker\":{\"id\":\"3346\"}},\"id\":\"3345\",\"type\":\"LinearAxis\"},{\"attributes\":{},\"id\":\"3352\",\"type\":\"SaveTool\"},{\"attributes\":{\"bottom_units\":\"screen\",\"fill_alpha\":0.5,\"fill_color\":\"lightgrey\",\"left_units\":\"screen\",\"level\":\"overlay\",\"line_alpha\":1.0,\"line_color\":\"black\",\"line_dash\":[4,4],\"line_width\":2,\"right_units\":\"screen\",\"syncable\":false,\"top_units\":\"screen\"},\"id\":\"3355\",\"type\":\"BoxAnnotation\"},{\"attributes\":{\"line_alpha\":0.1,\"line_color\":\"red\",\"line_width\":2.5,\"x\":{\"field\":\"x\"},\"y\":{\"field\":\"y\"}},\"id\":\"3382\",\"type\":\"Line\"},{\"attributes\":{\"line_alpha\":0.1,\"line_color\":\"orange\",\"line_width\":2.5,\"x\":{\"field\":\"x\"},\"y\":{\"field\":\"y\"}},\"id\":\"3420\",\"type\":\"Line\"},{\"attributes\":{\"axis\":{\"id\":\"3341\"},\"ticker\":null},\"id\":\"3344\",\"type\":\"Grid\"},{\"attributes\":{\"source\":{\"id\":\"3398\"}},\"id\":\"3402\",\"type\":\"CDSView\"},{\"attributes\":{},\"id\":\"3350\",\"type\":\"WheelZoomTool\"},{\"attributes\":{\"source\":{\"id\":\"3418\"}},\"id\":\"3422\",\"type\":\"CDSView\"},{\"attributes\":{\"data\":{\"x\":[62,63,64,65,66,67,68,69,70,71,72,73,74,75,76,77,78,79,80,81,82,83,84,85,86,87,88,89,90,91,92,93,94,95,96,97,98,99,100,101,102,103,104,105,106,107,108,109,110,111,112,113,114,115,116,117,118,119,120,121,122,123,124,125,126,127,128,129,130,131,132,133,134,135],\"y\":[0.11859244220594517,0.22633574761825198,0.20161337642125401,-0.042279718614414735,0.09383817884820493,0.20306690719778772,0.4019257139829798,0.3015877791404231,0.48348777503827667,0.20971378371937535,0.3063023698984736,0.18990867880740117,0.07604244077373107,0.03966767638701747,0.22836536749320893,-0.06095367720936673,-0.17164372784079024,-0.10679307902278432,-0.03344314393848072,0.5400759180824557,0.4116098428178497,0.11374789447611963,0.412259874680297,0.21371914693440738,0.02397133800355554,0.014187016732228483,0.04862912457179523,0.12060109145850328,-0.02346140926497005,-0.07403005679814312,0.3089151467113218,0.12788786511580474,0.37561993932530285,0.30498657740967744,0.24792152295697134,0.21634693138120847,-0.08116110167117273,0.22258613521579207,0.2651471830581857,0.15921507084293468,0.011386006414938227,0.2075294303458563,0.5167582961696657,0.192597871452216,0.10453848400702151,0.29788641435674257,0.10727990357231057,0.1656436821863592,0.06404411743971153,0.348192580343085,0.4029775225647799,-0.04101655207326854,0.1655601802361043,0.11271754512456297,0.5223985743439152,0.30909368135341686,0.18509945006035194,0.3542504592155984,0.321701809651447,0.14817667657325712,0.11643316443864013,0.18708751968506637,0.20638623930587846,0.2168208967944556,-0.13499248086436275,0.013584902526624934,0.3456030649910707,0.3669466422017238,0.3914802460751991,0.32317621758283255,0.12886925978233035,0.07275397767989018,0.2189766489074949,0.06641200908411388]},\"selected\":{\"id\":\"3436\"},\"selection_policy\":{\"id\":\"3437\"}},\"id\":\"3418\",\"type\":\"ColumnDataSource\"},{\"attributes\":{\"overlay\":{\"id\":\"3355\"}},\"id\":\"3351\",\"type\":\"BoxZoomTool\"},{\"attributes\":{\"line_alpha\":0.1,\"line_width\":2.5,\"x\":{\"field\":\"x\"},\"y\":{\"field\":\"y\"}},\"id\":\"3400\",\"type\":\"Line\"},{\"attributes\":{\"line_color\":\"red\",\"line_width\":2.5,\"x\":{\"field\":\"x\"},\"y\":{\"field\":\"y\"}},\"id\":\"3381\",\"type\":\"Line\"},{\"attributes\":{\"data\":{\"x\":[62,63,64,65,66,67,68,69,70,71,72,73,74,75,76,77,78,79,80,81,82,83,84,85,86,87,88,89,90,91,92,93,94,95,96,97,98,99,100,101,102,103,104,105,106,107,108,109,110,111,112,113,114,115,116,117,118,119,120,121,122,123,124,125,126,127,128,129,130,131,132,133,134,135,136],\"y\":{\"__ndarray__\":\"/kV3bFzKvj+2hVW5f8W9P0zgs4a4e9C/TtfdG9kkyr/r2pIIPH+Bv2yf6iLdztc/mCUwMnuq1z+r3ec6uZvkP8dzp6FFGdU/bPbCS0Na1j8PDKfwMtfHP+thAtsl+qO/XOTlL0Zixb9MTR+BxkOzP3NceuFCFNC/X5A8U1RH4b/gpMX/siTiv/7A12I9Ht6/iP1KErDK2z8iEIAkHgzjPyhHF4FtBso/ZX00NERP4D+tl8dOTGvWPxQlWjfBans/J5GyZs0hwr9viuPSr+vDv5+dmhAfBqe/PXH1vL4Dy7+AeGFRld/Vv6SuKgoyKcU/Dfa2UR8RtT8pJywX447bP1V6No5aWN4/nrPoDuHk2T/Nc/Q+bAXVP6W4/XFOuMS/yBdC7BuDtz8F0pjBM8XOP8vgmHQe7b8/gsv+hefnw7+ZgNZc18GgP4yaNlkBpuI/oC5GvM4h1D8Kdy9Zfs+0P86Bgfp9+tI/A8WA36fgtT9STalfcju3P5w8Lkx5p7G/Jz32cdgo0z+0vJJBhfHgPwTCayu+KLC/INac0QmfYz/KF8ewyByuv1JDhqwUb+E/aAKNafsF3T9yVQEDZvHMP3gVj8oNcNk/yKLJFPOd2j9GuqbS9GfEP+MB9MkYY3s/Mr6X+cRzrD+m2c0YRr+9P5Cl1u90n8Y/KtD8QMhv1b8ET1lkHnHUv7diYvJZZ8g/Wvv7lc8M2z9gp6QqdQ3iP1z2nA4m8uA/5gleKy4/yz+zzfGI32KUP3opTvNdY8U/8Gtcr6D1dL8AAAAAAAD4fwAAAAAAAPh/\",\"dtype\":\"float64\",\"order\":\"little\",\"shape\":[75]}},\"selected\":{\"id\":\"3414\"},\"selection_policy\":{\"id\":\"3415\"}},\"id\":\"3398\",\"type\":\"ColumnDataSource\"},{\"attributes\":{\"label\":{\"value\":\"Final  Model Predictions\"},\"renderers\":[{\"id\":\"3421\"}]},\"id\":\"3439\",\"type\":\"LegendItem\"},{\"attributes\":{},\"id\":\"3353\",\"type\":\"ResetTool\"},{\"attributes\":{\"line_width\":2.5,\"x\":{\"field\":\"x\"},\"y\":{\"field\":\"y\"}},\"id\":\"3399\",\"type\":\"Line\"},{\"attributes\":{\"data_source\":{\"id\":\"3398\"},\"glyph\":{\"id\":\"3399\"},\"hover_glyph\":null,\"muted_glyph\":null,\"nonselection_glyph\":{\"id\":\"3400\"},\"view\":{\"id\":\"3402\"}},\"id\":\"3401\",\"type\":\"GlyphRenderer\"},{\"attributes\":{},\"id\":\"3342\",\"type\":\"BasicTicker\"},{\"attributes\":{},\"id\":\"3376\",\"type\":\"UnionRenderers\"},{\"attributes\":{\"formatter\":{\"id\":\"3370\"},\"major_label_policy\":{\"id\":\"3369\"},\"ticker\":{\"id\":\"3342\"}},\"id\":\"3341\",\"type\":\"LinearAxis\"},{\"attributes\":{\"label\":{\"value\":\"CPI\"},\"renderers\":[{\"id\":\"3401\"}]},\"id\":\"3417\",\"type\":\"LegendItem\"}],\"root_ids\":[\"3330\"]},\"title\":\"Bokeh Application\",\"version\":\"2.3.3\"}};\n",
       "  var render_items = [{\"docid\":\"c9a30b4b-b54b-4069-a969-89151a460d5d\",\"root_ids\":[\"3330\"],\"roots\":{\"3330\":\"490e2c40-dce2-42df-9096-684be51f4d07\"}}];\n",
       "  root.Bokeh.embed.embed_items_notebook(docs_json, render_items);\n",
       "\n",
       "  }\n",
       "  if (root.Bokeh !== undefined) {\n",
       "    embed_document(root);\n",
       "  } else {\n",
       "    var attempts = 0;\n",
       "    var timer = setInterval(function(root) {\n",
       "      if (root.Bokeh !== undefined) {\n",
       "        clearInterval(timer);\n",
       "        embed_document(root);\n",
       "      } else {\n",
       "        attempts++;\n",
       "        if (attempts > 100) {\n",
       "          clearInterval(timer);\n",
       "          console.log(\"Bokeh: ERROR: Unable to run BokehJS code because BokehJS library is missing\");\n",
       "        }\n",
       "      }\n",
       "    }, 10, root)\n",
       "  }\n",
       "})(window);"
      ],
      "application/vnd.bokehjs_exec.v0+json": ""
     },
     "metadata": {
      "application/vnd.bokehjs_exec.v0+json": {
       "id": "3330"
      }
     },
     "output_type": "display_data"
    }
   ],
   "source": [
    "p = figure(plot_width=800, plot_height=300, title = \"Inflation Rates\")\n",
    "p.line(endogenous.index+2,endogenous.IR_cpi,line_width =2.5, line_color=\"green\", line_dash=\"dashed\", legend_label =\"Training Data\")\n",
    "p.line(training_predictions3.index+2,training_predictions3,line_color=\"red\",line_width=2.5,legend_label =\"Final Model (Training Data Fit)\")\n",
    "p.line(cpi_ir_test.index,cpi_ir_test.IR_cpi,line_width =2.5, line_color=\"black\", legend_label =\"CPI\")\n",
    "p.line(cpi_ir_test.index[:-1],test_predictions3[:-1],line_color=\"orange\",line_width=2.5,legend_label =\"Final  Model Predictions\")\n",
    "p.legend.location ='bottom_right'\n",
    "show(p)"
   ]
  },
  {
   "cell_type": "markdown",
   "metadata": {},
   "source": [
    "We see that the model predictions are very good, and match the original values"
   ]
  },
  {
   "cell_type": "markdown",
   "metadata": {},
   "source": [
    "Lastly, we try to better the model predictions. One way to do this would be to incorporate Moving Average terms into the model. We start by including an MA(1) term to get an ARMA(1,1) model. We then make predictions as shown above."
   ]
  },
  {
   "cell_type": "code",
   "execution_count": 73,
   "metadata": {},
   "outputs": [
    {
     "name": "stdout",
     "output_type": "stream",
     "text": [
      "                               SARIMAX Results                                \n",
      "==============================================================================\n",
      "Dep. Variable:                 IR_cpi   No. Observations:                   60\n",
      "Model:               SARIMAX(2, 0, 1)   Log Likelihood                 -24.044\n",
      "Date:                Sun, 24 Oct 2021   AIC                             58.088\n",
      "Time:                        15:46:44   BIC                             68.560\n",
      "Sample:                             0   HQIC                            62.184\n",
      "                                 - 60                                         \n",
      "Covariance Type:                  opg                                         \n",
      "==============================================================================\n",
      "                 coef    std err          z      P>|z|      [0.025      0.975]\n",
      "------------------------------------------------------------------------------\n",
      "x1             0.8719      0.537      1.625      0.104      -0.180       1.923\n",
      "ar.L1          0.7339      0.802      0.916      0.360      -0.837       2.305\n",
      "ar.L2         -0.3016      0.426     -0.707      0.479      -1.137       0.534\n",
      "ma.L1         -0.0871      0.746     -0.117      0.907      -1.550       1.375\n",
      "sigma2         0.1295      0.020      6.378      0.000       0.090       0.169\n",
      "===================================================================================\n",
      "Ljung-Box (L1) (Q):                   0.00   Jarque-Bera (JB):                18.20\n",
      "Prob(Q):                              0.94   Prob(JB):                         0.00\n",
      "Heteroskedasticity (H):               0.33   Skew:                            -0.78\n",
      "Prob(H) (two-sided):                  0.02   Kurtosis:                         5.20\n",
      "===================================================================================\n",
      "\n",
      "Warnings:\n",
      "[1] Covariance matrix calculated using the outer product of gradients (complex-step).\n"
     ]
    }
   ],
   "source": [
    "exogenous = ber_ir_train.copy().drop(['BER'],axis=1)\n",
    "exogenous =exogenous.drop(['YearMonth'],axis=1).drop([0,1]).values # exogenous start at index 2, i.e. 2008-09\n",
    "\n",
    "endogenous = cpi_ir_train.IR_cpi.iloc[2:].reset_index().drop(['index'],axis =1)# drop first 2 rows to match with start of exogenous\n",
    "model_external = sm.tsa.statespace.SARIMAX(endogenous, exogenous, order=(2,0,1), coerce_errors =True).fit(disp=False) #AR(2)\n",
    "coef = model_external.params\n",
    "print(model_external.summary())\n",
    "training_predictions4 = model_external.predict(start =2, end = len(endogenous.index) - 1, exog = exogenous)# training prediction start 2008-11\n",
    "\n",
    "\n",
    "\n"
   ]
  },
  {
   "cell_type": "code",
   "execution_count": 74,
   "metadata": {},
   "outputs": [
    {
     "name": "stdout",
     "output_type": "stream",
     "text": [
      "The rmse of this final fit is 0.23590563135757384\n",
      "The mape of this final fit is 282.0575099418504\n"
     ]
    }
   ],
   "source": [
    "k= 2\n",
    "coef = model_external.params\n",
    "past = endogenous.IR_cpi[len(endogenous.IR_cpi)-k:].values\n",
    "past = [past[i] for i in range(k)]\n",
    "test_predictions4 = list()\n",
    "\n",
    "#prediction of the first time step\n",
    "pred = coef['ar.L2']*past[0] + coef['ar.L1']*past[1] +  coef['ma.L1'] * past[1] + coef['x1'] * ber_ir_test.IR_ber.iloc[0] \n",
    "test_predictions4.append(pred)\n",
    "obs = cpi_ir_test.IR_cpi.values[0]\n",
    "past.append(obs)\n",
    "\n",
    "for t in range(1,len(cpi_ir_test.IR_cpi)):\n",
    "    length = len(past)\n",
    "    lag = [past[i] for i in range(length-2,length)]\n",
    "    pred = coef['ar.L2']*lag[0] + coef['ar.L1']*lag[1] +  coef['ma.L1'] * lag[1]+coef['x1'] * ber_ir_test.IR_ber.iloc[t] \n",
    "    test_predictions4.append(pred)\n",
    "    obs = cpi_ir_test.IR_cpi.values[t]\n",
    "    past.append(obs)\n",
    "print(\"The rmse of this final fit is \" + str(mean_squared_error(cpi_ir_test.IR_cpi.values[:-2], test_predictions4[:-2])**0.5))\n",
    "print(\"The mape of this final fit is \" + str(mean_absolute_percentage_error(cpi_ir_test.IR_cpi.values[:-2], test_predictions4[:-2])))\n"
   ]
  },
  {
   "cell_type": "markdown",
   "metadata": {},
   "source": [
    "We see that even though the $\\text{RMSE}$ has increased, the percentage error $\\text{MAPE}$ has halved.  The decrease of $\\text{MAPE}$ means that "
   ]
  },
  {
   "cell_type": "code",
   "execution_count": 54,
   "metadata": {},
   "outputs": [
    {
     "data": {
      "text/html": [
       "\n",
       "\n",
       "\n",
       "\n",
       "\n",
       "\n",
       "  <div class=\"bk-root\" id=\"e5f904b2-df51-486a-8d40-5ec7adb82fef\" data-root-id=\"3000\"></div>\n"
      ]
     },
     "metadata": {},
     "output_type": "display_data"
    },
    {
     "data": {
      "application/javascript": [
       "(function(root) {\n",
       "  function embed_document(root) {\n",
       "    \n",
       "  var docs_json = {\"a6d59e29-8fe2-4b94-976e-1fbf53abd901\":{\"defs\":[],\"roots\":{\"references\":[{\"attributes\":{\"below\":[{\"id\":\"3011\"}],\"center\":[{\"id\":\"3014\"},{\"id\":\"3018\"},{\"id\":\"3048\"}],\"height\":300,\"left\":[{\"id\":\"3015\"}],\"renderers\":[{\"id\":\"3036\"},{\"id\":\"3053\"},{\"id\":\"3071\"},{\"id\":\"3091\"}],\"title\":{\"id\":\"3001\"},\"toolbar\":{\"id\":\"3026\"},\"width\":800,\"x_range\":{\"id\":\"3003\"},\"x_scale\":{\"id\":\"3007\"},\"y_range\":{\"id\":\"3005\"},\"y_scale\":{\"id\":\"3009\"}},\"id\":\"3000\",\"subtype\":\"Figure\",\"type\":\"Plot\"},{\"attributes\":{},\"id\":\"3022\",\"type\":\"SaveTool\"},{\"attributes\":{},\"id\":\"3084\",\"type\":\"Selection\"},{\"attributes\":{\"formatter\":{\"id\":\"3043\"},\"major_label_policy\":{\"id\":\"3042\"},\"ticker\":{\"id\":\"3016\"}},\"id\":\"3015\",\"type\":\"LinearAxis\"},{\"attributes\":{\"source\":{\"id\":\"3088\"}},\"id\":\"3092\",\"type\":\"CDSView\"},{\"attributes\":{},\"id\":\"3024\",\"type\":\"HelpTool\"},{\"attributes\":{\"line_alpha\":0.1,\"line_color\":\"green\",\"line_dash\":[6],\"line_width\":2.5,\"x\":{\"field\":\"x\"},\"y\":{\"field\":\"y\"}},\"id\":\"3035\",\"type\":\"Line\"},{\"attributes\":{},\"id\":\"3043\",\"type\":\"BasicTickFormatter\"},{\"attributes\":{\"line_color\":\"orange\",\"line_width\":2.5,\"x\":{\"field\":\"x\"},\"y\":{\"field\":\"y\"}},\"id\":\"3089\",\"type\":\"Line\"},{\"attributes\":{},\"id\":\"3019\",\"type\":\"PanTool\"},{\"attributes\":{\"label\":{\"value\":\"Training Data\"},\"renderers\":[{\"id\":\"3036\"}]},\"id\":\"3049\",\"type\":\"LegendItem\"},{\"attributes\":{},\"id\":\"3007\",\"type\":\"LinearScale\"},{\"attributes\":{\"line_alpha\":0.1,\"line_color\":\"red\",\"line_width\":2.5,\"x\":{\"field\":\"x\"},\"y\":{\"field\":\"y\"}},\"id\":\"3052\",\"type\":\"Line\"},{\"attributes\":{\"label\":{\"value\":\"CPI\"},\"renderers\":[{\"id\":\"3071\"}]},\"id\":\"3087\",\"type\":\"LegendItem\"},{\"attributes\":{\"source\":{\"id\":\"3068\"}},\"id\":\"3072\",\"type\":\"CDSView\"},{\"attributes\":{\"label\":{\"value\":\"Final  Model Predictions\"},\"renderers\":[{\"id\":\"3091\"}]},\"id\":\"3109\",\"type\":\"LegendItem\"},{\"attributes\":{},\"id\":\"3023\",\"type\":\"ResetTool\"},{\"attributes\":{\"data_source\":{\"id\":\"3088\"},\"glyph\":{\"id\":\"3089\"},\"hover_glyph\":null,\"muted_glyph\":null,\"nonselection_glyph\":{\"id\":\"3090\"},\"view\":{\"id\":\"3092\"}},\"id\":\"3091\",\"type\":\"GlyphRenderer\"},{\"attributes\":{\"line_alpha\":0.1,\"line_width\":2.5,\"x\":{\"field\":\"x\"},\"y\":{\"field\":\"y\"}},\"id\":\"3070\",\"type\":\"Line\"},{\"attributes\":{\"data_source\":{\"id\":\"3050\"},\"glyph\":{\"id\":\"3051\"},\"hover_glyph\":null,\"muted_glyph\":null,\"nonselection_glyph\":{\"id\":\"3052\"},\"view\":{\"id\":\"3054\"}},\"id\":\"3053\",\"type\":\"GlyphRenderer\"},{\"attributes\":{\"line_color\":\"red\",\"line_width\":2.5,\"x\":{\"field\":\"x\"},\"y\":{\"field\":\"y\"}},\"id\":\"3051\",\"type\":\"Line\"},{\"attributes\":{\"bottom_units\":\"screen\",\"fill_alpha\":0.5,\"fill_color\":\"lightgrey\",\"left_units\":\"screen\",\"level\":\"overlay\",\"line_alpha\":1.0,\"line_color\":\"black\",\"line_dash\":[4,4],\"line_width\":2,\"right_units\":\"screen\",\"syncable\":false,\"top_units\":\"screen\"},\"id\":\"3025\",\"type\":\"BoxAnnotation\"},{\"attributes\":{\"overlay\":{\"id\":\"3025\"}},\"id\":\"3021\",\"type\":\"BoxZoomTool\"},{\"attributes\":{},\"id\":\"3107\",\"type\":\"UnionRenderers\"},{\"attributes\":{},\"id\":\"3005\",\"type\":\"DataRange1d\"},{\"attributes\":{\"active_multi\":null,\"tools\":[{\"id\":\"3019\"},{\"id\":\"3020\"},{\"id\":\"3021\"},{\"id\":\"3022\"},{\"id\":\"3023\"},{\"id\":\"3024\"}]},\"id\":\"3026\",\"type\":\"Toolbar\"},{\"attributes\":{},\"id\":\"3106\",\"type\":\"Selection\"},{\"attributes\":{\"line_color\":\"green\",\"line_dash\":[6],\"line_width\":2.5,\"x\":{\"field\":\"x\"},\"y\":{\"field\":\"y\"}},\"id\":\"3034\",\"type\":\"Line\"},{\"attributes\":{\"source\":{\"id\":\"3050\"}},\"id\":\"3054\",\"type\":\"CDSView\"},{\"attributes\":{},\"id\":\"3020\",\"type\":\"WheelZoomTool\"},{\"attributes\":{},\"id\":\"3003\",\"type\":\"DataRange1d\"},{\"attributes\":{},\"id\":\"3065\",\"type\":\"UnionRenderers\"},{\"attributes\":{\"axis\":{\"id\":\"3011\"},\"ticker\":null},\"id\":\"3014\",\"type\":\"Grid\"},{\"attributes\":{\"text\":\"Inflation Rates\"},\"id\":\"3001\",\"type\":\"Title\"},{\"attributes\":{},\"id\":\"3009\",\"type\":\"LinearScale\"},{\"attributes\":{},\"id\":\"3016\",\"type\":\"BasicTicker\"},{\"attributes\":{\"data_source\":{\"id\":\"3033\"},\"glyph\":{\"id\":\"3034\"},\"hover_glyph\":null,\"muted_glyph\":null,\"nonselection_glyph\":{\"id\":\"3035\"},\"view\":{\"id\":\"3037\"}},\"id\":\"3036\",\"type\":\"GlyphRenderer\"},{\"attributes\":{\"axis\":{\"id\":\"3015\"},\"dimension\":1,\"ticker\":null},\"id\":\"3018\",\"type\":\"Grid\"},{\"attributes\":{\"data_source\":{\"id\":\"3068\"},\"glyph\":{\"id\":\"3069\"},\"hover_glyph\":null,\"muted_glyph\":null,\"nonselection_glyph\":{\"id\":\"3070\"},\"view\":{\"id\":\"3072\"}},\"id\":\"3071\",\"type\":\"GlyphRenderer\"},{\"attributes\":{},\"id\":\"3046\",\"type\":\"UnionRenderers\"},{\"attributes\":{\"formatter\":{\"id\":\"3040\"},\"major_label_policy\":{\"id\":\"3039\"},\"ticker\":{\"id\":\"3012\"}},\"id\":\"3011\",\"type\":\"LinearAxis\"},{\"attributes\":{},\"id\":\"3045\",\"type\":\"Selection\"},{\"attributes\":{},\"id\":\"3039\",\"type\":\"AllLabels\"},{\"attributes\":{\"items\":[{\"id\":\"3049\"},{\"id\":\"3067\"},{\"id\":\"3087\"},{\"id\":\"3109\"}],\"location\":\"bottom_right\"},\"id\":\"3048\",\"type\":\"Legend\"},{\"attributes\":{},\"id\":\"3042\",\"type\":\"AllLabels\"},{\"attributes\":{\"label\":{\"value\":\"Final Model (Training Data Fit)\"},\"renderers\":[{\"id\":\"3053\"}]},\"id\":\"3067\",\"type\":\"LegendItem\"},{\"attributes\":{},\"id\":\"3012\",\"type\":\"BasicTicker\"},{\"attributes\":{\"line_alpha\":0.1,\"line_color\":\"orange\",\"line_width\":2.5,\"x\":{\"field\":\"x\"},\"y\":{\"field\":\"y\"}},\"id\":\"3090\",\"type\":\"Line\"},{\"attributes\":{},\"id\":\"3040\",\"type\":\"BasicTickFormatter\"},{\"attributes\":{\"data\":{\"x\":[62,63,64,65,66,67,68,69,70,71,72,73,74,75,76,77,78,79,80,81,82,83,84,85,86,87,88,89,90,91,92,93,94,95,96,97,98,99,100,101,102,103,104,105,106,107,108,109,110,111,112,113,114,115,116,117,118,119,120,121,122,123,124,125,126,127,128,129,130,131,132,133,134,135,136],\"y\":{\"__ndarray__\":\"/kV3bFzKvj+2hVW5f8W9P0zgs4a4e9C/TtfdG9kkyr/r2pIIPH+Bv2yf6iLdztc/mCUwMnuq1z+r3ec6uZvkP8dzp6FFGdU/bPbCS0Na1j8PDKfwMtfHP+thAtsl+qO/XOTlL0Zixb9MTR+BxkOzP3NceuFCFNC/X5A8U1RH4b/gpMX/siTiv/7A12I9Ht6/iP1KErDK2z8iEIAkHgzjPyhHF4FtBso/ZX00NERP4D+tl8dOTGvWPxQlWjfBans/J5GyZs0hwr9viuPSr+vDv5+dmhAfBqe/PXH1vL4Dy7+AeGFRld/Vv6SuKgoyKcU/Dfa2UR8RtT8pJywX447bP1V6No5aWN4/nrPoDuHk2T/Nc/Q+bAXVP6W4/XFOuMS/yBdC7BuDtz8F0pjBM8XOP8vgmHQe7b8/gsv+hefnw7+ZgNZc18GgP4yaNlkBpuI/oC5GvM4h1D8Kdy9Zfs+0P86Bgfp9+tI/A8WA36fgtT9STalfcju3P5w8Lkx5p7G/Jz32cdgo0z+0vJJBhfHgPwTCayu+KLC/INac0QmfYz/KF8ewyByuv1JDhqwUb+E/aAKNafsF3T9yVQEDZvHMP3gVj8oNcNk/yKLJFPOd2j9GuqbS9GfEP+MB9MkYY3s/Mr6X+cRzrD+m2c0YRr+9P5Cl1u90n8Y/KtD8QMhv1b8ET1lkHnHUv7diYvJZZ8g/Wvv7lc8M2z9gp6QqdQ3iP1z2nA4m8uA/5gleKy4/yz+zzfGI32KUP3opTvNdY8U/8Gtcr6D1dL8AAAAAAAD4fwAAAAAAAPh/\",\"dtype\":\"float64\",\"order\":\"little\",\"shape\":[75]}},\"selected\":{\"id\":\"3084\"},\"selection_policy\":{\"id\":\"3085\"}},\"id\":\"3068\",\"type\":\"ColumnDataSource\"},{\"attributes\":{\"data\":{\"x\":[2,3,4,5,6,7,8,9,10,11,12,13,14,15,16,17,18,19,20,21,22,23,24,25,26,27,28,29,30,31,32,33,34,35,36,37,38,39,40,41,42,43,44,45,46,47,48,49,50,51,52,53,54,55,56,57,58,59,60,61],\"y\":{\"__ndarray__\":\"aqLmA46M2b8NyEZkI7LBv8s6UyGGKfC/8V/RCQGl/r9JaRANQozwvzRO8Zn52ts/AUtUbFvT3z8GqPxVgCDPP+NTUyET9M8/aXcIJwN90j9umD7I0nzrPxIAF0fFS8S/6+VLxY61zD9qMYVSawOwP9vqMKjyp7g/pkll6Ycdsj/0zQT/xYrGv+3yxCAr39U/xt1tHECFmT+gv8vVy0faP3U2fcx3O8Y/XBK/PWbXsz++5sCcjv64vx1uqvgEoZU/Kz6KdjCswT+1apxD8sitPxqXuojN4L8/jQR2+OKIpT/qDbr1eADGP5GHtSLSe94/DOr9aWOP3z/Jgw1+5zPvP8tMzx3qmuQ/j0Vq77gc3j9I13JM9Wq7vwwf7TuyrrY/FFnMfcml0T9RtxVpXW/DPxxlrp2mZ8q/cubr6hmZtb/SPEhm95HPv2+ZcWwlKdw/77yCNfEt3D8MFFR8vE3oP4P/t5iPVdM/2H1GPwQLvr9RJJK2u8TCv5WJV+7V28S/huSfshnP4T/jUKo+1Y7cP84p6jlQ8qO/cCalBzJT3r/r61ByoDvRv835290f7dI/IZfx7SY16j/Njq9nj7vQP3c9RVylnbq/1H5bIAPKxj91j/atYbjOPzz6+3gAM6Q/\",\"dtype\":\"float64\",\"order\":\"little\",\"shape\":[60]}},\"selected\":{\"id\":\"3045\"},\"selection_policy\":{\"id\":\"3046\"}},\"id\":\"3033\",\"type\":\"ColumnDataSource\"},{\"attributes\":{\"data\":{\"x\":[4,5,6,7,8,9,10,11,12,13,14,15,16,17,18,19,20,21,22,23,24,25,26,27,28,29,30,31,32,33,34,35,36,37,38,39,40,41,42,43,44,45,46,47,48,49,50,51,52,53,54,55,56,57,58,59,60,61],\"y\":{\"__ndarray__\":\"E/VtDVg0pj85j8tc9L7jv+LPj5F4SO6/AXc1FzaWv7+Vwz+HSuviP9Lpif2239E/9N9nRsjNuT9iZF6eSsLHP2Kn3BM2isg/Al52TkhB4j9c0O3hsh7QvzHvL2bqqtE/b/D9CypVtD/SBkamMUHCPwxXkALpJ8A/lBZXr+EHpL91kq9zT23XP5wLcvp90KE/OOba7I0b1j+UweIe14+3P0WP4EnOzbQ/YMMQd/YohL98GzLl6mG+Pwt9fD4z/MY/DEFGeh1Utz9RP+NFiGbFP8bH+FiPyLg/2HKNftfeyT9UhZOw8h7YPxIrRweTGNQ/Rj2FTEJj4z8WMc4uCwzRP65H/8oLE9A/0MTb5eIDu7+aomBxohzFP3JjS3EjBNA/IhaGu5OqvT/6TJ0161S2v52dLdHQPrc/vLYamrEqpL9KOzTGcPTcP0dKfvAHRtE/vBDmeN5Q3j+5AQYpGGa4P0TT13woaa+/YG8rIxT/oj+8t00E6YakPwaaH64qbeA/xNVA2e8I0D+giETmdP2ev5O0E/p5OMi/FOPHm/W6rT8pCXP4bt/XP0LDUgfU8OE/LEkAy7JmrT+Y/WvU7sipv/6WDZapCc8/l0rAImBzyj8=\",\"dtype\":\"float64\",\"order\":\"little\",\"shape\":[58]}},\"selected\":{\"id\":\"3064\"},\"selection_policy\":{\"id\":\"3065\"}},\"id\":\"3050\",\"type\":\"ColumnDataSource\"},{\"attributes\":{},\"id\":\"3064\",\"type\":\"Selection\"},{\"attributes\":{\"line_width\":2.5,\"x\":{\"field\":\"x\"},\"y\":{\"field\":\"y\"}},\"id\":\"3069\",\"type\":\"Line\"},{\"attributes\":{\"data\":{\"x\":[62,63,64,65,66,67,68,69,70,71,72,73,74,75,76,77,78,79,80,81,82,83,84,85,86,87,88,89,90,91,92,93,94,95,96,97,98,99,100,101,102,103,104,105,106,107,108,109,110,111,112,113,114,115,116,117,118,119,120,121,122,123,124,125,126,127,128,129,130,131,132,133,134,135],\"y\":[0.10749465389629581,0.22323758597860355,0.1950917680401515,-0.04602083780392083,0.10569239804187602,0.21129456936921143,0.3991282680018867,0.2825372809298726,0.4626114328108689,0.17929638005602763,0.2891790036967089,0.17310224555683773,0.06780878205378749,0.04199858061551397,0.23449037208918555,-0.06286301002942567,-0.15755635866769657,-0.08020130228750591,-0.006380643862484381,0.5566791624353793,0.3884020955650741,0.08639179102983538,0.3995336749038375,0.18906148344468832,0.008548245931020063,0.014495940568853616,0.05535940177414473,0.12717114322125078,-0.020439025830334995,-0.06296547255166492,0.3219666954598188,0.1198220105315144,0.3686789576406638,0.2828826726228406,0.2244422488465544,0.1963716566822643,-0.09447204913681104,0.22842899181902726,0.2590656856084821,0.1475600818368966,0.006612446489601659,0.2134213875626773,0.5107701933779234,0.16498802725808787,0.09004104514947203,0.291888640594841,0.09354086093133099,0.16089132520040125,0.060164720321220014,0.34856437247417404,0.38599717373582965,-0.06371136945771108,0.16770714097116007,0.11247547098651987,0.5205646335833826,0.2820798099039353,0.1635726561336462,0.34125557039621024,0.301253387184929,0.12873384123956066,0.10901489414988563,0.18586135016760497,0.20267486598102086,0.21014369276673878,-0.14068202018918835,0.029642224647606172,0.3574276448102079,0.3553391073410042,0.3689950545169327,0.29491605929115167,0.10428365647942667,0.06309800045287875,0.21654328426108763,0.05889416519144488]},\"selected\":{\"id\":\"3106\"},\"selection_policy\":{\"id\":\"3107\"}},\"id\":\"3088\",\"type\":\"ColumnDataSource\"},{\"attributes\":{},\"id\":\"3085\",\"type\":\"UnionRenderers\"},{\"attributes\":{\"source\":{\"id\":\"3033\"}},\"id\":\"3037\",\"type\":\"CDSView\"}],\"root_ids\":[\"3000\"]},\"title\":\"Bokeh Application\",\"version\":\"2.3.3\"}};\n",
       "  var render_items = [{\"docid\":\"a6d59e29-8fe2-4b94-976e-1fbf53abd901\",\"root_ids\":[\"3000\"],\"roots\":{\"3000\":\"e5f904b2-df51-486a-8d40-5ec7adb82fef\"}}];\n",
       "  root.Bokeh.embed.embed_items_notebook(docs_json, render_items);\n",
       "\n",
       "  }\n",
       "  if (root.Bokeh !== undefined) {\n",
       "    embed_document(root);\n",
       "  } else {\n",
       "    var attempts = 0;\n",
       "    var timer = setInterval(function(root) {\n",
       "      if (root.Bokeh !== undefined) {\n",
       "        clearInterval(timer);\n",
       "        embed_document(root);\n",
       "      } else {\n",
       "        attempts++;\n",
       "        if (attempts > 100) {\n",
       "          clearInterval(timer);\n",
       "          console.log(\"Bokeh: ERROR: Unable to run BokehJS code because BokehJS library is missing\");\n",
       "        }\n",
       "      }\n",
       "    }, 10, root)\n",
       "  }\n",
       "})(window);"
      ],
      "application/vnd.bokehjs_exec.v0+json": ""
     },
     "metadata": {
      "application/vnd.bokehjs_exec.v0+json": {
       "id": "3000"
      }
     },
     "output_type": "display_data"
    }
   ],
   "source": [
    "p = figure(plot_width=800, plot_height=300, title = \"Inflation Rates\")\n",
    "p.line(endogenous.index+2,endogenous.IR_cpi,line_width =2.5, line_color=\"green\", line_dash=\"dashed\", legend_label =\"Training Data\")\n",
    "p.line(training_predictions3.index+2,training_predictions3,line_color=\"red\",line_width=2.5,legend_label =\"Final Model (Training Data Fit)\")\n",
    "p.line(cpi_ir_test.index,cpi_ir_test.IR_cpi,line_width =2.5, line_color=\"black\", legend_label =\"CPI\")\n",
    "p.line(cpi_ir_test.index[:-1],test_predictions4[:-1],line_color=\"orange\",line_width=2.5,legend_label =\"Final  Model Predictions\")\n",
    "p.legend.location ='bottom_right'\n",
    "show(p)"
   ]
  }
 ],
 "metadata": {
  "kernelspec": {
   "display_name": "Python 3",
   "language": "python",
   "name": "python3"
  },
  "language_info": {
   "codemirror_mode": {
    "name": "ipython",
    "version": 3
   },
   "file_extension": ".py",
   "mimetype": "text/x-python",
   "name": "python",
   "nbconvert_exporter": "python",
   "pygments_lexer": "ipython3",
   "version": "3.7.2"
  }
 },
 "nbformat": 4,
 "nbformat_minor": 4
}
