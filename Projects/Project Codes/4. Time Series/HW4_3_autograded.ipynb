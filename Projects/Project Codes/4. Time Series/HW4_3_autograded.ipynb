{
 "cells": [
  {
   "cell_type": "markdown",
   "metadata": {},
   "source": [
    "# Time Series Homework"
   ]
  },
  {
   "cell_type": "code",
   "execution_count": 1,
   "metadata": {},
   "outputs": [
    {
     "data": {
      "text/html": [
       "\n",
       "    <div class=\"bk-root\">\n",
       "        <a href=\"https://bokeh.org\" target=\"_blank\" class=\"bk-logo bk-logo-small bk-logo-notebook\"></a>\n",
       "        <span id=\"1002\">Loading BokehJS ...</span>\n",
       "    </div>"
      ]
     },
     "metadata": {},
     "output_type": "display_data"
    },
    {
     "data": {
      "application/javascript": [
       "\n",
       "(function(root) {\n",
       "  function now() {\n",
       "    return new Date();\n",
       "  }\n",
       "\n",
       "  var force = true;\n",
       "\n",
       "  if (typeof root._bokeh_onload_callbacks === \"undefined\" || force === true) {\n",
       "    root._bokeh_onload_callbacks = [];\n",
       "    root._bokeh_is_loading = undefined;\n",
       "  }\n",
       "\n",
       "  var JS_MIME_TYPE = 'application/javascript';\n",
       "  var HTML_MIME_TYPE = 'text/html';\n",
       "  var EXEC_MIME_TYPE = 'application/vnd.bokehjs_exec.v0+json';\n",
       "  var CLASS_NAME = 'output_bokeh rendered_html';\n",
       "\n",
       "  /**\n",
       "   * Render data to the DOM node\n",
       "   */\n",
       "  function render(props, node) {\n",
       "    var script = document.createElement(\"script\");\n",
       "    node.appendChild(script);\n",
       "  }\n",
       "\n",
       "  /**\n",
       "   * Handle when an output is cleared or removed\n",
       "   */\n",
       "  function handleClearOutput(event, handle) {\n",
       "    var cell = handle.cell;\n",
       "\n",
       "    var id = cell.output_area._bokeh_element_id;\n",
       "    var server_id = cell.output_area._bokeh_server_id;\n",
       "    // Clean up Bokeh references\n",
       "    if (id != null && id in Bokeh.index) {\n",
       "      Bokeh.index[id].model.document.clear();\n",
       "      delete Bokeh.index[id];\n",
       "    }\n",
       "\n",
       "    if (server_id !== undefined) {\n",
       "      // Clean up Bokeh references\n",
       "      var cmd = \"from bokeh.io.state import curstate; print(curstate().uuid_to_server['\" + server_id + \"'].get_sessions()[0].document.roots[0]._id)\";\n",
       "      cell.notebook.kernel.execute(cmd, {\n",
       "        iopub: {\n",
       "          output: function(msg) {\n",
       "            var id = msg.content.text.trim();\n",
       "            if (id in Bokeh.index) {\n",
       "              Bokeh.index[id].model.document.clear();\n",
       "              delete Bokeh.index[id];\n",
       "            }\n",
       "          }\n",
       "        }\n",
       "      });\n",
       "      // Destroy server and session\n",
       "      var cmd = \"import bokeh.io.notebook as ion; ion.destroy_server('\" + server_id + \"')\";\n",
       "      cell.notebook.kernel.execute(cmd);\n",
       "    }\n",
       "  }\n",
       "\n",
       "  /**\n",
       "   * Handle when a new output is added\n",
       "   */\n",
       "  function handleAddOutput(event, handle) {\n",
       "    var output_area = handle.output_area;\n",
       "    var output = handle.output;\n",
       "\n",
       "    // limit handleAddOutput to display_data with EXEC_MIME_TYPE content only\n",
       "    if ((output.output_type != \"display_data\") || (!Object.prototype.hasOwnProperty.call(output.data, EXEC_MIME_TYPE))) {\n",
       "      return\n",
       "    }\n",
       "\n",
       "    var toinsert = output_area.element.find(\".\" + CLASS_NAME.split(' ')[0]);\n",
       "\n",
       "    if (output.metadata[EXEC_MIME_TYPE][\"id\"] !== undefined) {\n",
       "      toinsert[toinsert.length - 1].firstChild.textContent = output.data[JS_MIME_TYPE];\n",
       "      // store reference to embed id on output_area\n",
       "      output_area._bokeh_element_id = output.metadata[EXEC_MIME_TYPE][\"id\"];\n",
       "    }\n",
       "    if (output.metadata[EXEC_MIME_TYPE][\"server_id\"] !== undefined) {\n",
       "      var bk_div = document.createElement(\"div\");\n",
       "      bk_div.innerHTML = output.data[HTML_MIME_TYPE];\n",
       "      var script_attrs = bk_div.children[0].attributes;\n",
       "      for (var i = 0; i < script_attrs.length; i++) {\n",
       "        toinsert[toinsert.length - 1].firstChild.setAttribute(script_attrs[i].name, script_attrs[i].value);\n",
       "        toinsert[toinsert.length - 1].firstChild.textContent = bk_div.children[0].textContent\n",
       "      }\n",
       "      // store reference to server id on output_area\n",
       "      output_area._bokeh_server_id = output.metadata[EXEC_MIME_TYPE][\"server_id\"];\n",
       "    }\n",
       "  }\n",
       "\n",
       "  function register_renderer(events, OutputArea) {\n",
       "\n",
       "    function append_mime(data, metadata, element) {\n",
       "      // create a DOM node to render to\n",
       "      var toinsert = this.create_output_subarea(\n",
       "        metadata,\n",
       "        CLASS_NAME,\n",
       "        EXEC_MIME_TYPE\n",
       "      );\n",
       "      this.keyboard_manager.register_events(toinsert);\n",
       "      // Render to node\n",
       "      var props = {data: data, metadata: metadata[EXEC_MIME_TYPE]};\n",
       "      render(props, toinsert[toinsert.length - 1]);\n",
       "      element.append(toinsert);\n",
       "      return toinsert\n",
       "    }\n",
       "\n",
       "    /* Handle when an output is cleared or removed */\n",
       "    events.on('clear_output.CodeCell', handleClearOutput);\n",
       "    events.on('delete.Cell', handleClearOutput);\n",
       "\n",
       "    /* Handle when a new output is added */\n",
       "    events.on('output_added.OutputArea', handleAddOutput);\n",
       "\n",
       "    /**\n",
       "     * Register the mime type and append_mime function with output_area\n",
       "     */\n",
       "    OutputArea.prototype.register_mime_type(EXEC_MIME_TYPE, append_mime, {\n",
       "      /* Is output safe? */\n",
       "      safe: true,\n",
       "      /* Index of renderer in `output_area.display_order` */\n",
       "      index: 0\n",
       "    });\n",
       "  }\n",
       "\n",
       "  // register the mime type if in Jupyter Notebook environment and previously unregistered\n",
       "  if (root.Jupyter !== undefined) {\n",
       "    var events = require('base/js/events');\n",
       "    var OutputArea = require('notebook/js/outputarea').OutputArea;\n",
       "\n",
       "    if (OutputArea.prototype.mime_types().indexOf(EXEC_MIME_TYPE) == -1) {\n",
       "      register_renderer(events, OutputArea);\n",
       "    }\n",
       "  }\n",
       "\n",
       "  \n",
       "  if (typeof (root._bokeh_timeout) === \"undefined\" || force === true) {\n",
       "    root._bokeh_timeout = Date.now() + 5000;\n",
       "    root._bokeh_failed_load = false;\n",
       "  }\n",
       "\n",
       "  var NB_LOAD_WARNING = {'data': {'text/html':\n",
       "     \"<div style='background-color: #fdd'>\\n\"+\n",
       "     \"<p>\\n\"+\n",
       "     \"BokehJS does not appear to have successfully loaded. If loading BokehJS from CDN, this \\n\"+\n",
       "     \"may be due to a slow or bad network connection. Possible fixes:\\n\"+\n",
       "     \"</p>\\n\"+\n",
       "     \"<ul>\\n\"+\n",
       "     \"<li>re-rerun `output_notebook()` to attempt to load from CDN again, or</li>\\n\"+\n",
       "     \"<li>use INLINE resources instead, as so:</li>\\n\"+\n",
       "     \"</ul>\\n\"+\n",
       "     \"<code>\\n\"+\n",
       "     \"from bokeh.resources import INLINE\\n\"+\n",
       "     \"output_notebook(resources=INLINE)\\n\"+\n",
       "     \"</code>\\n\"+\n",
       "     \"</div>\"}};\n",
       "\n",
       "  function display_loaded() {\n",
       "    var el = document.getElementById(\"1002\");\n",
       "    if (el != null) {\n",
       "      el.textContent = \"BokehJS is loading...\";\n",
       "    }\n",
       "    if (root.Bokeh !== undefined) {\n",
       "      if (el != null) {\n",
       "        el.textContent = \"BokehJS \" + root.Bokeh.version + \" successfully loaded.\";\n",
       "      }\n",
       "    } else if (Date.now() < root._bokeh_timeout) {\n",
       "      setTimeout(display_loaded, 100)\n",
       "    }\n",
       "  }\n",
       "\n",
       "\n",
       "  function run_callbacks() {\n",
       "    try {\n",
       "      root._bokeh_onload_callbacks.forEach(function(callback) {\n",
       "        if (callback != null)\n",
       "          callback();\n",
       "      });\n",
       "    } finally {\n",
       "      delete root._bokeh_onload_callbacks\n",
       "    }\n",
       "    console.debug(\"Bokeh: all callbacks have finished\");\n",
       "  }\n",
       "\n",
       "  function load_libs(css_urls, js_urls, callback) {\n",
       "    if (css_urls == null) css_urls = [];\n",
       "    if (js_urls == null) js_urls = [];\n",
       "\n",
       "    root._bokeh_onload_callbacks.push(callback);\n",
       "    if (root._bokeh_is_loading > 0) {\n",
       "      console.debug(\"Bokeh: BokehJS is being loaded, scheduling callback at\", now());\n",
       "      return null;\n",
       "    }\n",
       "    if (js_urls == null || js_urls.length === 0) {\n",
       "      run_callbacks();\n",
       "      return null;\n",
       "    }\n",
       "    console.debug(\"Bokeh: BokehJS not loaded, scheduling load and callback at\", now());\n",
       "    root._bokeh_is_loading = css_urls.length + js_urls.length;\n",
       "\n",
       "    function on_load() {\n",
       "      root._bokeh_is_loading--;\n",
       "      if (root._bokeh_is_loading === 0) {\n",
       "        console.debug(\"Bokeh: all BokehJS libraries/stylesheets loaded\");\n",
       "        run_callbacks()\n",
       "      }\n",
       "    }\n",
       "\n",
       "    function on_error(url) {\n",
       "      console.error(\"failed to load \" + url);\n",
       "    }\n",
       "\n",
       "    for (let i = 0; i < css_urls.length; i++) {\n",
       "      const url = css_urls[i];\n",
       "      const element = document.createElement(\"link\");\n",
       "      element.onload = on_load;\n",
       "      element.onerror = on_error.bind(null, url);\n",
       "      element.rel = \"stylesheet\";\n",
       "      element.type = \"text/css\";\n",
       "      element.href = url;\n",
       "      console.debug(\"Bokeh: injecting link tag for BokehJS stylesheet: \", url);\n",
       "      document.body.appendChild(element);\n",
       "    }\n",
       "\n",
       "    const hashes = {\"https://cdn.bokeh.org/bokeh/release/bokeh-2.3.3.min.js\": \"dM3QQsP+wXdHg42wTqW85BjZQdLNNIXqlPw/BgKoExPmTG7ZLML4EGqLMfqHT6ON\", \"https://cdn.bokeh.org/bokeh/release/bokeh-tables-2.3.3.min.js\": \"8x57I4YuIfu8XyZfFo0XVr2WAT8EK4rh/uDe3wF7YuW2FNUSNEpJbsPaB1nJ2fz2\", \"https://cdn.bokeh.org/bokeh/release/bokeh-widgets-2.3.3.min.js\": \"3QTqdz9LyAm2i0sG5XTePsHec3UHWwVsrOL68SYRoAXsafvfAyqtQ+h440+qIBhS\"};\n",
       "\n",
       "    for (let i = 0; i < js_urls.length; i++) {\n",
       "      const url = js_urls[i];\n",
       "      const element = document.createElement('script');\n",
       "      element.onload = on_load;\n",
       "      element.onerror = on_error.bind(null, url);\n",
       "      element.async = false;\n",
       "      element.src = url;\n",
       "      if (url in hashes) {\n",
       "        element.crossOrigin = \"anonymous\";\n",
       "        element.integrity = \"sha384-\" + hashes[url];\n",
       "      }\n",
       "      console.debug(\"Bokeh: injecting script tag for BokehJS library: \", url);\n",
       "      document.head.appendChild(element);\n",
       "    }\n",
       "  };\n",
       "\n",
       "  function inject_raw_css(css) {\n",
       "    const element = document.createElement(\"style\");\n",
       "    element.appendChild(document.createTextNode(css));\n",
       "    document.body.appendChild(element);\n",
       "  }\n",
       "\n",
       "  \n",
       "  var js_urls = [\"https://cdn.bokeh.org/bokeh/release/bokeh-2.3.3.min.js\", \"https://cdn.bokeh.org/bokeh/release/bokeh-widgets-2.3.3.min.js\", \"https://cdn.bokeh.org/bokeh/release/bokeh-tables-2.3.3.min.js\"];\n",
       "  var css_urls = [];\n",
       "  \n",
       "\n",
       "  var inline_js = [\n",
       "    function(Bokeh) {\n",
       "      Bokeh.set_log_level(\"info\");\n",
       "    },\n",
       "    function(Bokeh) {\n",
       "    \n",
       "    \n",
       "    }\n",
       "  ];\n",
       "\n",
       "  function run_inline_js() {\n",
       "    \n",
       "    if (root.Bokeh !== undefined || force === true) {\n",
       "      \n",
       "    for (var i = 0; i < inline_js.length; i++) {\n",
       "      inline_js[i].call(root, root.Bokeh);\n",
       "    }\n",
       "    if (force === true) {\n",
       "        display_loaded();\n",
       "      }} else if (Date.now() < root._bokeh_timeout) {\n",
       "      setTimeout(run_inline_js, 100);\n",
       "    } else if (!root._bokeh_failed_load) {\n",
       "      console.log(\"Bokeh: BokehJS failed to load within specified timeout.\");\n",
       "      root._bokeh_failed_load = true;\n",
       "    } else if (force !== true) {\n",
       "      var cell = $(document.getElementById(\"1002\")).parents('.cell').data().cell;\n",
       "      cell.output_area.append_execute_result(NB_LOAD_WARNING)\n",
       "    }\n",
       "\n",
       "  }\n",
       "\n",
       "  if (root._bokeh_is_loading === 0) {\n",
       "    console.debug(\"Bokeh: BokehJS loaded, going straight to plotting\");\n",
       "    run_inline_js();\n",
       "  } else {\n",
       "    load_libs(css_urls, js_urls, function() {\n",
       "      console.debug(\"Bokeh: BokehJS plotting callback run at\", now());\n",
       "      run_inline_js();\n",
       "    });\n",
       "  }\n",
       "}(window));"
      ],
      "application/vnd.bokehjs_load.v0+json": "\n(function(root) {\n  function now() {\n    return new Date();\n  }\n\n  var force = true;\n\n  if (typeof root._bokeh_onload_callbacks === \"undefined\" || force === true) {\n    root._bokeh_onload_callbacks = [];\n    root._bokeh_is_loading = undefined;\n  }\n\n  \n\n  \n  if (typeof (root._bokeh_timeout) === \"undefined\" || force === true) {\n    root._bokeh_timeout = Date.now() + 5000;\n    root._bokeh_failed_load = false;\n  }\n\n  var NB_LOAD_WARNING = {'data': {'text/html':\n     \"<div style='background-color: #fdd'>\\n\"+\n     \"<p>\\n\"+\n     \"BokehJS does not appear to have successfully loaded. If loading BokehJS from CDN, this \\n\"+\n     \"may be due to a slow or bad network connection. Possible fixes:\\n\"+\n     \"</p>\\n\"+\n     \"<ul>\\n\"+\n     \"<li>re-rerun `output_notebook()` to attempt to load from CDN again, or</li>\\n\"+\n     \"<li>use INLINE resources instead, as so:</li>\\n\"+\n     \"</ul>\\n\"+\n     \"<code>\\n\"+\n     \"from bokeh.resources import INLINE\\n\"+\n     \"output_notebook(resources=INLINE)\\n\"+\n     \"</code>\\n\"+\n     \"</div>\"}};\n\n  function display_loaded() {\n    var el = document.getElementById(\"1002\");\n    if (el != null) {\n      el.textContent = \"BokehJS is loading...\";\n    }\n    if (root.Bokeh !== undefined) {\n      if (el != null) {\n        el.textContent = \"BokehJS \" + root.Bokeh.version + \" successfully loaded.\";\n      }\n    } else if (Date.now() < root._bokeh_timeout) {\n      setTimeout(display_loaded, 100)\n    }\n  }\n\n\n  function run_callbacks() {\n    try {\n      root._bokeh_onload_callbacks.forEach(function(callback) {\n        if (callback != null)\n          callback();\n      });\n    } finally {\n      delete root._bokeh_onload_callbacks\n    }\n    console.debug(\"Bokeh: all callbacks have finished\");\n  }\n\n  function load_libs(css_urls, js_urls, callback) {\n    if (css_urls == null) css_urls = [];\n    if (js_urls == null) js_urls = [];\n\n    root._bokeh_onload_callbacks.push(callback);\n    if (root._bokeh_is_loading > 0) {\n      console.debug(\"Bokeh: BokehJS is being loaded, scheduling callback at\", now());\n      return null;\n    }\n    if (js_urls == null || js_urls.length === 0) {\n      run_callbacks();\n      return null;\n    }\n    console.debug(\"Bokeh: BokehJS not loaded, scheduling load and callback at\", now());\n    root._bokeh_is_loading = css_urls.length + js_urls.length;\n\n    function on_load() {\n      root._bokeh_is_loading--;\n      if (root._bokeh_is_loading === 0) {\n        console.debug(\"Bokeh: all BokehJS libraries/stylesheets loaded\");\n        run_callbacks()\n      }\n    }\n\n    function on_error(url) {\n      console.error(\"failed to load \" + url);\n    }\n\n    for (let i = 0; i < css_urls.length; i++) {\n      const url = css_urls[i];\n      const element = document.createElement(\"link\");\n      element.onload = on_load;\n      element.onerror = on_error.bind(null, url);\n      element.rel = \"stylesheet\";\n      element.type = \"text/css\";\n      element.href = url;\n      console.debug(\"Bokeh: injecting link tag for BokehJS stylesheet: \", url);\n      document.body.appendChild(element);\n    }\n\n    const hashes = {\"https://cdn.bokeh.org/bokeh/release/bokeh-2.3.3.min.js\": \"dM3QQsP+wXdHg42wTqW85BjZQdLNNIXqlPw/BgKoExPmTG7ZLML4EGqLMfqHT6ON\", \"https://cdn.bokeh.org/bokeh/release/bokeh-tables-2.3.3.min.js\": \"8x57I4YuIfu8XyZfFo0XVr2WAT8EK4rh/uDe3wF7YuW2FNUSNEpJbsPaB1nJ2fz2\", \"https://cdn.bokeh.org/bokeh/release/bokeh-widgets-2.3.3.min.js\": \"3QTqdz9LyAm2i0sG5XTePsHec3UHWwVsrOL68SYRoAXsafvfAyqtQ+h440+qIBhS\"};\n\n    for (let i = 0; i < js_urls.length; i++) {\n      const url = js_urls[i];\n      const element = document.createElement('script');\n      element.onload = on_load;\n      element.onerror = on_error.bind(null, url);\n      element.async = false;\n      element.src = url;\n      if (url in hashes) {\n        element.crossOrigin = \"anonymous\";\n        element.integrity = \"sha384-\" + hashes[url];\n      }\n      console.debug(\"Bokeh: injecting script tag for BokehJS library: \", url);\n      document.head.appendChild(element);\n    }\n  };\n\n  function inject_raw_css(css) {\n    const element = document.createElement(\"style\");\n    element.appendChild(document.createTextNode(css));\n    document.body.appendChild(element);\n  }\n\n  \n  var js_urls = [\"https://cdn.bokeh.org/bokeh/release/bokeh-2.3.3.min.js\", \"https://cdn.bokeh.org/bokeh/release/bokeh-widgets-2.3.3.min.js\", \"https://cdn.bokeh.org/bokeh/release/bokeh-tables-2.3.3.min.js\"];\n  var css_urls = [];\n  \n\n  var inline_js = [\n    function(Bokeh) {\n      Bokeh.set_log_level(\"info\");\n    },\n    function(Bokeh) {\n    \n    \n    }\n  ];\n\n  function run_inline_js() {\n    \n    if (root.Bokeh !== undefined || force === true) {\n      \n    for (var i = 0; i < inline_js.length; i++) {\n      inline_js[i].call(root, root.Bokeh);\n    }\n    if (force === true) {\n        display_loaded();\n      }} else if (Date.now() < root._bokeh_timeout) {\n      setTimeout(run_inline_js, 100);\n    } else if (!root._bokeh_failed_load) {\n      console.log(\"Bokeh: BokehJS failed to load within specified timeout.\");\n      root._bokeh_failed_load = true;\n    } else if (force !== true) {\n      var cell = $(document.getElementById(\"1002\")).parents('.cell').data().cell;\n      cell.output_area.append_execute_result(NB_LOAD_WARNING)\n    }\n\n  }\n\n  if (root._bokeh_is_loading === 0) {\n    console.debug(\"Bokeh: BokehJS loaded, going straight to plotting\");\n    run_inline_js();\n  } else {\n    load_libs(css_urls, js_urls, function() {\n      console.debug(\"Bokeh: BokehJS plotting callback run at\", now());\n      run_inline_js();\n    });\n  }\n}(window));"
     },
     "metadata": {},
     "output_type": "display_data"
    }
   ],
   "source": [
    "from sklearn.preprocessing import PolynomialFeatures\n",
    "from sklearn.pipeline import make_pipeline\n",
    "from sklearn.linear_model import LinearRegression\n",
    "from scipy.interpolate import interp1d\n",
    "import pandas as pd\n",
    "import numpy as np\n",
    "import matplotlib.pyplot as plt\n",
    "from bokeh.io import output_notebook, show, export_png\n",
    "# from bokeh.io import output_file\n",
    "from bokeh.plotting import figure\n",
    "from itertools import chain \n",
    "from sklearn.metrics import mean_squared_error\n",
    "import datetime as dt\n",
    "import statsmodels.api as sm\n",
    "from statsmodels.graphics.tsaplots import plot_acf,plot_pacf\n",
    "from statsmodels.tsa.ar_model import AutoReg\n",
    "import pmdarima as pm\n",
    "\n",
    "import math\n",
    "import pmdarima as pm\n",
    "import statsmodels.api as sm\n",
    "def mean_absolute_percentage_error(y_true, y_pred): \n",
    "     return np.mean(np.abs((y_true - y_pred) / y_true)) *100\n",
    "output_notebook()"
   ]
  },
  {
   "cell_type": "markdown",
   "metadata": {},
   "source": [
    "## Problem 3"
   ]
  },
  {
   "cell_type": "markdown",
   "metadata": {},
   "source": [
    "We will first read the two files given to us into dataframes that we can work with"
   ]
  },
  {
   "cell_type": "code",
   "execution_count": 2,
   "metadata": {},
   "outputs": [
    {
     "data": {
      "text/html": [
       "<div>\n",
       "<style scoped>\n",
       "    .dataframe tbody tr th:only-of-type {\n",
       "        vertical-align: middle;\n",
       "    }\n",
       "\n",
       "    .dataframe tbody tr th {\n",
       "        vertical-align: top;\n",
       "    }\n",
       "\n",
       "    .dataframe thead th {\n",
       "        text-align: right;\n",
       "    }\n",
       "</style>\n",
       "<table border=\"1\" class=\"dataframe\">\n",
       "  <thead>\n",
       "    <tr style=\"text-align: right;\">\n",
       "      <th></th>\n",
       "      <th>date</th>\n",
       "      <th>CPI</th>\n",
       "    </tr>\n",
       "  </thead>\n",
       "  <tbody>\n",
       "    <tr>\n",
       "      <th>0</th>\n",
       "      <td>2008-07-24</td>\n",
       "      <td>100.0000</td>\n",
       "    </tr>\n",
       "    <tr>\n",
       "      <th>1</th>\n",
       "      <td>2008-07-25</td>\n",
       "      <td>100.0000</td>\n",
       "    </tr>\n",
       "    <tr>\n",
       "      <th>2</th>\n",
       "      <td>2008-07-26</td>\n",
       "      <td>100.0000</td>\n",
       "    </tr>\n",
       "    <tr>\n",
       "      <th>3</th>\n",
       "      <td>2008-07-27</td>\n",
       "      <td>100.0000</td>\n",
       "    </tr>\n",
       "    <tr>\n",
       "      <th>4</th>\n",
       "      <td>2008-07-28</td>\n",
       "      <td>100.0000</td>\n",
       "    </tr>\n",
       "    <tr>\n",
       "      <th>5</th>\n",
       "      <td>2008-07-29</td>\n",
       "      <td>100.0000</td>\n",
       "    </tr>\n",
       "    <tr>\n",
       "      <th>6</th>\n",
       "      <td>2008-07-30</td>\n",
       "      <td>100.0000</td>\n",
       "    </tr>\n",
       "    <tr>\n",
       "      <th>7</th>\n",
       "      <td>2008-07-31</td>\n",
       "      <td>100.0000</td>\n",
       "    </tr>\n",
       "    <tr>\n",
       "      <th>8</th>\n",
       "      <td>2008-08-01</td>\n",
       "      <td>100.5251</td>\n",
       "    </tr>\n",
       "    <tr>\n",
       "      <th>9</th>\n",
       "      <td>2008-08-02</td>\n",
       "      <td>100.5251</td>\n",
       "    </tr>\n",
       "  </tbody>\n",
       "</table>\n",
       "</div>"
      ],
      "text/plain": [
       "        date       CPI\n",
       "0 2008-07-24  100.0000\n",
       "1 2008-07-25  100.0000\n",
       "2 2008-07-26  100.0000\n",
       "3 2008-07-27  100.0000\n",
       "4 2008-07-28  100.0000\n",
       "5 2008-07-29  100.0000\n",
       "6 2008-07-30  100.0000\n",
       "7 2008-07-31  100.0000\n",
       "8 2008-08-01  100.5251\n",
       "9 2008-08-02  100.5251"
      ]
     },
     "execution_count": 2,
     "metadata": {},
     "output_type": "execute_result"
    }
   ],
   "source": [
    "ps_cpi = pd.read_csv(\"data/CPI.csv\")\n",
    "ps_cpi['date'] =pd.to_datetime(ps_cpi['date'])\n",
    "ps_cpi.head(10)"
   ]
  },
  {
   "cell_type": "markdown",
   "metadata": {},
   "source": [
    "Notice that while data in the file on a daily basis, CPI only changes on a monthly basis. Hence, the monthly CPI can be obtained by taking the CPI of any day during a month. Additionally, we split the data into training and testing data sets as outlined in the problem statement"
   ]
  },
  {
   "cell_type": "code",
   "execution_count": 3,
   "metadata": {},
   "outputs": [
    {
     "data": {
      "text/html": [
       "<div>\n",
       "<style scoped>\n",
       "    .dataframe tbody tr th:only-of-type {\n",
       "        vertical-align: middle;\n",
       "    }\n",
       "\n",
       "    .dataframe tbody tr th {\n",
       "        vertical-align: top;\n",
       "    }\n",
       "\n",
       "    .dataframe thead th {\n",
       "        text-align: right;\n",
       "    }\n",
       "</style>\n",
       "<table border=\"1\" class=\"dataframe\">\n",
       "  <thead>\n",
       "    <tr style=\"text-align: right;\">\n",
       "      <th></th>\n",
       "      <th>date</th>\n",
       "      <th>CPI</th>\n",
       "      <th>YearMonth</th>\n",
       "    </tr>\n",
       "  </thead>\n",
       "  <tbody>\n",
       "    <tr>\n",
       "      <th>0</th>\n",
       "      <td>2008-07-31</td>\n",
       "      <td>100.00000</td>\n",
       "      <td>2008-07</td>\n",
       "    </tr>\n",
       "    <tr>\n",
       "      <th>1</th>\n",
       "      <td>2008-08-31</td>\n",
       "      <td>100.52510</td>\n",
       "      <td>2008-08</td>\n",
       "    </tr>\n",
       "    <tr>\n",
       "      <th>2</th>\n",
       "      <td>2008-09-30</td>\n",
       "      <td>100.12380</td>\n",
       "      <td>2008-09</td>\n",
       "    </tr>\n",
       "    <tr>\n",
       "      <th>3</th>\n",
       "      <td>2008-10-31</td>\n",
       "      <td>99.98538</td>\n",
       "      <td>2008-10</td>\n",
       "    </tr>\n",
       "    <tr>\n",
       "      <th>4</th>\n",
       "      <td>2008-11-30</td>\n",
       "      <td>98.97539</td>\n",
       "      <td>2008-11</td>\n",
       "    </tr>\n",
       "    <tr>\n",
       "      <th>5</th>\n",
       "      <td>2008-12-31</td>\n",
       "      <td>97.07973</td>\n",
       "      <td>2008-12</td>\n",
       "    </tr>\n",
       "    <tr>\n",
       "      <th>6</th>\n",
       "      <td>2009-01-31</td>\n",
       "      <td>96.07569</td>\n",
       "      <td>2009-01</td>\n",
       "    </tr>\n",
       "    <tr>\n",
       "      <th>7</th>\n",
       "      <td>2009-02-28</td>\n",
       "      <td>96.49385</td>\n",
       "      <td>2009-02</td>\n",
       "    </tr>\n",
       "    <tr>\n",
       "      <th>8</th>\n",
       "      <td>2009-03-31</td>\n",
       "      <td>96.97369</td>\n",
       "      <td>2009-03</td>\n",
       "    </tr>\n",
       "    <tr>\n",
       "      <th>9</th>\n",
       "      <td>2009-04-30</td>\n",
       "      <td>97.20951</td>\n",
       "      <td>2009-04</td>\n",
       "    </tr>\n",
       "  </tbody>\n",
       "</table>\n",
       "</div>"
      ],
      "text/plain": [
       "        date        CPI YearMonth\n",
       "0 2008-07-31  100.00000   2008-07\n",
       "1 2008-08-31  100.52510   2008-08\n",
       "2 2008-09-30  100.12380   2008-09\n",
       "3 2008-10-31   99.98538   2008-10\n",
       "4 2008-11-30   98.97539   2008-11\n",
       "5 2008-12-31   97.07973   2008-12\n",
       "6 2009-01-31   96.07569   2009-01\n",
       "7 2009-02-28   96.49385   2009-02\n",
       "8 2009-03-31   96.97369   2009-03\n",
       "9 2009-04-30   97.20951   2009-04"
      ]
     },
     "execution_count": 3,
     "metadata": {},
     "output_type": "execute_result"
    }
   ],
   "source": [
    "# cpi_monthly = pd.DataFrame(columns =['Month','CPI'])\n",
    "ps_cpi['YearMonth'] = ps_cpi['date'].dt.strftime('%Y-%m')\n",
    "cpi =ps_cpi.drop_duplicates('YearMonth', keep='last').copy().reset_index().drop(['index'],axis=1)\n",
    "cpi_train = (cpi[cpi.YearMonth<'2013-09'].copy())\n",
    "cpi_test = (cpi[cpi.YearMonth >='2013-09'].copy())\n",
    "# cpi_train.CPI = np.log(cpi_train.CPI)\n",
    "# cpi_test.CPI = np.log(cpi_test.CPI)\n",
    "cpi.head(10)\n"
   ]
  },
  {
   "cell_type": "markdown",
   "metadata": {},
   "source": [
    "Visualize the time series"
   ]
  },
  {
   "cell_type": "code",
   "execution_count": 4,
   "metadata": {},
   "outputs": [
    {
     "data": {
      "text/html": [
       "\n",
       "\n",
       "\n",
       "\n",
       "\n",
       "\n",
       "  <div class=\"bk-root\" id=\"b35655a5-38b9-46ba-9968-cf54dd960e58\" data-root-id=\"1003\"></div>\n"
      ]
     },
     "metadata": {},
     "output_type": "display_data"
    },
    {
     "data": {
      "application/javascript": [
       "(function(root) {\n",
       "  function embed_document(root) {\n",
       "    \n",
       "  var docs_json = {\"4fc90f51-8275-47a5-89de-217ec684b199\":{\"defs\":[],\"roots\":{\"references\":[{\"attributes\":{\"below\":[{\"id\":\"1014\"}],\"center\":[{\"id\":\"1017\"},{\"id\":\"1021\"}],\"height\":400,\"left\":[{\"id\":\"1018\"}],\"renderers\":[{\"id\":\"1039\"}],\"title\":{\"id\":\"1004\"},\"toolbar\":{\"id\":\"1029\"},\"width\":400,\"x_range\":{\"id\":\"1006\"},\"x_scale\":{\"id\":\"1010\"},\"y_range\":{\"id\":\"1008\"},\"y_scale\":{\"id\":\"1012\"}},\"id\":\"1003\",\"subtype\":\"Figure\",\"type\":\"Plot\"},{\"attributes\":{\"bottom_units\":\"screen\",\"fill_alpha\":0.5,\"fill_color\":\"lightgrey\",\"left_units\":\"screen\",\"level\":\"overlay\",\"line_alpha\":1.0,\"line_color\":\"black\",\"line_dash\":[4,4],\"line_width\":2,\"right_units\":\"screen\",\"syncable\":false,\"top_units\":\"screen\"},\"id\":\"1028\",\"type\":\"BoxAnnotation\"},{\"attributes\":{},\"id\":\"1008\",\"type\":\"DataRange1d\"},{\"attributes\":{\"text\":\"Monthly CPI\"},\"id\":\"1004\",\"type\":\"Title\"},{\"attributes\":{},\"id\":\"1006\",\"type\":\"DataRange1d\"},{\"attributes\":{},\"id\":\"1012\",\"type\":\"LinearScale\"},{\"attributes\":{},\"id\":\"1023\",\"type\":\"WheelZoomTool\"},{\"attributes\":{\"axis_label\":\"t\",\"formatter\":{\"id\":\"1043\"},\"major_label_policy\":{\"id\":\"1042\"},\"ticker\":{\"id\":\"1015\"}},\"id\":\"1014\",\"type\":\"LinearAxis\"},{\"attributes\":{},\"id\":\"1010\",\"type\":\"LinearScale\"},{\"attributes\":{},\"id\":\"1015\",\"type\":\"BasicTicker\"},{\"attributes\":{\"line_alpha\":0.1,\"line_color\":\"navy\",\"line_width\":2.5,\"x\":{\"field\":\"x\"},\"y\":{\"field\":\"y\"}},\"id\":\"1038\",\"type\":\"Line\"},{\"attributes\":{\"data\":{\"x\":[0,1,2,3,4,5,6,7,8,9,10,11,12,13,14,15,16,17,18,19,20,21,22,23,24,25,26,27,28,29,30,31,32,33,34,35,36,37,38,39,40,41,42,43,44,45,46,47,48,49,50,51,52,53,54,55,56,57,58,59,60,61],\"y\":{\"__ndarray__\":\"AAAAAAAAWUBLyAc9myFZQKvP1VbsB1lAe4hGdxD/WEActi3KbL5YQKWg20saRVhAl6jeGtgEWEBLyAc9mx9YQE6c3O9QPlhA1ouhnGhNWEDw+WGE8FxYQNBE2PD0blhAcVrwoq+kWEAYQznRrppYQOl942vPqFhAWwhyUMKsWEB00vvG17JYQOi8xi5Rt1hA48KBkCysWEDkvWplwsFYQEX11sBWw1hArHMMyF7dWEA/jBAebehYQHYyOEpe7VhAd6G5TiPnWECRm+EGfOhYQMjqVs9J8VhA0GG+vAD1WEAFhqxu9fxYQPLNNjem/1hAe4MvTKYKWUB3vp8aLylZQMX+snvySFlA8tJNYhCIWUBSSZ2AJrJZQHBfB84Z0VlAbqMBvAXKWUAdWmQ7389ZQBKlvcEX4llAqmBUUifsWUBYObTIdt5ZQCL99nXg2FlAat5xio7IWUCamZmZmeVZQMKGp1fKAlpA6Nms+lw1WkASg8DKoUlaQC9uowG8QVpAzojS3uA3WkAU0ETY8CxaQFioNc07UlpAo5I6AU1wWkCLbOf7qW1aQEvIBz2bTVpADwu1pnk7WkDIBz2bVU9aQNEi2/l+hlpAFR3J5T+YWkATYcPTK5FaQOF6FK5HnVpAEoPAyqGtWkBqTfOOU7BaQA==\",\"dtype\":\"float64\",\"order\":\"little\",\"shape\":[62]}},\"selected\":{\"id\":\"1049\"},\"selection_policy\":{\"id\":\"1050\"}},\"id\":\"1036\",\"type\":\"ColumnDataSource\"},{\"attributes\":{\"axis_label\":\"CPI\",\"formatter\":{\"id\":\"1046\"},\"major_label_policy\":{\"id\":\"1045\"},\"ticker\":{\"id\":\"1019\"}},\"id\":\"1018\",\"type\":\"LinearAxis\"},{\"attributes\":{\"axis\":{\"id\":\"1014\"},\"ticker\":null},\"id\":\"1017\",\"type\":\"Grid\"},{\"attributes\":{\"source\":{\"id\":\"1036\"}},\"id\":\"1040\",\"type\":\"CDSView\"},{\"attributes\":{\"axis\":{\"id\":\"1018\"},\"dimension\":1,\"ticker\":null},\"id\":\"1021\",\"type\":\"Grid\"},{\"attributes\":{},\"id\":\"1042\",\"type\":\"AllLabels\"},{\"attributes\":{},\"id\":\"1049\",\"type\":\"Selection\"},{\"attributes\":{},\"id\":\"1046\",\"type\":\"BasicTickFormatter\"},{\"attributes\":{},\"id\":\"1019\",\"type\":\"BasicTicker\"},{\"attributes\":{},\"id\":\"1045\",\"type\":\"AllLabels\"},{\"attributes\":{\"overlay\":{\"id\":\"1028\"}},\"id\":\"1024\",\"type\":\"BoxZoomTool\"},{\"attributes\":{},\"id\":\"1050\",\"type\":\"UnionRenderers\"},{\"attributes\":{},\"id\":\"1043\",\"type\":\"BasicTickFormatter\"},{\"attributes\":{},\"id\":\"1027\",\"type\":\"HelpTool\"},{\"attributes\":{\"active_multi\":null,\"tools\":[{\"id\":\"1022\"},{\"id\":\"1023\"},{\"id\":\"1024\"},{\"id\":\"1025\"},{\"id\":\"1026\"},{\"id\":\"1027\"}]},\"id\":\"1029\",\"type\":\"Toolbar\"},{\"attributes\":{},\"id\":\"1022\",\"type\":\"PanTool\"},{\"attributes\":{},\"id\":\"1025\",\"type\":\"SaveTool\"},{\"attributes\":{},\"id\":\"1026\",\"type\":\"ResetTool\"},{\"attributes\":{\"line_color\":\"navy\",\"line_width\":2.5,\"x\":{\"field\":\"x\"},\"y\":{\"field\":\"y\"}},\"id\":\"1037\",\"type\":\"Line\"},{\"attributes\":{\"data_source\":{\"id\":\"1036\"},\"glyph\":{\"id\":\"1037\"},\"hover_glyph\":null,\"muted_glyph\":null,\"nonselection_glyph\":{\"id\":\"1038\"},\"view\":{\"id\":\"1040\"}},\"id\":\"1039\",\"type\":\"GlyphRenderer\"}],\"root_ids\":[\"1003\"]},\"title\":\"Bokeh Application\",\"version\":\"2.3.3\"}};\n",
       "  var render_items = [{\"docid\":\"4fc90f51-8275-47a5-89de-217ec684b199\",\"root_ids\":[\"1003\"],\"roots\":{\"1003\":\"b35655a5-38b9-46ba-9968-cf54dd960e58\"}}];\n",
       "  root.Bokeh.embed.embed_items_notebook(docs_json, render_items);\n",
       "\n",
       "  }\n",
       "  if (root.Bokeh !== undefined) {\n",
       "    embed_document(root);\n",
       "  } else {\n",
       "    var attempts = 0;\n",
       "    var timer = setInterval(function(root) {\n",
       "      if (root.Bokeh !== undefined) {\n",
       "        clearInterval(timer);\n",
       "        embed_document(root);\n",
       "      } else {\n",
       "        attempts++;\n",
       "        if (attempts > 100) {\n",
       "          clearInterval(timer);\n",
       "          console.log(\"Bokeh: ERROR: Unable to run BokehJS code because BokehJS library is missing\");\n",
       "        }\n",
       "      }\n",
       "    }, 10, root)\n",
       "  }\n",
       "})(window);"
      ],
      "application/vnd.bokehjs_exec.v0+json": ""
     },
     "metadata": {
      "application/vnd.bokehjs_exec.v0+json": {
       "id": "1003"
      }
     },
     "output_type": "display_data"
    }
   ],
   "source": [
    "p = figure(plot_width=400, plot_height=400, title = \"Monthly CPI\")\n",
    "p.line(cpi_train.index,cpi_train.CPI,line_color=\"navy\",line_width =2.5)\n",
    "p.xaxis.axis_label ='t'\n",
    "p.yaxis.axis_label ='CPI'\n",
    "show(p)"
   ]
  },
  {
   "cell_type": "markdown",
   "metadata": {},
   "source": [
    "From the visualization, it is clear that the timeseries has a deterministic trend. We try and fit a linear model to the data (as in the question above) and see if this is sufficient to represent the trend. We then subtract this trend from the data.\n"
   ]
  },
  {
   "cell_type": "code",
   "execution_count": 5,
   "metadata": {},
   "outputs": [
    {
     "name": "stdout",
     "output_type": "stream",
     "text": [
      "The linear trend is given by F(t) = 0.16104348366951224*t + (96.72932632872502)\n"
     ]
    },
    {
     "data": {
      "text/html": [
       "\n",
       "\n",
       "\n",
       "\n",
       "\n",
       "\n",
       "  <div class=\"bk-root\" id=\"2ef4331e-7d25-490d-bfff-79ff0678de1f\" data-root-id=\"1101\"></div>\n"
      ]
     },
     "metadata": {},
     "output_type": "display_data"
    },
    {
     "data": {
      "application/javascript": [
       "(function(root) {\n",
       "  function embed_document(root) {\n",
       "    \n",
       "  var docs_json = {\"910d5267-23b6-4d92-8871-98cb396cbdda\":{\"defs\":[],\"roots\":{\"references\":[{\"attributes\":{\"below\":[{\"id\":\"1112\"}],\"center\":[{\"id\":\"1115\"},{\"id\":\"1119\"},{\"id\":\"1149\"}],\"height\":400,\"left\":[{\"id\":\"1116\"}],\"renderers\":[{\"id\":\"1137\"},{\"id\":\"1154\"}],\"title\":{\"id\":\"1102\"},\"toolbar\":{\"id\":\"1127\"},\"width\":400,\"x_range\":{\"id\":\"1104\"},\"x_scale\":{\"id\":\"1108\"},\"y_range\":{\"id\":\"1106\"},\"y_scale\":{\"id\":\"1110\"}},\"id\":\"1101\",\"subtype\":\"Figure\",\"type\":\"Plot\"},{\"attributes\":{},\"id\":\"1125\",\"type\":\"HelpTool\"},{\"attributes\":{},\"id\":\"1110\",\"type\":\"LinearScale\"},{\"attributes\":{},\"id\":\"1106\",\"type\":\"DataRange1d\"},{\"attributes\":{\"axis_label\":\"CPI\",\"formatter\":{\"id\":\"1144\"},\"major_label_policy\":{\"id\":\"1143\"},\"ticker\":{\"id\":\"1117\"}},\"id\":\"1116\",\"type\":\"LinearAxis\"},{\"attributes\":{},\"id\":\"1108\",\"type\":\"LinearScale\"},{\"attributes\":{\"axis_label\":\"t\",\"formatter\":{\"id\":\"1141\"},\"major_label_policy\":{\"id\":\"1140\"},\"ticker\":{\"id\":\"1113\"}},\"id\":\"1112\",\"type\":\"LinearAxis\"},{\"attributes\":{},\"id\":\"1140\",\"type\":\"AllLabels\"},{\"attributes\":{},\"id\":\"1113\",\"type\":\"BasicTicker\"},{\"attributes\":{},\"id\":\"1141\",\"type\":\"BasicTickFormatter\"},{\"attributes\":{\"axis\":{\"id\":\"1112\"},\"ticker\":null},\"id\":\"1115\",\"type\":\"Grid\"},{\"attributes\":{\"axis\":{\"id\":\"1116\"},\"dimension\":1,\"ticker\":null},\"id\":\"1119\",\"type\":\"Grid\"},{\"attributes\":{},\"id\":\"1117\",\"type\":\"BasicTicker\"},{\"attributes\":{},\"id\":\"1147\",\"type\":\"Selection\"},{\"attributes\":{\"line_color\":\"navy\",\"line_width\":2,\"x\":{\"field\":\"x\"},\"y\":{\"field\":\"y\"}},\"id\":\"1135\",\"type\":\"Line\"},{\"attributes\":{\"active_multi\":null,\"tools\":[{\"id\":\"1120\"},{\"id\":\"1121\"},{\"id\":\"1122\"},{\"id\":\"1123\"},{\"id\":\"1124\"},{\"id\":\"1125\"}]},\"id\":\"1127\",\"type\":\"Toolbar\"},{\"attributes\":{},\"id\":\"1121\",\"type\":\"WheelZoomTool\"},{\"attributes\":{},\"id\":\"1148\",\"type\":\"UnionRenderers\"},{\"attributes\":{},\"id\":\"1166\",\"type\":\"Selection\"},{\"attributes\":{},\"id\":\"1120\",\"type\":\"PanTool\"},{\"attributes\":{\"overlay\":{\"id\":\"1126\"}},\"id\":\"1122\",\"type\":\"BoxZoomTool\"},{\"attributes\":{},\"id\":\"1123\",\"type\":\"SaveTool\"},{\"attributes\":{},\"id\":\"1167\",\"type\":\"UnionRenderers\"},{\"attributes\":{},\"id\":\"1124\",\"type\":\"ResetTool\"},{\"attributes\":{\"label\":{\"value\":\"Original Data\"},\"renderers\":[{\"id\":\"1137\"}]},\"id\":\"1150\",\"type\":\"LegendItem\"},{\"attributes\":{\"source\":{\"id\":\"1134\"}},\"id\":\"1138\",\"type\":\"CDSView\"},{\"attributes\":{},\"id\":\"1143\",\"type\":\"AllLabels\"},{\"attributes\":{},\"id\":\"1144\",\"type\":\"BasicTickFormatter\"},{\"attributes\":{\"line_alpha\":0.1,\"line_color\":\"navy\",\"line_width\":2,\"x\":{\"field\":\"x\"},\"y\":{\"field\":\"y\"}},\"id\":\"1136\",\"type\":\"Line\"},{\"attributes\":{\"items\":[{\"id\":\"1150\"},{\"id\":\"1168\"}],\"location\":\"bottom_right\"},\"id\":\"1149\",\"type\":\"Legend\"},{\"attributes\":{\"data_source\":{\"id\":\"1134\"},\"glyph\":{\"id\":\"1135\"},\"hover_glyph\":null,\"muted_glyph\":null,\"nonselection_glyph\":{\"id\":\"1136\"},\"view\":{\"id\":\"1138\"}},\"id\":\"1137\",\"type\":\"GlyphRenderer\"},{\"attributes\":{\"data\":{\"x\":[0,1,2,3,4,5,6,7,8,9,10,11,12,13,14,15,16,17,18,19,20,21,22,23,24,25,26,27,28,29,30,31,32,33,34,35,36,37,38,39,40,41,42,43,44,45,46,47,48,49,50,51,52,53,54,55,56,57,58,59,60,61],\"y\":{\"__ndarray__\":\"AAAAAAAAWUBLyAc9myFZQKvP1VbsB1lAe4hGdxD/WEActi3KbL5YQKWg20saRVhAl6jeGtgEWEBLyAc9mx9YQE6c3O9QPlhA1ouhnGhNWEDw+WGE8FxYQNBE2PD0blhAcVrwoq+kWEAYQznRrppYQOl942vPqFhAWwhyUMKsWEB00vvG17JYQOi8xi5Rt1hA48KBkCysWEDkvWplwsFYQEX11sBWw1hArHMMyF7dWEA/jBAebehYQHYyOEpe7VhAd6G5TiPnWECRm+EGfOhYQMjqVs9J8VhA0GG+vAD1WEAFhqxu9fxYQPLNNjem/1hAe4MvTKYKWUB3vp8aLylZQMX+snvySFlA8tJNYhCIWUBSSZ2AJrJZQHBfB84Z0VlAbqMBvAXKWUAdWmQ7389ZQBKlvcEX4llAqmBUUifsWUBYObTIdt5ZQCL99nXg2FlAat5xio7IWUCamZmZmeVZQMKGp1fKAlpA6Nms+lw1WkASg8DKoUlaQC9uowG8QVpAzojS3uA3WkAU0ETY8CxaQFioNc07UlpAo5I6AU1wWkCLbOf7qW1aQEvIBz2bTVpADwu1pnk7WkDIBz2bVU9aQNEi2/l+hlpAFR3J5T+YWkATYcPTK5FaQOF6FK5HnVpAEoPAyqGtWkBqTfOOU7BaQA==\",\"dtype\":\"float64\",\"order\":\"little\",\"shape\":[62]}},\"selected\":{\"id\":\"1147\"},\"selection_policy\":{\"id\":\"1148\"}},\"id\":\"1134\",\"type\":\"ColumnDataSource\"},{\"attributes\":{\"line_alpha\":0.1,\"line_color\":\"orange\",\"line_width\":2.5,\"x\":{\"field\":\"x\"},\"y\":{\"field\":\"y\"}},\"id\":\"1153\",\"type\":\"Line\"},{\"attributes\":{\"bottom_units\":\"screen\",\"fill_alpha\":0.5,\"fill_color\":\"lightgrey\",\"left_units\":\"screen\",\"level\":\"overlay\",\"line_alpha\":1.0,\"line_color\":\"black\",\"line_dash\":[4,4],\"line_width\":2,\"right_units\":\"screen\",\"syncable\":false,\"top_units\":\"screen\"},\"id\":\"1126\",\"type\":\"BoxAnnotation\"},{\"attributes\":{\"data_source\":{\"id\":\"1151\"},\"glyph\":{\"id\":\"1152\"},\"hover_glyph\":null,\"muted_glyph\":null,\"nonselection_glyph\":{\"id\":\"1153\"},\"view\":{\"id\":\"1155\"}},\"id\":\"1154\",\"type\":\"GlyphRenderer\"},{\"attributes\":{\"line_color\":\"orange\",\"line_width\":2.5,\"x\":{\"field\":\"x\"},\"y\":{\"field\":\"y\"}},\"id\":\"1152\",\"type\":\"Line\"},{\"attributes\":{},\"id\":\"1104\",\"type\":\"DataRange1d\"},{\"attributes\":{\"source\":{\"id\":\"1151\"}},\"id\":\"1155\",\"type\":\"CDSView\"},{\"attributes\":{\"label\":{\"value\":\"Linear Trend\"},\"renderers\":[{\"id\":\"1154\"}]},\"id\":\"1168\",\"type\":\"LegendItem\"},{\"attributes\":{\"data\":{\"x\":[0,1,2,3,4,5,6,7,8,9,10,11,12,13,14,15,16,17,18,19,20,21,22,23,24,25,26,27,28,29,30,31,32,33,34,35,36,37,38,39,40,41,42,43,44,45,46,47,48,49,50,51,52,53,54,55,56,57,58,59,60,61],\"y\":{\"__ndarray__\":\"Fn9WSK0uWEAiZarR+zhYQC1L/lpKQ1hAOTFS5JhNWEBFF6Zt51dYQFH9+fY1YlhAXONNgIRsWEBoyaEJ03ZYQHSv9ZIhgVhAf5VJHHCLWECLe52lvpVYQJdh8S4NoFhAo0dFuFuqWECuLZlBqrRYQLoT7cr4vlhAxvlAVEfJWEDR35TdldNYQN3F6Gbk3VhA6as88DLoWED1kZB5gfJYQAB45ALQ/FhADF44jB4HWUAYRIwVbRFZQCQq4J67G1lALxA0KAomWUA79oexWDBZQEfc2zqnOllAUsIvxPVEWUBeqINNRE9ZQGqO19aSWVlAdnQrYOFjWUCBWn/pL25ZQI1A03J+eFlAmSYn/MyCWUCkDHuFG41ZQLDyzg5ql1lAvNgimLihWUDIvnYhB6xZQNOkyqpVtllA34oeNKTAWUDrcHK98spZQPZWxkZB1VlAAj0a0I/fWUAOI25Z3ulZQBoJwuIs9FlAJe8VbHv+WUAx1Wn1yQhaQD27vX4YE1pASKERCGcdWkBUh2WRtSdaQGBtuRoEMlpAbFMNpFI8WkB3OWEtoUZaQIMftbbvUFpAjwUJQD5bWkCa61zJjGVaQKbRsFLbb1pAsrcE3Cl6WkC+nVhleIRaQMmDrO7GjlpA1WkAeBWZWkDhT1QBZKNaQA==\",\"dtype\":\"float64\",\"order\":\"little\",\"shape\":[62]}},\"selected\":{\"id\":\"1166\"},\"selection_policy\":{\"id\":\"1167\"}},\"id\":\"1151\",\"type\":\"ColumnDataSource\"},{\"attributes\":{\"text\":\"CPI Time Series\"},\"id\":\"1102\",\"type\":\"Title\"}],\"root_ids\":[\"1101\"]},\"title\":\"Bokeh Application\",\"version\":\"2.3.3\"}};\n",
       "  var render_items = [{\"docid\":\"910d5267-23b6-4d92-8871-98cb396cbdda\",\"root_ids\":[\"1101\"],\"roots\":{\"1101\":\"2ef4331e-7d25-490d-bfff-79ff0678de1f\"}}];\n",
       "  root.Bokeh.embed.embed_items_notebook(docs_json, render_items);\n",
       "\n",
       "  }\n",
       "  if (root.Bokeh !== undefined) {\n",
       "    embed_document(root);\n",
       "  } else {\n",
       "    var attempts = 0;\n",
       "    var timer = setInterval(function(root) {\n",
       "      if (root.Bokeh !== undefined) {\n",
       "        clearInterval(timer);\n",
       "        embed_document(root);\n",
       "      } else {\n",
       "        attempts++;\n",
       "        if (attempts > 100) {\n",
       "          clearInterval(timer);\n",
       "          console.log(\"Bokeh: ERROR: Unable to run BokehJS code because BokehJS library is missing\");\n",
       "        }\n",
       "      }\n",
       "    }, 10, root)\n",
       "  }\n",
       "})(window);"
      ],
      "application/vnd.bokehjs_exec.v0+json": ""
     },
     "metadata": {
      "application/vnd.bokehjs_exec.v0+json": {
       "id": "1101"
      }
     },
     "output_type": "display_data"
    }
   ],
   "source": [
    "model = LinearRegression().fit(np.array(cpi_train.index).reshape(-1, 1),cpi_train.CPI)\n",
    "coefficients = [model.coef_[0],model.intercept_]\n",
    "print(\"The linear trend is given by F(t) = \" +str(coefficients[0])+\"*t + (\" +str(coefficients[1])+\")\")\n",
    "linear_cpi =model.predict(np.array(cpi_train.index).reshape(-1, 1))\n",
    "p = figure(plot_width=400, plot_height=400, title = \"CPI Time Series\")\n",
    "p.line(cpi_train.index,cpi_train.CPI, line_color=\"navy\", line_width=2, legend_label =\"Original Data\")\n",
    "p.line(cpi_train.index,linear_cpi, line_color=\"orange\",line_width=2.5,legend_label =\"Linear Trend\")\n",
    "\n",
    "p.xaxis.axis_label ='t'\n",
    "p.yaxis.axis_label ='CPI'\n",
    "p.legend.location='bottom_right'\n",
    "show(p)"
   ]
  },
  {
   "cell_type": "markdown",
   "metadata": {},
   "source": [
    "We now subtract this linear trend from the data. When prompted to 'Choose Method:' in the following part, please type 'linear'\n",
    "\n",
    "> $\\textit{Note :}$ An alternative to detrending the data in this manner would be to take first difference. Economists tend to log transform the CPI data and then take the first difference in order to detrend it. While the problem set only asks for the linear trend to be removed from the data, the code below allows you to visualize what the first difference of log transform looks like as well. In order to see this, please enter \"log\" when asked to choose method. Please remember to run the block again with the method as linear to proceed with the next part of the PSET."
   ]
  },
  {
   "cell_type": "code",
   "execution_count": 9,
   "metadata": {},
   "outputs": [
    {
     "name": "stdout",
     "output_type": "stream",
     "text": [
      "Choose Method:linear\n",
      "Int64Index([ 62,  63,  64,  65,  66,  67,  68,  69,  70,  71,  72,  73,  74,\n",
      "             75,  76,  77,  78,  79,  80,  81,  82,  83,  84,  85,  86,  87,\n",
      "             88,  89,  90,  91,  92,  93,  94,  95,  96,  97,  98,  99, 100,\n",
      "            101, 102, 103, 104, 105, 106, 107, 108, 109, 110, 111, 112, 113,\n",
      "            114, 115, 116, 117, 118, 119, 120, 121, 122, 123, 124, 125, 126,\n",
      "            127, 128, 129, 130, 131, 132, 133, 134, 135, 136],\n",
      "           dtype='int64')\n"
     ]
    },
    {
     "data": {
      "text/html": [
       "\n",
       "\n",
       "\n",
       "\n",
       "\n",
       "\n",
       "  <div class=\"bk-root\" id=\"02ee1228-55b7-4b2f-9e06-feafed0302e6\" data-root-id=\"1677\"></div>\n"
      ]
     },
     "metadata": {},
     "output_type": "display_data"
    },
    {
     "data": {
      "application/javascript": [
       "(function(root) {\n",
       "  function embed_document(root) {\n",
       "    \n",
       "  var docs_json = {\"f4b92fa4-f028-4697-afad-cfc2ed50b9c3\":{\"defs\":[],\"roots\":{\"references\":[{\"attributes\":{\"below\":[{\"id\":\"1688\"}],\"center\":[{\"id\":\"1691\"},{\"id\":\"1695\"},{\"id\":\"1725\"}],\"height\":400,\"left\":[{\"id\":\"1692\"}],\"renderers\":[{\"id\":\"1713\"}],\"title\":{\"id\":\"1678\"},\"toolbar\":{\"id\":\"1703\"},\"width\":400,\"x_range\":{\"id\":\"1680\"},\"x_scale\":{\"id\":\"1684\"},\"y_range\":{\"id\":\"1682\"},\"y_scale\":{\"id\":\"1686\"}},\"id\":\"1677\",\"subtype\":\"Figure\",\"type\":\"Plot\"},{\"attributes\":{},\"id\":\"1716\",\"type\":\"AllLabels\"},{\"attributes\":{},\"id\":\"1717\",\"type\":\"BasicTickFormatter\"},{\"attributes\":{},\"id\":\"1682\",\"type\":\"DataRange1d\"},{\"attributes\":{},\"id\":\"1723\",\"type\":\"Selection\"},{\"attributes\":{},\"id\":\"1701\",\"type\":\"HelpTool\"},{\"attributes\":{},\"id\":\"1724\",\"type\":\"UnionRenderers\"},{\"attributes\":{},\"id\":\"1693\",\"type\":\"BasicTicker\"},{\"attributes\":{\"label\":{\"value\":\"Detrended Data\"},\"renderers\":[{\"id\":\"1713\"}]},\"id\":\"1726\",\"type\":\"LegendItem\"},{\"attributes\":{\"source\":{\"id\":\"1710\"}},\"id\":\"1714\",\"type\":\"CDSView\"},{\"attributes\":{},\"id\":\"1696\",\"type\":\"PanTool\"},{\"attributes\":{\"line_color\":\"navy\",\"line_width\":2,\"x\":{\"field\":\"x\"},\"y\":{\"field\":\"y\"}},\"id\":\"1711\",\"type\":\"Line\"},{\"attributes\":{\"active_multi\":null,\"tools\":[{\"id\":\"1696\"},{\"id\":\"1697\"},{\"id\":\"1698\"},{\"id\":\"1699\"},{\"id\":\"1700\"},{\"id\":\"1701\"}]},\"id\":\"1703\",\"type\":\"Toolbar\"},{\"attributes\":{},\"id\":\"1719\",\"type\":\"AllLabels\"},{\"attributes\":{\"line_alpha\":0.1,\"line_color\":\"navy\",\"line_width\":2,\"x\":{\"field\":\"x\"},\"y\":{\"field\":\"y\"}},\"id\":\"1712\",\"type\":\"Line\"},{\"attributes\":{},\"id\":\"1686\",\"type\":\"LinearScale\"},{\"attributes\":{},\"id\":\"1720\",\"type\":\"BasicTickFormatter\"},{\"attributes\":{\"items\":[{\"id\":\"1726\"}]},\"id\":\"1725\",\"type\":\"Legend\"},{\"attributes\":{},\"id\":\"1699\",\"type\":\"SaveTool\"},{\"attributes\":{\"bottom_units\":\"screen\",\"fill_alpha\":0.5,\"fill_color\":\"lightgrey\",\"left_units\":\"screen\",\"level\":\"overlay\",\"line_alpha\":1.0,\"line_color\":\"black\",\"line_dash\":[4,4],\"line_width\":2,\"right_units\":\"screen\",\"syncable\":false,\"top_units\":\"screen\"},\"id\":\"1702\",\"type\":\"BoxAnnotation\"},{\"attributes\":{\"data_source\":{\"id\":\"1710\"},\"glyph\":{\"id\":\"1711\"},\"hover_glyph\":null,\"muted_glyph\":null,\"nonselection_glyph\":{\"id\":\"1712\"},\"view\":{\"id\":\"1714\"}},\"id\":\"1713\",\"type\":\"GlyphRenderer\"},{\"attributes\":{\"axis\":{\"id\":\"1688\"},\"ticker\":null},\"id\":\"1691\",\"type\":\"Grid\"},{\"attributes\":{\"overlay\":{\"id\":\"1702\"}},\"id\":\"1698\",\"type\":\"BoxZoomTool\"},{\"attributes\":{\"formatter\":{\"id\":\"1717\"},\"major_label_policy\":{\"id\":\"1716\"},\"ticker\":{\"id\":\"1689\"}},\"id\":\"1688\",\"type\":\"LinearAxis\"},{\"attributes\":{\"data\":{\"x\":[0,1,2,3,4,5,6,7,8,9,10,11,12,13,14,15,16,17,18,19,20,21,22,23,24,25,26,27,28,29,30,31,32,33,34,35,36,37,38,39,40,41,42,43,44,45,46,47,48,49,50,51,52,53,54,55,56,57,58,59,60,61],\"y\":{\"__ndarray__\":\"QB0w9VYqCkAgZaxr7RMNQMCP8Ho/lAhAQOiKXvIuBkDAtechV6H5PwCsXB6rG92/QLHOWxnr+b9AR4Am8831v4DJRMYotPC/gNQE1L8D77+AzcCdEGfsv4BjjgwfjOi/AMi0U1Wwtr8AlupfcPvZvwDRlQlfKda/AGvxzgOF3L+AroZMC1/gv4B6BBGcSeO/AIN03S8D7r+ACOoSil/ov4BdwQahvOy/ADD1FeLf5L+A7Nu9+3/kvwDX+1OqLue/AFw3vWxz77+AqpapKvfxv8BfPOFaV/K/gCBY3EH9879Alsi1t5P0vwAeMOgne/a/wD78/sRO9r+AAue3M0DxvwDkIJD7xee/AGSxmpgNtT8AVx6RfYXiPwBgNpzf1+w/AFll75Em5D+Aqs32DOzhP4AfgHkL4eU/gOXqGo/B5T8AbchBC4TTPwBgMYV5+aw/AJheqEUB178A0CVS/xKxvwBQ+8rpOs0/gGF1S8dw6z9AeKtV9TXwPwB52XLBUec/AIbnwNZ52j8AACN9G+20PwB8HT7ZG+A/gJufli796T8AihlDZ4TjPwDAuWrNo6q/AID6U5nE378A0uMfLjfWvwArUSqno9Y/AGNlxAkW3j8AqobV3GbJPwAw7s9+Ac0/AD0ZwFKM1D8AEvs9G9/JPw==\",\"dtype\":\"float64\",\"order\":\"little\",\"shape\":[62]}},\"selected\":{\"id\":\"1723\"},\"selection_policy\":{\"id\":\"1724\"}},\"id\":\"1710\",\"type\":\"ColumnDataSource\"},{\"attributes\":{\"text\":\"CPI Time Series\"},\"id\":\"1678\",\"type\":\"Title\"},{\"attributes\":{},\"id\":\"1700\",\"type\":\"ResetTool\"},{\"attributes\":{},\"id\":\"1684\",\"type\":\"LinearScale\"},{\"attributes\":{\"formatter\":{\"id\":\"1720\"},\"major_label_policy\":{\"id\":\"1719\"},\"ticker\":{\"id\":\"1693\"}},\"id\":\"1692\",\"type\":\"LinearAxis\"},{\"attributes\":{},\"id\":\"1697\",\"type\":\"WheelZoomTool\"},{\"attributes\":{},\"id\":\"1680\",\"type\":\"DataRange1d\"},{\"attributes\":{},\"id\":\"1689\",\"type\":\"BasicTicker\"},{\"attributes\":{\"axis\":{\"id\":\"1692\"},\"dimension\":1,\"ticker\":null},\"id\":\"1695\",\"type\":\"Grid\"}],\"root_ids\":[\"1677\"]},\"title\":\"Bokeh Application\",\"version\":\"2.3.3\"}};\n",
       "  var render_items = [{\"docid\":\"f4b92fa4-f028-4697-afad-cfc2ed50b9c3\",\"root_ids\":[\"1677\"],\"roots\":{\"1677\":\"02ee1228-55b7-4b2f-9e06-feafed0302e6\"}}];\n",
       "  root.Bokeh.embed.embed_items_notebook(docs_json, render_items);\n",
       "\n",
       "  }\n",
       "  if (root.Bokeh !== undefined) {\n",
       "    embed_document(root);\n",
       "  } else {\n",
       "    var attempts = 0;\n",
       "    var timer = setInterval(function(root) {\n",
       "      if (root.Bokeh !== undefined) {\n",
       "        clearInterval(timer);\n",
       "        embed_document(root);\n",
       "      } else {\n",
       "        attempts++;\n",
       "        if (attempts > 100) {\n",
       "          clearInterval(timer);\n",
       "          console.log(\"Bokeh: ERROR: Unable to run BokehJS code because BokehJS library is missing\");\n",
       "        }\n",
       "      }\n",
       "    }, 10, root)\n",
       "  }\n",
       "})(window);"
      ],
      "application/vnd.bokehjs_exec.v0+json": ""
     },
     "metadata": {
      "application/vnd.bokehjs_exec.v0+json": {
       "id": "1677"
      }
     },
     "output_type": "display_data"
    },
    {
     "name": "stdout",
     "output_type": "stream",
     "text": [
      "the maximum residual value is:3.634730187605456\n"
     ]
    }
   ],
   "source": [
    "x = input('Choose Method:')\n",
    "if x == 'linear':\n",
    "    remaining = cpi_train.CPI - linear_cpi\n",
    "    linear_cpi_test = model.predict(np.array(cpi_test.index).reshape(-1, 1))\n",
    "    remaining_test = cpi_test.CPI - linear_cpi_test\n",
    "    test = cpi_test.index\n",
    "    train = cpi_train.index\n",
    "else:\n",
    "    cpi_diff_log = np.log(cpi.CPI).diff()\n",
    "    remaining = cpi_diff_log[0:cpi_train.shape[0]]\n",
    "    remaining.iloc[0] = 0    \n",
    "    #.reset_index()#.drop(['index'],axis =1)\n",
    "    remaining_test = cpi_diff_log[cpi_train.shape[0]:].dropna()\n",
    "    remaining_test.iloc[0] = 0\n",
    "    test = cpi_test.index\n",
    "    train = cpi_train.index\n",
    "\n",
    "\n",
    "    \n",
    "p = figure(plot_width=400, plot_height=400, title = \"CPI Time Series\")\n",
    "p.line(train,remaining, line_color=\"navy\", line_width=2, legend_label =\"Detrended Data\")\n",
    "\n",
    "\n",
    "\n",
    "# p.line(cpi_diff.index,cpi_diff,line_color=\"green\",line_width =2.5)\n",
    "show(p)\n",
    "print(\"the maximum residual value is:\"+str(np.max(remaining)))"
   ]
  },
  {
   "cell_type": "markdown",
   "metadata": {},
   "source": [
    "Note that at some stage, we will be required to add back the trend to the data. The function $\\texttt{rebuild_diffed()}$ below has been designed for this purpose. We will be calling this function later."
   ]
  },
  {
   "cell_type": "code",
   "execution_count": 10,
   "metadata": {},
   "outputs": [],
   "source": [
    "def rebuild_diffed(series, first_element_original,x,linear_trend):\n",
    "    if x == 'linear':\n",
    "        final = series + linear_trend\n",
    "    else:\n",
    "        cumsum = pd.Series(series).cumsum()\n",
    "        final = np.exp(cumsum.fillna(0) + first_element_original)\n",
    "        if first_element_original == 0:\n",
    "            final = np.exp(cumsum.fillna(0))\n",
    "    return final"
   ]
  },
  {
   "cell_type": "markdown",
   "metadata": {},
   "source": [
    "As there seems to be no other trend present in this residual, we can take the linear trend to be sufficient and move to the next step, i.e. to deseasonalize the data. However, the above visualization seems to indicate no clear seasonality. Hence, we directly proceed to fitting an AR Model on the residual. To do so, we first plot the autocorrelation and partial autocorrelation plots."
   ]
  },
  {
   "cell_type": "code",
   "execution_count": 11,
   "metadata": {},
   "outputs": [
    {
     "data": {
      "image/png": "[encoded data removed]",
      "text/plain": [
       "<Figure size 432x288 with 1 Axes>"
      ]
     },
     "metadata": {
      "needs_background": "light"
     },
     "output_type": "display_data"
    },
    {
     "data": {
      "image/png": "[encoded data removed]",
      "text/plain": [
       "<Figure size 432x288 with 1 Axes>"
      ]
     },
     "metadata": {
      "needs_background": "light"
     },
     "output_type": "display_data"
    }
   ],
   "source": [
    "#linear\n",
    "plot_acf(remaining)\n",
    "plt.show()\n",
    "plot_pacf(remaining)\n",
    "plt.show()"
   ]
  },
  {
   "cell_type": "markdown",
   "metadata": {},
   "source": [
    "From the above PACF plot, we can see that the highest lag at which the plot extends beyond the statistically significant boundary is at lag 2. This indicates that an AR Model of lag 2 should be sufficient to fit the data. However, we can further verify this by calculating the rmse of the fit"
   ]
  },
  {
   "cell_type": "code",
   "execution_count": 12,
   "metadata": {},
   "outputs": [
    {
     "name": "stderr",
     "output_type": "stream",
     "text": [
      "C:\\ProgramData\\Anaconda3\\lib\\site-packages\\statsmodels\\tsa\\ar_model.py:248: FutureWarning: The parameter names will change after 0.12 is released. Set old_names to False to use the new names now. Set old_names to True to use the old names. \n",
      "  warnings.warn(\n",
      "C:\\ProgramData\\Anaconda3\\lib\\site-packages\\statsmodels\\tsa\\ar_model.py:248: FutureWarning: The parameter names will change after 0.12 is released. Set old_names to False to use the new names now. Set old_names to True to use the old names. \n",
      "  warnings.warn(\n",
      "C:\\ProgramData\\Anaconda3\\lib\\site-packages\\statsmodels\\tsa\\ar_model.py:248: FutureWarning: The parameter names will change after 0.12 is released. Set old_names to False to use the new names now. Set old_names to True to use the old names. \n",
      "  warnings.warn(\n",
      "C:\\ProgramData\\Anaconda3\\lib\\site-packages\\statsmodels\\tsa\\ar_model.py:248: FutureWarning: The parameter names will change after 0.12 is released. Set old_names to False to use the new names now. Set old_names to True to use the old names. \n",
      "  warnings.warn(\n",
      "C:\\ProgramData\\Anaconda3\\lib\\site-packages\\statsmodels\\tsa\\ar_model.py:248: FutureWarning: The parameter names will change after 0.12 is released. Set old_names to False to use the new names now. Set old_names to True to use the old names. \n",
      "  warnings.warn(\n",
      "C:\\ProgramData\\Anaconda3\\lib\\site-packages\\statsmodels\\tsa\\ar_model.py:248: FutureWarning: The parameter names will change after 0.12 is released. Set old_names to False to use the new names now. Set old_names to True to use the old names. \n",
      "  warnings.warn(\n",
      "C:\\ProgramData\\Anaconda3\\lib\\site-packages\\statsmodels\\tsa\\ar_model.py:248: FutureWarning: The parameter names will change after 0.12 is released. Set old_names to False to use the new names now. Set old_names to True to use the old names. \n",
      "  warnings.warn(\n"
     ]
    },
    {
     "data": {
      "text/html": [
       "\n",
       "\n",
       "\n",
       "\n",
       "\n",
       "\n",
       "  <div class=\"bk-root\" id=\"42aba22d-356b-4bab-8af4-59d64426b951\" data-root-id=\"1839\"></div>\n"
      ]
     },
     "metadata": {},
     "output_type": "display_data"
    },
    {
     "data": {
      "application/javascript": [
       "(function(root) {\n",
       "  function embed_document(root) {\n",
       "    \n",
       "  var docs_json = {\"30ff2615-2a33-4daa-9485-64f77651e544\":{\"defs\":[],\"roots\":{\"references\":[{\"attributes\":{\"below\":[{\"id\":\"1850\"}],\"center\":[{\"id\":\"1853\"},{\"id\":\"1857\"},{\"id\":\"1887\"}],\"height\":400,\"left\":[{\"id\":\"1854\"}],\"renderers\":[{\"id\":\"1875\"}],\"title\":{\"id\":\"1840\"},\"toolbar\":{\"id\":\"1865\"},\"width\":400,\"x_range\":{\"id\":\"1842\"},\"x_scale\":{\"id\":\"1846\"},\"y_range\":{\"id\":\"1844\"},\"y_scale\":{\"id\":\"1848\"}},\"id\":\"1839\",\"subtype\":\"Figure\",\"type\":\"Plot\"},{\"attributes\":{},\"id\":\"1881\",\"type\":\"AllLabels\"},{\"attributes\":{},\"id\":\"1886\",\"type\":\"UnionRenderers\"},{\"attributes\":{},\"id\":\"1858\",\"type\":\"PanTool\"},{\"attributes\":{},\"id\":\"1885\",\"type\":\"Selection\"},{\"attributes\":{},\"id\":\"1878\",\"type\":\"AllLabels\"},{\"attributes\":{},\"id\":\"1879\",\"type\":\"BasicTickFormatter\"},{\"attributes\":{\"axis_label\":\"n\",\"formatter\":{\"id\":\"1879\"},\"major_label_policy\":{\"id\":\"1878\"},\"ticker\":{\"id\":\"1851\"}},\"id\":\"1850\",\"type\":\"LinearAxis\"},{\"attributes\":{\"axis\":{\"id\":\"1854\"},\"dimension\":1,\"ticker\":null},\"id\":\"1857\",\"type\":\"Grid\"},{\"attributes\":{\"axis_label\":\"RMSE\",\"formatter\":{\"id\":\"1882\"},\"major_label_policy\":{\"id\":\"1881\"},\"ticker\":{\"id\":\"1855\"}},\"id\":\"1854\",\"type\":\"LinearAxis\"},{\"attributes\":{},\"id\":\"1846\",\"type\":\"LinearScale\"},{\"attributes\":{\"text\":\"RMSE of AR Models of order n\"},\"id\":\"1840\",\"type\":\"Title\"},{\"attributes\":{\"data_source\":{\"id\":\"1872\"},\"glyph\":{\"id\":\"1873\"},\"hover_glyph\":null,\"muted_glyph\":null,\"nonselection_glyph\":{\"id\":\"1874\"},\"view\":{\"id\":\"1876\"}},\"id\":\"1875\",\"type\":\"GlyphRenderer\"},{\"attributes\":{},\"id\":\"1842\",\"type\":\"DataRange1d\"},{\"attributes\":{},\"id\":\"1863\",\"type\":\"HelpTool\"},{\"attributes\":{},\"id\":\"1848\",\"type\":\"LinearScale\"},{\"attributes\":{\"fill_alpha\":{\"value\":0.1},\"fill_color\":{\"value\":\"orange\"},\"line_alpha\":{\"value\":0.1},\"line_color\":{\"value\":\"navy\"},\"marker\":{\"value\":\"square\"},\"size\":{\"value\":15},\"x\":{\"field\":\"x\"},\"y\":{\"field\":\"y\"}},\"id\":\"1874\",\"type\":\"Scatter\"},{\"attributes\":{\"bottom_units\":\"screen\",\"fill_alpha\":0.5,\"fill_color\":\"lightgrey\",\"left_units\":\"screen\",\"level\":\"overlay\",\"line_alpha\":1.0,\"line_color\":\"black\",\"line_dash\":[4,4],\"line_width\":2,\"right_units\":\"screen\",\"syncable\":false,\"top_units\":\"screen\"},\"id\":\"1864\",\"type\":\"BoxAnnotation\"},{\"attributes\":{\"source\":{\"id\":\"1872\"}},\"id\":\"1876\",\"type\":\"CDSView\"},{\"attributes\":{\"fill_alpha\":{\"value\":0.5},\"fill_color\":{\"value\":\"orange\"},\"line_color\":{\"value\":\"navy\"},\"marker\":{\"value\":\"square\"},\"size\":{\"value\":15},\"x\":{\"field\":\"x\"},\"y\":{\"field\":\"y\"}},\"id\":\"1873\",\"type\":\"Scatter\"},{\"attributes\":{},\"id\":\"1861\",\"type\":\"SaveTool\"},{\"attributes\":{\"items\":[{\"id\":\"1888\"}]},\"id\":\"1887\",\"type\":\"Legend\"},{\"attributes\":{},\"id\":\"1862\",\"type\":\"ResetTool\"},{\"attributes\":{},\"id\":\"1859\",\"type\":\"WheelZoomTool\"},{\"attributes\":{\"label\":{\"value\":\"RMSE\"},\"renderers\":[{\"id\":\"1875\"}]},\"id\":\"1888\",\"type\":\"LegendItem\"},{\"attributes\":{\"data\":{\"x\":{\"__ndarray__\":\"AQAAAAIAAAADAAAABAAAAAUAAAAGAAAABwAAAA==\",\"dtype\":\"int32\",\"order\":\"little\",\"shape\":[7]},\"y\":[0.4245898727866745,0.32656877529273626,0.32770290052402523,0.31615457753801773,0.3068656056592596,0.260342993874571,0.2537636598936937]},\"selected\":{\"id\":\"1885\"},\"selection_policy\":{\"id\":\"1886\"}},\"id\":\"1872\",\"type\":\"ColumnDataSource\"},{\"attributes\":{\"overlay\":{\"id\":\"1864\"}},\"id\":\"1860\",\"type\":\"BoxZoomTool\"},{\"attributes\":{},\"id\":\"1844\",\"type\":\"DataRange1d\"},{\"attributes\":{},\"id\":\"1851\",\"type\":\"BasicTicker\"},{\"attributes\":{\"active_multi\":null,\"tools\":[{\"id\":\"1858\"},{\"id\":\"1859\"},{\"id\":\"1860\"},{\"id\":\"1861\"},{\"id\":\"1862\"},{\"id\":\"1863\"}]},\"id\":\"1865\",\"type\":\"Toolbar\"},{\"attributes\":{},\"id\":\"1882\",\"type\":\"BasicTickFormatter\"},{\"attributes\":{\"axis\":{\"id\":\"1850\"},\"ticker\":null},\"id\":\"1853\",\"type\":\"Grid\"},{\"attributes\":{},\"id\":\"1855\",\"type\":\"BasicTicker\"}],\"root_ids\":[\"1839\"]},\"title\":\"Bokeh Application\",\"version\":\"2.3.3\"}};\n",
       "  var render_items = [{\"docid\":\"30ff2615-2a33-4daa-9485-64f77651e544\",\"root_ids\":[\"1839\"],\"roots\":{\"1839\":\"42aba22d-356b-4bab-8af4-59d64426b951\"}}];\n",
       "  root.Bokeh.embed.embed_items_notebook(docs_json, render_items);\n",
       "\n",
       "  }\n",
       "  if (root.Bokeh !== undefined) {\n",
       "    embed_document(root);\n",
       "  } else {\n",
       "    var attempts = 0;\n",
       "    var timer = setInterval(function(root) {\n",
       "      if (root.Bokeh !== undefined) {\n",
       "        clearInterval(timer);\n",
       "        embed_document(root);\n",
       "      } else {\n",
       "        attempts++;\n",
       "        if (attempts > 100) {\n",
       "          clearInterval(timer);\n",
       "          console.log(\"Bokeh: ERROR: Unable to run BokehJS code because BokehJS library is missing\");\n",
       "        }\n",
       "      }\n",
       "    }, 10, root)\n",
       "  }\n",
       "})(window);"
      ],
      "application/vnd.bokehjs_exec.v0+json": ""
     },
     "metadata": {
      "application/vnd.bokehjs_exec.v0+json": {
       "id": "1839"
      }
     },
     "output_type": "display_data"
    }
   ],
   "source": [
    "rmse_train=[]\n",
    "\n",
    "for n in range(1,8):\n",
    "    model = AutoReg(remaining, lags= n,trend='n')\n",
    "    model_fit = model.fit()\n",
    "    predictions=model_fit.predict()\n",
    "    rmse=(mean_squared_error(remaining[n:], predictions[n:]))**0.5\n",
    "    rmse_train.append(rmse)\n",
    "\n",
    "    \n",
    "    \n",
    "p = figure(plot_width=400, plot_height=400, title = \"RMSE of AR Models of order n\")\n",
    "p.scatter(np.arange(1,8),rmse_train,size = 15, marker =\"square\", line_color=\"navy\",fill_color=\"orange\", fill_alpha =0.5, legend_label =\"RMSE\")\n",
    "p.xaxis.axis_label ='n'\n",
    "p.yaxis.axis_label ='RMSE'\n",
    "p.legend.location='top_right'\n",
    "show(p)\n",
    "\n",
    "\n"
   ]
  },
  {
   "cell_type": "code",
   "execution_count": 37,
   "metadata": {},
   "outputs": [
    {
     "name": "stdout",
     "output_type": "stream",
     "text": [
      "Test RMSE for AR(1):0.3718449350821093\n",
      "Test RMSE for AR(2):0.39328060138088866\n",
      "Test RMSE for AR(3):0.3784955272936298\n",
      "Test RMSE for AR(4):0.44251979719237056\n",
      "Test RMSE for AR(5):0.43456315263365036\n",
      "Test RMSE for AR(6):0.34020763928627823\n",
      "Test RMSE for AR(7):0.31251327073280627\n"
     ]
    },
    {
     "name": "stderr",
     "output_type": "stream",
     "text": [
      "/anaconda3/lib/python3.7/site-packages/statsmodels/tsa/ar_model.py:252: FutureWarning: The parameter names will change after 0.12 is released. Set old_names to False to use the new names now. Set old_names to True to use the old names. \n",
      "  FutureWarning,\n",
      "/anaconda3/lib/python3.7/site-packages/statsmodels/tsa/ar_model.py:252: FutureWarning: The parameter names will change after 0.12 is released. Set old_names to False to use the new names now. Set old_names to True to use the old names. \n",
      "  FutureWarning,\n",
      "/anaconda3/lib/python3.7/site-packages/statsmodels/tsa/ar_model.py:252: FutureWarning: The parameter names will change after 0.12 is released. Set old_names to False to use the new names now. Set old_names to True to use the old names. \n",
      "  FutureWarning,\n",
      "/anaconda3/lib/python3.7/site-packages/statsmodels/tsa/ar_model.py:252: FutureWarning: The parameter names will change after 0.12 is released. Set old_names to False to use the new names now. Set old_names to True to use the old names. \n",
      "  FutureWarning,\n",
      "/anaconda3/lib/python3.7/site-packages/statsmodels/tsa/ar_model.py:252: FutureWarning: The parameter names will change after 0.12 is released. Set old_names to False to use the new names now. Set old_names to True to use the old names. \n",
      "  FutureWarning,\n",
      "/anaconda3/lib/python3.7/site-packages/statsmodels/tsa/ar_model.py:252: FutureWarning: The parameter names will change after 0.12 is released. Set old_names to False to use the new names now. Set old_names to True to use the old names. \n",
      "  FutureWarning,\n",
      "/anaconda3/lib/python3.7/site-packages/statsmodels/tsa/ar_model.py:252: FutureWarning: The parameter names will change after 0.12 is released. Set old_names to False to use the new names now. Set old_names to True to use the old names. \n",
      "  FutureWarning,\n"
     ]
    },
    {
     "data": {
      "text/html": [
       "\n",
       "\n",
       "\n",
       "\n",
       "\n",
       "\n",
       "  <div class=\"bk-root\" id=\"4f558fb3-b5d2-4242-a603-8b5a7bc32cfe\" data-root-id=\"4556\"></div>\n"
      ]
     },
     "metadata": {},
     "output_type": "display_data"
    },
    {
     "data": {
      "application/javascript": [
       "(function(root) {\n",
       "  function embed_document(root) {\n",
       "    \n",
       "  var docs_json = {\"e9cad4eb-75fe-429f-933a-80249e29b792\":{\"defs\":[],\"roots\":{\"references\":[{\"attributes\":{\"below\":[{\"id\":\"4567\"}],\"center\":[{\"id\":\"4570\"},{\"id\":\"4574\"},{\"id\":\"4604\"}],\"height\":400,\"left\":[{\"id\":\"4571\"}],\"renderers\":[{\"id\":\"4592\"}],\"title\":{\"id\":\"4557\"},\"toolbar\":{\"id\":\"4582\"},\"width\":400,\"x_range\":{\"id\":\"4559\"},\"x_scale\":{\"id\":\"4563\"},\"y_range\":{\"id\":\"4561\"},\"y_scale\":{\"id\":\"4565\"}},\"id\":\"4556\",\"subtype\":\"Figure\",\"type\":\"Plot\"},{\"attributes\":{},\"id\":\"4559\",\"type\":\"DataRange1d\"},{\"attributes\":{\"active_multi\":null,\"tools\":[{\"id\":\"4575\"},{\"id\":\"4576\"},{\"id\":\"4577\"},{\"id\":\"4578\"},{\"id\":\"4579\"},{\"id\":\"4580\"}]},\"id\":\"4582\",\"type\":\"Toolbar\"},{\"attributes\":{},\"id\":\"4580\",\"type\":\"HelpTool\"},{\"attributes\":{\"text\":\"RMSE of AR Models of order n\"},\"id\":\"4557\",\"type\":\"Title\"},{\"attributes\":{},\"id\":\"4595\",\"type\":\"BasicTickFormatter\"},{\"attributes\":{},\"id\":\"4579\",\"type\":\"ResetTool\"},{\"attributes\":{\"overlay\":{\"id\":\"4581\"}},\"id\":\"4577\",\"type\":\"BoxZoomTool\"},{\"attributes\":{},\"id\":\"4578\",\"type\":\"SaveTool\"},{\"attributes\":{\"data_source\":{\"id\":\"4589\"},\"glyph\":{\"id\":\"4590\"},\"hover_glyph\":null,\"muted_glyph\":null,\"nonselection_glyph\":{\"id\":\"4591\"},\"view\":{\"id\":\"4593\"}},\"id\":\"4592\",\"type\":\"GlyphRenderer\"},{\"attributes\":{\"data\":{\"x\":[1,2,3,4,5,6,7],\"y\":[0.3718449350821093,0.39328060138088866,0.3784955272936298,0.44251979719237056,0.43456315263365036,0.34020763928627823,0.31251327073280627]},\"selected\":{\"id\":\"4603\"},\"selection_policy\":{\"id\":\"4602\"}},\"id\":\"4589\",\"type\":\"ColumnDataSource\"},{\"attributes\":{\"label\":{\"value\":\"RMSE\"},\"renderers\":[{\"id\":\"4592\"}]},\"id\":\"4605\",\"type\":\"LegendItem\"},{\"attributes\":{\"fill_alpha\":{\"value\":0.5},\"fill_color\":{\"value\":\"orange\"},\"line_color\":{\"value\":\"navy\"},\"marker\":{\"value\":\"square\"},\"size\":{\"value\":15},\"x\":{\"field\":\"x\"},\"y\":{\"field\":\"y\"}},\"id\":\"4590\",\"type\":\"Scatter\"},{\"attributes\":{},\"id\":\"4572\",\"type\":\"BasicTicker\"},{\"attributes\":{},\"id\":\"4575\",\"type\":\"PanTool\"},{\"attributes\":{\"items\":[{\"id\":\"4605\"}],\"location\":\"bottom_right\"},\"id\":\"4604\",\"type\":\"Legend\"},{\"attributes\":{\"axis_label\":\"RMSE\",\"formatter\":{\"id\":\"4598\"},\"major_label_policy\":{\"id\":\"4599\"},\"ticker\":{\"id\":\"4572\"}},\"id\":\"4571\",\"type\":\"LinearAxis\"},{\"attributes\":{},\"id\":\"4603\",\"type\":\"Selection\"},{\"attributes\":{},\"id\":\"4563\",\"type\":\"LinearScale\"},{\"attributes\":{},\"id\":\"4561\",\"type\":\"DataRange1d\"},{\"attributes\":{},\"id\":\"4602\",\"type\":\"UnionRenderers\"},{\"attributes\":{},\"id\":\"4598\",\"type\":\"BasicTickFormatter\"},{\"attributes\":{\"axis_label\":\"n\",\"formatter\":{\"id\":\"4595\"},\"major_label_policy\":{\"id\":\"4596\"},\"ticker\":{\"id\":\"4568\"}},\"id\":\"4567\",\"type\":\"LinearAxis\"},{\"attributes\":{},\"id\":\"4596\",\"type\":\"AllLabels\"},{\"attributes\":{},\"id\":\"4576\",\"type\":\"WheelZoomTool\"},{\"attributes\":{\"fill_alpha\":{\"value\":0.1},\"fill_color\":{\"value\":\"orange\"},\"line_alpha\":{\"value\":0.1},\"line_color\":{\"value\":\"navy\"},\"marker\":{\"value\":\"square\"},\"size\":{\"value\":15},\"x\":{\"field\":\"x\"},\"y\":{\"field\":\"y\"}},\"id\":\"4591\",\"type\":\"Scatter\"},{\"attributes\":{\"source\":{\"id\":\"4589\"}},\"id\":\"4593\",\"type\":\"CDSView\"},{\"attributes\":{},\"id\":\"4568\",\"type\":\"BasicTicker\"},{\"attributes\":{},\"id\":\"4599\",\"type\":\"AllLabels\"},{\"attributes\":{\"axis\":{\"id\":\"4567\"},\"ticker\":null},\"id\":\"4570\",\"type\":\"Grid\"},{\"attributes\":{},\"id\":\"4565\",\"type\":\"LinearScale\"},{\"attributes\":{\"axis\":{\"id\":\"4571\"},\"dimension\":1,\"ticker\":null},\"id\":\"4574\",\"type\":\"Grid\"},{\"attributes\":{\"bottom_units\":\"screen\",\"fill_alpha\":0.5,\"fill_color\":\"lightgrey\",\"left_units\":\"screen\",\"level\":\"overlay\",\"line_alpha\":1.0,\"line_color\":\"black\",\"line_dash\":[4,4],\"line_width\":2,\"right_units\":\"screen\",\"syncable\":false,\"top_units\":\"screen\"},\"id\":\"4581\",\"type\":\"BoxAnnotation\"}],\"root_ids\":[\"4556\"]},\"title\":\"Bokeh Application\",\"version\":\"2.3.1\"}};\n",
       "  var render_items = [{\"docid\":\"e9cad4eb-75fe-429f-933a-80249e29b792\",\"root_ids\":[\"4556\"],\"roots\":{\"4556\":\"4f558fb3-b5d2-4242-a603-8b5a7bc32cfe\"}}];\n",
       "  root.Bokeh.embed.embed_items_notebook(docs_json, render_items);\n",
       "\n",
       "  }\n",
       "  if (root.Bokeh !== undefined) {\n",
       "    embed_document(root);\n",
       "  } else {\n",
       "    var attempts = 0;\n",
       "    var timer = setInterval(function(root) {\n",
       "      if (root.Bokeh !== undefined) {\n",
       "        clearInterval(timer);\n",
       "        embed_document(root);\n",
       "      } else {\n",
       "        attempts++;\n",
       "        if (attempts > 100) {\n",
       "          clearInterval(timer);\n",
       "          console.log(\"Bokeh: ERROR: Unable to run BokehJS code because BokehJS library is missing\");\n",
       "        }\n",
       "      }\n",
       "    }, 10, root)\n",
       "  }\n",
       "})(window);"
      ],
      "application/vnd.bokehjs_exec.v0+json": ""
     },
     "metadata": {
      "application/vnd.bokehjs_exec.v0+json": {
       "id": "4556"
      }
     },
     "output_type": "display_data"
    }
   ],
   "source": [
    "#plot RMSE for a range of lags p \n",
    "n = 2\n",
    "rmse_ar=[]\n",
    "for n in range(1,8):\n",
    "    model = AutoReg(remaining, lags= n)\n",
    "    model_fit = model.fit()\n",
    "    coef = model_fit.params\n",
    "    past = remaining[len(remaining)-n:].values\n",
    "    past = [past[i] for i in range(len(past))]    \n",
    "    test_predictions = list()\n",
    "    for t in range(len(remaining_test.dropna())):\n",
    "        length = len(past)\n",
    "        lag = [past[i] for i in range(length-n,length)]\n",
    "        pred = coef[0]\n",
    "        for d in range(n):\n",
    "            pred += coef[d+1] * lag[n-d-1]\n",
    "        obs = remaining_test.values[t]\n",
    "        test_predictions.append(pred)\n",
    "        past.append(obs)\n",
    "    rmse = (mean_squared_error(remaining_test.dropna(), test_predictions))**0.5\n",
    "    rmse_ar.append(rmse)\n",
    "    print('Test RMSE for AR(' + str(n) +'):' + str(rmse))\n",
    "\n",
    "p = figure(plot_width=400, plot_height=400, title = \"RMSE of AR Models of order n\")\n",
    "p.scatter(np.arange(1,8),rmse_ar,size = 15, marker =\"square\", line_color=\"navy\",fill_color=\"orange\", fill_alpha =0.5, legend_label =\"RMSE\")\n",
    "p.xaxis.axis_label ='n'\n",
    "p.yaxis.axis_label ='RMSE'\n",
    "p.legend.location='bottom_right'\n",
    "show(p)"
   ]
  },
  {
   "cell_type": "markdown",
   "metadata": {},
   "source": [
    "The plot above seems to indicate the AR(1) model predictions have the least rmse. While it would have been ideal to have our previous conclusion of model order 2 validated by the RMSE, we should note this kind of discrepancy between the two diagnostic methods (rmse and PACF) can occur when working with finite data sets. In order to proceed, we choose to work with model order of 2 so we do not miss out on possible lag terms."
   ]
  },
  {
   "cell_type": "code",
   "execution_count": 23,
   "metadata": {},
   "outputs": [
    {
     "name": "stdout",
     "output_type": "stream",
     "text": [
      "intercept   -0.043105\n",
      "CPI.L1       1.323666\n",
      "CPI.L2      -0.530797\n",
      "dtype: float64\n"
     ]
    }
   ],
   "source": [
    "## Building AR (2) Model \n",
    "n = 2\n",
    "AR2_model = AutoReg(remaining, lags= n).fit()# Here we have used the default value for the trend parameter\n",
    "coef = AR2_model.params\n",
    "print(coef)\n",
    "\n",
    "# walk forward over time steps in test\n",
    "past = remaining[len(remaining)-n:].values\n",
    "past = [past[i] for i in range(len(past))]\n",
    "test_predictions = list()\n",
    "training_predictions = AR2_model.predict(start = train[0], end =train[-1])\n",
    "for t in range(len(remaining_test)):\n",
    "    length = len(past)\n",
    "    lag = [past[i] for i in range(length-n,length)]\n",
    "    pred = coef[0]\n",
    "    for d in range(n):\n",
    "        pred += coef[d+1] * lag[n-d-1]\n",
    "    obs = remaining_test.values[t]\n",
    "    test_predictions.append(pred)\n",
    "    past.append(obs)\n",
    "final_training = (rebuild_diffed(training_predictions,np.log(cpi_train.CPI[0]),x,linear_cpi))\n",
    "final_test = (rebuild_diffed(test_predictions,np.log(cpi_train.iloc[-1].CPI),x,linear_cpi_test))\n",
    "\n"
   ]
  },
  {
   "cell_type": "markdown",
   "metadata": {},
   "source": [
    "We now plot the final model predictions and the actual observed data together to visualize the fit."
   ]
  },
  {
   "cell_type": "code",
   "execution_count": 24,
   "metadata": {},
   "outputs": [
    {
     "data": {
      "text/html": [
       "\n",
       "\n",
       "\n",
       "\n",
       "\n",
       "\n",
       "  <div class=\"bk-root\" id=\"dcda50f4-319f-44aa-9795-8dd75ce1e516\" data-root-id=\"2289\"></div>\n"
      ]
     },
     "metadata": {},
     "output_type": "display_data"
    },
    {
     "data": {
      "application/javascript": [
       "(function(root) {\n",
       "  function embed_document(root) {\n",
       "    \n",
       "  var docs_json = {\"a6b6557a-47e8-4773-bac0-c186fe60c2d6\":{\"defs\":[],\"roots\":{\"references\":[{\"attributes\":{\"below\":[{\"id\":\"2300\"}],\"center\":[{\"id\":\"2303\"},{\"id\":\"2307\"},{\"id\":\"2337\"}],\"height\":400,\"left\":[{\"id\":\"2304\"}],\"renderers\":[{\"id\":\"2325\"},{\"id\":\"2342\"},{\"id\":\"2360\"},{\"id\":\"2380\"}],\"title\":{\"id\":\"2290\"},\"toolbar\":{\"id\":\"2315\"},\"width\":800,\"x_range\":{\"id\":\"2292\"},\"x_scale\":{\"id\":\"2296\"},\"y_range\":{\"id\":\"2294\"},\"y_scale\":{\"id\":\"2298\"}},\"id\":\"2289\",\"subtype\":\"Figure\",\"type\":\"Plot\"},{\"attributes\":{},\"id\":\"2301\",\"type\":\"BasicTicker\"},{\"attributes\":{\"label\":{\"value\":\"Final AR(2) Model Predictions\"},\"renderers\":[{\"id\":\"2380\"}]},\"id\":\"2398\",\"type\":\"LegendItem\"},{\"attributes\":{\"data_source\":{\"id\":\"2322\"},\"glyph\":{\"id\":\"2323\"},\"hover_glyph\":null,\"muted_glyph\":null,\"nonselection_glyph\":{\"id\":\"2324\"},\"view\":{\"id\":\"2326\"}},\"id\":\"2325\",\"type\":\"GlyphRenderer\"},{\"attributes\":{},\"id\":\"2331\",\"type\":\"AllLabels\"},{\"attributes\":{},\"id\":\"2335\",\"type\":\"Selection\"},{\"attributes\":{\"axis_label\":\"CPI\",\"formatter\":{\"id\":\"2332\"},\"major_label_policy\":{\"id\":\"2331\"},\"ticker\":{\"id\":\"2305\"}},\"id\":\"2304\",\"type\":\"LinearAxis\"},{\"attributes\":{\"line_alpha\":0.1,\"line_color\":\"orange\",\"line_width\":2.5,\"x\":{\"field\":\"x\"},\"y\":{\"field\":\"y\"}},\"id\":\"2379\",\"type\":\"Line\"},{\"attributes\":{\"bottom_units\":\"screen\",\"fill_alpha\":0.5,\"fill_color\":\"lightgrey\",\"left_units\":\"screen\",\"level\":\"overlay\",\"line_alpha\":1.0,\"line_color\":\"black\",\"line_dash\":[4,4],\"line_width\":2,\"right_units\":\"screen\",\"syncable\":false,\"top_units\":\"screen\"},\"id\":\"2314\",\"type\":\"BoxAnnotation\"},{\"attributes\":{},\"id\":\"2336\",\"type\":\"UnionRenderers\"},{\"attributes\":{},\"id\":\"2354\",\"type\":\"Selection\"},{\"attributes\":{\"source\":{\"id\":\"2322\"}},\"id\":\"2326\",\"type\":\"CDSView\"},{\"attributes\":{\"line_color\":\"orange\",\"line_width\":2.5,\"x\":{\"field\":\"x\"},\"y\":{\"field\":\"y\"}},\"id\":\"2378\",\"type\":\"Line\"},{\"attributes\":{},\"id\":\"2375\",\"type\":\"UnionRenderers\"},{\"attributes\":{},\"id\":\"2294\",\"type\":\"DataRange1d\"},{\"attributes\":{},\"id\":\"2311\",\"type\":\"SaveTool\"},{\"attributes\":{\"source\":{\"id\":\"2377\"}},\"id\":\"2381\",\"type\":\"CDSView\"},{\"attributes\":{},\"id\":\"2355\",\"type\":\"UnionRenderers\"},{\"attributes\":{\"axis_label\":\"t\",\"formatter\":{\"id\":\"2329\"},\"major_label_policy\":{\"id\":\"2328\"},\"ticker\":{\"id\":\"2301\"}},\"id\":\"2300\",\"type\":\"LinearAxis\"},{\"attributes\":{},\"id\":\"2296\",\"type\":\"LinearScale\"},{\"attributes\":{\"axis\":{\"id\":\"2300\"},\"ticker\":null},\"id\":\"2303\",\"type\":\"Grid\"},{\"attributes\":{\"text\":\"CPI predictions\"},\"id\":\"2290\",\"type\":\"Title\"},{\"attributes\":{\"data_source\":{\"id\":\"2377\"},\"glyph\":{\"id\":\"2378\"},\"hover_glyph\":null,\"muted_glyph\":null,\"nonselection_glyph\":{\"id\":\"2379\"},\"view\":{\"id\":\"2381\"}},\"id\":\"2380\",\"type\":\"GlyphRenderer\"},{\"attributes\":{\"active_multi\":null,\"tools\":[{\"id\":\"2308\"},{\"id\":\"2309\"},{\"id\":\"2310\"},{\"id\":\"2311\"},{\"id\":\"2312\"},{\"id\":\"2313\"}]},\"id\":\"2315\",\"type\":\"Toolbar\"},{\"attributes\":{\"data_source\":{\"id\":\"2357\"},\"glyph\":{\"id\":\"2358\"},\"hover_glyph\":null,\"muted_glyph\":null,\"nonselection_glyph\":{\"id\":\"2359\"},\"view\":{\"id\":\"2361\"}},\"id\":\"2360\",\"type\":\"GlyphRenderer\"},{\"attributes\":{},\"id\":\"2328\",\"type\":\"AllLabels\"},{\"attributes\":{\"overlay\":{\"id\":\"2314\"}},\"id\":\"2310\",\"type\":\"BoxZoomTool\"},{\"attributes\":{\"axis\":{\"id\":\"2304\"},\"dimension\":1,\"ticker\":null},\"id\":\"2307\",\"type\":\"Grid\"},{\"attributes\":{\"line_alpha\":0.1,\"line_color\":\"red\",\"line_width\":2.5,\"x\":{\"field\":\"x\"},\"y\":{\"field\":\"y\"}},\"id\":\"2359\",\"type\":\"Line\"},{\"attributes\":{\"line_dash\":[6],\"line_width\":2.5,\"x\":{\"field\":\"x\"},\"y\":{\"field\":\"y\"}},\"id\":\"2323\",\"type\":\"Line\"},{\"attributes\":{\"source\":{\"id\":\"2357\"}},\"id\":\"2361\",\"type\":\"CDSView\"},{\"attributes\":{},\"id\":\"2308\",\"type\":\"PanTool\"},{\"attributes\":{\"data\":{\"x\":[62,63,64,65,66,67,68,69,70,71,72,73,74,75,76,77,78,79,80,81,82,83,84,85,86,87,88,89,90,91,92,93,94,95,96,97,98,99,100,101,102,103,104,105,106,107,108,109,110,111,112,113,114,115,116,117,118,119,120,121,122,123,124,125,126,127,128,129,130,131,132,133,134,135,136],\"y\":{\"__ndarray__\":\"bh/niCexWkDEQkCJvLxaQMtnFhsKxVpA2iLMuZqrWkBGxQRHoqRaQBtkhU5nrVpAAlutVWnRWkAfgmAek+daQL3qeY7RFltAiMtySqMfW0BZVhQrvDVbQKrUnIIrPFtAzIUzSNMzW0BPsOaO/idbQDEoufs8N1tARI6KFnEfW0BHDogDOvlaQP6NrKFt21pA4i2msZHHWkBqnyJlJgJbQM3ogY2eKltAGU0ZbKYpW0ANb0eWBFNbQK0kC6SuYltA9p3PsIBYW0BpYFYZTU1bQEIThU9TRltAUORfahNKW0BHr2o4cDpbQPc7CmX2JFtATFP0MtRCW0CH+0rzcEZbQD/Y57sTbVtAhLZA5BKLW0CHDYpHKKFbQOyjmr7PsltADEYdgJeZW0D0wcoBV6pbQKRrS4p1v1tAd9hBEkPEW0D1+XIhK7NbQIOXlKAyvltAt6PI55P1W0B2WZVvcf9bQHr+oKZi/VtAu4amf28YXEB9hEPGbxdcQBXz5//sHlxAZ9b+lhIXXECK0S1yMzhcQOrBibFJYVxAKOW+dzVJXEDp84m+/U1cQEgt1PFqSlxAlz6Yfs2CXEBlw4mimptcQHwO5sUVolxAHnPbWuHBXEB8XnsJ9dxcQDUTvXZx3lxAM4fu5ADbXED4aGFrTOJcQGghZz6a7VxAx84nQ3b8XEAEMHGK4NZcQHL00OP+xlxA/VudKCzoXEB9MIcwDwxdQI4rs8/iNF1AOxU/k/9UXUCo1WhVS1ddQEY/fDH1Ul1ABg10Dd9kXUAsRWtn2l9dQAAAAAAAAPh/\",\"dtype\":\"float64\",\"order\":\"little\",\"shape\":[75]}},\"selected\":{\"id\":\"2396\"},\"selection_policy\":{\"id\":\"2397\"}},\"id\":\"2377\",\"type\":\"ColumnDataSource\"},{\"attributes\":{\"data_source\":{\"id\":\"2339\"},\"glyph\":{\"id\":\"2340\"},\"hover_glyph\":null,\"muted_glyph\":null,\"nonselection_glyph\":{\"id\":\"2341\"},\"view\":{\"id\":\"2343\"}},\"id\":\"2342\",\"type\":\"GlyphRenderer\"},{\"attributes\":{},\"id\":\"2313\",\"type\":\"HelpTool\"},{\"attributes\":{},\"id\":\"2396\",\"type\":\"Selection\"},{\"attributes\":{},\"id\":\"2292\",\"type\":\"DataRange1d\"},{\"attributes\":{\"data\":{\"x\":[0,1,2,3,4,5,6,7,8,9,10,11,12,13,14,15,16,17,18,19,20,21,22,23,24,25,26,27,28,29,30,31,32,33,34,35,36,37,38,39,40,41,42,43,44,45,46,47,48,49,50,51,52,53,54,55,56,57,58,59,60,61],\"y\":{\"__ndarray__\":\"AAAAAAAA+H8AAAAAAAD4f20xsZhWBVlAU3vUk6PTWEBKC9sirtdYQB/Jl9r0iFhA3hYDyc8MWEAD2caGSfpXQEELIGH0QVhA0nGWmYheWEAp3nleWGRYQKKJj9UGc1hAy8jnQ8SEWED9Au8kdcRYQN0KYwvVnFhAPowXBfq2WEAqL9vx1rZYQND1WnPuvlhA6EB2acLDWEAmxdkLxbRYQJObJhZk2VhAIPB9vyjSWEC8AO2V6fVYQDF1r0fd+FhAHeSdIqz7WED2kwDj7/JYQDVGPlEp+lhAydIBHzwHWUANVb8NnQlZQGkPYLtOFFlAP5A958cVWUCUutlfDCVZQC26tffCSVlA5f0UlLtlWUCWrhGljapZQIwYXe3kwllAjLRjYajXWUBxV3ip/r9ZQAxXFjehzVlAJTGdJMfkWUBxGc3vjupZQFyI44U71VlAQMFY+jzXWUB+PsqLvMZZQH2oTjv691lA1594qFURWkAcWAyw6kZaQD0Nl2wJSVpAHHurkvU1WkDt+OJ3PS9aQCDvTvggKFpALA4HuG5hWkCHsTxEkndaQC8/ZKJBZlpAnATteFs/WkBv8SQ1gjpaQGpvZe6NYFpApgxN4CmhWkDiKl7FhJ1aQJkxzEncjFpALPDk0seiWkCenpb3IbRaQA==\",\"dtype\":\"float64\",\"order\":\"little\",\"shape\":[62]}},\"selected\":{\"id\":\"2374\"},\"selection_policy\":{\"id\":\"2375\"}},\"id\":\"2357\",\"type\":\"ColumnDataSource\"},{\"attributes\":{},\"id\":\"2332\",\"type\":\"BasicTickFormatter\"},{\"attributes\":{\"line_alpha\":0.1,\"line_color\":\"green\",\"line_dash\":[6],\"line_width\":2.5,\"x\":{\"field\":\"x\"},\"y\":{\"field\":\"y\"}},\"id\":\"2341\",\"type\":\"Line\"},{\"attributes\":{},\"id\":\"2397\",\"type\":\"UnionRenderers\"},{\"attributes\":{\"line_alpha\":0.1,\"line_dash\":[6],\"line_width\":2.5,\"x\":{\"field\":\"x\"},\"y\":{\"field\":\"y\"}},\"id\":\"2324\",\"type\":\"Line\"},{\"attributes\":{},\"id\":\"2312\",\"type\":\"ResetTool\"},{\"attributes\":{},\"id\":\"2298\",\"type\":\"LinearScale\"},{\"attributes\":{\"source\":{\"id\":\"2339\"}},\"id\":\"2343\",\"type\":\"CDSView\"},{\"attributes\":{\"data\":{\"x\":[62,63,64,65,66,67,68,69,70,71,72,73,74,75,76,77,78,79,80,81,82,83,84,85,86,87,88,89,90,91,92,93,94,95,96,97,98,99,100,101,102,103,104,105,106,107,108,109,110,111,112,113,114,115,116,117,118,119,120,121,122,123,124,125,126,127,128,129,130,131,132,133,134,135,136],\"y\":{\"__ndarray__\":\"BoGVQ4u4WkAqOpLLf8BaQGaIY13crlpAm+Ydp+igWkBqTfOOU6BaQKH4MeauuVpAl/+QfvvSWkDlYaHWNP9aQPW52or9FVtAke18PzUuW0C6SQwCKztbQJzEILByOFtAf/s6cM4sW0CDL0ymCjJbQLivA+eMIFtAOwFNhA37WkAy5q4l5NNaQHrHKTqSs1pAGsBbIEHRWkDZX3ZPHvpaQFyPwvUoCFtAM8SxLm4rW0DHKTqSy0NbQHh6pSxDRFtAn6ut2F86W0CdgCbChi9bQA5Pr5RlLFtAGeJYF7cdW0D1udqK/QVbQNqs+lxtEVtAkDF3LSEXW0CiRbbz/TRbQLx0kxgEVltAw2SqYFRyW0DFILByaIlbQKfoSC7/fVtA/yH99nWEW0Bhw9MrZZVbQOC+DpwznltA5WGh1jSTW0CTOgFNhJVbQJEPejarvltAt9EA3gLVW0Am5IOezdpbQHKKjuTy71tAmbuWkA/2W0Bq3nGKjvxbQFYOLbKd91tA4umVsgwNXEBQjZduEjNcQOauJeSDLlxAppvEILAuXEBDrWnecSpcQH0/NV66UVxAnzws1JpyXEBQjZduEoNcQAdfmEwVoFxAw/UoXI++XECYTBWMSspcQBBYObTIylxAexSuR+HOXEBIUPwYc9dcQCo6kst/5FxAJCh+jLnLXEBxGw3gLbRcQHxhMlUwwlxAqDXNO07hXEAQ6bevAwtdQAMJih9jMl1ASnuDL0xCXUAW+8vuyUNdQFXBqKROUF1Aq8/VVuxPXUAAAAAAAAD4fwAAAAAAAPh/\",\"dtype\":\"float64\",\"order\":\"little\",\"shape\":[75]}},\"selected\":{\"id\":\"2354\"},\"selection_policy\":{\"id\":\"2355\"}},\"id\":\"2339\",\"type\":\"ColumnDataSource\"},{\"attributes\":{\"line_color\":\"red\",\"line_width\":2.5,\"x\":{\"field\":\"x\"},\"y\":{\"field\":\"y\"}},\"id\":\"2358\",\"type\":\"Line\"},{\"attributes\":{\"items\":[{\"id\":\"2338\"},{\"id\":\"2356\"},{\"id\":\"2376\"},{\"id\":\"2398\"}],\"location\":\"bottom_right\"},\"id\":\"2337\",\"type\":\"Legend\"},{\"attributes\":{},\"id\":\"2374\",\"type\":\"Selection\"},{\"attributes\":{\"label\":{\"value\":\"Final AR(2) Model (Training Data Fit)\"},\"renderers\":[{\"id\":\"2360\"}]},\"id\":\"2376\",\"type\":\"LegendItem\"},{\"attributes\":{\"data\":{\"x\":[0,1,2,3,4,5,6,7,8,9,10,11,12,13,14,15,16,17,18,19,20,21,22,23,24,25,26,27,28,29,30,31,32,33,34,35,36,37,38,39,40,41,42,43,44,45,46,47,48,49,50,51,52,53,54,55,56,57,58,59,60,61],\"y\":{\"__ndarray__\":\"AAAAAAAAWUBLyAc9myFZQKvP1VbsB1lAe4hGdxD/WEActi3KbL5YQKWg20saRVhAl6jeGtgEWEBLyAc9mx9YQE6c3O9QPlhA1ouhnGhNWEDw+WGE8FxYQNBE2PD0blhAcVrwoq+kWEAYQznRrppYQOl942vPqFhAWwhyUMKsWEB00vvG17JYQOi8xi5Rt1hA48KBkCysWEDkvWplwsFYQEX11sBWw1hArHMMyF7dWEA/jBAebehYQHYyOEpe7VhAd6G5TiPnWECRm+EGfOhYQMjqVs9J8VhA0GG+vAD1WEAFhqxu9fxYQPLNNjem/1hAe4MvTKYKWUB3vp8aLylZQMX+snvySFlA8tJNYhCIWUBSSZ2AJrJZQHBfB84Z0VlAbqMBvAXKWUAdWmQ7389ZQBKlvcEX4llAqmBUUifsWUBYObTIdt5ZQCL99nXg2FlAat5xio7IWUCamZmZmeVZQMKGp1fKAlpA6Nms+lw1WkASg8DKoUlaQC9uowG8QVpAzojS3uA3WkAU0ETY8CxaQFioNc07UlpAo5I6AU1wWkCLbOf7qW1aQEvIBz2bTVpADwu1pnk7WkDIBz2bVU9aQNEi2/l+hlpAFR3J5T+YWkATYcPTK5FaQOF6FK5HnVpAEoPAyqGtWkBqTfOOU7BaQA==\",\"dtype\":\"float64\",\"order\":\"little\",\"shape\":[62]}},\"selected\":{\"id\":\"2335\"},\"selection_policy\":{\"id\":\"2336\"}},\"id\":\"2322\",\"type\":\"ColumnDataSource\"},{\"attributes\":{\"label\":{\"value\":\"Test Data\"},\"renderers\":[{\"id\":\"2342\"}]},\"id\":\"2356\",\"type\":\"LegendItem\"},{\"attributes\":{},\"id\":\"2305\",\"type\":\"BasicTicker\"},{\"attributes\":{\"label\":{\"value\":\"Training Data\"},\"renderers\":[{\"id\":\"2325\"}]},\"id\":\"2338\",\"type\":\"LegendItem\"},{\"attributes\":{},\"id\":\"2309\",\"type\":\"WheelZoomTool\"},{\"attributes\":{\"line_color\":\"green\",\"line_dash\":[6],\"line_width\":2.5,\"x\":{\"field\":\"x\"},\"y\":{\"field\":\"y\"}},\"id\":\"2340\",\"type\":\"Line\"},{\"attributes\":{},\"id\":\"2329\",\"type\":\"BasicTickFormatter\"}],\"root_ids\":[\"2289\"]},\"title\":\"Bokeh Application\",\"version\":\"2.3.3\"}};\n",
       "  var render_items = [{\"docid\":\"a6b6557a-47e8-4773-bac0-c186fe60c2d6\",\"root_ids\":[\"2289\"],\"roots\":{\"2289\":\"dcda50f4-319f-44aa-9795-8dd75ce1e516\"}}];\n",
       "  root.Bokeh.embed.embed_items_notebook(docs_json, render_items);\n",
       "\n",
       "  }\n",
       "  if (root.Bokeh !== undefined) {\n",
       "    embed_document(root);\n",
       "  } else {\n",
       "    var attempts = 0;\n",
       "    var timer = setInterval(function(root) {\n",
       "      if (root.Bokeh !== undefined) {\n",
       "        clearInterval(timer);\n",
       "        embed_document(root);\n",
       "      } else {\n",
       "        attempts++;\n",
       "        if (attempts > 100) {\n",
       "          clearInterval(timer);\n",
       "          console.log(\"Bokeh: ERROR: Unable to run BokehJS code because BokehJS library is missing\");\n",
       "        }\n",
       "      }\n",
       "    }, 10, root)\n",
       "  }\n",
       "})(window);"
      ],
      "application/vnd.bokehjs_exec.v0+json": ""
     },
     "metadata": {
      "application/vnd.bokehjs_exec.v0+json": {
       "id": "2289"
      }
     },
     "output_type": "display_data"
    }
   ],
   "source": [
    "p = figure(plot_width=800, plot_height=400, title = \"CPI predictions\")\n",
    "p.line(cpi_train.index,cpi_train.CPI,line_width =2.5, line_color=\"black\", line_dash=\"dashed\", legend_label =\"Training Data\")\n",
    "p.line(cpi_test.index,cpi_test.CPI,line_width =2.5, line_color=\"green\", line_dash=\"dashed\", legend_label =\"Test Data\")\n",
    "p.line(cpi_train.index,final_training,line_color=\"red\",line_width=2.5,legend_label =\"Final AR(2) Model (Training Data Fit)\")\n",
    "p.line(cpi_test.index,final_test,line_color=\"orange\",line_width=2.5,legend_label =\"Final AR(2) Model Predictions\")\n",
    "\n",
    "\n",
    "p.legend.location = \"bottom_right\"\n",
    "p.xaxis.axis_label ='t'\n",
    "p.yaxis.axis_label ='CPI'\n",
    "\n",
    "show(p)\n"
   ]
  },
  {
   "cell_type": "markdown",
   "metadata": {},
   "source": [
    "We see that the AR(2) Model does predict pretty well and the mean squared prediction error is small. We can also reaffirm this conclusion by plotting the residuals after the AR(2) predictions are subtracted from the detrended data "
   ]
  },
  {
   "cell_type": "code",
   "execution_count": 25,
   "metadata": {},
   "outputs": [
    {
     "data": {
      "image/png": "[encoded data removed]",
      "text/plain": [
       "<Figure size 432x288 with 1 Axes>"
      ]
     },
     "metadata": {
      "needs_background": "light"
     },
     "output_type": "display_data"
    }
   ],
   "source": [
    "residuals = (remaining - training_predictions)[2:]\n",
    "plot_pacf(residuals)\n",
    "plt.show()"
   ]
  },
  {
   "cell_type": "code",
   "execution_count": 26,
   "metadata": {},
   "outputs": [
    {
     "name": "stdout",
     "output_type": "stream",
     "text": [
      "The rmse of the final fit is 0.39328060138088855\n"
     ]
    }
   ],
   "source": [
    "rmse = mean_squared_error(cpi_test.dropna().CPI,final_test[:-2])**0.5\n",
    "print(\"The rmse of the final fit is \" + str(rmse))"
   ]
  },
  {
   "cell_type": "markdown",
   "metadata": {},
   "source": [
    "We see that the fit has a low rmse, considering that the order of the data is $10^2$."
   ]
  },
  {
   "cell_type": "markdown",
   "metadata": {},
   "source": [
    "**Inflation Rate**\n",
    "In the next part of the question, since we will be working with external regressors that have different units(such as BER), we must first convert all the data into an equivalent form, i.e monthly inflation rates. We will first do so for CPI from which inflation rates can be simply calculated as\n",
    "> $IR_t = \\frac{CPI_t -CPI_{t-1}}{CPI_{t-1}}$"
   ]
  },
  {
   "cell_type": "code",
   "execution_count": 27,
   "metadata": {},
   "outputs": [],
   "source": [
    "def calc_inflation_rate(data):\n",
    "    ir = []\n",
    "    for i in range(1,len(data)):\n",
    "        ir_temp = (data[i]-data[i-1])/data[i-1] *100      \n",
    "        ir.append(ir_temp)\n",
    "#         print(i)\n",
    "    return ir"
   ]
  },
  {
   "cell_type": "code",
   "execution_count": 28,
   "metadata": {},
   "outputs": [
    {
     "name": "stdout",
     "output_type": "stream",
     "text": [
      "The inflation rate from CPI for the month of February in 2013 was 0.295722930 %\n",
      "The inflation rate from CPI for the month of February in 2013 was 0.295286530 %\n"
     ]
    }
   ],
   "source": [
    "#calculate monthly inflation from CPI\n",
    "val = calc_inflation_rate(cpi.CPI.values)\n",
    "val2=np.log(cpi.CPI).diff().values*100\n",
    "\n",
    "cpi.loc[1:, 'IR_cpi'] = val\n",
    "cpi['diff_log'] = val2\n",
    "\n",
    "cpi_ir_train = (cpi[cpi.YearMonth<'2013-09'].copy())\n",
    "cpi_ir_test = (cpi[cpi.YearMonth >='2013-09'].copy())\n",
    "\n",
    "print(\"The inflation rate from CPI for the month of February in 2013 was %0.9f\" % cpi[cpi.YearMonth =='2013-02']['IR_cpi'] + \" %\")\n",
    "print(\"The inflation rate from CPI for the month of February in 2013 was %0.9f\" % cpi[cpi.YearMonth =='2013-02']['diff_log'] + \" %\")\n"
   ]
  },
  {
   "cell_type": "code",
   "execution_count": 29,
   "metadata": {},
   "outputs": [
    {
     "data": {
      "text/html": [
       "\n",
       "\n",
       "\n",
       "\n",
       "\n",
       "\n",
       "  <div class=\"bk-root\" id=\"a03fa35d-350e-476c-acf9-331d82db9539\" data-root-id=\"2583\"></div>\n"
      ]
     },
     "metadata": {},
     "output_type": "display_data"
    },
    {
     "data": {
      "application/javascript": [
       "(function(root) {\n",
       "  function embed_document(root) {\n",
       "    \n",
       "  var docs_json = {\"84cc11e0-3911-45b7-b417-cbbd83d48e48\":{\"defs\":[],\"roots\":{\"references\":[{\"attributes\":{\"below\":[{\"id\":\"2594\"}],\"center\":[{\"id\":\"2597\"},{\"id\":\"2601\"}],\"height\":400,\"left\":[{\"id\":\"2598\"}],\"renderers\":[{\"id\":\"2619\"},{\"id\":\"2624\"}],\"title\":{\"id\":\"2584\"},\"toolbar\":{\"id\":\"2609\"},\"width\":400,\"x_range\":{\"id\":\"2586\"},\"x_scale\":{\"id\":\"2590\"},\"y_range\":{\"id\":\"2588\"},\"y_scale\":{\"id\":\"2592\"}},\"id\":\"2583\",\"subtype\":\"Figure\",\"type\":\"Plot\"},{\"attributes\":{\"axis\":{\"id\":\"2594\"},\"ticker\":null},\"id\":\"2597\",\"type\":\"Grid\"},{\"attributes\":{\"axis_label\":\"t\",\"formatter\":{\"id\":\"2732\"},\"major_label_policy\":{\"id\":\"2731\"},\"ticker\":{\"id\":\"2595\"}},\"id\":\"2594\",\"type\":\"LinearAxis\"},{\"attributes\":{\"data_source\":{\"id\":\"2616\"},\"glyph\":{\"id\":\"2617\"},\"hover_glyph\":null,\"muted_glyph\":null,\"nonselection_glyph\":{\"id\":\"2618\"},\"view\":{\"id\":\"2620\"}},\"id\":\"2619\",\"type\":\"GlyphRenderer\"},{\"attributes\":{\"axis\":{\"id\":\"2598\"},\"dimension\":1,\"ticker\":null},\"id\":\"2601\",\"type\":\"Grid\"},{\"attributes\":{\"overlay\":{\"id\":\"2608\"}},\"id\":\"2604\",\"type\":\"BoxZoomTool\"},{\"attributes\":{\"source\":{\"id\":\"2621\"}},\"id\":\"2625\",\"type\":\"CDSView\"},{\"attributes\":{},\"id\":\"2605\",\"type\":\"SaveTool\"},{\"attributes\":{},\"id\":\"2740\",\"type\":\"Selection\"},{\"attributes\":{\"data\":{\"x\":[0,1,2,3,4,5,6,7,8,9,10,11,12,13,14,15,16,17,18,19,20,21,22,23,24,25,26,27,28,29,30,31,32,33,34,35,36,37,38,39,40,41,42,43,44,45,46,47,48,49,50,51,52,53,54,55,56,57,58,59,60,61,62,63,64,65,66,67,68,69,70,71,72,73,74,75,76,77,78,79,80,81,82,83,84,85,86,87,88,89,90,91,92,93,94,95,96,97,98,99,100,101,102,103,104,105,106,107,108,109,110,111,112,113,114,115,116,117,118,119,120,121,122,123,124,125,126,127,128,129,130,131,132,133,134,135,136],\"y\":{\"__ndarray__\":\"AAAAAAAA+H+AJeSDns3gP2qi5gOOjNm/DchGZCOywb/LOlMhhinwv/Ff0QkBpf6/SWkQDUKM8L80TvGZ+drbPwFLVGxb098/Bqj8VYAgzz/jU1MhE/TPP2l3CCcDfdI/bpg+yNJ86z8SABdHxUvEv+vlS8WOtcw/ajGFUmsDsD/b6jCo8qe4P6ZJZemHHbI/9M0E/8WKxr/t8sQgK9/VP8bdbRxAhZk/oL/L1ctH2j91Nn3MdzvGP1wSvz1m17M/vubAnI7+uL8dbqr4BKGVPys+inYwrME/tWqcQ/LIrT8al7qIzeC/P40EdvjiiKU/6g269XgAxj+Rh7Ui0nvePwzq/Wljj98/yYMNfucz7z/LTM8d6prkP49Fau+4HN4/SNdyTPVqu78MH+07sq62PxRZzH3JpdE/UbcVaV1vwz8cZa6dpmfKv3Lm6+oZmbW/0jxIZveRz79vmXFsJSncP++8gjXxLdw/DBRUfLxN6D+D/7eYj1XTP9h9Rj8EC76/USSStrvEwr+ViVfu1dvEv4bkn7IZz+E/41CqPtWO3D/OKeo5UPKjv3AmpQcyU96/6+tQcqA70b/N+dvdH+3SPyGX8e0mNeo/zY6vZ4+70D93PUVcpZ26v9R+WyADysY/dY/2rWG4zj88+vt4ADOkP/5Fd2xcyr4/toVVuX/FvT9M4LOGuHvQv07X3RvZJMq/69qSCDx/gb9sn+oi3c7XP5glMDJ7qtc/q93nOrmb5D/Hc6ehRRnVP2z2wktDWtY/Dwyn8DLXxz/rYQLbJfqjv1zk5S9GYsW/TE0fgcZDsz9zXHrhQhTQv1+QPFNUR+G/4KTF/7Ik4r/+wNdiPR7ev4j9ShKwyts/IhCAJB4M4z8oRxeBbQbKP2V9NDRET+A/rZfHTkxr1j8UJVo3wWp7PyeRsmbNIcK/b4rj0q/rw7+fnZoQHwanvz1x9by+A8u/gHhhUZXf1b+krioKMinFPw32tlEfEbU/KScsF+OO2z9VejaOWljeP56z6A7h5Nk/zXP0PmwF1T+luP1xTrjEv8gXQuwbg7c/BdKYwTPFzj/L4Jh0Hu2/P4LL/oXn58O/mYDWXNfBoD+MmjZZAabiP6AuRrzOIdQ/CncvWX7PtD/OgYH6ffrSPwPFgN+n4LU/Uk2pX3I7tz+cPC5Meaexvyc99nHYKNM/tLySQYXx4D8EwmsrviiwvyDWnNEJn2M/yhfHsMgcrr9SQ4asFG/hP2gCjWn7Bd0/clUBA2bxzD94FY/KDXDZP8iiyRTzndo/Rrqm0vRnxD/jAfTJGGN7PzK+l/nEc6w/ptnNGEa/vT+QpdbvdJ/GPyrQ/EDIb9W/BE9ZZB5x1L+3YmLyWWfIP1r7+5XPDNs/YKekKnUN4j9c9pwOJvLgP+YJXisuP8s/s83xiN9ilD96KU7zXWPFP/BrXK+g9XS/AAAAAAAA+H8AAAAAAAD4fw==\",\"dtype\":\"float64\",\"order\":\"little\",\"shape\":[137]}},\"selected\":{\"id\":\"2740\"},\"selection_policy\":{\"id\":\"2741\"}},\"id\":\"2621\",\"type\":\"ColumnDataSource\"},{\"attributes\":{\"data\":{\"x\":[0,1,2,3,4,5,6,7,8,9,10,11,12,13,14,15,16,17,18,19,20,21,22,23,24,25,26,27,28,29,30,31,32,33,34,35,36,37,38,39,40,41,42,43,44,45,46,47,48,49,50,51,52,53,54,55,56,57,58,59,60,61,62,63,64,65,66,67,68,69,70,71,72,73,74,75,76,77,78,79,80,81,82,83,84,85,86,87,88,89,90,91,92,93,94,95,96,97,98,99,100,101,102,103,104,105,106,107,108,109,110,111,112,113,114,115,116,117,118,119,120,121,122,123,124,125,126,127,128,129,130,131,132,133,134,135,136],\"y\":{\"__ndarray__\":\"AAAAAAAA+H8Az6lbXcLgP8CX3Qilmdm/gIckx0W1wb+A3d0mkD7wvwA+Ybga8f6/cC7sG1Gi8L9ASzpfgMvbP0ABmagqv98/gHFk/9MWzz+Ab5+o4enPP8BC5mcwdtI/YCbYysVe6z+AdR/t5E/EvwB1pOtTrcw/AKhaOyMCsD8A6pIE6aS4PwBCog7kG7I/gNnHYNyPxr+AreVrn9XVPwAgF7tvhJk/wDCNSwU62j+AEgPrhzbGPwBu35Zu1bM/AA7Cxa4Bub8A6NRKb6CVP4Aw26cRqcE/AIpwtrrGrT8ATGTbudu/PwA09kG6h6U/AGBWIaP7xT+AjiRoS2neP8AWz2OIe98/YNtBDDYN7z9gMLITAYrkP0DtM+qkCt4/AFlXNbhuu78Ak9YSIKy2P8B1p9qRn9E/gKnQbJdrwz8A+tfzoW7KvwBywFdvm7W/gLQYGPObz7+Airv/VBncP4CRY2cbHtw/QFfOfzo26D+AtTKGGU7TPwCSjXWID76/gCUaX0LIwr+AXfH2MODEv8COrfp1wuE/wMls+pF+3D8AwvDsTvOjvwDyy1SlZd6/wON6r5NB0b9ACM94+eXSP2BMu9vTGeo/ALlQZPi10D8A2yS+MKG6vwCE0C7TxMY/gLvLlPWuzj8ADmlq+zGkPwDEQuOfxb4/AHAVFhLBvT+A6zgEKoHQv4BD50SxK8q/APj/BG1/gb+AxAEtjsPXPwBOAKdOn9c/4MaK3c6K5D+AFQ9uYxDVP0BcwxZLUNY/gFkmtIXRxz8AFktWJfujv4BW2xraZsW/AEAOsutBsz+Ap0PScBnQvwCxq4lQU+G/ALWxnOox4r/AiSBecDDevwAg8ONIu9s/gMnBvKn94j8AHmjyqf/JP6AQj4qpROA/QGhk5kRh1j8AcGAVhWp7PwDOrtkXJcK/AOEWxajvw78AClFucgenvwB9Q6INC8u/AL6OjCzp1b8AXCH5uCTFPwB3m4znDrU/wKrc0r1/2z+A12bF/kXeP0CAdlGB19k/QJ3etZr81D8ALqiumrzEvwBkur5YgLc/AB0Zy7+7zj8AJ6naBui/P4Bh9PXe68O/AEQHsCPBoD+gu5QCJpjiP8BCDfG3GdQ/AMgbT1TNtD8AOtR6TfPSPwBnE5RD3rU/AHf57b84tz8ANWBrCKmxv8AR5rGEIdM/QKQn5BPm4D8Aq6aKDCqwvwBgWmv6nmM/AMhtPg0frr8Ayw2T92LhP4BDiIsv9dw/ADdSvQjpzD+AIFSCJWPZP8CQQMXRj9o/AGwl88tjxD8AII7J3GJ7PwBcdxG/caw/AHZBT9q6vT8ApM1IWJrGPwAEalD+eNW/QOENdH551L+AvcJLZ2HIPwAPsMc3/to/QG1Nf3gA4j+Aj13Ys+bgP4DwS1nEN8s/AECqj1pilD+A1mkszF7FPwDAiNTD9XS/AAAAAAAA+H8AAAAAAAD4fw==\",\"dtype\":\"float64\",\"order\":\"little\",\"shape\":[137]}},\"selected\":{\"id\":\"2738\"},\"selection_policy\":{\"id\":\"2739\"}},\"id\":\"2616\",\"type\":\"ColumnDataSource\"},{\"attributes\":{},\"id\":\"2595\",\"type\":\"BasicTicker\"},{\"attributes\":{\"data_source\":{\"id\":\"2621\"},\"glyph\":{\"id\":\"2622\"},\"hover_glyph\":null,\"muted_glyph\":null,\"nonselection_glyph\":{\"id\":\"2623\"},\"view\":{\"id\":\"2625\"}},\"id\":\"2624\",\"type\":\"GlyphRenderer\"},{\"attributes\":{\"axis_label\":\"Diff Ratio CPI\",\"formatter\":{\"id\":\"2735\"},\"major_label_policy\":{\"id\":\"2734\"},\"ticker\":{\"id\":\"2599\"}},\"id\":\"2598\",\"type\":\"LinearAxis\"},{\"attributes\":{\"line_color\":\"orange\",\"line_width\":2.5,\"x\":{\"field\":\"x\"},\"y\":{\"field\":\"y\"}},\"id\":\"2622\",\"type\":\"Line\"},{\"attributes\":{},\"id\":\"2738\",\"type\":\"Selection\"},{\"attributes\":{\"line_color\":\"navy\",\"line_width\":2.5,\"x\":{\"field\":\"x\"},\"y\":{\"field\":\"y\"}},\"id\":\"2617\",\"type\":\"Line\"},{\"attributes\":{},\"id\":\"2603\",\"type\":\"WheelZoomTool\"},{\"attributes\":{},\"id\":\"2739\",\"type\":\"UnionRenderers\"},{\"attributes\":{},\"id\":\"2607\",\"type\":\"HelpTool\"},{\"attributes\":{\"active_multi\":null,\"tools\":[{\"id\":\"2602\"},{\"id\":\"2603\"},{\"id\":\"2604\"},{\"id\":\"2605\"},{\"id\":\"2606\"},{\"id\":\"2607\"}]},\"id\":\"2609\",\"type\":\"Toolbar\"},{\"attributes\":{},\"id\":\"2592\",\"type\":\"LinearScale\"},{\"attributes\":{},\"id\":\"2734\",\"type\":\"AllLabels\"},{\"attributes\":{},\"id\":\"2586\",\"type\":\"DataRange1d\"},{\"attributes\":{\"line_alpha\":0.1,\"line_color\":\"navy\",\"line_width\":2.5,\"x\":{\"field\":\"x\"},\"y\":{\"field\":\"y\"}},\"id\":\"2618\",\"type\":\"Line\"},{\"attributes\":{\"line_alpha\":0.1,\"line_color\":\"orange\",\"line_width\":2.5,\"x\":{\"field\":\"x\"},\"y\":{\"field\":\"y\"}},\"id\":\"2623\",\"type\":\"Line\"},{\"attributes\":{},\"id\":\"2732\",\"type\":\"BasicTickFormatter\"},{\"attributes\":{},\"id\":\"2741\",\"type\":\"UnionRenderers\"},{\"attributes\":{\"text\":\"Monthly IR from CPI (in %)\"},\"id\":\"2584\",\"type\":\"Title\"},{\"attributes\":{},\"id\":\"2735\",\"type\":\"BasicTickFormatter\"},{\"attributes\":{},\"id\":\"2588\",\"type\":\"DataRange1d\"},{\"attributes\":{},\"id\":\"2606\",\"type\":\"ResetTool\"},{\"attributes\":{\"source\":{\"id\":\"2616\"}},\"id\":\"2620\",\"type\":\"CDSView\"},{\"attributes\":{},\"id\":\"2590\",\"type\":\"LinearScale\"},{\"attributes\":{\"bottom_units\":\"screen\",\"fill_alpha\":0.5,\"fill_color\":\"lightgrey\",\"left_units\":\"screen\",\"level\":\"overlay\",\"line_alpha\":1.0,\"line_color\":\"black\",\"line_dash\":[4,4],\"line_width\":2,\"right_units\":\"screen\",\"syncable\":false,\"top_units\":\"screen\"},\"id\":\"2608\",\"type\":\"BoxAnnotation\"},{\"attributes\":{},\"id\":\"2731\",\"type\":\"AllLabels\"},{\"attributes\":{},\"id\":\"2599\",\"type\":\"BasicTicker\"},{\"attributes\":{},\"id\":\"2602\",\"type\":\"PanTool\"}],\"root_ids\":[\"2583\"]},\"title\":\"Bokeh Application\",\"version\":\"2.3.3\"}};\n",
       "  var render_items = [{\"docid\":\"84cc11e0-3911-45b7-b417-cbbd83d48e48\",\"root_ids\":[\"2583\"],\"roots\":{\"2583\":\"a03fa35d-350e-476c-acf9-331d82db9539\"}}];\n",
       "  root.Bokeh.embed.embed_items_notebook(docs_json, render_items);\n",
       "\n",
       "  }\n",
       "  if (root.Bokeh !== undefined) {\n",
       "    embed_document(root);\n",
       "  } else {\n",
       "    var attempts = 0;\n",
       "    var timer = setInterval(function(root) {\n",
       "      if (root.Bokeh !== undefined) {\n",
       "        clearInterval(timer);\n",
       "        embed_document(root);\n",
       "      } else {\n",
       "        attempts++;\n",
       "        if (attempts > 100) {\n",
       "          clearInterval(timer);\n",
       "          console.log(\"Bokeh: ERROR: Unable to run BokehJS code because BokehJS library is missing\");\n",
       "        }\n",
       "      }\n",
       "    }, 10, root)\n",
       "  }\n",
       "})(window);"
      ],
      "application/vnd.bokehjs_exec.v0+json": ""
     },
     "metadata": {
      "application/vnd.bokehjs_exec.v0+json": {
       "id": "2583"
      }
     },
     "output_type": "display_data"
    }
   ],
   "source": [
    "p = figure(plot_width=400, plot_height=400, title = \"Monthly IR from CPI (in %)\")\n",
    "p.line(cpi_diff_log.index,cpi['diff_log'],line_color=\"navy\",line_width =2.5)\n",
    "p.line(cpi['IR_cpi'].index,cpi['IR_cpi'],line_color=\"orange\",line_width =2.5)\n",
    "# p.line(cpi_diff.index,cpi_diff,line_color=\"green\",line_width =2.5)\n",
    "p.xaxis.axis_label ='t'\n",
    "p.yaxis.axis_label ='Diff Ratio CPI'\n",
    "show(p)\n",
    "\n"
   ]
  },
  {
   "cell_type": "markdown",
   "metadata": {},
   "source": [
    "Now we move on to converting BER to monthly inflation rates. Note that BER is reported on a daily basis. We first choose a monthly representative value by averaging the BER across all days of the month. BER is already a rate, however it is reported across a 10 year period. In order to convert this to a monthly value, we must then deannualize it using the following formula.\n",
    "> $BER_t = (BER_t +1)^\\frac{1}{12} -1$"
   ]
  },
  {
   "cell_type": "code",
   "execution_count": 43,
   "metadata": {},
   "outputs": [
    {
     "name": "stdout",
     "output_type": "stream",
     "text": [
      "The inflation rate from BER for the month of February in 2013 was 0.210441852 %\n"
     ]
    }
   ],
   "source": [
    "ber = pd.read_csv('data/T10YIE.csv')\n",
    "ber['DATE'] =pd.to_datetime(ber['DATE'])\n",
    "ber['YearMonth'] = ber['DATE'].dt.strftime('%Y-%m')\n",
    "ber = ber.drop(ber[ber.YearMonth< '2008-07'].index)\n",
    "ber = ber.dropna()\n",
    "#print(ber)\n",
    "\n",
    "ber_monthly = pd.DataFrame(columns =['YearMonth','BER'])\n",
    "ber_monthly['BER'] =ber.groupby('YearMonth').T10YIE.mean().values\n",
    "ber_monthly['YearMonth'] = cpi.YearMonth\n",
    "ber_monthly.drop([0])\n",
    "\n",
    "#print(ber_monthly)\n",
    "ber_ir_train = (ber_monthly[ber_monthly.YearMonth<'2013-09'].copy())\n",
    "ber_ir_test = (ber_monthly[ber_monthly.YearMonth >='2013-09'].copy())\n",
    "\n",
    "\n",
    "ber_ir_train['IR_ber'] = ((ber_ir_train.BER.values/100+1)**(1/12)-1)*100\n",
    "ber_ir_test['IR_ber'] = ((ber_ir_test.BER.values/100+1)**(1/12)-1)*100\n",
    "print(\"The inflation rate from BER for the month of February in 2013 was %0.9f\" % ber_ir_train[ber_ir_train.YearMonth == '2013-02']['IR_ber'] + \" %\")"
   ]
  }
 ],
 "metadata": {
  "kernelspec": {
   "display_name": "Python 3 (ipykernel)",
   "language": "python",
   "name": "python3"
  },
  "language_info": {
   "codemirror_mode": {
    "name": "ipython",
    "version": 3
   },
   "file_extension": ".py",
   "mimetype": "text/x-python",
   "name": "python",
   "nbconvert_exporter": "python",
   "pygments_lexer": "ipython3",
   "version": "3.8.12"
  }
 },
 "nbformat": 4,
 "nbformat_minor": 4
}
